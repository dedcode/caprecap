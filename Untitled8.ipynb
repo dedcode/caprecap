{
 "cells": [
  {
   "cell_type": "code",
   "execution_count": 18,
   "metadata": {},
   "outputs": [],
   "source": [
    "import pymc3 as pm\n",
    "import numpy as np\n",
    "from scipy.stats import binom\n",
    "from scipy.stats import beta as betadist\n",
    "from scipy.special import comb, beta"
   ]
  },
  {
   "cell_type": "code",
   "execution_count": 6,
   "metadata": {},
   "outputs": [],
   "source": [
    "# Generate data\n",
    "S = 36\n",
    "N = 200000 # True pop\n",
    "x_data = binom.rvs(S, betadist.rvs(.28, 20, size=N))"
   ]
  },
  {
   "cell_type": "code",
   "execution_count": 7,
   "metadata": {},
   "outputs": [
    {
     "name": "stdout",
     "output_type": "stream",
     "text": [
      "unobserved: 149757\n",
      "observed: 50243\n"
     ]
    }
   ],
   "source": [
    "# count zero elements\n",
    "zero_count = np.count_nonzero(x_data==0)\n",
    "# remove zero elements from the data\n",
    "data = np.ma.masked_equal(x_data,0).compressed()\n",
    "D = len(data)\n",
    "print(\"unobserved:\", zero_count)\n",
    "print(\"observed:\", D)"
   ]
  },
  {
   "cell_type": "code",
   "execution_count": 8,
   "metadata": {},
   "outputs": [
    {
     "name": "stderr",
     "output_type": "stream",
     "text": [
      "Auto-assigning NUTS sampler...\n",
      "Initializing NUTS using jitter+adapt_diag...\n",
      "Sequential sampling (2 chains in 1 job)\n",
      "NUTS: [beta, alpha]\n",
      "100%|██████████| 3000/3000 [00:11<00:00, 267.81it/s]\n",
      "100%|██████████| 3000/3000 [00:14<00:00, 200.79it/s]\n",
      "There were 4 divergences after tuning. Increase `target_accept` or reparameterize.\n",
      "There were 5 divergences after tuning. Increase `target_accept` or reparameterize.\n"
     ]
    },
    {
     "data": {
      "image/png": "[encoded data removed]",
      "text/plain": [
       "<Figure size 864x180 with 2 Axes>"
      ]
     },
     "metadata": {},
     "output_type": "display_data"
    }
   ],
   "source": [
    "with pm.Model() as model0:\n",
    "    alpha0 = pm.Uniform('alpha', 0, 100)\n",
    "    beta0 = pm.Uniform('beta', 0, 100)\n",
    "    X0 = pm.BetaBinomial('X', alpha=alpha0, beta=beta0, n=S, observed = data)\n",
    "    trace0 = pm.sample(2000, tune=1000, cores = 1)\n",
    "    pm.plot_posterior(trace0, varnames = ['alpha', 'beta']);"
   ]
  },
  {
   "cell_type": "code",
   "execution_count": 19,
   "metadata": {},
   "outputs": [],
   "source": [
    "f = lambda S, n, a, b: comb(n, S) * beta(S + a, n - S + b) / beta(a, b)"
   ]
  },
  {
   "cell_type": "code",
   "execution_count": 10,
   "metadata": {},
   "outputs": [
    {
     "data": {
      "text/plain": [
       "211782.8457808766"
      ]
     },
     "execution_count": 10,
     "metadata": {},
     "output_type": "execute_result"
    }
   ],
   "source": [
    "N = D / ( 1 - f(0, S, .26, 20) )\n",
    "N"
   ]
  },
  {
   "cell_type": "code",
   "execution_count": null,
   "metadata": {},
   "outputs": [],
   "source": [
    "# Using the method of moments, we can try to fit directly:\n",
    "# See https://en.wikipedia.org/wiki/Beta-binomial_distribution#Point_estimates\n",
    "\n",
    "t = max(data)\n",
    "distinct = sum ( [f[i] for i in f.index] )\n",
    "m1 = sum([ i * f[i] for i in f.index]) / distinct\n",
    "m2 = sum([ i*i * f[i] for i in f.index]) / distinct\n",
    "# print(m1, m2)\n",
    "a = (t * m1 - m2) / (( t * (m2/m1) - m1 -1 ) + m1)\n",
    "print(a)\n",
    "\n",
    "b = (t - m1) * ( t  - m2/m1) / (( t * (m2/m1) - m1 -1 ) + m1)\n",
    "print(b)"
   ]
  },
  {
   "cell_type": "code",
   "execution_count": null,
   "metadata": {},
   "outputs": [],
   "source": [
    "data"
   ]
  },
  {
   "cell_type": "code",
   "execution_count": null,
   "metadata": {},
   "outputs": [],
   "source": [
    "data"
   ]
  },
  {
   "cell_type": "code",
   "execution_count": null,
   "metadata": {},
   "outputs": [],
   "source": [
    "xi, fi = np.unique(data, return_counts = True)"
   ]
  },
  {
   "cell_type": "code",
   "execution_count": null,
   "metadata": {},
   "outputs": [],
   "source": [
    "m1= sum(data) / D\n",
    "m2 = sum(np.square(data)) / D"
   ]
  },
  {
   "cell_type": "code",
   "execution_count": null,
   "metadata": {},
   "outputs": [],
   "source": [
    "a = (S * m1 - m2) / (( S * (m2/m1) - m1 -1 ) + m1)\n",
    "b = (S - m1) * ( S  - m2/m1) / (( S * (m2/m1) - m1 -1 ) + m1)"
   ]
  },
  {
   "cell_type": "code",
   "execution_count": null,
   "metadata": {},
   "outputs": [],
   "source": [
    "a, b"
   ]
  },
  {
   "cell_type": "code",
   "execution_count": null,
   "metadata": {},
   "outputs": [],
   "source": [
    "N = D / ( 1 - f(0, S, a, b) )\n",
    "N"
   ]
  },
  {
   "cell_type": "code",
   "execution_count": null,
   "metadata": {},
   "outputs": [],
   "source": [
    "m1 = sum(x_data) / N\n",
    "m2 = sum(np.square(x_data)) / N"
   ]
  },
  {
   "cell_type": "code",
   "execution_count": 32,
   "metadata": {},
   "outputs": [
    {
     "name": "stdout",
     "output_type": "stream",
     "text": [
      "n = 12\n",
      "m_1 = 6.233638743455497\n",
      "m_2 = 42.33017015706806\n",
      "alpha = 35.40433977685708\n",
      "beta = 32.75040816523756\n"
     ]
    }
   ],
   "source": [
    "males = np.array([1, 2, 3, 4, 5, 6, 7, 8, 9, 10, 11, 12], dtype=float)\n",
    "fams = np.array([24, 104, 286, 670, 1033, 1343, 1112, 829, 478, 181, 45, 7], dtype=float)\n",
    "n = 12\n",
    "\n",
    "k = 1\n",
    "m_1 = (sum(fams*males**k))/(sum(fams)) \n",
    "\n",
    "k = 2\n",
    "m_2 = (sum(fams*males**k))/(sum(fams)) \n",
    "\n",
    "a1 = (n*m_1-m_2)/(n*(m_2/m_1-m_1-1)+m_1)\n",
    "b1 = (n-m_1)*(n-m_2/m_1)/(n*(m_2/m_1-m_1-1)+m_1)\n",
    "\n",
    "print( \"n =\", n)\n",
    "print( \"m_1 =\", m_1)\n",
    "print( \"m_2 =\", m_2)\n",
    "print( \"alpha =\", a1)\n",
    "print( \"beta =\", b1)"
   ]
  },
  {
   "cell_type": "code",
   "execution_count": 21,
   "metadata": {},
   "outputs": [
    {
     "data": {
      "text/plain": [
       "6114.269468311995"
      ]
     },
     "execution_count": 21,
     "metadata": {},
     "output_type": "execute_result"
    }
   ],
   "source": [
    "sum(fams) / ( 1 - f(0, n, a1, b1) )"
   ]
  },
  {
   "cell_type": "code",
   "execution_count": 22,
   "metadata": {},
   "outputs": [
    {
     "data": {
      "text/plain": [
       "6112.0"
      ]
     },
     "execution_count": 22,
     "metadata": {},
     "output_type": "execute_result"
    }
   ],
   "source": [
    "sum(fams)"
   ]
  },
  {
   "cell_type": "code",
   "execution_count": 26,
   "metadata": {},
   "outputs": [],
   "source": [
    "captures, freqs = np.unique(data, return_counts=True)"
   ]
  },
  {
   "cell_type": "code",
   "execution_count": 27,
   "metadata": {},
   "outputs": [
    {
     "data": {
      "text/plain": [
       "array([ 1,  2,  3,  4,  5,  6,  7,  8,  9, 10, 11, 12, 13, 14, 15, 16, 20])"
      ]
     },
     "execution_count": 27,
     "metadata": {},
     "output_type": "execute_result"
    }
   ],
   "source": [
    "captures"
   ]
  },
  {
   "cell_type": "code",
   "execution_count": 28,
   "metadata": {},
   "outputs": [
    {
     "data": {
      "text/plain": [
       "array([27156, 11254,  5610,  2798,  1598,   843,   454,   230,   136,\n",
       "          73,    45,    23,    12,     6,     2,     2,     1])"
      ]
     },
     "execution_count": 28,
     "metadata": {},
     "output_type": "execute_result"
    }
   ],
   "source": [
    "freqs"
   ]
  },
  {
   "cell_type": "code",
   "execution_count": 41,
   "metadata": {},
   "outputs": [
    {
     "name": "stdout",
     "output_type": "stream",
     "text": [
      "n = 36\n",
      "m_1 = 1.9664231833290209\n",
      "m_2 = 6.097028441772983\n",
      "alpha = 9.519971708293943\n",
      "beta = 164.76549461660053\n"
     ]
    }
   ],
   "source": [
    "n = 36\n",
    "m_1 = (sum(freqs*captures))/(sum(freqs))\n",
    "m_2 = (sum(freqs*captures**k))/(sum(freqs)) \n",
    "\n",
    "a1 = (n*m_1-m_2)/(n*(m_2/m_1-m_1-1)+m_1)\n",
    "b1 = (n-m_1)*(n-m_2/m_1)/(n*(m_2/m_1-m_1-1)+m_1)\n",
    "\n",
    "print( \"n =\", n)\n",
    "print( \"m_1 =\", m_1)\n",
    "print( \"m_2 =\", m_2)\n",
    "print( \"alpha =\", a1)\n",
    "print( \"beta =\", b1)"
   ]
  },
  {
   "cell_type": "code",
   "execution_count": 42,
   "metadata": {},
   "outputs": [
    {
     "data": {
      "text/plain": [
       "7267.937909900169"
      ]
     },
     "execution_count": 42,
     "metadata": {},
     "output_type": "execute_result"
    }
   ],
   "source": [
    "sum(fams) / ( 1 - f(0, n, a1, b1) )"
   ]
  },
  {
   "cell_type": "code",
   "execution_count": null,
   "metadata": {},
   "outputs": [],
   "source": []
  }
 ],
 "metadata": {
  "kernelspec": {
   "display_name": "Python 3",
   "language": "python",
   "name": "python3"
  },
  "language_info": {
   "codemirror_mode": {
    "name": "ipython",
    "version": 3
   },
   "file_extension": ".py",
   "mimetype": "text/x-python",
   "name": "python",
   "nbconvert_exporter": "python",
   "pygments_lexer": "ipython3",
   "version": "3.6.5"
  }
 },
 "nbformat": 4,
 "nbformat_minor": 2
}
