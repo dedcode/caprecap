{
 "cells": [
  {
   "cell_type": "code",
   "execution_count": 3,
   "metadata": {
    "scrolled": false
   },
   "outputs": [
    {
     "name": "stderr",
     "output_type": "stream",
     "text": [
      "Only 100 samples in chain.\n",
      "Multiprocess sampling (4 chains in 4 jobs)\n",
      "CompoundStep\n",
      ">Metropolis: [sd]\n",
      ">Metropolis: [mu]\n",
      "Sampling 4 chains:   0%|          | 0/2400 [00:00<?, ?draws/s]\n"
     ]
    },
    {
     "ename": "RuntimeError",
     "evalue": "Chain 3 failed.",
     "output_type": "error",
     "traceback": [
      "\u001b[0;31m---------------------------------------------------------------------------\u001b[0m",
      "\u001b[0;31mRemoteTraceback\u001b[0m                           Traceback (most recent call last)",
      "\u001b[0;31mRemoteTraceback\u001b[0m: \n\"\"\"\nTraceback (most recent call last):\n  File \"/Users/ded/anaconda3/lib/python3.6/site-packages/theano/compile/function_module.py\", line 903, in __call__\n    self.fn() if output_subset is None else\\\n  File \"pygpu/gpuarray.pyx\", line 700, in pygpu.gpuarray.pygpu_empty\n  File \"pygpu/gpuarray.pyx\", line 301, in pygpu.gpuarray.array_empty\npygpu.gpuarray.GpuArrayException: b'cuEventCreate: CUDA_ERROR_NOT_INITIALIZED: initialization error'\n\nDuring handling of the above exception, another exception occurred:\n\nTraceback (most recent call last):\n  File \"/Users/ded/anaconda3/lib/python3.6/site-packages/pymc3/parallel_sampling.py\", line 73, in run\n    self._start_loop()\n  File \"/Users/ded/anaconda3/lib/python3.6/site-packages/pymc3/parallel_sampling.py\", line 113, in _start_loop\n    point, stats = self._compute_point()\n  File \"/Users/ded/anaconda3/lib/python3.6/site-packages/pymc3/parallel_sampling.py\", line 139, in _compute_point\n    point, stats = self._step_method.step(self._point)\n  File \"/Users/ded/anaconda3/lib/python3.6/site-packages/pymc3/step_methods/compound.py\", line 26, in step\n    point, state = method.step(point)\n  File \"/Users/ded/anaconda3/lib/python3.6/site-packages/pymc3/step_methods/arraystep.py\", line 175, in step\n    apoint, stats = self.astep(self.bij.map(point))\n  File \"/Users/ded/anaconda3/lib/python3.6/site-packages/pymc3/step_methods/metropolis.py\", line 162, in astep\n    accept = self.delta_logp(q, q0)\n  File \"/Users/ded/anaconda3/lib/python3.6/site-packages/theano/compile/function_module.py\", line 917, in __call__\n    storage_map=getattr(self.fn, 'storage_map', None))\n  File \"/Users/ded/anaconda3/lib/python3.6/site-packages/theano/gof/link.py\", line 325, in raise_with_op\n    reraise(exc_type, exc_value, exc_trace)\n  File \"/Users/ded/anaconda3/lib/python3.6/site-packages/six.py\", line 692, in reraise\n    raise value.with_traceback(tb)\n  File \"/Users/ded/anaconda3/lib/python3.6/site-packages/theano/compile/function_module.py\", line 903, in __call__\n    self.fn() if output_subset is None else\\\n  File \"pygpu/gpuarray.pyx\", line 700, in pygpu.gpuarray.pygpu_empty\n  File \"pygpu/gpuarray.pyx\", line 301, in pygpu.gpuarray.array_empty\npygpu.gpuarray.GpuArrayException: b'cuEventCreate: CUDA_ERROR_NOT_INITIALIZED: initialization error'\nApply node that caused the error: GpuFromHost<None>(inarray1)\nToposort index: 0\nInputs types: [TensorType(float64, (True,))]\nInputs shapes: [(1,)]\nInputs strides: [(8,)]\nInputs values: [array([-0.10245469])]\nInputs type_num: [12]\nOutputs clients: [[InplaceGpuDimShuffle{}(GpuFromHost<None>.0), GpuElemwise{Composite{Cast{int8}(GT(i0, i1))}}[]<gpuarray>(GpuFromHost<None>.0, GpuArrayConstant{Unknown}), GpuElemwise{Composite{inv(sqr(i0))}}[(0, 0)]<gpuarray>(GpuFromHost<None>.0)]]\n\nBacktrace when the node is created(use Theano flag traceback.limit=N to make it longer):\n  File \"/Users/ded/anaconda3/lib/python3.6/site-packages/IPython/core/interactiveshell.py\", line 2662, in run_cell\n    raw_cell, store_history, silent, shell_futures)\n  File \"/Users/ded/anaconda3/lib/python3.6/site-packages/IPython/core/interactiveshell.py\", line 2785, in _run_cell\n    interactivity=interactivity, compiler=compiler, result=result)\n  File \"/Users/ded/anaconda3/lib/python3.6/site-packages/IPython/core/interactiveshell.py\", line 2903, in run_ast_nodes\n    if self.run_code(code, result):\n  File \"/Users/ded/anaconda3/lib/python3.6/site-packages/IPython/core/interactiveshell.py\", line 2963, in run_code\n    exec(code_obj, self.user_global_ns, self.user_ns)\n  File \"<ipython-input-3-7a3f2f2eb8aa>\", line 17, in <module>\n    step = pm.Metropolis()\n  File \"/Users/ded/anaconda3/lib/python3.6/site-packages/pymc3/step_methods/arraystep.py\", line 65, in __new__\n    step.__init__([var], *args, **kwargs)\n  File \"/Users/ded/anaconda3/lib/python3.6/site-packages/pymc3/step_methods/metropolis.py\", line 136, in __init__\n    self.delta_logp = delta_logp(model.logpt, vars, shared)\n  File \"/Users/ded/anaconda3/lib/python3.6/site-packages/pymc3/step_methods/metropolis.py\", line 627, in delta_logp\n    inarray1 = tensor_type('inarray1')\n\nDebugprint of the apply node: \nGpuFromHost<None> [id A] <GpuArrayType<None>(float64, (True,))> ''   \n |inarray1 [id B] <TensorType(float64, (True,))>\n\nStorage map footprint:\n - GpuArrayConstant{Unknown}, Shape: (100,), ElemSize: 8 Byte(s), TotalSize: 800 Byte(s)\n - inarray1, Input, Shape: (1,), ElemSize: 8 Byte(s), TotalSize: 8 Byte(s)\n - inarray, Input, Shape: (1,), ElemSize: 8 Byte(s), TotalSize: 8 Byte(s)\n - mu_shared, Shared Input, Shape: (), ElemSize: 8 Byte(s), TotalSize: 8.0 Byte(s)\n - TensorConstant{0.5}, Shape: (), ElemSize: 8 Byte(s), TotalSize: 8.0 Byte(s)\n - TensorConstant{-1.8378770664093453}, Shape: (), ElemSize: 8 Byte(s), TotalSize: 8.0 Byte(s)\n - __logp_mu, Shape: (), ElemSize: 8 Byte(s), TotalSize: 8.0 Byte(s)\n - GpuArrayConstant{Unknown}, Shape: (), ElemSize: 8 Byte(s), TotalSize: 8.0 Byte(s)\n - GpuArrayConstant{Unknown}, Shape: (), ElemSize: 8 Byte(s), TotalSize: 8.0 Byte(s)\n - GpuArrayConstant{Unknown}, Shape: (1,), ElemSize: 8 Byte(s), TotalSize: 8 Byte(s)\n - GpuArrayConstant{Unknown}, Shape: (1,), ElemSize: 8 Byte(s), TotalSize: 8 Byte(s)\n - GpuArrayConstant{Unknown}, Shape: (1,), ElemSize: 4 Byte(s), TotalSize: 4 Byte(s)\n - GpuArrayConstant{Unknown}, Shape: (1,), ElemSize: 1 Byte(s), TotalSize: 1 Byte(s)\n TotalSize: 885.0 Byte(s) 0.000 GB\n TotalSize inputs: 877.0 Byte(s) 0.000 GB\n\n\n\"\"\"",
      "\nThe above exception was the direct cause of the following exception:\n",
      "\u001b[0;31mGpuArrayException\u001b[0m                         Traceback (most recent call last)",
      "\u001b[0;31mGpuArrayException\u001b[0m: b'cuEventCreate: CUDA_ERROR_NOT_INITIALIZED: initialization error'\nApply node that caused the error: GpuFromHost<None>(inarray1)\nToposort index: 0\nInputs types: [TensorType(float64, (True,))]\nInputs shapes: [(1,)]\nInputs strides: [(8,)]\nInputs values: [array([-0.10245469])]\nInputs type_num: [12]\nOutputs clients: [[InplaceGpuDimShuffle{}(GpuFromHost<None>.0), GpuElemwise{Composite{Cast{int8}(GT(i0, i1))}}[]<gpuarray>(GpuFromHost<None>.0, GpuArrayConstant{Unknown}), GpuElemwise{Composite{inv(sqr(i0))}}[(0, 0)]<gpuarray>(GpuFromHost<None>.0)]]\n\nBacktrace when the node is created(use Theano flag traceback.limit=N to make it longer):\n  File \"/Users/ded/anaconda3/lib/python3.6/site-packages/IPython/core/interactiveshell.py\", line 2662, in run_cell\n    raw_cell, store_history, silent, shell_futures)\n  File \"/Users/ded/anaconda3/lib/python3.6/site-packages/IPython/core/interactiveshell.py\", line 2785, in _run_cell\n    interactivity=interactivity, compiler=compiler, result=result)\n  File \"/Users/ded/anaconda3/lib/python3.6/site-packages/IPython/core/interactiveshell.py\", line 2903, in run_ast_nodes\n    if self.run_code(code, result):\n  File \"/Users/ded/anaconda3/lib/python3.6/site-packages/IPython/core/interactiveshell.py\", line 2963, in run_code\n    exec(code_obj, self.user_global_ns, self.user_ns)\n  File \"<ipython-input-3-7a3f2f2eb8aa>\", line 17, in <module>\n    step = pm.Metropolis()\n  File \"/Users/ded/anaconda3/lib/python3.6/site-packages/pymc3/step_methods/arraystep.py\", line 65, in __new__\n    step.__init__([var], *args, **kwargs)\n  File \"/Users/ded/anaconda3/lib/python3.6/site-packages/pymc3/step_methods/metropolis.py\", line 136, in __init__\n    self.delta_logp = delta_logp(model.logpt, vars, shared)\n  File \"/Users/ded/anaconda3/lib/python3.6/site-packages/pymc3/step_methods/metropolis.py\", line 627, in delta_logp\n    inarray1 = tensor_type('inarray1')\n\nDebugprint of the apply node: \nGpuFromHost<None> [id A] <GpuArrayType<None>(float64, (True,))> ''   \n |inarray1 [id B] <TensorType(float64, (True,))>\n\nStorage map footprint:\n - GpuArrayConstant{Unknown}, Shape: (100,), ElemSize: 8 Byte(s), TotalSize: 800 Byte(s)\n - inarray1, Input, Shape: (1,), ElemSize: 8 Byte(s), TotalSize: 8 Byte(s)\n - inarray, Input, Shape: (1,), ElemSize: 8 Byte(s), TotalSize: 8 Byte(s)\n - mu_shared, Shared Input, Shape: (), ElemSize: 8 Byte(s), TotalSize: 8.0 Byte(s)\n - TensorConstant{0.5}, Shape: (), ElemSize: 8 Byte(s), TotalSize: 8.0 Byte(s)\n - TensorConstant{-1.8378770664093453}, Shape: (), ElemSize: 8 Byte(s), TotalSize: 8.0 Byte(s)\n - __logp_mu, Shape: (), ElemSize: 8 Byte(s), TotalSize: 8.0 Byte(s)\n - GpuArrayConstant{Unknown}, Shape: (), ElemSize: 8 Byte(s), TotalSize: 8.0 Byte(s)\n - GpuArrayConstant{Unknown}, Shape: (), ElemSize: 8 Byte(s), TotalSize: 8.0 Byte(s)\n - GpuArrayConstant{Unknown}, Shape: (1,), ElemSize: 8 Byte(s), TotalSize: 8 Byte(s)\n - GpuArrayConstant{Unknown}, Shape: (1,), ElemSize: 8 Byte(s), TotalSize: 8 Byte(s)\n - GpuArrayConstant{Unknown}, Shape: (1,), ElemSize: 4 Byte(s), TotalSize: 4 Byte(s)\n - GpuArrayConstant{Unknown}, Shape: (1,), ElemSize: 1 Byte(s), TotalSize: 1 Byte(s)\n TotalSize: 885.0 Byte(s) 0.000 GB\n TotalSize inputs: 877.0 Byte(s) 0.000 GB\n\n",
      "\nThe above exception was the direct cause of the following exception:\n",
      "\u001b[0;31mRuntimeError\u001b[0m                              Traceback (most recent call last)",
      "\u001b[0;32m<ipython-input-3-7a3f2f2eb8aa>\u001b[0m in \u001b[0;36m<module>\u001b[0;34m()\u001b[0m\n\u001b[1;32m     16\u001b[0m     \u001b[0mobs\u001b[0m \u001b[0;34m=\u001b[0m \u001b[0mpm\u001b[0m\u001b[0;34m.\u001b[0m\u001b[0mNormal\u001b[0m\u001b[0;34m(\u001b[0m\u001b[0;34m'obs'\u001b[0m\u001b[0;34m,\u001b[0m \u001b[0mmu\u001b[0m\u001b[0;34m=\u001b[0m\u001b[0mmu\u001b[0m\u001b[0;34m,\u001b[0m \u001b[0msd\u001b[0m\u001b[0;34m=\u001b[0m\u001b[0msd\u001b[0m\u001b[0;34m,\u001b[0m \u001b[0mobserved\u001b[0m\u001b[0;34m=\u001b[0m\u001b[0mx\u001b[0m\u001b[0;34m)\u001b[0m\u001b[0;34m\u001b[0m\u001b[0m\n\u001b[1;32m     17\u001b[0m     \u001b[0mstep\u001b[0m \u001b[0;34m=\u001b[0m \u001b[0mpm\u001b[0m\u001b[0;34m.\u001b[0m\u001b[0mMetropolis\u001b[0m\u001b[0;34m(\u001b[0m\u001b[0;34m)\u001b[0m\u001b[0;34m\u001b[0m\u001b[0m\n\u001b[0;32m---> 18\u001b[0;31m     \u001b[0mtrace\u001b[0m \u001b[0;34m=\u001b[0m \u001b[0mpm\u001b[0m\u001b[0;34m.\u001b[0m\u001b[0msample\u001b[0m\u001b[0;34m(\u001b[0m\u001b[0;36m100\u001b[0m\u001b[0;34m,\u001b[0m \u001b[0mstep\u001b[0m\u001b[0;34m)\u001b[0m\u001b[0;34m\u001b[0m\u001b[0m\n\u001b[0m\u001b[1;32m     19\u001b[0m \u001b[0mpm\u001b[0m\u001b[0;34m.\u001b[0m\u001b[0mtraceplot\u001b[0m\u001b[0;34m(\u001b[0m\u001b[0mtrace\u001b[0m\u001b[0;34m)\u001b[0m\u001b[0;34m;\u001b[0m\u001b[0;34m\u001b[0m\u001b[0m\n",
      "\u001b[0;32m~/anaconda3/lib/python3.6/site-packages/pymc3/sampling.py\u001b[0m in \u001b[0;36msample\u001b[0;34m(draws, step, init, n_init, start, trace, chain_idx, chains, cores, tune, nuts_kwargs, step_kwargs, progressbar, model, random_seed, live_plot, discard_tuned_samples, live_plot_kwargs, compute_convergence_checks, use_mmap, **kwargs)\u001b[0m\n\u001b[1;32m    447\u001b[0m             \u001b[0m_print_step_hierarchy\u001b[0m\u001b[0;34m(\u001b[0m\u001b[0mstep\u001b[0m\u001b[0;34m)\u001b[0m\u001b[0;34m\u001b[0m\u001b[0m\n\u001b[1;32m    448\u001b[0m             \u001b[0;32mtry\u001b[0m\u001b[0;34m:\u001b[0m\u001b[0;34m\u001b[0m\u001b[0m\n\u001b[0;32m--> 449\u001b[0;31m                 \u001b[0mtrace\u001b[0m \u001b[0;34m=\u001b[0m \u001b[0m_mp_sample\u001b[0m\u001b[0;34m(\u001b[0m\u001b[0;34m**\u001b[0m\u001b[0msample_args\u001b[0m\u001b[0;34m)\u001b[0m\u001b[0;34m\u001b[0m\u001b[0m\n\u001b[0m\u001b[1;32m    450\u001b[0m             \u001b[0;32mexcept\u001b[0m \u001b[0mpickle\u001b[0m\u001b[0;34m.\u001b[0m\u001b[0mPickleError\u001b[0m\u001b[0;34m:\u001b[0m\u001b[0;34m\u001b[0m\u001b[0m\n\u001b[1;32m    451\u001b[0m                 \u001b[0m_log\u001b[0m\u001b[0;34m.\u001b[0m\u001b[0mwarning\u001b[0m\u001b[0;34m(\u001b[0m\u001b[0;34m\"Could not pickle model, sampling singlethreaded.\"\u001b[0m\u001b[0;34m)\u001b[0m\u001b[0;34m\u001b[0m\u001b[0m\n",
      "\u001b[0;32m~/anaconda3/lib/python3.6/site-packages/pymc3/sampling.py\u001b[0m in \u001b[0;36m_mp_sample\u001b[0;34m(draws, tune, step, chains, cores, chain, random_seed, start, progressbar, trace, model, use_mmap, **kwargs)\u001b[0m\n\u001b[1;32m    997\u001b[0m         \u001b[0;32mtry\u001b[0m\u001b[0;34m:\u001b[0m\u001b[0;34m\u001b[0m\u001b[0m\n\u001b[1;32m    998\u001b[0m             \u001b[0;32mwith\u001b[0m \u001b[0msampler\u001b[0m\u001b[0;34m:\u001b[0m\u001b[0;34m\u001b[0m\u001b[0m\n\u001b[0;32m--> 999\u001b[0;31m                 \u001b[0;32mfor\u001b[0m \u001b[0mdraw\u001b[0m \u001b[0;32min\u001b[0m \u001b[0msampler\u001b[0m\u001b[0;34m:\u001b[0m\u001b[0;34m\u001b[0m\u001b[0m\n\u001b[0m\u001b[1;32m   1000\u001b[0m                     \u001b[0mtrace\u001b[0m \u001b[0;34m=\u001b[0m \u001b[0mtraces\u001b[0m\u001b[0;34m[\u001b[0m\u001b[0mdraw\u001b[0m\u001b[0;34m.\u001b[0m\u001b[0mchain\u001b[0m \u001b[0;34m-\u001b[0m \u001b[0mchain\u001b[0m\u001b[0;34m]\u001b[0m\u001b[0;34m\u001b[0m\u001b[0m\n\u001b[1;32m   1001\u001b[0m                     \u001b[0;32mif\u001b[0m \u001b[0mtrace\u001b[0m\u001b[0;34m.\u001b[0m\u001b[0msupports_sampler_stats\u001b[0m \u001b[0;32mand\u001b[0m \u001b[0mdraw\u001b[0m\u001b[0;34m.\u001b[0m\u001b[0mstats\u001b[0m \u001b[0;32mis\u001b[0m \u001b[0;32mnot\u001b[0m \u001b[0;32mNone\u001b[0m\u001b[0;34m:\u001b[0m\u001b[0;34m\u001b[0m\u001b[0m\n",
      "\u001b[0;32m~/anaconda3/lib/python3.6/site-packages/pymc3/parallel_sampling.py\u001b[0m in \u001b[0;36m__iter__\u001b[0;34m(self)\u001b[0m\n\u001b[1;32m    303\u001b[0m \u001b[0;34m\u001b[0m\u001b[0m\n\u001b[1;32m    304\u001b[0m         \u001b[0;32mwhile\u001b[0m \u001b[0mself\u001b[0m\u001b[0;34m.\u001b[0m\u001b[0m_active\u001b[0m\u001b[0;34m:\u001b[0m\u001b[0;34m\u001b[0m\u001b[0m\n\u001b[0;32m--> 305\u001b[0;31m             \u001b[0mdraw\u001b[0m \u001b[0;34m=\u001b[0m \u001b[0mProcessAdapter\u001b[0m\u001b[0;34m.\u001b[0m\u001b[0mrecv_draw\u001b[0m\u001b[0;34m(\u001b[0m\u001b[0mself\u001b[0m\u001b[0;34m.\u001b[0m\u001b[0m_active\u001b[0m\u001b[0;34m)\u001b[0m\u001b[0;34m\u001b[0m\u001b[0m\n\u001b[0m\u001b[1;32m    306\u001b[0m             \u001b[0mproc\u001b[0m\u001b[0;34m,\u001b[0m \u001b[0mis_last\u001b[0m\u001b[0;34m,\u001b[0m \u001b[0mdraw\u001b[0m\u001b[0;34m,\u001b[0m \u001b[0mtuning\u001b[0m\u001b[0;34m,\u001b[0m \u001b[0mstats\u001b[0m\u001b[0;34m,\u001b[0m \u001b[0mwarns\u001b[0m \u001b[0;34m=\u001b[0m \u001b[0mdraw\u001b[0m\u001b[0;34m\u001b[0m\u001b[0m\n\u001b[1;32m    307\u001b[0m             \u001b[0;32mif\u001b[0m \u001b[0mself\u001b[0m\u001b[0;34m.\u001b[0m\u001b[0m_progress\u001b[0m \u001b[0;32mis\u001b[0m \u001b[0;32mnot\u001b[0m \u001b[0;32mNone\u001b[0m\u001b[0;34m:\u001b[0m\u001b[0;34m\u001b[0m\u001b[0m\n",
      "\u001b[0;32m~/anaconda3/lib/python3.6/site-packages/pymc3/parallel_sampling.py\u001b[0m in \u001b[0;36mrecv_draw\u001b[0;34m(processes, timeout)\u001b[0m\n\u001b[1;32m    221\u001b[0m         \u001b[0;32mif\u001b[0m \u001b[0mmsg\u001b[0m\u001b[0;34m[\u001b[0m\u001b[0;36m0\u001b[0m\u001b[0;34m]\u001b[0m \u001b[0;34m==\u001b[0m \u001b[0;34m'error'\u001b[0m\u001b[0;34m:\u001b[0m\u001b[0;34m\u001b[0m\u001b[0m\n\u001b[1;32m    222\u001b[0m             \u001b[0mold\u001b[0m \u001b[0;34m=\u001b[0m \u001b[0mmsg\u001b[0m\u001b[0;34m[\u001b[0m\u001b[0;36m1\u001b[0m\u001b[0;34m]\u001b[0m\u001b[0;34m\u001b[0m\u001b[0m\n\u001b[0;32m--> 223\u001b[0;31m             \u001b[0msix\u001b[0m\u001b[0;34m.\u001b[0m\u001b[0mraise_from\u001b[0m\u001b[0;34m(\u001b[0m\u001b[0mRuntimeError\u001b[0m\u001b[0;34m(\u001b[0m\u001b[0;34m'Chain %s failed.'\u001b[0m \u001b[0;34m%\u001b[0m \u001b[0mproc\u001b[0m\u001b[0;34m.\u001b[0m\u001b[0mchain\u001b[0m\u001b[0;34m)\u001b[0m\u001b[0;34m,\u001b[0m \u001b[0mold\u001b[0m\u001b[0;34m)\u001b[0m\u001b[0;34m\u001b[0m\u001b[0m\n\u001b[0m\u001b[1;32m    224\u001b[0m         \u001b[0;32melif\u001b[0m \u001b[0mmsg\u001b[0m\u001b[0;34m[\u001b[0m\u001b[0;36m0\u001b[0m\u001b[0;34m]\u001b[0m \u001b[0;34m==\u001b[0m \u001b[0;34m'writing_done'\u001b[0m\u001b[0;34m:\u001b[0m\u001b[0;34m\u001b[0m\u001b[0m\n\u001b[1;32m    225\u001b[0m             \u001b[0mproc\u001b[0m\u001b[0;34m.\u001b[0m\u001b[0m_readable\u001b[0m \u001b[0;34m=\u001b[0m \u001b[0;32mTrue\u001b[0m\u001b[0;34m\u001b[0m\u001b[0m\n",
      "\u001b[0;32m~/anaconda3/lib/python3.6/site-packages/six.py\u001b[0m in \u001b[0;36mraise_from\u001b[0;34m(value, from_value)\u001b[0m\n",
      "\u001b[0;31mRuntimeError\u001b[0m: Chain 3 failed."
     ]
    }
   ],
   "source": [
    "%matplotlib inline\n",
    "\n",
    "import pymc3 as pm\n",
    "import numpy as np\n",
    "import matplotlib.pyplot as plt\n",
    "import seaborn as sns\n",
    "import pandas as pd\n",
    "import theano.tensor as tt\n",
    "\n",
    "x = tt.constant(np.random.randn(100))\n",
    "\n",
    "with pm.Model() as model:\n",
    "    mu = pm.Normal('mu', mu=0, sd=1)\n",
    "    sd = pm.Normal('sd', mu=0, sd=1)\n",
    "\n",
    "    obs = pm.Normal('obs', mu=mu, sd=sd, observed=x)\n",
    "    step = pm.Metropolis()\n",
    "    trace = pm.sample(100, step)\n",
    "pm.traceplot(trace);"
   ]
  },
  {
   "cell_type": "code",
   "execution_count": 5,
   "metadata": {},
   "outputs": [
    {
     "name": "stdout",
     "output_type": "stream",
     "text": [
      "mu __str__ = 0.0\n",
      "sd __str__ = 0.0\n"
     ]
    },
    {
     "name": "stderr",
     "output_type": "stream",
     "text": [
      "Only 3 samples in chain.\n",
      "Sequential sampling (1 chains in 1 job)\n",
      "CompoundStep\n",
      ">Metropolis: [sd]\n",
      ">Metropolis: [mu]\n"
     ]
    },
    {
     "name": "stdout",
     "output_type": "stream",
     "text": [
      "sd __str__ = 1.1264625998173994\n",
      "mu __str__ = 0.0\n",
      "sd __str__ = 0.0\n",
      "mu __str__ = 1.545045027561966\n",
      "sd __str__ = 0.0\n",
      "mu __str__ = 0.0\n",
      "sd __str__ = 1.0548136649369406\n",
      "mu __str__ = 0.0\n",
      "sd __str__ = 0.0\n",
      "mu __str__ = -0.30720420600705134\n",
      "sd __str__ = 0.0\n",
      "mu __str__ = 0.0\n",
      "sd __str__ = -1.1547186405490555\n",
      "mu __str__ = 0.0\n",
      "sd __str__ = 0.0\n",
      "mu __str__ = 0.9602277583545193\n",
      "sd __str__ = 0.0\n",
      "mu __str__ = 0.0\n"
     ]
    },
    {
     "name": "stderr",
     "output_type": "stream",
     "text": [
      "/Users/ded/anaconda3/lib/python3.6/site-packages/pymc3/sampling.py:476: UserWarning: The number of samples is too small to check convergence reliably.\n",
      "  warnings.warn(\"The number of samples is too small to check convergence reliably.\")\n"
     ]
    }
   ],
   "source": [
    "with pm.Model() as model:\n",
    "    mu = pm.Normal('mu', mu=0, sd=1)\n",
    "    sd = pm.Normal('sd', mu=0, sd=1)\n",
    "\n",
    "    mu_print = tt.printing.Print('mu')(mu)\n",
    "    sd_print = tt.printing.Print('sd')(sd)\n",
    "\n",
    "    obs = pm.Normal('obs', mu=mu_print, sd=sd_print, observed=x)\n",
    "    step = pm.Metropolis()\n",
    "    trace = pm.sample(3, step, tune=0, chains=1, progressbar=False) # Make sure not to draw too many samples"
   ]
  },
  {
   "cell_type": "code",
   "execution_count": null,
   "metadata": {},
   "outputs": [],
   "source": []
  }
 ],
 "metadata": {
  "kernelspec": {
   "display_name": "Python 3",
   "language": "python",
   "name": "python3"
  },
  "language_info": {
   "codemirror_mode": {
    "name": "ipython",
    "version": 3
   },
   "file_extension": ".py",
   "mimetype": "text/x-python",
   "name": "python",
   "nbconvert_exporter": "python",
   "pygments_lexer": "ipython3",
   "version": "3.6.5"
  }
 },
 "nbformat": 4,
 "nbformat_minor": 2
}
