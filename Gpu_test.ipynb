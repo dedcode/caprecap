{
 "cells": [
  {
   "cell_type": "code",
   "execution_count": 1,
   "metadata": {},
   "outputs": [
    {
     "name": "stderr",
     "output_type": "stream",
     "text": [
      "/Users/ded/anaconda3/lib/python3.6/site-packages/h5py/__init__.py:36: FutureWarning: Conversion of the second argument of issubdtype from `float` to `np.floating` is deprecated. In future, it will be treated as `np.float64 == np.dtype(float).type`.\n",
      "  from ._conv import register_converters as _register_converters\n",
      "Using cuDNN version 7104 on context None\n",
      "Mapped name None to device cuda0: GeForce GTX 1080 Ti (0000:86:00.0)\n",
      "logp = -150.97, ||grad|| = 0.024254: 100%|██████████| 59/59 [00:01<00:00, 43.01it/s]    \n",
      "/Users/ded/anaconda3/lib/python3.6/site-packages/theano/scan_module/scan_perform_ext.py:76: UserWarning: The file scan_perform.c is not available. This donot happen normally. You are probably in a strangesetup. This mean Theano can not use the cython code for scan. If youwant to remove this warning, use the Theano flag'cxx=' (set to an empty string) to disable all ccode generation.\n",
      "  \"The file scan_perform.c is not available. This do\"\n",
      "/Users/ded/anaconda3/lib/python3.6/site-packages/theano/scan_module/scan_perform_ext.py:76: UserWarning: The file scan_perform.c is not available. This donot happen normally. You are probably in a strangesetup. This mean Theano can not use the cython code for scan. If youwant to remove this warning, use the Theano flag'cxx=' (set to an empty string) to disable all ccode generation.\n",
      "  \"The file scan_perform.c is not available. This do\"\n",
      "/Users/ded/anaconda3/lib/python3.6/site-packages/theano/scan_module/scan_perform_ext.py:76: UserWarning: The file scan_perform.c is not available. This donot happen normally. You are probably in a strangesetup. This mean Theano can not use the cython code for scan. If youwant to remove this warning, use the Theano flag'cxx=' (set to an empty string) to disable all ccode generation.\n",
      "  \"The file scan_perform.c is not available. This do\"\n",
      "/Users/ded/anaconda3/lib/python3.6/site-packages/theano/scan_module/scan_perform_ext.py:76: UserWarning: The file scan_perform.c is not available. This donot happen normally. You are probably in a strangesetup. This mean Theano can not use the cython code for scan. If youwant to remove this warning, use the Theano flag'cxx=' (set to an empty string) to disable all ccode generation.\n",
      "  \"The file scan_perform.c is not available. This do\"\n",
      "Sequential sampling (2 chains in 1 job)\n",
      "NUTS: [x, Intercept, sigma]\n",
      "100%|██████████| 20500/20500 [11:35<00:00, 29.47it/s]\n",
      "100%|██████████| 20500/20500 [01:00<00:00, 340.20it/s]\n"
     ]
    }
   ],
   "source": [
    "import theano\n",
    "import numpy as np\n",
    "from pymc3 import  *\n",
    "import numpy as np\n",
    "\n",
    "theano.config.floatX = 'float32'\n",
    "theano.config.compute_test_value = 'raise'\n",
    "theano.config.exception_verbosity= 'high'\n",
    "\n",
    "size = 200\n",
    "true_intercept = 1\n",
    "true_slope = 2\n",
    "\n",
    "x = np.linspace(0, 1, size)\n",
    "true_regression_line = true_intercept + true_slope * x\n",
    "y = true_regression_line + np.random.normal(scale=.5, size=size)\n",
    "\n",
    "x = x.astype('float32')\n",
    "y = y.astype('float32')\n",
    "\n",
    "data = dict(x=x, y=y)\n",
    "\n",
    "with Model() as model:\n",
    "    sigma = HalfCauchy('sigma', beta=10, testval=1.)\n",
    "    intercept = Normal('Intercept', 0, sd=20)\n",
    "    x_coeff = Normal('x', 0, sd=20)\n",
    "\n",
    "    likelihood = Normal('y', mu=intercept + x_coeff * x,\n",
    "                        sd=sigma, observed=y)\n",
    "\n",
    "    start = find_MAP()\n",
    "    step = NUTS(scaling=start)\n",
    "    trace = sample(20000, cores = 1, step = step, start=start, progressbar=True)"
   ]
  },
  {
   "cell_type": "code",
   "execution_count": null,
   "metadata": {},
   "outputs": [],
   "source": []
  },
  {
   "cell_type": "code",
   "execution_count": null,
   "metadata": {},
   "outputs": [],
   "source": []
  }
 ],
 "metadata": {
  "kernelspec": {
   "display_name": "Python 3",
   "language": "python",
   "name": "python3"
  },
  "language_info": {
   "codemirror_mode": {
    "name": "ipython",
    "version": 3
   },
   "file_extension": ".py",
   "mimetype": "text/x-python",
   "name": "python",
   "nbconvert_exporter": "python",
   "pygments_lexer": "ipython3",
   "version": "3.6.5"
  }
 },
 "nbformat": 4,
 "nbformat_minor": 2
}
