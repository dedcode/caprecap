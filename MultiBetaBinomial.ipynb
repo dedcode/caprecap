{
 "cells": [
  {
   "cell_type": "code",
   "execution_count": 1,
   "metadata": {
    "colab": {},
    "colab_type": "code",
    "id": "Sjfvgkwcpbgo"
   },
   "outputs": [
    {
     "name": "stderr",
     "output_type": "stream",
     "text": [
      "/Users/ded/anaconda3/lib/python3.6/site-packages/theano/gpuarray/dnn.py:184: UserWarning: Your cuDNN version is more recent than Theano. If you encounter problems, try updating Theano or downgrading cuDNN to a version >= v5 and <= v7.\n",
      "  warnings.warn(\"Your cuDNN version is more recent than \"\n",
      "Using cuDNN version 7201 on context None\n",
      "Mapped name None to device cuda: GeForce GTX 1080 Ti (0000:86:00.0)\n",
      "/Users/ded/anaconda3/lib/python3.6/site-packages/h5py/__init__.py:36: FutureWarning: Conversion of the second argument of issubdtype from `float` to `np.floating` is deprecated. In future, it will be treated as `np.float64 == np.dtype(float).type`.\n",
      "  from ._conv import register_converters as _register_converters\n"
     ]
    }
   ],
   "source": [
    "%matplotlib inline\n",
    "from tqdm import tqdm\n",
    "import numpy as np\n",
    "import pymc3 as pm\n",
    "from theano import shared\n",
    "import theano.tensor as tt\n",
    "import theano\n",
    "from pymc3.distributions.dist_math import binomln, betaln, bound\n",
    "np.set_printoptions(suppress=True)"
   ]
  },
  {
   "cell_type": "code",
   "execution_count": 2,
   "metadata": {},
   "outputs": [],
   "source": [
    "import re\n",
    "def plot_traces(trcs, varnames=None):\n",
    "    '''Plot traces with overlaid means and values'''\n",
    "\n",
    "    nrows = len(trcs.varnames)\n",
    "    if varnames is not None:\n",
    "        nrows = len(varnames)\n",
    "\n",
    "    ax = pm.traceplot(trcs, varnames=varnames, figsize=(12,nrows*1.4),\n",
    "                      lines={k: v['mean'] for k, v in\n",
    "                             pm.summary(trcs,varnames=varnames).iterrows()})\n",
    "\n",
    "    for i, mn in enumerate(pm.summary(trcs, varnames=varnames)['mean']):\n",
    "        ax[i,0].annotate('{:.2f}'.format(mn), xy=(mn,0), xycoords='data',\n",
    "                         xytext=(5,10), textcoords='offset points', rotation=90,\n",
    "                         va='bottom', fontsize='large', color='#AA0022')\n",
    "def strip_derived_rvs(rvs):\n",
    "    '''Remove PyMC3-generated RVs from a list'''\n",
    "\n",
    "    ret_rvs = []\n",
    "    for rv in rvs:\n",
    "        if not (re.search('_log',rv.name) or re.search('_interval',rv.name)):\n",
    "            ret_rvs.append(rv)\n",
    "    return ret_rvs"
   ]
  },
  {
   "cell_type": "code",
   "execution_count": 3,
   "metadata": {
    "colab": {},
    "colab_type": "code",
    "id": "r9gBE6uf1Je0"
   },
   "outputs": [
    {
     "name": "stdout",
     "output_type": "stream",
     "text": [
      "1316\n",
      "[913. 232.  95.  37.  18.  14.   6.   1.   0.   0.   0.   0.   0.   0.\n",
      "   0.   0.   0.   0.   0.   0.]\n"
     ]
    }
   ],
   "source": [
    "# Import and prepare the data\n",
    "import pickle\n",
    "with open('data/gch-10000-20-0.25-5.00.pkl', 'rb') as f:\n",
    "  GCH, TH = pickle.load(f)\n",
    "S = 20\n",
    "npdata = np.array(GCH, dtype = int)\n",
    "V = len(GCH)\n",
    "V, type(V)\n",
    "\n",
    "# make data\n",
    "captures, freqs = np.unique(npdata[:, 2], return_counts=True)\n",
    "data = np.zeros(S)\n",
    "data[captures - 1] = freqs\n",
    "print(V)\n",
    "print(data)"
   ]
  },
  {
   "cell_type": "code",
   "execution_count": 4,
   "metadata": {},
   "outputs": [],
   "source": [
    "# For a given outcome in {1,S} (Frequency of capture that's not 0) \n",
    "# Mark all possible arrival and departure \n",
    "# Dims: SxSxS\n",
    "def make_all_ocaz(S):\n",
    "    mask = np.zeros([S,S,S]) # num_capture, arrival, departure\n",
    "    for p in np.arange(S):\n",
    "        for a in np.arange(S):\n",
    "            for d in np.arange(S):\n",
    "                if (d - a) >= p:\n",
    "                    mask[p, a, d] = 1\n",
    "    return mask\n",
    "ocaz = make_all_ocaz(S)"
   ]
  },
  {
   "cell_type": "code",
   "execution_count": 5,
   "metadata": {
    "colab": {},
    "colab_type": "code",
    "id": "3FdWYAnbqTsy"
   },
   "outputs": [],
   "source": [
    "# We want to see the survival marks to compute the total survival\n",
    "# e.g, Arrive: 1, Depart: 2 => 011\n",
    "# Dims: SxSxS\n",
    "def make_survival(S):\n",
    "    mask = np.zeros([S,S,S])  # arrival, departure, presence_sequence\n",
    "    for s in np.arange(S):\n",
    "        for q in np.arange(s,S):\n",
    "            c1 = np.zeros(s)\n",
    "            c2 = np.ones(q-s)\n",
    "            c3 = np.zeros(S-q)\n",
    "            mask[s,q]= np.concatenate((c1, c2, c3))\n",
    "    return mask\n",
    "survival = make_survival(S)"
   ]
  },
  {
   "cell_type": "code",
   "execution_count": 6,
   "metadata": {},
   "outputs": [],
   "source": [
    "# For a given outcome in {1,S} (Frequency of capture that's not 0) \n",
    "# Generate the Binomial parameters n and i   choose(n, i)\n",
    "# Nn is the duration from arrival to departure\n",
    "# Ni is the Frequency we are intersted in\n",
    "# Dim: SxSxS\n",
    "def make_binmask(S):\n",
    "    i = np.arange(S) + 1\n",
    "    i = i[:, np.newaxis, np.newaxis] *  np.ones((S, S, S))\n",
    "    n = np.broadcast_to(np.triu(np.ones([S,S]), 0).cumsum(axis =1), (S, S, S))\n",
    "    return i, n\n",
    "Ni, Nn = make_binmask(S)"
   ]
  },
  {
   "cell_type": "code",
   "execution_count": 7,
   "metadata": {
    "colab": {},
    "colab_type": "code",
    "id": "FoNaVSVwqTs3"
   },
   "outputs": [],
   "source": [
    "def get_BetaBi(a,b, S, Ni, Nn):\n",
    "    # The beta binomial\n",
    "    BBi  =  bound(binomln(Nn, Ni)\n",
    "                     + betaln(Ni + a, Nn - Ni + b)\n",
    "                     - betaln(a, b),\n",
    "                     Ni >= 0, Ni <= Nn,\n",
    "                     a > 0, b > 0)\n",
    "    # The above is the computation of the log, so we take the exponent\n",
    "    return tt.exp(BBi)"
   ]
  },
  {
   "cell_type": "code",
   "execution_count": 8,
   "metadata": {
    "colab": {},
    "colab_type": "code",
    "id": "6kPTSl-BqTs5"
   },
   "outputs": [],
   "source": [
    "def get_BetaB0(a, b, S):\n",
    "    # The beta binomial for 0 captures\n",
    "    Nn = tt.triu(tt.ones([S,S]), 0).cumsum(axis =1).eval()\n",
    "    #B0 = tt.gammaln(n + b) - tt.gammaln(n + a + b) + tt.gammaln(a + b) - tt.gammaln(b)\n",
    "    B0 = bound(binomln(Nn, 0)\n",
    "                     + betaln(a, Nn + b)\n",
    "                     - betaln(a, b),\n",
    "                     a > 0, b > 0)\n",
    "    return tt.exp(B0)"
   ]
  },
  {
   "cell_type": "code",
   "execution_count": 80,
   "metadata": {
    "colab": {},
    "colab_type": "code",
    "id": "2yXnG7rkqTs6"
   },
   "outputs": [],
   "source": [
    "def logp_capture(arrival_probs, departure_probs, a, b, U, V, ocaz, survival_mask, Ni, Nn, S):\n",
    "    def ll_capture_f(ni):\n",
    "        \n",
    "        # Likelihood of observing Li captures\n",
    "        \n",
    "        # compute the survival\n",
    "        survival_prob = tt.pow(1 - departure_probs, survival_mask)\n",
    "        survival_prob = tt.prod(survival_prob, axis=2)\n",
    "        # compute the arrival and departure\n",
    "        LAD      = arrival_probs[:, np.newaxis] * survival_prob * departure_probs    # SxS\n",
    "        # keep only true possibilites\n",
    "        True_LAD = LAD * ocaz # SxSxS\n",
    "        \n",
    "        # sum along the freqencies of catpures\n",
    "        BetaBi  = get_BetaBi(a, b, S, Ni, Nn)\n",
    "        Li      = tt.batched_tensordot(True_LAD, BetaBi, axes = 2) # S\n",
    "        \n",
    "        # Likelihood of No-Capture L0\n",
    "        \n",
    "        LADT0    = LAD * ocaz[0] # this is reuse\n",
    "        BetaB0   = get_BetaB0(a, b, S)\n",
    "        L0       = tt.sum(LADT0 * BetaB0)\n",
    "        \n",
    "        #print(L0.eval())\n",
    "        \n",
    "        # Multinomial\n",
    "        obj1 = tt.gammaln(V + U + 1) - tt.gammaln(U + 1) - tt.sum(tt.gammaln(ni+1))\n",
    "        obj2 = tt.sum(tt.mul(ni, tt.log(Li)))\n",
    "        obj3 = U * tt.log(L0)\n",
    "        \n",
    "        objective = obj1 + obj2 + obj3 \n",
    "        \n",
    "        #print(objective.eval())\n",
    "        return objective\n",
    "    \n",
    "    return ll_capture_f"
   ]
  },
  {
   "cell_type": "code",
   "execution_count": 77,
   "metadata": {
    "scrolled": false
   },
   "outputs": [
    {
     "name": "stdout",
     "output_type": "stream",
     "text": [
      "-691.9899602960921\n",
      "-27.216073938284808\n"
     ]
    },
    {
     "data": {
      "text/plain": [
       "array(-27.21607394)"
      ]
     },
     "execution_count": 77,
     "metadata": {},
     "output_type": "execute_result"
    }
   ],
   "source": [
    "#print(start['arrival'], start['departure'], start['alpha'], start['beta'], start['Unseen']\n",
    "logp_capture(start['arrival'], np.concatenate((start['departure'], np.array([1.])),  axis=0), \n",
    "             start['alpha'], start['beta'], 8684, V,\n",
    "             ocaz, survival, Ni, Nn, S)(data).eval()\n",
    "logp_capture(np.concatenate(([.4], np.ones(S-1) * (1-.4)/(S-1)), axis=0), \n",
    "             np.concatenate((np.ones(S-1) * .2, [1.]), axis=0), .25, 5., 8684, V, \n",
    "             ocaz, survival, Ni, Nn, S)(data).eval()"
   ]
  },
  {
   "cell_type": "code",
   "execution_count": 78,
   "metadata": {},
   "outputs": [
    {
     "name": "stdout",
     "output_type": "stream",
     "text": [
      "[0. 0. 1. 0. 0. 0. 0. 0. 0. 0. 0. 0. 0. 0. 0. 0. 0. 0. 0. 0.]\n",
      "[0.4 0.4 0.4 0.4 0.  0.  0.  0.  0.  0.  0.  0.  0.  0.  0.  0.4 0.4 0.4\n",
      " 0.4]\n",
      "0.1 10.0 20000.0\n"
     ]
    }
   ],
   "source": [
    "print(start['arrival'])\n",
    "print(start['departure']) \n",
    "print(start['alpha'], start['beta'], start['Unseen'])"
   ]
  },
  {
   "cell_type": "code",
   "execution_count": 81,
   "metadata": {
    "colab": {},
    "colab_type": "code",
    "id": "pATM9j8cqTs8",
    "scrolled": false
   },
   "outputs": [],
   "source": [
    "# custom log-liklihood\n",
    "# model\n",
    "with pm.Model() as model:\n",
    "    # parameters\n",
    "    U = pm.Uniform('Unseen', lower=0, upper=20000)\n",
    "    a = pm.Uniform('alpha', .1, .5)\n",
    "    b = pm.Uniform('beta', 1., 10.)\n",
    "    \n",
    "    phi = tt.zeros(S)\n",
    "    phi_v    = pm.Uniform('departure', 0.1, .3, shape=S-1)\n",
    "    phi = tt.set_subtensor(phi[S-1], 1.)\n",
    "    phi = tt.set_subtensor(phi[:S-1],phi_v)\n",
    "    \n",
    "    arr    = pm.Dirichlet('arrival', a=np.array([1./S]*S), shape=S)\n",
    "    #U_print = tt.printing.Print('Unseen')(U)\n",
    "    #a_print = tt.printing.Print('alpha')(a)\n",
    "    #b_print = tt.printing.Print('beta')(b)\n",
    "    # Model Log-likelihood\n",
    "    ob = pm.DensityDist('x', logp_capture(arr, phi, a, b, U, V, ocaz, survival, Ni, Nn, S), observed=data)"
   ]
  },
  {
   "cell_type": "code",
   "execution_count": 57,
   "metadata": {},
   "outputs": [
    {
     "name": "stderr",
     "output_type": "stream",
     "text": [
      "logp = -22.362, ||grad|| = 4.4384: 100%|██████████| 18/18 [00:00<00:00, 212.35it/s]  \n"
     ]
    }
   ],
   "source": [
    "with model:\n",
    "    start = pm.find_MAP()"
   ]
  },
  {
   "cell_type": "code",
   "execution_count": 58,
   "metadata": {},
   "outputs": [
    {
     "data": {
      "text/plain": [
       "{'Unseen_interval__': array(405.85618959),\n",
       " 'alpha_interval__': array(-898.13439986),\n",
       " 'beta_interval__': array(32.6743512),\n",
       " 'departure_interval__': array([ 251.83369778,  335.92183032,  297.40045156,  169.24186075,\n",
       "         -21.9054935 , -219.96089535, -379.87273893, -486.66583465,\n",
       "        -544.6917201 , -562.47793409, -544.00423599, -486.23686226,\n",
       "        -381.99865218, -228.35597385,  -40.01255071,  141.73812571,\n",
       "         266.36478813,  309.08730493,  237.04744207]),\n",
       " 'arrival_stickbreaking__': array([ -146.59538912,   -62.14177245,   174.00609204,   222.42891512,\n",
       "          381.05002666,   549.57664341,   716.49707049,   863.4963885 ,\n",
       "          963.96163074,   982.60275359,   878.15684487,   612.6734895 ,\n",
       "          172.38541851,  -395.9614222 ,  -943.96478752, -1250.96109973,\n",
       "        -1226.34979356, -1049.85890616,  -662.50282862]),\n",
       " 'Unseen': array(20000.),\n",
       " 'alpha': array(0.1),\n",
       " 'beta': array(10.),\n",
       " 'departure': array([0.4, 0.4, 0.4, 0.4, 0. , 0. , 0. , 0. , 0. , 0. , 0. , 0. , 0. ,\n",
       "        0. , 0. , 0.4, 0.4, 0.4, 0.4]),\n",
       " 'arrival': array([0., 0., 1., 0., 0., 0., 0., 0., 0., 0., 0., 0., 0., 0., 0., 0., 0.,\n",
       "        0., 0., 0.])}"
      ]
     },
     "execution_count": 58,
     "metadata": {},
     "output_type": "execute_result"
    }
   ],
   "source": [
    "start"
   ]
  },
  {
   "cell_type": "code",
   "execution_count": 84,
   "metadata": {
    "colab": {
     "base_uri": "https://localhost:8080/",
     "height": 102
    },
    "colab_type": "code",
    "id": "Ands2YCRqTs9",
    "outputId": "450d1a59-20e5-479a-852e-b4dd19fe3944",
    "scrolled": false
   },
   "outputs": [
    {
     "name": "stderr",
     "output_type": "stream",
     "text": [
      "Auto-assigning NUTS sampler...\n",
      "Initializing NUTS using jitter+adapt_diag...\n",
      "Sequential sampling (4 chains in 1 job)\n",
      "NUTS: [arrival, departure, beta, alpha, Unseen]\n",
      "100%|██████████| 5500/5500 [18:44<00:00,  4.89it/s]\n",
      "100%|██████████| 5500/5500 [19:27<00:00,  4.71it/s]\n",
      "100%|██████████| 5500/5500 [18:46<00:00,  4.88it/s]\n",
      "100%|██████████| 5500/5500 [18:00<00:00,  5.09it/s]\n",
      "There were 2814 divergences after tuning. Increase `target_accept` or reparameterize.\n",
      "There were 5494 divergences after tuning. Increase `target_accept` or reparameterize.\n",
      "There were 8245 divergences after tuning. Increase `target_accept` or reparameterize.\n",
      "There were 11248 divergences after tuning. Increase `target_accept` or reparameterize.\n",
      "The number of effective samples is smaller than 10% for some parameters.\n"
     ]
    }
   ],
   "source": [
    "with model:\n",
    "  posterior = pm.sample(5000, chains = 4, cores = 1)"
   ]
  },
  {
   "cell_type": "code",
   "execution_count": 85,
   "metadata": {
    "colab": {
     "base_uri": "https://localhost:8080/",
     "height": 248
    },
    "colab_type": "code",
    "id": "VqwQlHMuoCxd",
    "outputId": "d31f05b8-723a-4f38-9c02-9b89baec9709"
   },
   "outputs": [
    {
     "data": {
      "image/png": "[encoded data removed]",
      "text/plain": [
       "<Figure size 432x288 with 1 Axes>"
      ]
     },
     "metadata": {},
     "output_type": "display_data"
    }
   ],
   "source": [
    "pm.energyplot(posterior);"
   ]
  },
  {
   "cell_type": "code",
   "execution_count": 86,
   "metadata": {
    "colab": {
     "base_uri": "https://localhost:8080/",
     "height": 1358
    },
    "colab_type": "code",
    "executionInfo": {
     "elapsed": 1507,
     "status": "error",
     "timestamp": 1537418913125,
     "user": {
      "displayName": "Djellel Difallah",
      "photoUrl": "//lh5.googleusercontent.com/-t5fU7F-dQI8/AAAAAAAAAAI/AAAAAAAAGMw/kTaNXtXJ1J4/s50-c-k-no/photo.jpg",
      "userId": "109856363840473722295"
     },
     "user_tz": 240
    },
    "id": "Fgt-4TxQqTtB",
    "outputId": "50c2838c-7b20-4301-faf3-9f1ce1e14265"
   },
   "outputs": [
    {
     "data": {
      "image/png": "[encoded data removed]",
      "text/plain": [
       "<Figure size 864x302.4 with 6 Axes>"
      ]
     },
     "metadata": {},
     "output_type": "display_data"
    }
   ],
   "source": [
    "plot_traces(posterior[:], varnames=['Unseen', 'alpha', 'beta']);"
   ]
  },
  {
   "cell_type": "code",
   "execution_count": 87,
   "metadata": {
    "colab": {
     "base_uri": "https://localhost:8080/",
     "height": 303
    },
    "colab_type": "code",
    "executionInfo": {
     "elapsed": 162,
     "status": "error",
     "timestamp": 1537418916554,
     "user": {
      "displayName": "Djellel Difallah",
      "photoUrl": "//lh5.googleusercontent.com/-t5fU7F-dQI8/AAAAAAAAAAI/AAAAAAAAGMw/kTaNXtXJ1J4/s50-c-k-no/photo.jpg",
      "userId": "109856363840473722295"
     },
     "user_tz": 240
    },
    "id": "EUY8a4Qu0cJq",
    "outputId": "bfcbf371-c091-4a7f-a188-5ad3850e9bc1"
   },
   "outputs": [
    {
     "data": {
      "text/html": [
       "<div>\n",
       "<style scoped>\n",
       "    .dataframe tbody tr th:only-of-type {\n",
       "        vertical-align: middle;\n",
       "    }\n",
       "\n",
       "    .dataframe tbody tr th {\n",
       "        vertical-align: top;\n",
       "    }\n",
       "\n",
       "    .dataframe thead th {\n",
       "        text-align: right;\n",
       "    }\n",
       "</style>\n",
       "<table border=\"1\" class=\"dataframe\">\n",
       "  <thead>\n",
       "    <tr style=\"text-align: right;\">\n",
       "      <th></th>\n",
       "      <th>mean</th>\n",
       "      <th>sd</th>\n",
       "      <th>mc_error</th>\n",
       "      <th>hpd_2.5</th>\n",
       "      <th>hpd_97.5</th>\n",
       "      <th>n_eff</th>\n",
       "      <th>Rhat</th>\n",
       "    </tr>\n",
       "  </thead>\n",
       "  <tbody>\n",
       "    <tr>\n",
       "      <th>Unseen</th>\n",
       "      <td>10072.62</td>\n",
       "      <td>3838.22</td>\n",
       "      <td>80.84</td>\n",
       "      <td>4658.16</td>\n",
       "      <td>17403.18</td>\n",
       "      <td>3089.89</td>\n",
       "      <td>1.0</td>\n",
       "    </tr>\n",
       "    <tr>\n",
       "      <th>alpha</th>\n",
       "      <td>0.24</td>\n",
       "      <td>0.11</td>\n",
       "      <td>0.00</td>\n",
       "      <td>0.10</td>\n",
       "      <td>0.46</td>\n",
       "      <td>2647.02</td>\n",
       "      <td>1.0</td>\n",
       "    </tr>\n",
       "    <tr>\n",
       "      <th>beta</th>\n",
       "      <td>5.07</td>\n",
       "      <td>1.02</td>\n",
       "      <td>0.02</td>\n",
       "      <td>3.21</td>\n",
       "      <td>7.16</td>\n",
       "      <td>2623.13</td>\n",
       "      <td>1.0</td>\n",
       "    </tr>\n",
       "    <tr>\n",
       "      <th>departure__0</th>\n",
       "      <td>0.20</td>\n",
       "      <td>0.06</td>\n",
       "      <td>0.00</td>\n",
       "      <td>0.11</td>\n",
       "      <td>0.30</td>\n",
       "      <td>6835.85</td>\n",
       "      <td>1.0</td>\n",
       "    </tr>\n",
       "    <tr>\n",
       "      <th>departure__1</th>\n",
       "      <td>0.20</td>\n",
       "      <td>0.06</td>\n",
       "      <td>0.00</td>\n",
       "      <td>0.10</td>\n",
       "      <td>0.29</td>\n",
       "      <td>5788.68</td>\n",
       "      <td>1.0</td>\n",
       "    </tr>\n",
       "    <tr>\n",
       "      <th>departure__2</th>\n",
       "      <td>0.20</td>\n",
       "      <td>0.06</td>\n",
       "      <td>0.00</td>\n",
       "      <td>0.10</td>\n",
       "      <td>0.29</td>\n",
       "      <td>6048.28</td>\n",
       "      <td>1.0</td>\n",
       "    </tr>\n",
       "    <tr>\n",
       "      <th>departure__3</th>\n",
       "      <td>0.20</td>\n",
       "      <td>0.06</td>\n",
       "      <td>0.00</td>\n",
       "      <td>0.11</td>\n",
       "      <td>0.30</td>\n",
       "      <td>5357.49</td>\n",
       "      <td>1.0</td>\n",
       "    </tr>\n",
       "    <tr>\n",
       "      <th>departure__4</th>\n",
       "      <td>0.20</td>\n",
       "      <td>0.06</td>\n",
       "      <td>0.00</td>\n",
       "      <td>0.10</td>\n",
       "      <td>0.29</td>\n",
       "      <td>5658.14</td>\n",
       "      <td>1.0</td>\n",
       "    </tr>\n",
       "    <tr>\n",
       "      <th>departure__5</th>\n",
       "      <td>0.20</td>\n",
       "      <td>0.06</td>\n",
       "      <td>0.00</td>\n",
       "      <td>0.10</td>\n",
       "      <td>0.29</td>\n",
       "      <td>6816.57</td>\n",
       "      <td>1.0</td>\n",
       "    </tr>\n",
       "    <tr>\n",
       "      <th>departure__6</th>\n",
       "      <td>0.20</td>\n",
       "      <td>0.06</td>\n",
       "      <td>0.00</td>\n",
       "      <td>0.10</td>\n",
       "      <td>0.29</td>\n",
       "      <td>4082.71</td>\n",
       "      <td>1.0</td>\n",
       "    </tr>\n",
       "    <tr>\n",
       "      <th>departure__7</th>\n",
       "      <td>0.20</td>\n",
       "      <td>0.06</td>\n",
       "      <td>0.00</td>\n",
       "      <td>0.10</td>\n",
       "      <td>0.29</td>\n",
       "      <td>5896.62</td>\n",
       "      <td>1.0</td>\n",
       "    </tr>\n",
       "    <tr>\n",
       "      <th>departure__8</th>\n",
       "      <td>0.20</td>\n",
       "      <td>0.06</td>\n",
       "      <td>0.00</td>\n",
       "      <td>0.11</td>\n",
       "      <td>0.30</td>\n",
       "      <td>6091.93</td>\n",
       "      <td>1.0</td>\n",
       "    </tr>\n",
       "    <tr>\n",
       "      <th>departure__9</th>\n",
       "      <td>0.20</td>\n",
       "      <td>0.06</td>\n",
       "      <td>0.00</td>\n",
       "      <td>0.10</td>\n",
       "      <td>0.29</td>\n",
       "      <td>6017.65</td>\n",
       "      <td>1.0</td>\n",
       "    </tr>\n",
       "    <tr>\n",
       "      <th>departure__10</th>\n",
       "      <td>0.20</td>\n",
       "      <td>0.06</td>\n",
       "      <td>0.00</td>\n",
       "      <td>0.10</td>\n",
       "      <td>0.29</td>\n",
       "      <td>3810.41</td>\n",
       "      <td>1.0</td>\n",
       "    </tr>\n",
       "    <tr>\n",
       "      <th>departure__11</th>\n",
       "      <td>0.20</td>\n",
       "      <td>0.06</td>\n",
       "      <td>0.00</td>\n",
       "      <td>0.11</td>\n",
       "      <td>0.30</td>\n",
       "      <td>4037.08</td>\n",
       "      <td>1.0</td>\n",
       "    </tr>\n",
       "    <tr>\n",
       "      <th>departure__12</th>\n",
       "      <td>0.20</td>\n",
       "      <td>0.06</td>\n",
       "      <td>0.00</td>\n",
       "      <td>0.10</td>\n",
       "      <td>0.29</td>\n",
       "      <td>5610.92</td>\n",
       "      <td>1.0</td>\n",
       "    </tr>\n",
       "    <tr>\n",
       "      <th>departure__13</th>\n",
       "      <td>0.20</td>\n",
       "      <td>0.06</td>\n",
       "      <td>0.00</td>\n",
       "      <td>0.10</td>\n",
       "      <td>0.29</td>\n",
       "      <td>5791.62</td>\n",
       "      <td>1.0</td>\n",
       "    </tr>\n",
       "    <tr>\n",
       "      <th>departure__14</th>\n",
       "      <td>0.20</td>\n",
       "      <td>0.06</td>\n",
       "      <td>0.00</td>\n",
       "      <td>0.10</td>\n",
       "      <td>0.29</td>\n",
       "      <td>6441.50</td>\n",
       "      <td>1.0</td>\n",
       "    </tr>\n",
       "    <tr>\n",
       "      <th>departure__15</th>\n",
       "      <td>0.20</td>\n",
       "      <td>0.06</td>\n",
       "      <td>0.00</td>\n",
       "      <td>0.11</td>\n",
       "      <td>0.30</td>\n",
       "      <td>4751.86</td>\n",
       "      <td>1.0</td>\n",
       "    </tr>\n",
       "    <tr>\n",
       "      <th>departure__16</th>\n",
       "      <td>0.20</td>\n",
       "      <td>0.06</td>\n",
       "      <td>0.00</td>\n",
       "      <td>0.10</td>\n",
       "      <td>0.29</td>\n",
       "      <td>5414.95</td>\n",
       "      <td>1.0</td>\n",
       "    </tr>\n",
       "    <tr>\n",
       "      <th>departure__17</th>\n",
       "      <td>0.20</td>\n",
       "      <td>0.06</td>\n",
       "      <td>0.00</td>\n",
       "      <td>0.10</td>\n",
       "      <td>0.29</td>\n",
       "      <td>5103.61</td>\n",
       "      <td>1.0</td>\n",
       "    </tr>\n",
       "    <tr>\n",
       "      <th>departure__18</th>\n",
       "      <td>0.20</td>\n",
       "      <td>0.06</td>\n",
       "      <td>0.00</td>\n",
       "      <td>0.11</td>\n",
       "      <td>0.29</td>\n",
       "      <td>6023.28</td>\n",
       "      <td>1.0</td>\n",
       "    </tr>\n",
       "    <tr>\n",
       "      <th>arrival__0</th>\n",
       "      <td>0.06</td>\n",
       "      <td>0.16</td>\n",
       "      <td>0.00</td>\n",
       "      <td>0.00</td>\n",
       "      <td>0.43</td>\n",
       "      <td>9776.21</td>\n",
       "      <td>1.0</td>\n",
       "    </tr>\n",
       "    <tr>\n",
       "      <th>arrival__1</th>\n",
       "      <td>0.06</td>\n",
       "      <td>0.17</td>\n",
       "      <td>0.00</td>\n",
       "      <td>0.00</td>\n",
       "      <td>0.45</td>\n",
       "      <td>10014.94</td>\n",
       "      <td>1.0</td>\n",
       "    </tr>\n",
       "    <tr>\n",
       "      <th>arrival__2</th>\n",
       "      <td>0.07</td>\n",
       "      <td>0.18</td>\n",
       "      <td>0.00</td>\n",
       "      <td>0.00</td>\n",
       "      <td>0.52</td>\n",
       "      <td>8428.09</td>\n",
       "      <td>1.0</td>\n",
       "    </tr>\n",
       "    <tr>\n",
       "      <th>arrival__3</th>\n",
       "      <td>0.07</td>\n",
       "      <td>0.19</td>\n",
       "      <td>0.00</td>\n",
       "      <td>0.00</td>\n",
       "      <td>0.57</td>\n",
       "      <td>10651.17</td>\n",
       "      <td>1.0</td>\n",
       "    </tr>\n",
       "    <tr>\n",
       "      <th>arrival__4</th>\n",
       "      <td>0.07</td>\n",
       "      <td>0.19</td>\n",
       "      <td>0.00</td>\n",
       "      <td>0.00</td>\n",
       "      <td>0.59</td>\n",
       "      <td>9181.66</td>\n",
       "      <td>1.0</td>\n",
       "    </tr>\n",
       "    <tr>\n",
       "      <th>arrival__5</th>\n",
       "      <td>0.08</td>\n",
       "      <td>0.20</td>\n",
       "      <td>0.00</td>\n",
       "      <td>0.00</td>\n",
       "      <td>0.60</td>\n",
       "      <td>9914.56</td>\n",
       "      <td>1.0</td>\n",
       "    </tr>\n",
       "    <tr>\n",
       "      <th>arrival__6</th>\n",
       "      <td>0.08</td>\n",
       "      <td>0.21</td>\n",
       "      <td>0.00</td>\n",
       "      <td>0.00</td>\n",
       "      <td>0.63</td>\n",
       "      <td>8176.60</td>\n",
       "      <td>1.0</td>\n",
       "    </tr>\n",
       "    <tr>\n",
       "      <th>arrival__7</th>\n",
       "      <td>0.09</td>\n",
       "      <td>0.21</td>\n",
       "      <td>0.00</td>\n",
       "      <td>0.00</td>\n",
       "      <td>0.67</td>\n",
       "      <td>6947.84</td>\n",
       "      <td>1.0</td>\n",
       "    </tr>\n",
       "    <tr>\n",
       "      <th>arrival__8</th>\n",
       "      <td>0.09</td>\n",
       "      <td>0.21</td>\n",
       "      <td>0.00</td>\n",
       "      <td>0.00</td>\n",
       "      <td>0.67</td>\n",
       "      <td>5417.81</td>\n",
       "      <td>1.0</td>\n",
       "    </tr>\n",
       "    <tr>\n",
       "      <th>arrival__9</th>\n",
       "      <td>0.08</td>\n",
       "      <td>0.20</td>\n",
       "      <td>0.00</td>\n",
       "      <td>0.00</td>\n",
       "      <td>0.62</td>\n",
       "      <td>4473.41</td>\n",
       "      <td>1.0</td>\n",
       "    </tr>\n",
       "    <tr>\n",
       "      <th>arrival__10</th>\n",
       "      <td>0.07</td>\n",
       "      <td>0.18</td>\n",
       "      <td>0.00</td>\n",
       "      <td>0.00</td>\n",
       "      <td>0.50</td>\n",
       "      <td>6445.52</td>\n",
       "      <td>1.0</td>\n",
       "    </tr>\n",
       "    <tr>\n",
       "      <th>arrival__11</th>\n",
       "      <td>0.05</td>\n",
       "      <td>0.14</td>\n",
       "      <td>0.00</td>\n",
       "      <td>0.00</td>\n",
       "      <td>0.36</td>\n",
       "      <td>4134.30</td>\n",
       "      <td>1.0</td>\n",
       "    </tr>\n",
       "    <tr>\n",
       "      <th>arrival__12</th>\n",
       "      <td>0.03</td>\n",
       "      <td>0.10</td>\n",
       "      <td>0.00</td>\n",
       "      <td>0.00</td>\n",
       "      <td>0.18</td>\n",
       "      <td>5652.98</td>\n",
       "      <td>1.0</td>\n",
       "    </tr>\n",
       "    <tr>\n",
       "      <th>arrival__13</th>\n",
       "      <td>0.02</td>\n",
       "      <td>0.06</td>\n",
       "      <td>0.00</td>\n",
       "      <td>0.00</td>\n",
       "      <td>0.10</td>\n",
       "      <td>7441.70</td>\n",
       "      <td>1.0</td>\n",
       "    </tr>\n",
       "    <tr>\n",
       "      <th>arrival__14</th>\n",
       "      <td>0.01</td>\n",
       "      <td>0.04</td>\n",
       "      <td>0.00</td>\n",
       "      <td>0.00</td>\n",
       "      <td>0.08</td>\n",
       "      <td>2089.06</td>\n",
       "      <td>1.0</td>\n",
       "    </tr>\n",
       "    <tr>\n",
       "      <th>arrival__15</th>\n",
       "      <td>0.01</td>\n",
       "      <td>0.04</td>\n",
       "      <td>0.00</td>\n",
       "      <td>0.00</td>\n",
       "      <td>0.06</td>\n",
       "      <td>6878.48</td>\n",
       "      <td>1.0</td>\n",
       "    </tr>\n",
       "    <tr>\n",
       "      <th>arrival__16</th>\n",
       "      <td>0.01</td>\n",
       "      <td>0.04</td>\n",
       "      <td>0.00</td>\n",
       "      <td>0.00</td>\n",
       "      <td>0.07</td>\n",
       "      <td>9548.26</td>\n",
       "      <td>1.0</td>\n",
       "    </tr>\n",
       "    <tr>\n",
       "      <th>arrival__17</th>\n",
       "      <td>0.01</td>\n",
       "      <td>0.04</td>\n",
       "      <td>0.00</td>\n",
       "      <td>0.00</td>\n",
       "      <td>0.08</td>\n",
       "      <td>5229.60</td>\n",
       "      <td>1.0</td>\n",
       "    </tr>\n",
       "    <tr>\n",
       "      <th>arrival__18</th>\n",
       "      <td>0.01</td>\n",
       "      <td>0.04</td>\n",
       "      <td>0.00</td>\n",
       "      <td>0.00</td>\n",
       "      <td>0.08</td>\n",
       "      <td>4079.89</td>\n",
       "      <td>1.0</td>\n",
       "    </tr>\n",
       "    <tr>\n",
       "      <th>arrival__19</th>\n",
       "      <td>0.03</td>\n",
       "      <td>0.07</td>\n",
       "      <td>0.00</td>\n",
       "      <td>0.00</td>\n",
       "      <td>0.19</td>\n",
       "      <td>630.78</td>\n",
       "      <td>1.0</td>\n",
       "    </tr>\n",
       "  </tbody>\n",
       "</table>\n",
       "</div>"
      ],
      "text/plain": [
       "                   mean       sd  mc_error  hpd_2.5  hpd_97.5     n_eff  Rhat\n",
       "Unseen         10072.62  3838.22     80.84  4658.16  17403.18   3089.89   1.0\n",
       "alpha              0.24     0.11      0.00     0.10      0.46   2647.02   1.0\n",
       "beta               5.07     1.02      0.02     3.21      7.16   2623.13   1.0\n",
       "departure__0       0.20     0.06      0.00     0.11      0.30   6835.85   1.0\n",
       "departure__1       0.20     0.06      0.00     0.10      0.29   5788.68   1.0\n",
       "departure__2       0.20     0.06      0.00     0.10      0.29   6048.28   1.0\n",
       "departure__3       0.20     0.06      0.00     0.11      0.30   5357.49   1.0\n",
       "departure__4       0.20     0.06      0.00     0.10      0.29   5658.14   1.0\n",
       "departure__5       0.20     0.06      0.00     0.10      0.29   6816.57   1.0\n",
       "departure__6       0.20     0.06      0.00     0.10      0.29   4082.71   1.0\n",
       "departure__7       0.20     0.06      0.00     0.10      0.29   5896.62   1.0\n",
       "departure__8       0.20     0.06      0.00     0.11      0.30   6091.93   1.0\n",
       "departure__9       0.20     0.06      0.00     0.10      0.29   6017.65   1.0\n",
       "departure__10      0.20     0.06      0.00     0.10      0.29   3810.41   1.0\n",
       "departure__11      0.20     0.06      0.00     0.11      0.30   4037.08   1.0\n",
       "departure__12      0.20     0.06      0.00     0.10      0.29   5610.92   1.0\n",
       "departure__13      0.20     0.06      0.00     0.10      0.29   5791.62   1.0\n",
       "departure__14      0.20     0.06      0.00     0.10      0.29   6441.50   1.0\n",
       "departure__15      0.20     0.06      0.00     0.11      0.30   4751.86   1.0\n",
       "departure__16      0.20     0.06      0.00     0.10      0.29   5414.95   1.0\n",
       "departure__17      0.20     0.06      0.00     0.10      0.29   5103.61   1.0\n",
       "departure__18      0.20     0.06      0.00     0.11      0.29   6023.28   1.0\n",
       "arrival__0         0.06     0.16      0.00     0.00      0.43   9776.21   1.0\n",
       "arrival__1         0.06     0.17      0.00     0.00      0.45  10014.94   1.0\n",
       "arrival__2         0.07     0.18      0.00     0.00      0.52   8428.09   1.0\n",
       "arrival__3         0.07     0.19      0.00     0.00      0.57  10651.17   1.0\n",
       "arrival__4         0.07     0.19      0.00     0.00      0.59   9181.66   1.0\n",
       "arrival__5         0.08     0.20      0.00     0.00      0.60   9914.56   1.0\n",
       "arrival__6         0.08     0.21      0.00     0.00      0.63   8176.60   1.0\n",
       "arrival__7         0.09     0.21      0.00     0.00      0.67   6947.84   1.0\n",
       "arrival__8         0.09     0.21      0.00     0.00      0.67   5417.81   1.0\n",
       "arrival__9         0.08     0.20      0.00     0.00      0.62   4473.41   1.0\n",
       "arrival__10        0.07     0.18      0.00     0.00      0.50   6445.52   1.0\n",
       "arrival__11        0.05     0.14      0.00     0.00      0.36   4134.30   1.0\n",
       "arrival__12        0.03     0.10      0.00     0.00      0.18   5652.98   1.0\n",
       "arrival__13        0.02     0.06      0.00     0.00      0.10   7441.70   1.0\n",
       "arrival__14        0.01     0.04      0.00     0.00      0.08   2089.06   1.0\n",
       "arrival__15        0.01     0.04      0.00     0.00      0.06   6878.48   1.0\n",
       "arrival__16        0.01     0.04      0.00     0.00      0.07   9548.26   1.0\n",
       "arrival__17        0.01     0.04      0.00     0.00      0.08   5229.60   1.0\n",
       "arrival__18        0.01     0.04      0.00     0.00      0.08   4079.89   1.0\n",
       "arrival__19        0.03     0.07      0.00     0.00      0.19    630.78   1.0"
      ]
     },
     "execution_count": 87,
     "metadata": {},
     "output_type": "execute_result"
    }
   ],
   "source": [
    "pm.summary(posterior).round(2)"
   ]
  },
  {
   "cell_type": "code",
   "execution_count": 88,
   "metadata": {},
   "outputs": [
    {
     "name": "stdout",
     "output_type": "stream",
     "text": [
      "Total Workers 11388.620379892849\n"
     ]
    }
   ],
   "source": [
    "print(\"Total Workers\", V + posterior['Unseen'].mean())"
   ]
  },
  {
   "cell_type": "code",
   "execution_count": 38,
   "metadata": {},
   "outputs": [
    {
     "data": {
      "text/plain": [
       "array([0.99960055, 0.98480729, 0.39762874, 0.10428072, 0.1001419 ,\n",
       "       0.10003229, 0.10002592, 0.10003497, 0.10006085, 0.10013163,\n",
       "       0.1003568 , 0.10129508, 0.10736397, 0.17695931, 0.73741097,\n",
       "       0.99370893, 0.99996245, 0.99999998, 1.        , 1.        ])"
      ]
     },
     "execution_count": 38,
     "metadata": {},
     "output_type": "execute_result"
    }
   ],
   "source": [
    "start['departure']"
   ]
  },
  {
   "cell_type": "code",
   "execution_count": 45,
   "metadata": {},
   "outputs": [
    {
     "data": {
      "text/plain": [
       "array([0, 1, 2, 3, 4, 5, 6, 7, 8])"
      ]
     },
     "execution_count": 45,
     "metadata": {},
     "output_type": "execute_result"
    }
   ],
   "source": [
    "np.arange(10)[:10 - 1]"
   ]
  },
  {
   "cell_type": "code",
   "execution_count": 73,
   "metadata": {},
   "outputs": [
    {
     "data": {
      "text/plain": [
       "array([0.4, 0.4, 0.4, 0.4, 0. , 0. , 0. , 0. , 0. , 0. , 0. , 0. , 0. ,\n",
       "       0. , 0. , 0.4, 0.4, 0.4, 0.4, 1. ])"
      ]
     },
     "execution_count": 73,
     "metadata": {},
     "output_type": "execute_result"
    }
   ],
   "source": [
    "np.concatenate((start['departure'], np.array([1.])),  axis=0)"
   ]
  },
  {
   "cell_type": "code",
   "execution_count": null,
   "metadata": {},
   "outputs": [],
   "source": []
  }
 ],
 "metadata": {
  "accelerator": "GPU",
  "colab": {
   "collapsed_sections": [],
   "name": "Posterior_last.ipynb",
   "provenance": [],
   "toc_visible": true,
   "version": "0.3.2"
  },
  "kernelspec": {
   "display_name": "Python 3",
   "language": "python",
   "name": "python3"
  },
  "language_info": {
   "codemirror_mode": {
    "name": "ipython",
    "version": 3
   },
   "file_extension": ".py",
   "mimetype": "text/x-python",
   "name": "python",
   "nbconvert_exporter": "python",
   "pygments_lexer": "ipython3",
   "version": "3.6.5"
  }
 },
 "nbformat": 4,
 "nbformat_minor": 1
}
