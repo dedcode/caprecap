{
 "cells": [
  {
   "cell_type": "code",
   "execution_count": 1,
   "metadata": {
    "colab": {},
    "colab_type": "code",
    "id": "Sjfvgkwcpbgo"
   },
   "outputs": [
    {
     "name": "stderr",
     "output_type": "stream",
     "text": [
      "/Users/ded/anaconda3/lib/python3.6/site-packages/theano/gpuarray/dnn.py:184: UserWarning: Your cuDNN version is more recent than Theano. If you encounter problems, try updating Theano or downgrading cuDNN to a version >= v5 and <= v7.\n",
      "  warnings.warn(\"Your cuDNN version is more recent than \"\n",
      "Using cuDNN version 7201 on context None\n",
      "Mapped name None to device cuda: GeForce GTX 1080 Ti (0000:86:00.0)\n",
      "/Users/ded/anaconda3/lib/python3.6/site-packages/h5py/__init__.py:36: FutureWarning: Conversion of the second argument of issubdtype from `float` to `np.floating` is deprecated. In future, it will be treated as `np.float64 == np.dtype(float).type`.\n",
      "  from ._conv import register_converters as _register_converters\n"
     ]
    }
   ],
   "source": [
    "%matplotlib inline\n",
    "from tqdm import tqdm\n",
    "import numpy as np\n",
    "import pymc3 as pm\n",
    "from theano import shared\n",
    "import theano.tensor as tt\n",
    "import theano\n",
    "from pymc3.distributions.transforms import t_stick_breaking"
   ]
  },
  {
   "cell_type": "code",
   "execution_count": 2,
   "metadata": {},
   "outputs": [],
   "source": [
    "import re\n",
    "def plot_traces(trcs, varnames=None):\n",
    "    '''Plot traces with overlaid means and values'''\n",
    "\n",
    "    nrows = len(trcs.varnames)\n",
    "    if varnames is not None:\n",
    "        nrows = len(varnames)\n",
    "\n",
    "    ax = pm.traceplot(trcs, varnames=varnames, figsize=(12,nrows*1.4),\n",
    "                      lines={k: v['mean'] for k, v in\n",
    "                             pm.summary(trcs,varnames=varnames).iterrows()})\n",
    "\n",
    "    for i, mn in enumerate(pm.summary(trcs, varnames=varnames)['mean']):\n",
    "        ax[i,0].annotate('{:.2f}'.format(mn), xy=(mn,0), xycoords='data',\n",
    "                         xytext=(5,10), textcoords='offset points', rotation=90,\n",
    "                         va='bottom', fontsize='large', color='#AA0022')\n",
    "def strip_derived_rvs(rvs):\n",
    "    '''Remove PyMC3-generated RVs from a list'''\n",
    "\n",
    "    ret_rvs = []\n",
    "    for rv in rvs:\n",
    "        if not (re.search('_log',rv.name) or re.search('_interval',rv.name)):\n",
    "            ret_rvs.append(rv)\n",
    "    return ret_rvs"
   ]
  },
  {
   "cell_type": "code",
   "execution_count": 2,
   "metadata": {
    "colab": {},
    "colab_type": "code",
    "id": "r9gBE6uf1Je0"
   },
   "outputs": [
    {
     "data": {
      "text/plain": [
       "(12276, int)"
      ]
     },
     "execution_count": 2,
     "metadata": {},
     "output_type": "execute_result"
    }
   ],
   "source": [
    "import pickle\n",
    "with open('data/fixed-1000-10-0.25-5.00.pkl', 'rb') as f:\n",
    "  GCH, TH = pickle.load(f)\n",
    "S = 10\n",
    "npdata = np.array(GCH, dtype = int)\n",
    "V = len(GCH)\n",
    "V, type(V)"
   ]
  },
  {
   "cell_type": "code",
   "execution_count": 3,
   "metadata": {
    "colab": {},
    "colab_type": "code",
    "id": "3FdWYAnbqTsy"
   },
   "outputs": [],
   "source": [
    "def get_vmask():\n",
    "    v_mask = np.zeros([S,S,S])\n",
    "    for s in np.arange(S):\n",
    "        for q in np.arange(s,S):\n",
    "            c1 = np.zeros(s)\n",
    "            c2 = np.ones(q-s)\n",
    "            c3 = np.zeros(S-q)\n",
    "            v_mask[s,q]= np.concatenate((c1, c2, c3))\n",
    "    return tt.constant(v_mask)"
   ]
  },
  {
   "cell_type": "code",
   "execution_count": 4,
   "metadata": {
    "colab": {},
    "colab_type": "code",
    "id": "Hy3gIbwRqTs0"
   },
   "outputs": [],
   "source": [
    "def get_imask():\n",
    "    s_mask = np.zeros([V,S])\n",
    "    q_mask = np.zeros([V,S])\n",
    "    for w in np.arange(V):\n",
    "        f, l = npdata[w, 0] , npdata[w, 1]\n",
    "        s_mask[w] = np.concatenate((np.ones(f+1), np.zeros(S - f -1)))\n",
    "        q_mask[w] = np.concatenate((np.zeros(l), np.ones(S-l)))\n",
    "    i_mask = np.einsum(\"is,iq->isq\", s_mask, q_mask)\n",
    "    return tt.constant(i_mask)"
   ]
  },
  {
   "cell_type": "code",
   "execution_count": 5,
   "metadata": {
    "colab": {},
    "colab_type": "code",
    "id": "FoNaVSVwqTs3"
   },
   "outputs": [],
   "source": [
    "def get_Risq(p):\n",
    "    tmp_u = npdata[:, 2]\n",
    "    expanded_u = tmp_u[:, np.newaxis, np.newaxis] *  np.ones((V, S, S)) # V x S x S\n",
    "    d = np.broadcast_to(np.triu(np.ones([S,S]), 0).cumsum(axis =1), (V, S, S)) # V x S x S : Durations\n",
    "    n = tt.constant(np.clip(d,a_min=0,a_max=S+1))\n",
    "    n_u = np.triu(d - expanded_u, 0)\n",
    "    n_u = tt.constant(np.clip(n_u,a_min=0,a_max=max(tmp_u))) # V x S x S\n",
    "   \n",
    "    \n",
    "    # The beta binomial\n",
    "    R_isq =   tt.gammaln(n+1)\n",
    "    R_isq -=  tt.gammaln(expanded_u+1)\n",
    "    R_isq -=  tt.gammaln(n_u+1)   \n",
    "    R_isq +=  tt.gammaln(expanded_u+a)\n",
    "    R_isq +=  tt.gammaln(n_u+b)\n",
    "    R_isq -=  tt.gammaln(n+a+b)\n",
    "    R_isq +=  tt.gammaln(a+b) - tt.gammaln(a) - tt.gammaln(b)\n",
    "\n",
    "    # The above is the computation of the log, so we take the exponent\n",
    "    return tt.exp(R_isq)"
   ]
  },
  {
   "cell_type": "code",
   "execution_count": 6,
   "metadata": {
    "colab": {},
    "colab_type": "code",
    "id": "6kPTSl-BqTs5"
   },
   "outputs": [],
   "source": [
    "def get_Risq0(p):\n",
    "    # n = q - s + 1\n",
    "    n = tt.constant(np.triu(np.ones([S,S]), 0).cumsum(axis =1))\n",
    "    R0_sq = tt.gammaln(n + b) - tt.gammaln(n + a + b) + tt.gammaln(a + b) - tt.gammaln(b)\n",
    "    return tt.exp(R0_sq)"
   ]
  },
  {
   "cell_type": "code",
   "execution_count": 7,
   "metadata": {
    "colab": {},
    "colab_type": "code",
    "id": "2yXnG7rkqTs6"
   },
   "outputs": [],
   "source": [
    "def logp_capture(arr, phi, p, U):\n",
    "    def ll_capture_f(mycaptures):\n",
    "        \n",
    "        # Masks: try to compute these once.\n",
    "        phi_mask = get_vmask()  # S x S x S . all possible arrivals and departures for the \"SURVIVAL\"\n",
    "        i_mask   = get_imask()  # KxK   . matrix with real possible arrival and departures\n",
    "        R_isq = get_Risq(p) #\n",
    "        R0_sq = get_Risq0(p) #\n",
    "        \n",
    "        # Likelihood of Capture Li\n",
    "        phi_v = tt.pow(1-phi, phi_mask)\n",
    "        phi_v = tt.prod(phi_v, axis=2)\n",
    "        LD = arr[:, np.newaxis] * phi_v * phi\n",
    "        LD_isq = tt.mul(LD, i_mask)\n",
    "        Li = tt.batched_tensordot(LD_isq, R_isq, axes = 2)\n",
    "        \n",
    "        # Likelihood of No-Capture L0\n",
    "        v0_mask = 1 - phi_mask[0] # tihs is reuse\n",
    "        LD0 = tt.mul(LD, v0_mask)\n",
    "        L0 = tt.sum(LD0 * R0_sq)\n",
    "        \n",
    "        # Multinomial\n",
    "        obj1 = tt.gammaln(tt.constant(V)+U+1.0) - tt.gammaln(U+1.0) - tt.gammaln(tt.constant(V)+ 1.0) #\n",
    "        obj2 = tt.sum(tt.log(Li))\n",
    "        obj3 = U * tt.log(L0)\n",
    "        \n",
    "        objective = obj1 + obj2 + obj3 \n",
    "        \n",
    "        return objective\n",
    "    \n",
    "    return ll_capture_f"
   ]
  },
  {
   "cell_type": "code",
   "execution_count": 8,
   "metadata": {
    "scrolled": false
   },
   "outputs": [],
   "source": [
    "#birth_init, dep = (np.array([0.4       , 0.06666667, 0.06666667, 0.06666667, 0.06666667,\n",
    "#          0.06666667, 0.06666667, 0.06666667, 0.06666667, 0.06666667]),\n",
    "# np.array([0.2, 0.2, 0.2, 0.2, 0.2, 0.2, 0.2, 0.2, 0.2, 1. ]))\n",
    "#for UU in range(87600, 88400, 10):\n",
    "#    print(\"Total Unseen:\", UU, \"/ Likelihood:\", logp_capture(birth_init, dep, .25,  5., UU)(npdata).eval().round(4))\n",
    "#print(\"Total Unseen:\", UU, \"/ Likelihood:\", logp_capture(birth_init, dep, .25,  5., 100000-V)(npdata).eval().round(4))"
   ]
  },
  {
   "cell_type": "code",
   "execution_count": 18,
   "metadata": {
    "colab": {},
    "colab_type": "code",
    "id": "pATM9j8cqTs8"
   },
   "outputs": [],
   "source": [
    "# custom log-liklihood\n",
    "# model\n",
    "with pm.Model() as model2:\n",
    "    # parameters\n",
    "    U = pm.DiscreteUniform('Unseen', lower=V, upper=10*V)\n",
    "    p = pm.Uniform('alpha', 0., 1.)\n",
    "    phi    = pm.Uniform('departure', 0.1, 1., shape=S)\n",
    "    arr    = pm.Dirichlet('arrival', a=np.array([1./S]*S), shape=S)\n",
    "    \n",
    "    # Model Log-likelihood\n",
    "    ob = pm.DensityDist('x', logp_capture(arr, phi, p, U), observed=npdata)"
   ]
  },
  {
   "cell_type": "code",
   "execution_count": 28,
   "metadata": {
    "colab": {
     "base_uri": "https://localhost:8080/",
     "height": 102
    },
    "colab_type": "code",
    "id": "Ands2YCRqTs9",
    "outputId": "450d1a59-20e5-479a-852e-b4dd19fe3944"
   },
   "outputs": [
    {
     "name": "stderr",
     "output_type": "stream",
     "text": [
      "Sequential sampling (2 chains in 1 job)\n",
      "CompoundStep\n",
      ">NUTS: [arrival, departure, beta, alpha]\n",
      ">Metropolis: [Unseen]\n",
      "100%|██████████| 5500/5500 [1:14:32<00:00,  1.23it/s]\n",
      "100%|██████████| 5500/5500 [16:58<00:00,  5.40it/s]\n",
      "There were 805 divergences after tuning. Increase `target_accept` or reparameterize.\n",
      "There were 6305 divergences after tuning. Increase `target_accept` or reparameterize.\n",
      "The acceptance probability does not match the target. It is 0.3717962914071477, but should be close to 0.8. Try to increase the number of tuning steps.\n",
      "The gelman-rubin statistic is larger than 1.4 for some parameters. The sampler did not converge.\n",
      "The estimated number of effective samples is smaller than 200 for some parameters.\n"
     ]
    }
   ],
   "source": [
    "with model:\n",
    "  #posterior = pm.sample(3, tune=0, chains=1, progressbar=False)\n",
    "  step = pm.NUTS()\n",
    "  #posterior = pm.sample(100000, step=step, njobs = 4)\n",
    "  posterior = pm.sample(5000, cores = 1, step = step)"
   ]
  },
  {
   "cell_type": "code",
   "execution_count": null,
   "metadata": {},
   "outputs": [],
   "source": [
    "for RV in model.basic_RVs:\n",
    "    print(RV.name, RV.logp(model.test_point))"
   ]
  },
  {
   "cell_type": "code",
   "execution_count": 42,
   "metadata": {
    "colab": {
     "base_uri": "https://localhost:8080/",
     "height": 248
    },
    "colab_type": "code",
    "id": "VqwQlHMuoCxd",
    "outputId": "d31f05b8-723a-4f38-9c02-9b89baec9709"
   },
   "outputs": [
    {
     "data": {
      "image/png": "[encoded data removed]",
      "text/plain": [
       "<Figure size 432x288 with 1 Axes>"
      ]
     },
     "metadata": {},
     "output_type": "display_data"
    }
   ],
   "source": [
    "pm.energyplot(posterior);"
   ]
  },
  {
   "cell_type": "code",
   "execution_count": 40,
   "metadata": {
    "colab": {
     "base_uri": "https://localhost:8080/",
     "height": 1358
    },
    "colab_type": "code",
    "executionInfo": {
     "elapsed": 1507,
     "status": "error",
     "timestamp": 1537418913125,
     "user": {
      "displayName": "Djellel Difallah",
      "photoUrl": "//lh5.googleusercontent.com/-t5fU7F-dQI8/AAAAAAAAAAI/AAAAAAAAGMw/kTaNXtXJ1J4/s50-c-k-no/photo.jpg",
      "userId": "109856363840473722295"
     },
     "user_tz": 240
    },
    "id": "Fgt-4TxQqTtB",
    "outputId": "50c2838c-7b20-4301-faf3-9f1ce1e14265"
   },
   "outputs": [
    {
     "data": {
      "image/png": "[encoded data removed]",
      "text/plain": [
       "<Figure size 864x302.4 with 6 Axes>"
      ]
     },
     "metadata": {},
     "output_type": "display_data"
    }
   ],
   "source": [
    "plot_traces(posterior[2000:], varnames=['Unseen', 'alpha', 'beta']);"
   ]
  },
  {
   "cell_type": "code",
   "execution_count": 43,
   "metadata": {
    "colab": {
     "base_uri": "https://localhost:8080/",
     "height": 303
    },
    "colab_type": "code",
    "executionInfo": {
     "elapsed": 162,
     "status": "error",
     "timestamp": 1537418916554,
     "user": {
      "displayName": "Djellel Difallah",
      "photoUrl": "//lh5.googleusercontent.com/-t5fU7F-dQI8/AAAAAAAAAAI/AAAAAAAAGMw/kTaNXtXJ1J4/s50-c-k-no/photo.jpg",
      "userId": "109856363840473722295"
     },
     "user_tz": 240
    },
    "id": "EUY8a4Qu0cJq",
    "outputId": "bfcbf371-c091-4a7f-a188-5ad3850e9bc1"
   },
   "outputs": [
    {
     "data": {
      "text/html": [
       "<div>\n",
       "<style scoped>\n",
       "    .dataframe tbody tr th:only-of-type {\n",
       "        vertical-align: middle;\n",
       "    }\n",
       "\n",
       "    .dataframe tbody tr th {\n",
       "        vertical-align: top;\n",
       "    }\n",
       "\n",
       "    .dataframe thead th {\n",
       "        text-align: right;\n",
       "    }\n",
       "</style>\n",
       "<table border=\"1\" class=\"dataframe\">\n",
       "  <thead>\n",
       "    <tr style=\"text-align: right;\">\n",
       "      <th></th>\n",
       "      <th>mean</th>\n",
       "      <th>sd</th>\n",
       "      <th>mc_error</th>\n",
       "      <th>hpd_2.5</th>\n",
       "      <th>hpd_97.5</th>\n",
       "      <th>n_eff</th>\n",
       "      <th>Rhat</th>\n",
       "    </tr>\n",
       "  </thead>\n",
       "  <tbody>\n",
       "    <tr>\n",
       "      <th>Unseen</th>\n",
       "      <td>92227.35</td>\n",
       "      <td>25236.30</td>\n",
       "      <td>2522.65</td>\n",
       "      <td>67155.00</td>\n",
       "      <td>122756.00</td>\n",
       "      <td>1.06</td>\n",
       "      <td>5.03</td>\n",
       "    </tr>\n",
       "    <tr>\n",
       "      <th>alpha</th>\n",
       "      <td>0.28</td>\n",
       "      <td>0.08</td>\n",
       "      <td>0.01</td>\n",
       "      <td>0.19</td>\n",
       "      <td>0.36</td>\n",
       "      <td>NaN</td>\n",
       "      <td>7.53</td>\n",
       "    </tr>\n",
       "    <tr>\n",
       "      <th>beta</th>\n",
       "      <td>8.24</td>\n",
       "      <td>1.74</td>\n",
       "      <td>0.17</td>\n",
       "      <td>6.50</td>\n",
       "      <td>10.00</td>\n",
       "      <td>NaN</td>\n",
       "      <td>149.87</td>\n",
       "    </tr>\n",
       "    <tr>\n",
       "      <th>departure__0</th>\n",
       "      <td>0.33</td>\n",
       "      <td>0.22</td>\n",
       "      <td>0.02</td>\n",
       "      <td>0.10</td>\n",
       "      <td>0.55</td>\n",
       "      <td>1.00</td>\n",
       "      <td>1201.20</td>\n",
       "    </tr>\n",
       "    <tr>\n",
       "      <th>departure__1</th>\n",
       "      <td>0.33</td>\n",
       "      <td>0.22</td>\n",
       "      <td>0.02</td>\n",
       "      <td>0.10</td>\n",
       "      <td>0.55</td>\n",
       "      <td>1.00</td>\n",
       "      <td>1906.89</td>\n",
       "    </tr>\n",
       "    <tr>\n",
       "      <th>departure__2</th>\n",
       "      <td>0.33</td>\n",
       "      <td>0.22</td>\n",
       "      <td>0.02</td>\n",
       "      <td>0.10</td>\n",
       "      <td>0.55</td>\n",
       "      <td>1.00</td>\n",
       "      <td>2239.25</td>\n",
       "    </tr>\n",
       "    <tr>\n",
       "      <th>departure__3</th>\n",
       "      <td>0.33</td>\n",
       "      <td>0.22</td>\n",
       "      <td>0.02</td>\n",
       "      <td>0.10</td>\n",
       "      <td>0.55</td>\n",
       "      <td>1.00</td>\n",
       "      <td>2371.27</td>\n",
       "    </tr>\n",
       "    <tr>\n",
       "      <th>departure__4</th>\n",
       "      <td>0.33</td>\n",
       "      <td>0.22</td>\n",
       "      <td>0.02</td>\n",
       "      <td>0.10</td>\n",
       "      <td>0.55</td>\n",
       "      <td>1.00</td>\n",
       "      <td>2359.41</td>\n",
       "    </tr>\n",
       "    <tr>\n",
       "      <th>departure__5</th>\n",
       "      <td>0.33</td>\n",
       "      <td>0.22</td>\n",
       "      <td>0.02</td>\n",
       "      <td>0.10</td>\n",
       "      <td>0.55</td>\n",
       "      <td>1.00</td>\n",
       "      <td>2086.73</td>\n",
       "    </tr>\n",
       "    <tr>\n",
       "      <th>departure__6</th>\n",
       "      <td>0.33</td>\n",
       "      <td>0.22</td>\n",
       "      <td>0.02</td>\n",
       "      <td>0.10</td>\n",
       "      <td>0.55</td>\n",
       "      <td>1.00</td>\n",
       "      <td>1870.15</td>\n",
       "    </tr>\n",
       "    <tr>\n",
       "      <th>departure__7</th>\n",
       "      <td>0.33</td>\n",
       "      <td>0.22</td>\n",
       "      <td>0.02</td>\n",
       "      <td>0.10</td>\n",
       "      <td>0.55</td>\n",
       "      <td>1.00</td>\n",
       "      <td>1339.10</td>\n",
       "    </tr>\n",
       "    <tr>\n",
       "      <th>departure__8</th>\n",
       "      <td>0.33</td>\n",
       "      <td>0.22</td>\n",
       "      <td>0.02</td>\n",
       "      <td>0.10</td>\n",
       "      <td>0.55</td>\n",
       "      <td>1.00</td>\n",
       "      <td>832.11</td>\n",
       "    </tr>\n",
       "    <tr>\n",
       "      <th>departure__9</th>\n",
       "      <td>0.77</td>\n",
       "      <td>0.22</td>\n",
       "      <td>0.02</td>\n",
       "      <td>0.55</td>\n",
       "      <td>1.00</td>\n",
       "      <td>1.00</td>\n",
       "      <td>22625.24</td>\n",
       "    </tr>\n",
       "    <tr>\n",
       "      <th>arrival__0</th>\n",
       "      <td>0.55</td>\n",
       "      <td>0.45</td>\n",
       "      <td>0.04</td>\n",
       "      <td>0.10</td>\n",
       "      <td>1.00</td>\n",
       "      <td>1.00</td>\n",
       "      <td>2007.95</td>\n",
       "    </tr>\n",
       "    <tr>\n",
       "      <th>arrival__1</th>\n",
       "      <td>0.05</td>\n",
       "      <td>0.05</td>\n",
       "      <td>0.00</td>\n",
       "      <td>0.00</td>\n",
       "      <td>0.10</td>\n",
       "      <td>1.00</td>\n",
       "      <td>333.18</td>\n",
       "    </tr>\n",
       "    <tr>\n",
       "      <th>arrival__2</th>\n",
       "      <td>0.05</td>\n",
       "      <td>0.05</td>\n",
       "      <td>0.00</td>\n",
       "      <td>0.00</td>\n",
       "      <td>0.10</td>\n",
       "      <td>NaN</td>\n",
       "      <td>599.27</td>\n",
       "    </tr>\n",
       "    <tr>\n",
       "      <th>arrival__3</th>\n",
       "      <td>0.05</td>\n",
       "      <td>0.05</td>\n",
       "      <td>0.00</td>\n",
       "      <td>0.00</td>\n",
       "      <td>0.10</td>\n",
       "      <td>1.00</td>\n",
       "      <td>792.34</td>\n",
       "    </tr>\n",
       "    <tr>\n",
       "      <th>arrival__4</th>\n",
       "      <td>0.05</td>\n",
       "      <td>0.05</td>\n",
       "      <td>0.00</td>\n",
       "      <td>0.00</td>\n",
       "      <td>0.10</td>\n",
       "      <td>1.00</td>\n",
       "      <td>994.52</td>\n",
       "    </tr>\n",
       "    <tr>\n",
       "      <th>arrival__5</th>\n",
       "      <td>0.05</td>\n",
       "      <td>0.05</td>\n",
       "      <td>0.00</td>\n",
       "      <td>0.00</td>\n",
       "      <td>0.10</td>\n",
       "      <td>1.00</td>\n",
       "      <td>1050.75</td>\n",
       "    </tr>\n",
       "    <tr>\n",
       "      <th>arrival__6</th>\n",
       "      <td>0.05</td>\n",
       "      <td>0.05</td>\n",
       "      <td>0.00</td>\n",
       "      <td>0.00</td>\n",
       "      <td>0.10</td>\n",
       "      <td>1.00</td>\n",
       "      <td>1198.57</td>\n",
       "    </tr>\n",
       "    <tr>\n",
       "      <th>arrival__7</th>\n",
       "      <td>0.05</td>\n",
       "      <td>0.05</td>\n",
       "      <td>0.00</td>\n",
       "      <td>0.00</td>\n",
       "      <td>0.10</td>\n",
       "      <td>1.00</td>\n",
       "      <td>1131.27</td>\n",
       "    </tr>\n",
       "    <tr>\n",
       "      <th>arrival__8</th>\n",
       "      <td>0.05</td>\n",
       "      <td>0.05</td>\n",
       "      <td>0.00</td>\n",
       "      <td>0.00</td>\n",
       "      <td>0.10</td>\n",
       "      <td>1.00</td>\n",
       "      <td>1032.08</td>\n",
       "    </tr>\n",
       "    <tr>\n",
       "      <th>arrival__9</th>\n",
       "      <td>0.05</td>\n",
       "      <td>0.05</td>\n",
       "      <td>0.00</td>\n",
       "      <td>0.00</td>\n",
       "      <td>0.10</td>\n",
       "      <td>1.00</td>\n",
       "      <td>672.57</td>\n",
       "    </tr>\n",
       "  </tbody>\n",
       "</table>\n",
       "</div>"
      ],
      "text/plain": [
       "                  mean        sd  mc_error   hpd_2.5   hpd_97.5  n_eff  \\\n",
       "Unseen        92227.35  25236.30   2522.65  67155.00  122756.00   1.06   \n",
       "alpha             0.28      0.08      0.01      0.19       0.36    NaN   \n",
       "beta              8.24      1.74      0.17      6.50      10.00    NaN   \n",
       "departure__0      0.33      0.22      0.02      0.10       0.55   1.00   \n",
       "departure__1      0.33      0.22      0.02      0.10       0.55   1.00   \n",
       "departure__2      0.33      0.22      0.02      0.10       0.55   1.00   \n",
       "departure__3      0.33      0.22      0.02      0.10       0.55   1.00   \n",
       "departure__4      0.33      0.22      0.02      0.10       0.55   1.00   \n",
       "departure__5      0.33      0.22      0.02      0.10       0.55   1.00   \n",
       "departure__6      0.33      0.22      0.02      0.10       0.55   1.00   \n",
       "departure__7      0.33      0.22      0.02      0.10       0.55   1.00   \n",
       "departure__8      0.33      0.22      0.02      0.10       0.55   1.00   \n",
       "departure__9      0.77      0.22      0.02      0.55       1.00   1.00   \n",
       "arrival__0        0.55      0.45      0.04      0.10       1.00   1.00   \n",
       "arrival__1        0.05      0.05      0.00      0.00       0.10   1.00   \n",
       "arrival__2        0.05      0.05      0.00      0.00       0.10    NaN   \n",
       "arrival__3        0.05      0.05      0.00      0.00       0.10   1.00   \n",
       "arrival__4        0.05      0.05      0.00      0.00       0.10   1.00   \n",
       "arrival__5        0.05      0.05      0.00      0.00       0.10   1.00   \n",
       "arrival__6        0.05      0.05      0.00      0.00       0.10   1.00   \n",
       "arrival__7        0.05      0.05      0.00      0.00       0.10   1.00   \n",
       "arrival__8        0.05      0.05      0.00      0.00       0.10   1.00   \n",
       "arrival__9        0.05      0.05      0.00      0.00       0.10   1.00   \n",
       "\n",
       "                  Rhat  \n",
       "Unseen            5.03  \n",
       "alpha             7.53  \n",
       "beta            149.87  \n",
       "departure__0   1201.20  \n",
       "departure__1   1906.89  \n",
       "departure__2   2239.25  \n",
       "departure__3   2371.27  \n",
       "departure__4   2359.41  \n",
       "departure__5   2086.73  \n",
       "departure__6   1870.15  \n",
       "departure__7   1339.10  \n",
       "departure__8    832.11  \n",
       "departure__9  22625.24  \n",
       "arrival__0     2007.95  \n",
       "arrival__1      333.18  \n",
       "arrival__2      599.27  \n",
       "arrival__3      792.34  \n",
       "arrival__4      994.52  \n",
       "arrival__5     1050.75  \n",
       "arrival__6     1198.57  \n",
       "arrival__7     1131.27  \n",
       "arrival__8     1032.08  \n",
       "arrival__9      672.57  "
      ]
     },
     "execution_count": 43,
     "metadata": {},
     "output_type": "execute_result"
    }
   ],
   "source": [
    "pm.summary(posterior).round(2)"
   ]
  },
  {
   "cell_type": "code",
   "execution_count": null,
   "metadata": {},
   "outputs": [],
   "source": [
    "V"
   ]
  },
  {
   "cell_type": "code",
   "execution_count": null,
   "metadata": {},
   "outputs": [],
   "source": [
    "model['Unseen'].logp(model.test_point)"
   ]
  },
  {
   "cell_type": "code",
   "execution_count": null,
   "metadata": {},
   "outputs": [],
   "source": [
    "model['a'].logp(model.test_point)"
   ]
  },
  {
   "cell_type": "code",
   "execution_count": null,
   "metadata": {},
   "outputs": [],
   "source": []
  }
 ],
 "metadata": {
  "accelerator": "GPU",
  "colab": {
   "collapsed_sections": [],
   "name": "Posterior_last.ipynb",
   "provenance": [],
   "toc_visible": true,
   "version": "0.3.2"
  },
  "kernelspec": {
   "display_name": "Python 3",
   "language": "python",
   "name": "python3"
  },
  "language_info": {
   "codemirror_mode": {
    "name": "ipython",
    "version": 3
   },
   "file_extension": ".py",
   "mimetype": "text/x-python",
   "name": "python",
   "nbconvert_exporter": "python",
   "pygments_lexer": "ipython3",
   "version": "3.6.5"
  }
 },
 "nbformat": 4,
 "nbformat_minor": 1
}
