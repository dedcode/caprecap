{
 "cells": [
  {
   "cell_type": "code",
   "execution_count": 2,
   "metadata": {
    "colab": {},
    "colab_type": "code",
    "id": "Hf1JNmQrClhq"
   },
   "outputs": [
    {
     "name": "stderr",
     "output_type": "stream",
     "text": [
      "/Users/ded/anaconda3/lib/python3.6/site-packages/h5py/__init__.py:36: FutureWarning: Conversion of the second argument of issubdtype from `float` to `np.floating` is deprecated. In future, it will be treated as `np.float64 == np.dtype(float).type`.\n",
      "  from ._conv import register_converters as _register_converters\n"
     ]
    }
   ],
   "source": [
    "%matplotlib inline\n",
    "import tensorflow as tf\n",
    "import pandas as pd\n",
    "import numpy as np\n",
    "from tqdm import tqdm"
   ]
  },
  {
   "cell_type": "code",
   "execution_count": 7,
   "metadata": {
    "colab": {},
    "colab_type": "code",
    "id": "6iHl-K3KMg92"
   },
   "outputs": [
    {
     "name": "stdout",
     "output_type": "stream",
     "text": [
      "Captured: 7 / Sample Periods: 10\n"
     ]
    }
   ],
   "source": [
    "import pickle\n",
    "with open('data/gch-100-10-0.25-5.00.pkl', 'rb') as f:\n",
    "  GCH, TH = pickle.load(f)\n",
    "data = np.array(GCH)\n",
    "I = len(GCH)\n",
    "K = 10 # S sample periods\n",
    "print(\"Captured:\", I, \"/ Sample Periods:\",K)"
   ]
  },
  {
   "cell_type": "code",
   "execution_count": 11,
   "metadata": {
    "colab": {
     "base_uri": "https://localhost:8080/",
     "height": 34
    },
    "colab_type": "code",
    "executionInfo": {
     "elapsed": 1005,
     "status": "ok",
     "timestamp": 1537190694536,
     "user": {
      "displayName": "Djellel Difallah",
      "photoUrl": "//lh5.googleusercontent.com/-t5fU7F-dQI8/AAAAAAAAAAI/AAAAAAAAGMw/kTaNXtXJ1J4/s50-c-k-no/photo.jpg",
      "userId": "109856363840473722295"
     },
     "user_tz": 240
    },
    "id": "cyxaSZo2Clh6",
    "outputId": "a6bf880c-1faa-47a6-cb6b-16f82fdbb26d"
   },
   "outputs": [],
   "source": [
    "tf.reset_default_graph()\n",
    "\n",
    "#Input\n",
    "f = tf.placeholder(tf.float64, shape=[I], name=\"first_time_seen\")  \n",
    "l = tf.placeholder(tf.float64, shape=[I], name=\"last_time_seen\")  \n",
    "u = tf.placeholder(tf.float64, shape=[I], name=\"count\") \n",
    "\n",
    "# Parameters\n",
    "U = tf.get_variable(dtype=tf.float64, shape=(), name = \"unseen\", initializer=tf.constant_initializer(100.)) \n",
    "\n",
    "ah = tf.get_variable(\"propensity_alpha\", shape=(), dtype=tf.float64, initializer=tf.constant_initializer(np.sqrt(0.25))  )\n",
    "a = tf.square(ah)\n",
    "\n",
    "bh = tf.get_variable(\"propensity_beta\",  shape=(), dtype=tf.float64, initializer=tf.constant_initializer(np.sqrt(5)) )\n",
    "b = tf.square(bh)\n",
    "\n",
    "#arrivals\n",
    "lh0 = tf.constant(value=[0.4], name=\"arrivals_latent\", shape=[1], dtype=tf.float64)\n",
    "l0 = tf.sigmoid(lh0, name='arrivals_at_zero')\n",
    "tmp_l = ((1-l0)/(K-1))\n",
    "logit_lm = tf.log( tmp_l / (1 - tmp_l) )\n",
    "lh = tf.concat( [lh0, logit_lm * tf.ones(K-1, dtype=tf.float64)], axis=0 )\n",
    "lmd = tf.sigmoid(lh, name='arrivals')\n",
    "\n",
    "#departures\n",
    "mh0 = tf.get_variable(\"departures_latent\", shape=[1], dtype=tf.float64, initializer=tf.constant_initializer(-0.4))\n",
    "mh  = tf.ones( shape=[K], dtype=tf.float64 ) / (1.0*mh0)\n",
    "mu  = tf.sigmoid(mh, name='departures')\n",
    "\n",
    "## Masks\n",
    "# Create masks using the values from f so that for each worker we add the lamda_s until the first appearance\n",
    "s_mask = tf.sequence_mask(f+1, K)\n",
    "s_mask = tf.cast(s_mask, tf.float64)\n",
    "\n",
    "# Create masks using the values from l so that for each worker we add the mu_q from the first appearance until the end\n",
    "q_mask = ~tf.sequence_mask(l, K)\n",
    "q_mask = tf.cast(q_mask, tf.float64)\n",
    "\n",
    "# This is a mask that only allows feasible combinations of s and q for a given worker i\n",
    "# It is effectively the outer product of the s_mask and q_mask, for each worker\n",
    "i_mask = tf.einsum(\"is,iq->isq\", s_mask, q_mask)\n",
    "\n",
    "v = np.zeros([K,K,K])\n",
    "for s in np.arange(K):\n",
    "    for q in np.arange(s,K):\n",
    "        c1 = np.zeros(s)\n",
    "        c2 = np.ones(q-s)\n",
    "        c3 = np.zeros(K-q)\n",
    "        v[s,q]= np.concatenate((c1, c2, c3))\n",
    "v_mask = tf.constant(v)\n",
    "# Calculating m_v(s,q) = Prod_s^q-1 mu_v\n",
    "# mu_v[s,q]: Probability of surviving from period s to period q-1\n",
    "# if q-1<s then probability is 1\n",
    "mu_v = tf.pow(1-mu, v_mask)\n",
    "mu_v = tf.reduce_prod(mu_v, axis=2)\n",
    "\n",
    "# n = q - s + 1\n",
    "d = np.zeros([K,K])\n",
    "for s in range(K):\n",
    "    for q in range(K):\n",
    "        d[s,q] = q-s+1\n",
    "        \n",
    "# n-u\n",
    "count = data[:, 2]\n",
    "n_u = np.zeros([I,K,K])\n",
    "for i in range(len(count)):\n",
    "    n_u[i] = d - count[i]\n",
    "\n",
    "n = tf.constant(np.clip(d,a_min=0,a_max=K+1))\n",
    "n_u = tf.constant(np.clip(n_u,a_min=0,a_max=max(count)))\n",
    "\n",
    "#Utilities\n",
    "def transform_1d_to_3d(x, K, L):\n",
    "    '''\n",
    "    Takes vector x of dimensionality I and broadcast it, to return a 3d tensor,\n",
    "    I x K x L, where the values of the 2d KxL matrix have the values of x[i]\n",
    "    '''\n",
    "    return tf.einsum(\"x,kl->xkl\", x, tf.ones(shape=(K,L), dtype=tf.float64) )\n",
    "def transform_2d_to_3d(xy, Z):\n",
    "    '''\n",
    "    Takes matrix  x of dimensionality X * Y  and broadcast it Z times, \n",
    "    to return a 3d tensor, Z x X x Y, where the values of the 2d KxL matrix have the values of x[i]\n",
    "    '''\n",
    "    return tf.einsum(\"xy,z->zxy\", xy, tf.ones(shape=[Z], dtype=tf.float64) )\n",
    "\n",
    "def get_risq():\n",
    "    # tf.lgamma(n+1) \n",
    "    R_isq = transform_2d_to_3d( tf.lgamma( n+1 ), I)\n",
    "    # - tf.lgamma(u+1) \n",
    "    R_isq -= transform_1d_to_3d( tf.lgamma(u+1), K, K )\n",
    "    # - tf.lgamma(n-u+1)\n",
    "    R_isq -= tf.lgamma( n_u + 1 )   \n",
    "    # + tf.lgamma(u+a) \n",
    "    R_isq +=  transform_1d_to_3d(tf.lgamma(u+a), K, K)\n",
    "    # + tf.lgamma(n-u+b)\n",
    "    R_isq +=  tf.lgamma( n_u + b )\n",
    "    # - tf.lgamma(n+a+b)\n",
    "    R_isq -= transform_2d_to_3d( tf.lgamma( n +a+b ), I)\n",
    "    # + tf.lgamma(a+b - tf.lgamma(a) -tf.lgamma(b)\n",
    "    R_isq += tf.lgamma( a + b ) - tf.lgamma(a) - tf.lgamma(b )\n",
    "    # The above is the computation of the log, so we take the exponent\n",
    "    return tf.exp(R_isq)\n",
    "\n",
    "R_isq = get_risq()\n",
    "# Likelihoods of capture Li\n",
    "LD = tf.einsum('s,sq,q->sq', lmd, mu_v, mu)\n",
    "LD_isq = tf.einsum('sq,isq->isq', LD, i_mask)\n",
    "Li = tf.einsum('isq,isq->i', LD_isq, R_isq)\n",
    "\n",
    "# Likelihoods of no-capture L0\n",
    "v0_mask = 1-v_mask[0]\n",
    "LD0 = tf.multiply( LD  , v0_mask )\n",
    "\n",
    "R0_sq = tf.exp(\n",
    "  tf.lgamma(n + b) - tf.lgamma(n +a + b)\n",
    "+ tf.lgamma(a + b) - tf.lgamma(b)\n",
    ")\n",
    "\n",
    "L0 = tf.reduce_sum(LD0 * R0_sq)\n",
    "\n",
    "# Objective function\n",
    "IT = tf.constant(I, dtype=tf.float64)\n",
    "obj1 = tf.lgamma(IT+U+1) - tf.lgamma(U+1) - tf.lgamma(IT + 1)\n",
    "obj2 = tf.reduce_sum(tf.log(Li))\n",
    "obj3 = U * tf.log(L0)\n",
    "\n",
    "objective = - (obj1 + obj2 +obj3) \n",
    "\n",
    "train_step = tf.train.AdamOptimizer(learning_rate=0.1).minimize(objective)"
   ]
  },
  {
   "cell_type": "code",
   "execution_count": 12,
   "metadata": {
    "colab": {},
    "colab_type": "code",
    "id": "KK-xQ7lf_DYH"
   },
   "outputs": [
    {
     "name": "stderr",
     "output_type": "stream",
     "text": [
      "/Users/ded/anaconda3/lib/python3.6/site-packages/tensorflow/python/client/session.py:1645: UserWarning: An interactive session is already active. This can cause out-of-memory errors in some cases. You must explicitly call `InteractiveSession.close()` to release resources held by the other session(s).\n",
      "  warnings.warn('An interactive session is already active. This can '\n",
      "    21.701 /  1.049 /  2.442 /  0.599 /  0.267 /  4.660: 100%|██████████| 5000/5000 [00:15<00:00, 318.10it/s]\n"
     ]
    }
   ],
   "source": [
    "sess = tf.InteractiveSession()\n",
    "tf.global_variables_initializer().run()\n",
    "loss = []\n",
    "\n",
    "feed_data = {\n",
    "    f: data[:, 0],  \n",
    "    l: data[:, 1], \n",
    "    u: data[:, 2]\n",
    "}\n",
    "\n",
    "t = tqdm(range(5000))\n",
    "\n",
    "for epoch in t: \n",
    "    points = sess.run([train_step, objective, a, b, lmd, mu, U,i_mask, R_isq], feed_dict=feed_data)\n",
    "    \n",
    "    loss.append([epoch] + points)\n",
    "    template = \"{obj:10.3f} / {alpha:6.3f} / {beta:6.3f} / {arr:6.3f} / {dep:6.3f} / {u:6.3f}\"\n",
    "    \n",
    "    if epoch % 10 == 0:\n",
    "        status = template.format(\n",
    "                        obj = points[1], \n",
    "                        alpha = points[2], \n",
    "                        beta = points[3],\n",
    "                        arr = points[4][0],\n",
    "                        dep = points[5][K-1],\n",
    "                        u = points[6])\n",
    "        t.set_description(status)"
   ]
  },
  {
   "cell_type": "code",
   "execution_count": 10,
   "metadata": {
    "colab": {
     "base_uri": "https://localhost:8080/",
     "height": 85
    },
    "colab_type": "code",
    "executionInfo": {
     "elapsed": 456,
     "status": "ok",
     "timestamp": 1537190913515,
     "user": {
      "displayName": "Djellel Difallah",
      "photoUrl": "//lh5.googleusercontent.com/-t5fU7F-dQI8/AAAAAAAAAAI/AAAAAAAAGMw/kTaNXtXJ1J4/s50-c-k-no/photo.jpg",
      "userId": "109856363840473722295"
     },
     "user_tz": 240
    },
    "id": "-YlaQKWDvO6B",
    "outputId": "2913fa4b-1b91-46f4-891e-6f62f727b13a"
   },
   "outputs": [
    {
     "data": {
      "text/plain": [
       "(array([0.59868766, 0.04459026, 0.04459026, 0.04459026, 0.04459026,\n",
       "        0.04459026, 0.04459026, 0.04459026, 0.04459026, 0.04459026]),\n",
       " array([0.2665464, 0.2665464, 0.2665464, 0.2665464, 0.2665464, 0.2665464,\n",
       "        0.2665464, 0.2665464, 0.2665464, 0.2665464]))"
      ]
     },
     "execution_count": 10,
     "metadata": {},
     "output_type": "execute_result"
    }
   ],
   "source": [
    "points[4], points[5]   #departure, arrival"
   ]
  },
  {
   "cell_type": "code",
   "execution_count": null,
   "metadata": {
    "colab": {},
    "colab_type": "code",
    "id": "iGMdcDa74yX7"
   },
   "outputs": [],
   "source": [
    "df = pd.DataFrame(loss, columns = ['Train', 'Iteration', 'Loss', 'a', 'b', 'lambda', 'mu', 'U', 'i_mask', 'R_isq'])"
   ]
  },
  {
   "cell_type": "code",
   "execution_count": null,
   "metadata": {
    "colab": {
     "base_uri": "https://localhost:8080/",
     "height": 286
    },
    "colab_type": "code",
    "executionInfo": {
     "elapsed": 472,
     "status": "ok",
     "timestamp": 1537189627712,
     "user": {
      "displayName": "Djellel Difallah",
      "photoUrl": "//lh5.googleusercontent.com/-t5fU7F-dQI8/AAAAAAAAAAI/AAAAAAAAGMw/kTaNXtXJ1J4/s50-c-k-no/photo.jpg",
      "userId": "109856363840473722295"
     },
     "user_tz": 240
    },
    "id": "k7JPEzyRCliy",
    "outputId": "fbcbff98-195f-4fb4-f89c-7c4a9b5473b3"
   },
   "outputs": [],
   "source": [
    "df.set_index('Iteration').Loss.plot()"
   ]
  },
  {
   "cell_type": "code",
   "execution_count": null,
   "metadata": {
    "colab": {
     "base_uri": "https://localhost:8080/",
     "height": 286
    },
    "colab_type": "code",
    "executionInfo": {
     "elapsed": 498,
     "status": "ok",
     "timestamp": 1535385948839,
     "user": {
      "displayName": "Djellel Difallah",
      "photoUrl": "//lh5.googleusercontent.com/-t5fU7F-dQI8/AAAAAAAAAAI/AAAAAAAAGMw/kTaNXtXJ1J4/s50-c-k-no/photo.jpg",
      "userId": "109856363840473722295"
     },
     "user_tz": 240
    },
    "id": "Okq7QoX5Cli0",
    "outputId": "d80e37f7-d130-41a0-a96e-de91e0bb65e7"
   },
   "outputs": [],
   "source": [
    "df.set_index('Iteration')[ ['a','b'] ].plot()"
   ]
  },
  {
   "cell_type": "code",
   "execution_count": null,
   "metadata": {
    "colab": {
     "base_uri": "https://localhost:8080/",
     "height": 286
    },
    "colab_type": "code",
    "executionInfo": {
     "elapsed": 475,
     "status": "ok",
     "timestamp": 1535385949962,
     "user": {
      "displayName": "Djellel Difallah",
      "photoUrl": "//lh5.googleusercontent.com/-t5fU7F-dQI8/AAAAAAAAAAI/AAAAAAAAGMw/kTaNXtXJ1J4/s50-c-k-no/photo.jpg",
      "userId": "109856363840473722295"
     },
     "user_tz": 240
    },
    "id": "v8o7JR5y4yX_",
    "outputId": "dffe6247-341e-4539-a1ac-f9b00f72939e"
   },
   "outputs": [],
   "source": [
    "df.set_index('Iteration')[ ['U'] ].plot()"
   ]
  },
  {
   "cell_type": "code",
   "execution_count": null,
   "metadata": {
    "colab": {
     "base_uri": "https://localhost:8080/",
     "height": 34
    },
    "colab_type": "code",
    "executionInfo": {
     "elapsed": 241,
     "status": "ok",
     "timestamp": 1535385951359,
     "user": {
      "displayName": "Djellel Difallah",
      "photoUrl": "//lh5.googleusercontent.com/-t5fU7F-dQI8/AAAAAAAAAAI/AAAAAAAAGMw/kTaNXtXJ1J4/s50-c-k-no/photo.jpg",
      "userId": "109856363840473722295"
     },
     "user_tz": 240
    },
    "id": "rYdlQPqv4yYC",
    "outputId": "1cfbe199-3311-4371-d4c0-971d71690b46"
   },
   "outputs": [],
   "source": [
    "df['U'].iloc[-1] + I"
   ]
  },
  {
   "cell_type": "code",
   "execution_count": null,
   "metadata": {
    "colab": {
     "base_uri": "https://localhost:8080/",
     "height": 6970
    },
    "colab_type": "code",
    "executionInfo": {
     "elapsed": 1098,
     "status": "ok",
     "timestamp": 1535304885231,
     "user": {
      "displayName": "Djellel Difallah",
      "photoUrl": "//lh5.googleusercontent.com/-t5fU7F-dQI8/AAAAAAAAAAI/AAAAAAAAGMw/kTaNXtXJ1J4/s50-c-k-no/photo.jpg",
      "userId": "109856363840473722295"
     },
     "user_tz": 240
    },
    "id": "RcdSkEGm8xqB",
    "outputId": "95c17810-3735-4c65-98f6-8e51a5d3a308"
   },
   "outputs": [],
   "source": [
    "CH"
   ]
  },
  {
   "cell_type": "code",
   "execution_count": null,
   "metadata": {
    "colab": {},
    "colab_type": "code",
    "id": "Ix4wGC-D4yYG"
   },
   "outputs": [],
   "source": [
    "import tensorflow as tf"
   ]
  },
  {
   "cell_type": "code",
   "execution_count": null,
   "metadata": {
    "colab": {
     "base_uri": "https://localhost:8080/",
     "height": 68
    },
    "colab_type": "code",
    "executionInfo": {
     "elapsed": 566,
     "status": "ok",
     "timestamp": 1535390901918,
     "user": {
      "displayName": "Djellel Difallah",
      "photoUrl": "//lh5.googleusercontent.com/-t5fU7F-dQI8/AAAAAAAAAAI/AAAAAAAAGMw/kTaNXtXJ1J4/s50-c-k-no/photo.jpg",
      "userId": "109856363840473722295"
     },
     "user_tz": 240
    },
    "id": "Bj1ae8X7a7ia",
    "outputId": "23752a13-5efc-426f-9418-c7f58a2a078a"
   },
   "outputs": [],
   "source": [
    "tf.sequence_mask([1,2, 3], 5).eval()"
   ]
  },
  {
   "cell_type": "code",
   "execution_count": null,
   "metadata": {
    "colab": {},
    "colab_type": "code",
    "id": "ucv0BXr5a9WL"
   },
   "outputs": [],
   "source": []
  }
 ],
 "metadata": {
  "accelerator": "GPU",
  "colab": {
   "collapsed_sections": [],
   "name": "Copy of 8-Likelihood_Tensorflow.ipynb",
   "provenance": [
    {
     "file_id": "https://github.com/ipeirotis/mturk_demographics/blob/master/8_Likelihood_Tensorflow.ipynb",
     "timestamp": 1535297973152
    }
   ],
   "toc_visible": true,
   "version": "0.3.2"
  },
  "kernelspec": {
   "display_name": "Python 3",
   "language": "python",
   "name": "python3"
  },
  "language_info": {
   "codemirror_mode": {
    "name": "ipython",
    "version": 3
   },
   "file_extension": ".py",
   "mimetype": "text/x-python",
   "name": "python",
   "nbconvert_exporter": "python",
   "pygments_lexer": "ipython3",
   "version": "3.6.5"
  }
 },
 "nbformat": 4,
 "nbformat_minor": 1
}
