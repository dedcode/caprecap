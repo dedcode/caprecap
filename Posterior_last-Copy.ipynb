{
 "cells": [
  {
   "cell_type": "code",
   "execution_count": 0,
   "metadata": {
    "colab": {},
    "colab_type": "code",
    "id": "TiaASFkNqTsm"
   },
   "outputs": [],
   "source": [
    "#!pip install tqdm pymc3 theano"
   ]
  },
  {
   "cell_type": "code",
   "execution_count": 1,
   "metadata": {
    "colab": {},
    "colab_type": "code",
    "id": "Sjfvgkwcpbgo"
   },
   "outputs": [
    {
     "name": "stderr",
     "output_type": "stream",
     "text": [
      "/Users/ded/anaconda3/lib/python3.6/site-packages/theano/gpuarray/dnn.py:184: UserWarning: Your cuDNN version is more recent than Theano. If you encounter problems, try updating Theano or downgrading cuDNN to a version >= v5 and <= v7.\n",
      "  warnings.warn(\"Your cuDNN version is more recent than \"\n",
      "Using cuDNN version 7201 on context None\n",
      "Mapped name None to device cuda: GeForce GTX 1080 Ti (0000:86:00.0)\n",
      "/Users/ded/anaconda3/lib/python3.6/site-packages/h5py/__init__.py:36: FutureWarning: Conversion of the second argument of issubdtype from `float` to `np.floating` is deprecated. In future, it will be treated as `np.float64 == np.dtype(float).type`.\n",
      "  from ._conv import register_converters as _register_converters\n"
     ]
    }
   ],
   "source": [
    "%matplotlib inline\n",
    "from tqdm import tqdm\n",
    "import pandas as pd\n",
    "import numpy as np\n",
    "import pymc3 as pm\n",
    "from theano import shared\n",
    "import theano.tensor as tt\n",
    "import theano\n",
    "from pymc3.distributions.transforms import t_stick_breaking"
   ]
  },
  {
   "cell_type": "code",
   "execution_count": 2,
   "metadata": {
    "colab": {},
    "colab_type": "code",
    "id": "fMDxoEYXqTsp"
   },
   "outputs": [],
   "source": [
    "N = 1000 # seen annimals\n",
    "S = 100 # sample periods"
   ]
  },
  {
   "cell_type": "code",
   "execution_count": 3,
   "metadata": {
    "colab": {},
    "colab_type": "code",
    "id": "3INm2CJ2qTst"
   },
   "outputs": [],
   "source": [
    "#arrivals\n",
    "#birth = torch.cat((torch.tensor([.5]), torch.zeros(S-1) + 0.1), 0) \n",
    "birth_init = np.concatenate(([40], np.zeros(S-1)+((100-40)/(S-1))), axis=0)\n",
    "arr = pm.Dirichlet.dist(birth_init).random()\n",
    "birth_init = np.concatenate(([.4], np.ones(S-1) * (1-.4)/(S-1)), axis=0)\n",
    "\n",
    "#departure\n",
    "dep  = np.concatenate((np.ones(S-1) * .2, [1.]), axis=0)\n",
    "\n",
    "# Capture probability\n",
    "prop = pm.Beta.dist(.25, 5).random(size = N)"
   ]
  },
  {
   "cell_type": "code",
   "execution_count": 4,
   "metadata": {
    "colab": {
     "base_uri": "https://localhost:8080/",
     "height": 493
    },
    "colab_type": "code",
    "executionInfo": {
     "elapsed": 163,
     "status": "ok",
     "timestamp": 1537417637405,
     "user": {
      "displayName": "Djellel Difallah",
      "photoUrl": "//lh5.googleusercontent.com/-t5fU7F-dQI8/AAAAAAAAAAI/AAAAAAAAGMw/kTaNXtXJ1J4/s50-c-k-no/photo.jpg",
      "userId": "109856363840473722295"
     },
     "user_tz": 240
    },
    "id": "saT62Ceu_3IF",
    "outputId": "557c03fa-ed8a-44c3-fb85-bcaf0aec7ee3"
   },
   "outputs": [
    {
     "data": {
      "text/plain": [
       "(array([0.4       , 0.00606061, 0.00606061, 0.00606061, 0.00606061,\n",
       "        0.00606061, 0.00606061, 0.00606061, 0.00606061, 0.00606061,\n",
       "        0.00606061, 0.00606061, 0.00606061, 0.00606061, 0.00606061,\n",
       "        0.00606061, 0.00606061, 0.00606061, 0.00606061, 0.00606061,\n",
       "        0.00606061, 0.00606061, 0.00606061, 0.00606061, 0.00606061,\n",
       "        0.00606061, 0.00606061, 0.00606061, 0.00606061, 0.00606061,\n",
       "        0.00606061, 0.00606061, 0.00606061, 0.00606061, 0.00606061,\n",
       "        0.00606061, 0.00606061, 0.00606061, 0.00606061, 0.00606061,\n",
       "        0.00606061, 0.00606061, 0.00606061, 0.00606061, 0.00606061,\n",
       "        0.00606061, 0.00606061, 0.00606061, 0.00606061, 0.00606061,\n",
       "        0.00606061, 0.00606061, 0.00606061, 0.00606061, 0.00606061,\n",
       "        0.00606061, 0.00606061, 0.00606061, 0.00606061, 0.00606061,\n",
       "        0.00606061, 0.00606061, 0.00606061, 0.00606061, 0.00606061,\n",
       "        0.00606061, 0.00606061, 0.00606061, 0.00606061, 0.00606061,\n",
       "        0.00606061, 0.00606061, 0.00606061, 0.00606061, 0.00606061,\n",
       "        0.00606061, 0.00606061, 0.00606061, 0.00606061, 0.00606061,\n",
       "        0.00606061, 0.00606061, 0.00606061, 0.00606061, 0.00606061,\n",
       "        0.00606061, 0.00606061, 0.00606061, 0.00606061, 0.00606061,\n",
       "        0.00606061, 0.00606061, 0.00606061, 0.00606061, 0.00606061,\n",
       "        0.00606061, 0.00606061, 0.00606061, 0.00606061, 0.00606061]),\n",
       " array([0.2, 0.2, 0.2, 0.2, 0.2, 0.2, 0.2, 0.2, 0.2, 0.2, 0.2, 0.2, 0.2,\n",
       "        0.2, 0.2, 0.2, 0.2, 0.2, 0.2, 0.2, 0.2, 0.2, 0.2, 0.2, 0.2, 0.2,\n",
       "        0.2, 0.2, 0.2, 0.2, 0.2, 0.2, 0.2, 0.2, 0.2, 0.2, 0.2, 0.2, 0.2,\n",
       "        0.2, 0.2, 0.2, 0.2, 0.2, 0.2, 0.2, 0.2, 0.2, 0.2, 0.2, 0.2, 0.2,\n",
       "        0.2, 0.2, 0.2, 0.2, 0.2, 0.2, 0.2, 0.2, 0.2, 0.2, 0.2, 0.2, 0.2,\n",
       "        0.2, 0.2, 0.2, 0.2, 0.2, 0.2, 0.2, 0.2, 0.2, 0.2, 0.2, 0.2, 0.2,\n",
       "        0.2, 0.2, 0.2, 0.2, 0.2, 0.2, 0.2, 0.2, 0.2, 0.2, 0.2, 0.2, 0.2,\n",
       "        0.2, 0.2, 0.2, 0.2, 0.2, 0.2, 0.2, 0.2, 1. ]))"
      ]
     },
     "execution_count": 4,
     "metadata": {},
     "output_type": "execute_result"
    }
   ],
   "source": [
    "birth_init, dep"
   ]
  },
  {
   "cell_type": "code",
   "execution_count": 6,
   "metadata": {
    "colab": {
     "base_uri": "https://localhost:8080/",
     "height": 34
    },
    "colab_type": "code",
    "executionInfo": {
     "elapsed": 37381,
     "status": "ok",
     "timestamp": 1537417043372,
     "user": {
      "displayName": "Djellel Difallah",
      "photoUrl": "//lh5.googleusercontent.com/-t5fU7F-dQI8/AAAAAAAAAAI/AAAAAAAAGMw/kTaNXtXJ1J4/s50-c-k-no/photo.jpg",
      "userId": "109856363840473722295"
     },
     "user_tz": 240
    },
    "id": "KbUurE2_qTsu",
    "outputId": "3951a826-8782-4706-e7bb-da274bfcc9ad"
   },
   "outputs": [
    {
     "name": "stderr",
     "output_type": "stream",
     "text": [
      "100%|██████████| 1000/1000 [00:27<00:00, 36.27it/s]\n"
     ]
    }
   ],
   "source": [
    "CH = []\n",
    "GCH = []\n",
    "# Generate the data\n",
    "Arrival_DIST = pm.Categorical.dist(birth_init)\n",
    "\n",
    "for i in tqdm(range(N)):\n",
    "#for i in range(N):\n",
    "    arrival = Arrival_DIST.random()\n",
    "    dep_tmp = dep.copy()\n",
    "    dep_tmp[:arrival] = 0\n",
    "    #print(arrival)\n",
    "    #print(dep_tmp)\n",
    "    dep_tmp = np.append([1],(1-dep_tmp).cumprod())[:-1] * dep_tmp\n",
    "    #print(dep_tmp)\n",
    "    departure = pm.Categorical.dist(dep_tmp).random() \n",
    "    #print(departure)\n",
    "    dur = departure - arrival + 1\n",
    "    capture_history = pm.Bernoulli.dist(prop[i]).random(size=(dur,1))\n",
    "    capture_history = np.concatenate((np.zeros(arrival), \n",
    "                                      np.array(capture_history), \n",
    "                                      np.zeros(S - departure - 1)), \n",
    "                                     axis = 0)\n",
    "    if capture_history.any():\n",
    "        #print(arrival, departure, dur, \"proba:\", prop[i])\n",
    "        #print(capture_history)\n",
    "        first = capture_history.argmax()\n",
    "        last = S - capture_history[::-1].argmax() -1\n",
    "        count = capture_history.sum()\n",
    "        GCH.append([first, last, count])\n",
    "        CH.append(capture_history)"
   ]
  },
  {
   "cell_type": "code",
   "execution_count": 7,
   "metadata": {
    "colab": {},
    "colab_type": "code",
    "id": "pjjNOYB7L1ff"
   },
   "outputs": [],
   "source": [
    "import pickle\n",
    "with open('gch.pkl', 'wb') as f:\n",
    "  pickle.dump(GCH, f)"
   ]
  },
  {
   "cell_type": "code",
   "execution_count": 5,
   "metadata": {
    "colab": {},
    "colab_type": "code",
    "id": "r9gBE6uf1Je0"
   },
   "outputs": [],
   "source": [
    "import pickle\n",
    "with open('gch.pkl', 'rb') as f:\n",
    "  GCH = pickle.load(f)"
   ]
  },
  {
   "cell_type": "code",
   "execution_count": 6,
   "metadata": {
    "colab": {
     "base_uri": "https://localhost:8080/",
     "height": 34
    },
    "colab_type": "code",
    "executionInfo": {
     "elapsed": 169,
     "status": "ok",
     "timestamp": 1537417646232,
     "user": {
      "displayName": "Djellel Difallah",
      "photoUrl": "//lh5.googleusercontent.com/-t5fU7F-dQI8/AAAAAAAAAAI/AAAAAAAAGMw/kTaNXtXJ1J4/s50-c-k-no/photo.jpg",
      "userId": "109856363840473722295"
     },
     "user_tz": 240
    },
    "id": "e4QLUWHdqTsx",
    "outputId": "d8fd2d6a-e2a3-490a-a877-c1d59f86e854"
   },
   "outputs": [
    {
     "data": {
      "text/plain": [
       "(133, int)"
      ]
     },
     "execution_count": 6,
     "metadata": {},
     "output_type": "execute_result"
    }
   ],
   "source": [
    "npdata = np.array(GCH, dtype = int)\n",
    "V = len(GCH)\n",
    "V, type(V)"
   ]
  },
  {
   "cell_type": "code",
   "execution_count": 7,
   "metadata": {
    "colab": {},
    "colab_type": "code",
    "id": "3FdWYAnbqTsy"
   },
   "outputs": [],
   "source": [
    "def get_vmask():\n",
    "    v_mask = np.zeros([S,S,S])\n",
    "    for s in np.arange(S):\n",
    "        for q in np.arange(s,S):\n",
    "            c1 = np.zeros(s)\n",
    "            c2 = np.ones(q-s)\n",
    "            c3 = np.zeros(S-q)\n",
    "            v_mask[s,q]= np.concatenate((c1, c2, c3))\n",
    "    return tt.constant(v_mask)"
   ]
  },
  {
   "cell_type": "code",
   "execution_count": 8,
   "metadata": {
    "colab": {},
    "colab_type": "code",
    "id": "Hy3gIbwRqTs0"
   },
   "outputs": [],
   "source": [
    "def get_imask():\n",
    "    s_mask = np.zeros([V,S])\n",
    "    q_mask = np.zeros([V,S])\n",
    "    for w in np.arange(V):\n",
    "        f, l = npdata[w, 0] , npdata[w, 1]\n",
    "        s_mask[w] = np.concatenate((np.ones(f+1), np.zeros(S - f -1)))\n",
    "        q_mask[w] = np.concatenate((np.zeros(l), np.ones(S-l)))\n",
    "    i_mask = np.einsum(\"is,iq->isq\", s_mask, q_mask)\n",
    "    return tt.constant(i_mask)"
   ]
  },
  {
   "cell_type": "code",
   "execution_count": 9,
   "metadata": {
    "colab": {},
    "colab_type": "code",
    "id": "FoNaVSVwqTs3"
   },
   "outputs": [],
   "source": [
    "def get_Risq(a,b):\n",
    "    tmp_u = npdata[:, 2]\n",
    "    expanded_u = tmp_u[:, np.newaxis, np.newaxis] *  np.ones((V, S, S)) # V x S x S\n",
    "    d = np.broadcast_to(np.triu(np.ones([S,S]), 0).cumsum(axis =1), (V, S, S)) # V x S x S\n",
    "    n = tt.constant(np.clip(d,a_min=0,a_max=S+1))\n",
    "    n_u = np.triu(d - expanded_u, 0)\n",
    "    n_u = tt.constant(np.clip(n_u,a_min=0,a_max=max(tmp_u))) # V x S x S\n",
    "   \n",
    "    \n",
    "    # The beta binomial\n",
    "    R_isq =   tt.gammaln(n+1)\n",
    "    R_isq -=  tt.gammaln(expanded_u+1)\n",
    "    R_isq -=  tt.gammaln(n_u+1)   \n",
    "    R_isq +=  tt.gammaln(expanded_u+a)\n",
    "    R_isq +=  tt.gammaln(n_u+b)\n",
    "    R_isq -=  tt.gammaln(n+a+b)\n",
    "    R_isq +=  tt.gammaln(a+b) - tt.gammaln(a) - tt.gammaln(b)\n",
    "\n",
    "    # The above is the computation of the log, so we take the exponent\n",
    "    return tt.exp(R_isq)"
   ]
  },
  {
   "cell_type": "code",
   "execution_count": 10,
   "metadata": {
    "colab": {},
    "colab_type": "code",
    "id": "6kPTSl-BqTs5"
   },
   "outputs": [],
   "source": [
    "def get_Risq0(a,b):\n",
    "    # n = q - s + 1\n",
    "    n = tt.constant(np.triu(np.ones([S,S]), 0).cumsum(axis =1))\n",
    "    R0_sq = tt.gammaln(n + b) - tt.gammaln(n + a + b) + tt.gammaln(a + b) - tt.gammaln(b)\n",
    "    return tt.exp(R0_sq)"
   ]
  },
  {
   "cell_type": "code",
   "execution_count": 11,
   "metadata": {
    "colab": {},
    "colab_type": "code",
    "id": "2yXnG7rkqTs6"
   },
   "outputs": [],
   "source": [
    "def logp_capture(arr, phi, a, b, U, phi_mask, i_mask, R_isq, R0_sq):\n",
    "    def ll_capture_f(mycaptures):\n",
    "        # Build masks\n",
    "        #phi_mask = get_vmask()  # S x S x S . all possible arrivals and departures for the \"SURVIVAL\"\n",
    "        #i_mask   = get_imask()  # KxK   . matrix with real possible arrival and departures\n",
    "        #R_isq = get_Risq(a, b) #\n",
    "        #R0_sq = get_Risq0(a, b) #\n",
    "        \n",
    "        # Computation\n",
    "        phi_v = tt.pow(1-phi, phi_mask)\n",
    "        phi_v = tt.prod(phi_v, axis=2)\n",
    "        #LD    = tt.einsum('s,sq,q->sq', A, phi_v, phi)\n",
    "        LD = arr[:, np.newaxis] * phi_v * phi\n",
    "        #LD_isq = tf.einsum('sq,isq->isq', LD, i_mask)\n",
    "        #i_mask   = get_imask()  # KxK   . matrix with real possible arrival and departures\n",
    "        LD_isq = tt.mul(LD, i_mask) #\n",
    "        \n",
    "        #R_isq = get_Risq(a, b) #\n",
    "        \n",
    "        Li = tt.batched_tensordot(LD_isq, R_isq, axes = 2) #\n",
    "        \n",
    "        # Likelihood of Not Capture\n",
    "        v0_mask = 1 - phi_mask[0] # tihs is reuse\n",
    "        LD0 = tt.mul(LD, v0_mask) #\n",
    "        \n",
    "        #R0_sq = get_Risq0(a,b) #\n",
    "        \n",
    "        L0 = tt.sum(LD0 * R0_sq) #\n",
    "        \n",
    "        # Putting it together\n",
    "        obj1 = tt.gammaln(tt.constant(V)+U+1.0) - tt.gammaln(U+1.0) - tt.gammaln(tt.constant(V)+ 1.0) #\n",
    "        obj2 = tt.sum(tt.log(Li)) #\n",
    "        obj3 = U * tt.log(L0) #\n",
    "\n",
    "        objective = obj1 + obj2 + obj3 \n",
    "        \n",
    "        return objective\n",
    "    \n",
    "    return ll_capture_f"
   ]
  },
  {
   "cell_type": "code",
   "execution_count": 13,
   "metadata": {
    "colab": {
     "base_uri": "https://localhost:8080/",
     "height": 442
    },
    "colab_type": "code",
    "executionInfo": {
     "elapsed": 55900,
     "status": "ok",
     "timestamp": 1537417704915,
     "user": {
      "displayName": "Djellel Difallah",
      "photoUrl": "//lh5.googleusercontent.com/-t5fU7F-dQI8/AAAAAAAAAAI/AAAAAAAAGMw/kTaNXtXJ1J4/s50-c-k-no/photo.jpg",
      "userId": "109856363840473722295"
     },
     "user_tz": 240
    },
    "id": "sU35Hw7N_3Ig",
    "outputId": "620499eb-8261-47cd-c13c-401fa492afd1"
   },
   "outputs": [
    {
     "name": "stdout",
     "output_type": "stream",
     "text": [
      "1500 : -644.4279869764341\n",
      "1600 : -638.789335608481\n",
      "1700 : -633.7170904905278\n",
      "1800 : -629.1477750600747\n",
      "1900 : -625.0296315046215\n",
      "2000 : -621.3177379491684\n",
      "2100 : -617.9759615812153\n",
      "2200 : -614.9681695882622\n",
      "2300 : -612.2670182203091\n",
      "2400 : -609.847116852356\n",
      "2500 : -607.6860045469028\n",
      "2600 : -605.7661031789497\n",
      "2700 : -604.0669049359966\n",
      "2800 : -602.5727848180435\n",
      "2900 : -601.2720240750904\n",
      "3000 : -600.1509508321373\n",
      "3100 : -599.1939400891841\n",
      "3200 : -598.397085596231\n",
      "3300 : -597.7486686032779\n",
      "3400 : -597.2389234853248\n",
      "3500 : -596.8600377423717\n",
      "3600 : -596.6081051244186\n",
      "3700 : -596.4694537564654\n",
      "3800 : -596.4440836385123\n",
      "3900 : -596.5241822705592\n"
     ]
    }
   ],
   "source": [
    "for UU in range(1500, 4000, 100):\n",
    "    print(UU, \":\", logp_capture(birth_init, dep, .04, 2.6, UU)(npdata).eval())"
   ]
  },
  {
   "cell_type": "code",
   "execution_count": 12,
   "metadata": {
    "colab": {},
    "colab_type": "code",
    "id": "pATM9j8cqTs8"
   },
   "outputs": [],
   "source": [
    "# custom log-liklihood\n",
    "# model\n",
    "with pm.Model() as model:\n",
    "    # Hyper Params\n",
    "    U = pm.DiscreteUniform('Unseen', lower=V, upper=5000)\n",
    "    a = pm.Uniform('alpha', 0., 1.)\n",
    "    b  = pm.Uniform('beta', 2, 10)\n",
    "    #alpha1 = pm.Uniform('alphaphi', 0, 100)\n",
    "    #beta1  = pm.Uniform('betaphi',  0, 100)\n",
    "    # Capture, Departure, Arrival probability\n",
    "    # prop   = pm.Beta('propensity', alpha=alpha0, beta=beta0, shape=(V))\n",
    "    #phi    = pm.Beta('survival',   alpha=alpha1, beta=beta1, shape=S)\n",
    "    phi    = pm.Uniform('departure', 0., 1., shape=S)\n",
    "    arr    = pm.Dirichlet('arrival', a=np.array([1./S]*S), shape=S)\n",
    "    # Masks\n",
    "    phi_mask = get_vmask()  # S x S x S . all possible arrivals and departures for the \"SURVIVAL\"\n",
    "    i_mask   = get_imask()  # KxK   . matrix with real possible arrival and departures\n",
    "    R_isq = get_Risq(a, b) #\n",
    "    R0_sq = get_Risq0(a, b) #\n",
    "    ob = pm.DensityDist('x', logp_capture(arr, phi, a, b, U, phi_mask, i_mask, R_isq, R0_sq), observed=npdata)\n",
    "    #MAP = pm.find_MAP()"
   ]
  },
  {
   "cell_type": "code",
   "execution_count": null,
   "metadata": {
    "colab": {
     "base_uri": "https://localhost:8080/",
     "height": 102
    },
    "colab_type": "code",
    "id": "Ands2YCRqTs9",
    "outputId": "450d1a59-20e5-479a-852e-b4dd19fe3944"
   },
   "outputs": [
    {
     "name": "stderr",
     "output_type": "stream",
     "text": [
      "Sequential sampling (2 chains in 1 job)\n",
      "CompoundStep\n",
      ">Metropolis: [Unseen]\n",
      ">NUTS: [arrival, departure, beta, alpha]\n",
      "100%|██████████| 1500/1500 [1:31:37<00:00,  3.67s/it]\n",
      " 69%|██████▉   | 1037/1500 [1:00:15<26:54,  3.49s/it]"
     ]
    }
   ],
   "source": [
    "with model:\n",
    "  #posterior = pm.sample(3, tune=0, chains=1, progressbar=False)\n",
    "  #step = pm.NUTS()\n",
    "  #posterior = pm.sample(100000, step=step, njobs = 4)\n",
    "  posterior = pm.sample(1000, cores = 1)"
   ]
  },
  {
   "cell_type": "code",
   "execution_count": 0,
   "metadata": {
    "colab": {},
    "colab_type": "code",
    "id": "xC8gYUyxFa-Z"
   },
   "outputs": [],
   "source": [
    "#pm.find_MAP(model = model)"
   ]
  },
  {
   "cell_type": "code",
   "execution_count": 0,
   "metadata": {
    "colab": {},
    "colab_type": "code",
    "id": "3gDRwFnLyM-a"
   },
   "outputs": [],
   "source": [
    "#test = [ob.logp(i) for i in posterior]\n"
   ]
  },
  {
   "cell_type": "code",
   "execution_count": 0,
   "metadata": {
    "colab": {},
    "colab_type": "code",
    "id": "bYVKc724Czox"
   },
   "outputs": [],
   "source": [
    "#counter = 0\n",
    "#for i in posterior:\n",
    "#  counter += 1\n",
    "#  if counter % 500 == 0:\n",
    "#    print(ob.logp(i))"
   ]
  },
  {
   "cell_type": "code",
   "execution_count": 0,
   "metadata": {
    "colab": {
     "base_uri": "https://localhost:8080/",
     "height": 248
    },
    "colab_type": "code",
    "id": "VqwQlHMuoCxd",
    "outputId": "d31f05b8-723a-4f38-9c02-9b89baec9709"
   },
   "outputs": [
    {
     "data": {
      "image/png": "[encoded data removed]",
      "text/plain": [
       "<Figure size 432x288 with 1 Axes>"
      ]
     },
     "metadata": {
      "tags": []
     },
     "output_type": "display_data"
    }
   ],
   "source": [
    "pm.energyplot(posterior);"
   ]
  },
  {
   "cell_type": "code",
   "execution_count": 0,
   "metadata": {
    "colab": {},
    "colab_type": "code",
    "id": "j8mufD3dq4LX"
   },
   "outputs": [],
   "source": [
    "#pm.plot_posterior(posterior, lw=0, alpha=0.5);\n"
   ]
  },
  {
   "cell_type": "code",
   "execution_count": 17,
   "metadata": {
    "colab": {
     "base_uri": "https://localhost:8080/",
     "height": 1358
    },
    "colab_type": "code",
    "executionInfo": {
     "elapsed": 1507,
     "status": "error",
     "timestamp": 1537418913125,
     "user": {
      "displayName": "Djellel Difallah",
      "photoUrl": "//lh5.googleusercontent.com/-t5fU7F-dQI8/AAAAAAAAAAI/AAAAAAAAGMw/kTaNXtXJ1J4/s50-c-k-no/photo.jpg",
      "userId": "109856363840473722295"
     },
     "user_tz": 240
    },
    "id": "Fgt-4TxQqTtB",
    "outputId": "50c2838c-7b20-4301-faf3-9f1ce1e14265"
   },
   "outputs": [
    {
     "ename": "ValueError",
     "evalue": "ignored",
     "output_type": "error",
     "traceback": [
      "\u001b[0;31m---------------------------------------------------------------------------\u001b[0m",
      "\u001b[0;31mValueError\u001b[0m                                Traceback (most recent call last)",
      "\u001b[0;32m<ipython-input-17-5e8ee135ae78>\u001b[0m in \u001b[0;36m<module>\u001b[0;34m()\u001b[0m\n\u001b[0;32m----> 1\u001b[0;31m \u001b[0mpm\u001b[0m\u001b[0;34m.\u001b[0m\u001b[0mtraceplot\u001b[0m\u001b[0;34m(\u001b[0m\u001b[0mposterior\u001b[0m\u001b[0;34m)\u001b[0m\u001b[0;34m;\u001b[0m\u001b[0;34m\u001b[0m\u001b[0m\n\u001b[0m",
      "\u001b[0;32m/usr/local/lib/python3.6/dist-packages/pymc3/plots/traceplot.py\u001b[0m in \u001b[0;36mtraceplot\u001b[0;34m(trace, varnames, transform, figsize, lines, combined, plot_transformed, grid, alpha, priors, prior_alpha, prior_style, bw, ax, live_plot, skip_first, refresh_every, roll_over)\u001b[0m\n\u001b[1;32m    109\u001b[0m             \u001b[0mwidth\u001b[0m \u001b[0;34m=\u001b[0m \u001b[0mlen\u001b[0m\u001b[0;34m(\u001b[0m\u001b[0md_stream\u001b[0m\u001b[0;34m)\u001b[0m\u001b[0;34m\u001b[0m\u001b[0m\n\u001b[1;32m    110\u001b[0m             \u001b[0;32mif\u001b[0m \u001b[0md\u001b[0m\u001b[0;34m.\u001b[0m\u001b[0mdtype\u001b[0m\u001b[0;34m.\u001b[0m\u001b[0mkind\u001b[0m \u001b[0;34m==\u001b[0m \u001b[0;34m'i'\u001b[0m\u001b[0;34m:\u001b[0m\u001b[0;34m\u001b[0m\u001b[0m\n\u001b[0;32m--> 111\u001b[0;31m                 \u001b[0mhist_objs\u001b[0m \u001b[0;34m=\u001b[0m \u001b[0mhistplot_op\u001b[0m\u001b[0;34m(\u001b[0m\u001b[0max\u001b[0m\u001b[0;34m[\u001b[0m\u001b[0mi\u001b[0m\u001b[0;34m,\u001b[0m \u001b[0;36m0\u001b[0m\u001b[0;34m]\u001b[0m\u001b[0;34m,\u001b[0m \u001b[0md\u001b[0m\u001b[0;34m,\u001b[0m \u001b[0malpha\u001b[0m\u001b[0;34m=\u001b[0m\u001b[0malpha\u001b[0m\u001b[0;34m)\u001b[0m\u001b[0;34m\u001b[0m\u001b[0m\n\u001b[0m\u001b[1;32m    112\u001b[0m                 \u001b[0mcolors\u001b[0m \u001b[0;34m=\u001b[0m \u001b[0;34m[\u001b[0m\u001b[0mh\u001b[0m\u001b[0;34m[\u001b[0m\u001b[0;34m-\u001b[0m\u001b[0;36m1\u001b[0m\u001b[0;34m]\u001b[0m\u001b[0;34m[\u001b[0m\u001b[0;36m0\u001b[0m\u001b[0;34m]\u001b[0m\u001b[0;34m.\u001b[0m\u001b[0mget_facecolor\u001b[0m\u001b[0;34m(\u001b[0m\u001b[0;34m)\u001b[0m \u001b[0;32mfor\u001b[0m \u001b[0mh\u001b[0m \u001b[0;32min\u001b[0m \u001b[0mhist_objs\u001b[0m\u001b[0;34m]\u001b[0m\u001b[0;34m\u001b[0m\u001b[0m\n\u001b[1;32m    113\u001b[0m             \u001b[0;32melse\u001b[0m\u001b[0;34m:\u001b[0m\u001b[0;34m\u001b[0m\u001b[0m\n",
      "\u001b[0;32m/usr/local/lib/python3.6/dist-packages/pymc3/plots/artists.py\u001b[0m in \u001b[0;36mhistplot_op\u001b[0;34m(ax, data, alpha)\u001b[0m\n\u001b[1;32m     19\u001b[0m     \u001b[0;32mfor\u001b[0m \u001b[0mcolumn\u001b[0m \u001b[0;32min\u001b[0m \u001b[0mdata\u001b[0m\u001b[0;34m.\u001b[0m\u001b[0mT\u001b[0m\u001b[0;34m:\u001b[0m\u001b[0;34m\u001b[0m\u001b[0m\n\u001b[1;32m     20\u001b[0m         hs.append(ax.hist(column, bins=_histplot_bins(\n\u001b[0;32m---> 21\u001b[0;31m                   column), alpha=alpha, align='left'))\n\u001b[0m\u001b[1;32m     22\u001b[0m     \u001b[0max\u001b[0m\u001b[0;34m.\u001b[0m\u001b[0mset_xlim\u001b[0m\u001b[0;34m(\u001b[0m\u001b[0mnp\u001b[0m\u001b[0;34m.\u001b[0m\u001b[0mmin\u001b[0m\u001b[0;34m(\u001b[0m\u001b[0mdata\u001b[0m\u001b[0;34m)\u001b[0m \u001b[0;34m-\u001b[0m \u001b[0;36m0.5\u001b[0m\u001b[0;34m,\u001b[0m \u001b[0mnp\u001b[0m\u001b[0;34m.\u001b[0m\u001b[0mmax\u001b[0m\u001b[0;34m(\u001b[0m\u001b[0mdata\u001b[0m\u001b[0;34m)\u001b[0m \u001b[0;34m+\u001b[0m \u001b[0;36m0.5\u001b[0m\u001b[0;34m)\u001b[0m\u001b[0;34m\u001b[0m\u001b[0m\n\u001b[1;32m     23\u001b[0m     \u001b[0;32mreturn\u001b[0m \u001b[0mhs\u001b[0m\u001b[0;34m\u001b[0m\u001b[0m\n",
      "\u001b[0;32m/usr/local/lib/python3.6/dist-packages/pymc3/plots/artists.py\u001b[0m in \u001b[0;36m_histplot_bins\u001b[0;34m(column, bins)\u001b[0m\n\u001b[1;32m      9\u001b[0m \u001b[0;32mdef\u001b[0m \u001b[0m_histplot_bins\u001b[0m\u001b[0;34m(\u001b[0m\u001b[0mcolumn\u001b[0m\u001b[0;34m,\u001b[0m \u001b[0mbins\u001b[0m\u001b[0;34m=\u001b[0m\u001b[0;36m100\u001b[0m\u001b[0;34m)\u001b[0m\u001b[0;34m:\u001b[0m\u001b[0;34m\u001b[0m\u001b[0m\n\u001b[1;32m     10\u001b[0m     \u001b[0;34m\"\"\"Helper to get bins for histplot.\"\"\"\u001b[0m\u001b[0;34m\u001b[0m\u001b[0m\n\u001b[0;32m---> 11\u001b[0;31m     \u001b[0mcol_min\u001b[0m \u001b[0;34m=\u001b[0m \u001b[0mnp\u001b[0m\u001b[0;34m.\u001b[0m\u001b[0mmin\u001b[0m\u001b[0;34m(\u001b[0m\u001b[0mcolumn\u001b[0m\u001b[0;34m)\u001b[0m\u001b[0;34m\u001b[0m\u001b[0m\n\u001b[0m\u001b[1;32m     12\u001b[0m     \u001b[0mcol_max\u001b[0m \u001b[0;34m=\u001b[0m \u001b[0mnp\u001b[0m\u001b[0;34m.\u001b[0m\u001b[0mmax\u001b[0m\u001b[0;34m(\u001b[0m\u001b[0mcolumn\u001b[0m\u001b[0;34m)\u001b[0m\u001b[0;34m\u001b[0m\u001b[0m\n\u001b[1;32m     13\u001b[0m     \u001b[0;32mreturn\u001b[0m \u001b[0mrange\u001b[0m\u001b[0;34m(\u001b[0m\u001b[0mcol_min\u001b[0m\u001b[0;34m,\u001b[0m \u001b[0mcol_max\u001b[0m \u001b[0;34m+\u001b[0m \u001b[0;36m2\u001b[0m\u001b[0;34m,\u001b[0m \u001b[0mmax\u001b[0m\u001b[0;34m(\u001b[0m\u001b[0;34m(\u001b[0m\u001b[0mcol_max\u001b[0m \u001b[0;34m-\u001b[0m \u001b[0mcol_min\u001b[0m\u001b[0;34m)\u001b[0m \u001b[0;34m//\u001b[0m \u001b[0mbins\u001b[0m\u001b[0;34m,\u001b[0m \u001b[0;36m1\u001b[0m\u001b[0;34m)\u001b[0m\u001b[0;34m)\u001b[0m\u001b[0;34m\u001b[0m\u001b[0m\n",
      "\u001b[0;32m/usr/local/lib/python3.6/dist-packages/numpy/core/fromnumeric.py\u001b[0m in \u001b[0;36mamin\u001b[0;34m(a, axis, out, keepdims)\u001b[0m\n\u001b[1;32m   2418\u001b[0m \u001b[0;34m\u001b[0m\u001b[0m\n\u001b[1;32m   2419\u001b[0m     return _methods._amin(a, axis=axis,\n\u001b[0;32m-> 2420\u001b[0;31m                           out=out, **kwargs)\n\u001b[0m\u001b[1;32m   2421\u001b[0m \u001b[0;34m\u001b[0m\u001b[0m\n\u001b[1;32m   2422\u001b[0m \u001b[0;34m\u001b[0m\u001b[0m\n",
      "\u001b[0;32m/usr/local/lib/python3.6/dist-packages/numpy/core/_methods.py\u001b[0m in \u001b[0;36m_amin\u001b[0;34m(a, axis, out, keepdims)\u001b[0m\n\u001b[1;32m     27\u001b[0m \u001b[0;34m\u001b[0m\u001b[0m\n\u001b[1;32m     28\u001b[0m \u001b[0;32mdef\u001b[0m \u001b[0m_amin\u001b[0m\u001b[0;34m(\u001b[0m\u001b[0ma\u001b[0m\u001b[0;34m,\u001b[0m \u001b[0maxis\u001b[0m\u001b[0;34m=\u001b[0m\u001b[0;32mNone\u001b[0m\u001b[0;34m,\u001b[0m \u001b[0mout\u001b[0m\u001b[0;34m=\u001b[0m\u001b[0;32mNone\u001b[0m\u001b[0;34m,\u001b[0m \u001b[0mkeepdims\u001b[0m\u001b[0;34m=\u001b[0m\u001b[0;32mFalse\u001b[0m\u001b[0;34m)\u001b[0m\u001b[0;34m:\u001b[0m\u001b[0;34m\u001b[0m\u001b[0m\n\u001b[0;32m---> 29\u001b[0;31m     \u001b[0;32mreturn\u001b[0m \u001b[0mumr_minimum\u001b[0m\u001b[0;34m(\u001b[0m\u001b[0ma\u001b[0m\u001b[0;34m,\u001b[0m \u001b[0maxis\u001b[0m\u001b[0;34m,\u001b[0m \u001b[0;32mNone\u001b[0m\u001b[0;34m,\u001b[0m \u001b[0mout\u001b[0m\u001b[0;34m,\u001b[0m \u001b[0mkeepdims\u001b[0m\u001b[0;34m)\u001b[0m\u001b[0;34m\u001b[0m\u001b[0m\n\u001b[0m\u001b[1;32m     30\u001b[0m \u001b[0;34m\u001b[0m\u001b[0m\n\u001b[1;32m     31\u001b[0m \u001b[0;32mdef\u001b[0m \u001b[0m_sum\u001b[0m\u001b[0;34m(\u001b[0m\u001b[0ma\u001b[0m\u001b[0;34m,\u001b[0m \u001b[0maxis\u001b[0m\u001b[0;34m=\u001b[0m\u001b[0;32mNone\u001b[0m\u001b[0;34m,\u001b[0m \u001b[0mdtype\u001b[0m\u001b[0;34m=\u001b[0m\u001b[0;32mNone\u001b[0m\u001b[0;34m,\u001b[0m \u001b[0mout\u001b[0m\u001b[0;34m=\u001b[0m\u001b[0;32mNone\u001b[0m\u001b[0;34m,\u001b[0m \u001b[0mkeepdims\u001b[0m\u001b[0;34m=\u001b[0m\u001b[0;32mFalse\u001b[0m\u001b[0;34m)\u001b[0m\u001b[0;34m:\u001b[0m\u001b[0;34m\u001b[0m\u001b[0m\n",
      "\u001b[0;31mValueError\u001b[0m: zero-size array to reduction operation minimum which has no identity"
     ]
    },
    {
     "data": {
      "image/png": "[encoded data removed]",
      "text/plain": [
       "<matplotlib.figure.Figure at 0x7f89bcdf6240>"
      ]
     },
     "metadata": {
      "tags": []
     },
     "output_type": "display_data"
    }
   ],
   "source": [
    "pm.traceplot(posterior);"
   ]
  },
  {
   "cell_type": "code",
   "execution_count": 18,
   "metadata": {
    "colab": {
     "base_uri": "https://localhost:8080/",
     "height": 303
    },
    "colab_type": "code",
    "executionInfo": {
     "elapsed": 162,
     "status": "error",
     "timestamp": 1537418916554,
     "user": {
      "displayName": "Djellel Difallah",
      "photoUrl": "//lh5.googleusercontent.com/-t5fU7F-dQI8/AAAAAAAAAAI/AAAAAAAAGMw/kTaNXtXJ1J4/s50-c-k-no/photo.jpg",
      "userId": "109856363840473722295"
     },
     "user_tz": 240
    },
    "id": "EUY8a4Qu0cJq",
    "outputId": "bfcbf371-c091-4a7f-a188-5ad3850e9bc1"
   },
   "outputs": [
    {
     "ename": "ValueError",
     "evalue": "ignored",
     "output_type": "error",
     "traceback": [
      "\u001b[0;31m---------------------------------------------------------------------------\u001b[0m",
      "\u001b[0;31mValueError\u001b[0m                                Traceback (most recent call last)",
      "\u001b[0;32m<ipython-input-18-9c224a71cbb8>\u001b[0m in \u001b[0;36m<module>\u001b[0;34m()\u001b[0m\n\u001b[0;32m----> 1\u001b[0;31m \u001b[0mpm\u001b[0m\u001b[0;34m.\u001b[0m\u001b[0msummary\u001b[0m\u001b[0;34m(\u001b[0m\u001b[0mposterior\u001b[0m\u001b[0;34m)\u001b[0m\u001b[0;34m.\u001b[0m\u001b[0mround\u001b[0m\u001b[0;34m(\u001b[0m\u001b[0;36m2\u001b[0m\u001b[0;34m)\u001b[0m\u001b[0;34m\u001b[0m\u001b[0m\n\u001b[0m",
      "\u001b[0;32m/usr/local/lib/python3.6/dist-packages/pymc3/stats.py\u001b[0m in \u001b[0;36msummary\u001b[0;34m(trace, varnames, transform, stat_funcs, extend, include_transformed, alpha, start, batches)\u001b[0m\n\u001b[1;32m    952\u001b[0m     \u001b[0;32mfor\u001b[0m \u001b[0mvar\u001b[0m \u001b[0;32min\u001b[0m \u001b[0mvarnames\u001b[0m\u001b[0;34m:\u001b[0m\u001b[0;34m\u001b[0m\u001b[0m\n\u001b[1;32m    953\u001b[0m         \u001b[0mvals\u001b[0m \u001b[0;34m=\u001b[0m \u001b[0mtransform\u001b[0m\u001b[0;34m(\u001b[0m\u001b[0mtrace\u001b[0m\u001b[0;34m.\u001b[0m\u001b[0mget_values\u001b[0m\u001b[0;34m(\u001b[0m\u001b[0mvar\u001b[0m\u001b[0;34m,\u001b[0m \u001b[0mburn\u001b[0m\u001b[0;34m=\u001b[0m\u001b[0mstart\u001b[0m\u001b[0;34m,\u001b[0m \u001b[0mcombine\u001b[0m\u001b[0;34m=\u001b[0m\u001b[0;32mTrue\u001b[0m\u001b[0;34m)\u001b[0m\u001b[0;34m)\u001b[0m\u001b[0;34m\u001b[0m\u001b[0m\n\u001b[0;32m--> 954\u001b[0;31m         \u001b[0mflat_vals\u001b[0m \u001b[0;34m=\u001b[0m \u001b[0mvals\u001b[0m\u001b[0;34m.\u001b[0m\u001b[0mreshape\u001b[0m\u001b[0;34m(\u001b[0m\u001b[0mvals\u001b[0m\u001b[0;34m.\u001b[0m\u001b[0mshape\u001b[0m\u001b[0;34m[\u001b[0m\u001b[0;36m0\u001b[0m\u001b[0;34m]\u001b[0m\u001b[0;34m,\u001b[0m \u001b[0;34m-\u001b[0m\u001b[0;36m1\u001b[0m\u001b[0;34m)\u001b[0m\u001b[0;34m\u001b[0m\u001b[0m\n\u001b[0m\u001b[1;32m    955\u001b[0m         \u001b[0mvar_df\u001b[0m \u001b[0;34m=\u001b[0m \u001b[0mpd\u001b[0m\u001b[0;34m.\u001b[0m\u001b[0mconcat\u001b[0m\u001b[0;34m(\u001b[0m\u001b[0;34m[\u001b[0m\u001b[0mf\u001b[0m\u001b[0;34m(\u001b[0m\u001b[0mflat_vals\u001b[0m\u001b[0;34m)\u001b[0m \u001b[0;32mfor\u001b[0m \u001b[0mf\u001b[0m \u001b[0;32min\u001b[0m \u001b[0mfuncs\u001b[0m\u001b[0;34m]\u001b[0m\u001b[0;34m,\u001b[0m \u001b[0maxis\u001b[0m\u001b[0;34m=\u001b[0m\u001b[0;36m1\u001b[0m\u001b[0;34m)\u001b[0m\u001b[0;34m\u001b[0m\u001b[0m\n\u001b[1;32m    956\u001b[0m         \u001b[0mvar_df\u001b[0m\u001b[0;34m.\u001b[0m\u001b[0mindex\u001b[0m \u001b[0;34m=\u001b[0m \u001b[0mttab\u001b[0m\u001b[0;34m.\u001b[0m\u001b[0mcreate_flat_names\u001b[0m\u001b[0;34m(\u001b[0m\u001b[0mvar\u001b[0m\u001b[0;34m,\u001b[0m \u001b[0mvals\u001b[0m\u001b[0;34m.\u001b[0m\u001b[0mshape\u001b[0m\u001b[0;34m[\u001b[0m\u001b[0;36m1\u001b[0m\u001b[0;34m:\u001b[0m\u001b[0;34m]\u001b[0m\u001b[0;34m)\u001b[0m\u001b[0;34m\u001b[0m\u001b[0m\n",
      "\u001b[0;31mValueError\u001b[0m: cannot reshape array of size 0 into shape (0,newaxis)"
     ]
    }
   ],
   "source": [
    "pm.summary(posterior).round(2)"
   ]
  },
  {
   "cell_type": "code",
   "execution_count": 0,
   "metadata": {
    "colab": {
     "base_uri": "https://localhost:8080/",
     "height": 187
    },
    "colab_type": "code",
    "id": "MNksu_cS2obf",
    "outputId": "30ffe434-bdc4-46bb-a8ce-9557c45cce3b"
   },
   "outputs": [
    {
     "name": "stdout",
     "output_type": "stream",
     "text": [
      "-405.28831039124634\n",
      "-406.12692569050705\n",
      "-403.7145354717504\n",
      "-405.53096528106835\n",
      "-409.06818119547097\n",
      "-407.19463991431985\n",
      "-405.2279709104041\n",
      "-407.1482822879334\n",
      "-406.5397125444142\n",
      "-404.45332830562256\n"
     ]
    }
   ],
   "source": [
    "counter = 0\n",
    "for i in posterior:\n",
    "  counter += 1\n",
    "  if counter % 500 == 0:\n",
    "    print(ob.logp(i))"
   ]
  },
  {
   "cell_type": "code",
   "execution_count": 0,
   "metadata": {
    "colab": {
     "base_uri": "https://localhost:8080/",
     "height": 34
    },
    "colab_type": "code",
    "id": "nCy2gQ2Vz8Td",
    "outputId": "17d5ea6f-e98b-4ae5-c971-168ad49c7619"
   },
   "outputs": [
    {
     "data": {
      "text/plain": [
       "array([0.1, 0.1, 0.1, 0.1, 0.1, 0.1, 0.1, 0.1, 0.1, 0.1])"
      ]
     },
     "execution_count": 72,
     "metadata": {
      "tags": []
     },
     "output_type": "execute_result"
    }
   ],
   "source": [
    "np.array([1./S]*S)"
   ]
  },
  {
   "cell_type": "code",
   "execution_count": 0,
   "metadata": {
    "colab": {},
    "colab_type": "code",
    "id": "6ehQOy5U1BZr",
    "outputId": "a2dad239-8158-4b91-cb06-f2a93c828713"
   },
   "outputs": [
    {
     "data": {
      "text/plain": [
       "array([0.4       , 0.06666667, 0.06666667, 0.06666667, 0.06666667,\n",
       "       0.06666667, 0.06666667, 0.06666667, 0.06666667, 0.06666667])"
      ]
     },
     "execution_count": 40,
     "metadata": {
      "tags": []
     },
     "output_type": "execute_result"
    }
   ],
   "source": [
    "birth_init"
   ]
  },
  {
   "cell_type": "code",
   "execution_count": 0,
   "metadata": {
    "colab": {},
    "colab_type": "code",
    "id": "UwYAdjDC_3JE",
    "outputId": "07726d4e-9fe1-4be0-d1c4-eec7088c26a3"
   },
   "outputs": [
    {
     "data": {
      "text/latex": [
       "$arrival \\sim \\text{Dirichlet}(\\mathit{a}=array)$"
      ],
      "text/plain": [
       "arrival"
      ]
     },
     "execution_count": 41,
     "metadata": {
      "tags": []
     },
     "output_type": "execute_result"
    }
   ],
   "source": [
    "arr"
   ]
  },
  {
   "cell_type": "code",
   "execution_count": 0,
   "metadata": {
    "colab": {},
    "colab_type": "code",
    "id": "1zrEpj7e_3JG",
    "outputId": "67001f90-cd63-433f-a8cb-aa254c50cec7"
   },
   "outputs": [
    {
     "data": {
      "text/plain": [
       "array([0.06666667, 0.06666667, 0.06666667, 0.06666667, 0.06666667,\n",
       "       0.06666667, 0.06666667, 0.06666667, 0.06666667, 0.4       ])"
      ]
     },
     "execution_count": 42,
     "metadata": {
      "tags": []
     },
     "output_type": "execute_result"
    }
   ],
   "source": [
    "dep"
   ]
  },
  {
   "cell_type": "code",
   "execution_count": 0,
   "metadata": {
    "colab": {},
    "colab_type": "code",
    "id": "EK0gXfSv_3JI"
   },
   "outputs": [],
   "source": [
    "xx = np.array([Arrival_DIST.random() for x in range(1000)])"
   ]
  },
  {
   "cell_type": "code",
   "execution_count": 0,
   "metadata": {
    "colab": {},
    "colab_type": "code",
    "id": "XQK4qze2_3JJ",
    "outputId": "91a6d753-9ed5-4708-b4ff-c3eae4c8616d"
   },
   "outputs": [
    {
     "data": {
      "text/plain": [
       "(array([0, 1, 2, 3, 4, 5, 6, 7, 8, 9]),\n",
       " array([108, 108, 106, 104, 106,  96,  94,  92,  94,  92]))"
      ]
     },
     "execution_count": 64,
     "metadata": {
      "tags": []
     },
     "output_type": "execute_result"
    }
   ],
   "source": [
    "u, c = np.unique(xx, return_counts=True)"
   ]
  },
  {
   "cell_type": "code",
   "execution_count": 0,
   "metadata": {
    "colab": {},
    "colab_type": "code",
    "id": "9Ilb9UiV_3JL",
    "outputId": "d938d78c-e99a-4a76-b7c5-7fc5502b412f"
   },
   "outputs": [
    {
     "data": {
      "text/plain": [
       "array([0.1, 0.1, 0.1, 0.1, 0.1, 0.1, 0.1, 0.1, 0.1, 0.1])"
      ]
     },
     "execution_count": 25,
     "metadata": {
      "tags": []
     },
     "output_type": "execute_result"
    }
   ],
   "source": [
    "np.array([1./S]*S)"
   ]
  },
  {
   "cell_type": "code",
   "execution_count": 0,
   "metadata": {
    "colab": {},
    "colab_type": "code",
    "id": "GV8pu1dp_3JO",
    "outputId": "241bdb03-47a1-4062-8981-59ebd3aecddb"
   },
   "outputs": [
    {
     "data": {
      "text/plain": [
       "0"
      ]
     },
     "execution_count": 133,
     "metadata": {
      "tags": []
     },
     "output_type": "execute_result"
    }
   ],
   "source": [
    "pm.Bernoulli.dist(0.096).random(size=(10,1))[-1]"
   ]
  },
  {
   "cell_type": "code",
   "execution_count": 0,
   "metadata": {
    "colab": {},
    "colab_type": "code",
    "id": "6P3Zpz9g_3JQ"
   },
   "outputs": [],
   "source": [
    "prop.sort()"
   ]
  },
  {
   "cell_type": "code",
   "execution_count": 0,
   "metadata": {
    "colab": {},
    "colab_type": "code",
    "id": "cqFgybo0_3JR",
    "outputId": "ab5e193d-43dc-44bd-a6d5-7419dc8d31a9"
   },
   "outputs": [
    {
     "name": "stdout",
     "output_type": "stream",
     "text": [
      "5 [0 0 0 0 0 1 0 0 0 0]\n",
      "7 [0 0 0 0 0 0 0 1 0 0]\n",
      "17 [0 0 0 0 0 0 1 0 0 0]\n",
      "20 [0 0 0 0 0 0 0 1 1 0]\n",
      "23 [0 0 0 0 1 0 0 0 0 0]\n",
      "32 [0 0 0 0 0 0 0 1 0 0]\n",
      "35 [0 0 0 0 0 0 0 0 1 0]\n",
      "36 [0 0 1 0 1 0 0 0 0 0]\n",
      "40 [1 0 0 0 0 0 0 0 0 0]\n",
      "48 [0 0 0 0 0 1 0 0 0 0]\n",
      "57 [0 0 0 0 0 0 1 1 0 0]\n",
      "59 [0 0 0 0 0 0 0 0 0 1]\n",
      "62 [0 0 0 0 1 0 0 0 0 0]\n",
      "63 [0 0 1 0 0 0 0 0 0 0]\n",
      "64 [0 1 0 0 0 1 0 1 0 0]\n",
      "66 [0 0 0 0 0 0 0 0 1 0]\n",
      "67 [0 0 0 1 0 1 0 0 1 0]\n",
      "71 [0 0 0 0 1 0 0 0 0 1]\n",
      "80 [1 0 0 0 0 0 0 0 0 0]\n",
      "81 [0 1 0 0 0 0 0 0 0 0]\n",
      "84 [0 1 1 0 0 0 0 0 0 0]\n",
      "98 [0 0 0 0 0 0 1 0 0 0]\n",
      "113 [0 0 0 0 0 0 0 1 0 0]\n",
      "119 [0 1 0 0 0 0 0 0 0 0]\n",
      "133 [1 0 0 0 0 0 0 0 0 0]\n",
      "134 [1 0 0 0 0 0 0 0 0 0]\n",
      "138 [0 0 0 0 0 0 0 0 0 1]\n",
      "152 [0 0 0 0 0 0 0 1 0 0]\n",
      "153 [0 1 1 0 0 1 1 0 0 0]\n",
      "154 [0 0 0 0 0 0 0 0 1 0]\n",
      "158 [0 1 0 0 0 0 1 0 0 0]\n",
      "165 [0 0 0 0 0 0 0 0 1 0]\n",
      "170 [0 1 0 0 0 0 0 0 0 0]\n",
      "179 [0 0 0 0 0 0 0 0 1 0]\n",
      "181 [0 1 0 0 0 0 0 0 0 0]\n",
      "184 [0 0 0 0 0 0 0 1 0 0]\n",
      "192 [1 0 0 0 0 0 0 0 0 0]\n",
      "193 [0 0 0 0 0 0 0 0 0 1]\n",
      "203 [0 0 0 0 0 0 0 1 0 0]\n",
      "204 [0 0 1 0 0 0 0 0 0 1]\n",
      "216 [0 1 0 0 0 0 0 0 0 0]\n",
      "218 [0 0 0 0 1 0 0 0 0 0]\n",
      "219 [0 0 0 0 0 1 0 0 0 0]\n",
      "232 [0 0 0 0 1 0 0 0 0 0]\n",
      "237 [0 1 0 0 0 0 0 0 0 0]\n",
      "238 [0 0 0 0 0 0 0 0 1 0]\n",
      "240 [0 0 0 0 0 0 0 1 0 0]\n",
      "243 [0 0 0 0 1 0 0 0 0 0]\n",
      "247 [0 1 0 0 0 0 0 0 0 0]\n",
      "256 [1 0 0 0 0 0 0 1 1 0]\n",
      "272 [0 0 0 1 0 0 0 0 0 0]\n",
      "279 [0 0 0 1 0 0 0 0 0 0]\n",
      "282 [0 0 1 0 0 0 0 0 0 0]\n",
      "291 [0 0 0 0 0 1 1 0 0 0]\n",
      "299 [0 1 0 0 0 0 0 0 0 0]\n",
      "300 [0 0 0 1 0 0 0 0 0 0]\n",
      "303 [0 0 1 0 0 0 0 0 0 0]\n",
      "329 [0 0 0 0 1 0 0 0 0 1]\n",
      "347 [0 0 0 0 0 1 0 0 0 0]\n",
      "349 [0 0 0 0 0 0 0 1 0 0]\n",
      "357 [0 0 0 0 0 0 1 0 0 0]\n",
      "373 [0 0 0 1 0 0 0 0 0 0]\n",
      "383 [0 0 1 0 0 0 0 0 0 0]\n",
      "392 [0 0 0 0 1 0 0 0 0 0]\n",
      "393 [0 1 0 0 0 0 0 0 0 0]\n",
      "397 [0 0 0 0 0 0 1 0 0 0]\n",
      "404 [0 0 1 0 0 0 0 0 0 0]\n",
      "405 [0 0 0 0 0 0 0 1 0 0]\n",
      "414 [0 1 0 0 0 0 0 0 0 0]\n",
      "418 [0 0 0 0 1 0 0 0 0 0]\n",
      "422 [0 0 0 0 0 0 0 0 1 0]\n",
      "427 [0 0 0 1 0 0 0 0 0 0]\n",
      "428 [0 1 0 0 0 0 1 0 0 0]\n",
      "431 [0 0 0 0 0 0 0 1 0 0]\n",
      "440 [0 0 1 0 0 0 0 0 0 0]\n",
      "447 [0 0 0 0 0 0 0 1 0 0]\n",
      "457 [0 0 0 0 1 0 0 0 0 0]\n",
      "472 [0 0 0 0 1 0 0 0 0 0]\n",
      "473 [0 0 0 0 0 0 0 1 0 0]\n",
      "476 [0 0 0 0 0 0 0 1 0 0]\n",
      "479 [0 0 1 0 0 0 0 0 0 0]\n",
      "483 [0 0 0 0 0 1 0 0 0 0]\n",
      "486 [0 0 0 0 1 0 0 0 1 0]\n",
      "497 [0 0 0 0 0 1 0 0 0 0]\n",
      "506 [0 0 0 0 1 0 0 0 0 0]\n",
      "512 [0 0 0 0 1 1 0 0 0 0]\n",
      "533 [0 0 0 0 0 1 0 0 0 0]\n",
      "536 [0 0 0 0 1 0 0 0 0 0]\n",
      "537 [0 0 0 0 0 0 0 0 1 0]\n",
      "553 [0 0 0 1 0 0 0 0 0 0]\n",
      "556 [0 0 0 0 0 0 0 0 1 0]\n",
      "561 [0 0 0 0 0 1 0 0 0 0]\n",
      "567 [0 0 0 0 0 1 0 0 0 0]\n",
      "568 [0 0 0 0 1 0 0 0 0 0]\n",
      "574 [0 0 0 1 0 0 0 0 0 0]\n",
      "578 [0 1 0 0 1 0 0 0 0 0]\n",
      "594 [0 0 0 0 0 1 0 0 0 0]\n",
      "600 [0 1 0 0 0 0 0 0 0 0]\n",
      "602 [0 0 0 0 0 0 0 1 0 0]\n",
      "605 [0 0 0 0 0 1 0 0 0 0]\n",
      "615 [0 0 0 0 0 1 0 0 0 0]\n",
      "617 [0 1 0 0 0 1 1 0 0 0]\n",
      "637 [0 0 0 0 0 1 0 1 0 0]\n",
      "640 [0 0 0 0 0 0 0 0 1 0]\n",
      "641 [0 0 0 0 0 1 0 0 0 0]\n",
      "650 [0 0 0 0 0 0 1 0 0 0]\n",
      "661 [0 0 1 0 0 0 0 0 0 0]\n",
      "663 [0 0 1 0 0 0 0 0 0 1]\n",
      "665 [0 1 0 0 0 0 0 0 0 0]\n",
      "667 [0 0 0 0 0 0 0 1 0 0]\n",
      "674 [1 0 0 0 0 0 0 0 0 0]\n",
      "679 [0 0 0 0 0 0 0 0 0 1]\n",
      "680 [0 0 0 0 0 0 0 0 1 0]\n",
      "704 [0 0 0 0 0 0 0 1 0 1]\n",
      "705 [0 0 0 0 1 0 1 0 0 0]\n",
      "720 [0 1 0 0 0 0 0 0 0 1]\n",
      "724 [0 1 0 0 0 0 0 0 0 0]\n",
      "732 [0 0 0 0 0 0 1 0 0 0]\n",
      "775 [0 1 0 0 0 0 0 0 0 0]\n",
      "777 [0 0 0 0 0 0 0 1 0 1]\n",
      "779 [0 0 0 0 1 0 1 0 0 0]\n",
      "790 [0 0 0 0 0 0 1 0 0 0]\n",
      "794 [0 0 0 0 0 1 0 0 0 0]\n",
      "795 [1 0 0 0 1 0 0 0 1 1]\n",
      "819 [1 0 0 0 0 0 0 0 0 0]\n",
      "821 [1 0 0 0 0 0 0 0 0 0]\n",
      "836 [0 0 0 1 0 0 0 0 0 0]\n",
      "848 [0 1 0 0 0 0 0 0 0 0]\n",
      "849 [0 0 0 1 0 0 0 0 0 0]\n",
      "860 [1 0 0 0 0 0 0 0 0 0]\n",
      "877 [0 0 0 0 0 0 1 0 0 0]\n",
      "885 [0 0 0 0 0 0 1 0 0 0]\n",
      "889 [0 0 0 0 0 0 1 1 1 0]\n",
      "890 [0 0 0 0 0 1 0 0 0 0]\n",
      "892 [0 0 0 1 0 0 0 0 0 0]\n",
      "904 [0 0 0 1 0 0 0 0 0 0]\n",
      "908 [0 0 0 0 0 0 1 0 0 0]\n",
      "914 [0 0 0 0 0 0 0 0 1 0]\n",
      "931 [0 0 0 0 0 0 0 0 1 0]\n",
      "934 [0 0 0 0 0 1 0 0 0 0]\n",
      "946 [0 0 0 0 0 0 0 1 0 0]\n",
      "951 [0 0 1 0 0 1 0 0 0 1]\n",
      "952 [1 0 0 0 0 0 0 0 0 0]\n",
      "957 [0 0 0 1 0 0 0 0 0 0]\n",
      "960 [0 0 0 0 0 0 0 0 1 0]\n",
      "962 [0 0 0 0 1 0 0 0 0 0]\n",
      "963 [0 0 0 0 0 0 0 0 0 1]\n",
      "965 [0 1 0 0 0 0 0 0 0 0]\n",
      "970 [0 0 1 0 0 0 0 0 0 0]\n",
      "974 [0 1 0 0 0 0 0 0 0 0]\n",
      "979 [0 0 0 0 0 0 1 0 0 0]\n",
      "983 [1 0 0 0 0 0 0 0 0 0]\n",
      "988 [1 0 0 0 0 0 0 0 0 0]\n",
      "153\n"
     ]
    }
   ],
   "source": [
    "count = 0\n",
    "for i in range(1000):\n",
    "    k = pm.Bernoulli.dist(prop[i]).random(size=10)\n",
    "    if k.any():\n",
    "        count +=1\n",
    "        print(i, k)\n",
    "print(count)"
   ]
  },
  {
   "cell_type": "code",
   "execution_count": 0,
   "metadata": {
    "colab": {},
    "colab_type": "code",
    "id": "UiOXJgwS_3JU",
    "outputId": "b8fa9925-be23-48a4-895a-43fc168ad08a"
   },
   "outputs": [
    {
     "name": "stdout",
     "output_type": "stream",
     "text": [
      "2 [0 0 0 0 0 0 0 1 0 0]\n",
      "11 [0 0 0 0 0 0 1 0 0 0]\n",
      "17 [1 1 0 0 0 0 0 0 0 0]\n",
      "35 [0 1 0 0 0 0 0 0 0 0]\n",
      "36 [0 1 0 1 1 0 0 0 0 1]\n",
      "43 [0 0 0 0 0 0 0 0 0 1]\n",
      "46 [0 0 0 0 0 0 0 0 0 1]\n",
      "62 [0 0 0 0 0 0 0 0 0 1]\n",
      "63 [0 0 0 0 0 0 1 0 0 0]\n",
      "67 [0 1 0 0 0 0 0 0 1 0]\n",
      "68 [0 0 0 0 0 1 0 0 0 0]\n",
      "71 [0 0 0 0 0 0 1 0 0 0]\n",
      "84 [0 0 0 0 1 0 0 0 0 0]\n",
      "86 [1 0 0 0 0 0 0 0 0 0]\n",
      "104 [0 0 0 0 0 1 0 0 0 0]\n",
      "109 [0 0 0 1 0 0 0 0 0 0]\n",
      "113 [0 0 0 0 0 0 0 0 1 0]\n",
      "116 [0 0 0 0 1 0 0 0 0 0]\n",
      "126 [0 0 0 0 1 0 0 0 0 0]\n",
      "130 [0 1 0 0 0 0 0 0 0 0]\n",
      "136 [0 0 0 1 0 0 0 0 0 0]\n",
      "137 [0 0 0 0 0 0 1 0 0 0]\n",
      "153 [0 0 1 0 1 0 0 0 0 1]\n",
      "154 [1 1 0 1 0 0 0 0 0 0]\n",
      "165 [0 0 0 0 0 1 0 0 1 0]\n",
      "169 [0 0 0 0 0 0 0 1 0 0]\n",
      "170 [0 1 0 0 0 0 0 0 0 0]\n",
      "183 [0 0 0 0 0 0 0 0 1 0]\n",
      "184 [0 0 1 0 0 0 0 0 0 0]\n",
      "186 [0 0 0 1 0 0 0 0 0 0]\n",
      "203 [1 0 0 0 0 0 0 0 0 0]\n",
      "204 [0 0 0 1 0 0 0 0 0 1]\n",
      "208 [0 0 0 1 0 0 0 0 0 0]\n",
      "225 [0 0 1 0 0 0 0 0 0 0]\n",
      "230 [0 0 0 1 0 0 0 0 0 0]\n",
      "237 [0 0 0 0 0 0 0 0 1 0]\n",
      "243 [0 1 0 0 0 0 0 0 0 0]\n",
      "248 [0 0 0 0 0 0 1 0 0 0]\n",
      "249 [0 0 0 0 0 0 0 1 0 0]\n",
      "261 [1 0 0 0 0 0 0 0 0 0]\n",
      "263 [0 0 0 0 0 0 0 0 1 0]\n",
      "271 [0 0 0 0 0 0 0 0 0 1]\n",
      "298 [0 1 0 0 0 0 0 0 0 0]\n",
      "301 [0 1 0 0 0 0 0 0 0 0]\n",
      "304 [0 1 0 0 0 0 0 1 0 0]\n",
      "333 [0 0 0 0 1 0 1 0 1 0]\n",
      "337 [0 1 0 0 0 0 0 0 0 0]\n",
      "340 [0 0 0 0 0 1 0 0 0 0]\n",
      "345 [0 0 0 0 0 0 0 1 0 0]\n",
      "351 [0 0 0 0 1 0 0 0 0 0]\n",
      "379 [1 1 0 0 0 0 0 0 0 0]\n",
      "383 [0 0 0 0 0 0 0 0 0 1]\n",
      "399 [1 0 0 0 0 0 0 0 0 0]\n",
      "412 [0 0 0 0 0 0 0 0 1 0]\n",
      "416 [1 0 0 0 0 0 0 0 1 0]\n",
      "422 [0 0 1 0 0 0 0 0 0 1]\n",
      "429 [0 0 0 0 1 0 0 0 0 0]\n",
      "430 [0 0 0 0 1 1 0 0 1 0]\n",
      "431 [0 0 0 0 0 0 0 0 1 0]\n",
      "443 [0 0 1 0 0 0 0 0 0 0]\n",
      "446 [0 0 1 0 0 0 0 0 0 0]\n",
      "457 [0 0 0 0 0 0 0 0 0 1]\n",
      "465 [1 0 0 0 0 0 0 0 0 0]\n",
      "470 [0 0 0 0 0 0 0 1 0 0]\n",
      "476 [0 0 0 1 0 0 0 0 0 0]\n",
      "479 [0 0 1 0 0 0 0 0 0 0]\n",
      "480 [0 0 1 0 0 0 0 0 0 0]\n",
      "510 [1 0 0 0 0 0 0 0 0 0]\n",
      "519 [1 1 0 0 0 0 0 0 0 0]\n",
      "520 [0 0 1 0 0 0 0 0 0 0]\n",
      "522 [0 0 0 0 0 0 0 0 0 1]\n",
      "523 [0 0 0 0 0 0 0 1 0 0]\n",
      "530 [0 0 1 0 0 0 0 0 0 0]\n",
      "531 [0 0 0 0 0 0 0 1 0 0]\n",
      "533 [0 1 0 1 0 0 0 0 1 0]\n",
      "541 [0 0 0 0 0 0 0 1 0 0]\n",
      "542 [0 0 0 0 0 0 0 0 0 1]\n",
      "553 [0 0 0 0 1 0 0 0 0 0]\n",
      "556 [1 0 1 1 0 0 0 0 0 0]\n",
      "557 [0 1 0 0 0 0 0 0 0 0]\n",
      "559 [0 1 0 0 0 0 0 0 0 0]\n",
      "560 [0 0 0 0 0 0 0 0 0 1]\n",
      "561 [1 0 0 0 0 1 0 1 0 0]\n",
      "567 [0 0 0 0 0 0 0 0 1 0]\n",
      "569 [0 0 0 0 0 1 0 0 0 0]\n",
      "570 [0 1 0 0 0 0 0 0 0 0]\n",
      "577 [0 0 0 0 0 0 0 0 1 0]\n",
      "580 [0 0 0 0 0 0 0 0 1 0]\n",
      "600 [0 0 0 0 0 1 0 0 1 0]\n",
      "603 [0 1 0 0 0 0 0 0 0 0]\n",
      "605 [0 1 1 0 1 0 0 0 0 0]\n",
      "610 [0 0 1 0 0 0 0 0 0 0]\n",
      "613 [0 1 0 0 0 0 0 0 0 0]\n",
      "616 [0 0 0 1 0 0 0 0 0 0]\n",
      "617 [0 0 0 0 0 0 0 0 1 0]\n",
      "619 [0 0 0 0 0 0 1 0 0 0]\n",
      "626 [0 0 0 0 0 0 0 0 1 0]\n",
      "637 [0 0 0 0 0 0 0 0 1 0]\n",
      "641 [0 0 0 0 0 1 0 0 0 0]\n",
      "650 [0 0 0 1 0 0 0 0 0 0]\n",
      "665 [0 0 1 1 0 0 1 0 0 0]\n",
      "688 [0 0 0 0 0 0 0 1 0 0]\n",
      "704 [0 0 0 0 0 0 0 1 0 0]\n",
      "716 [0 0 0 0 0 0 1 0 0 0]\n",
      "717 [0 1 0 0 0 1 0 0 0 0]\n",
      "720 [1 0 0 0 0 0 0 0 0 1]\n",
      "722 [0 0 0 0 0 1 0 0 0 0]\n",
      "724 [0 1 0 0 0 0 0 0 0 1]\n",
      "736 [0 0 1 0 0 0 0 0 0 0]\n",
      "740 [0 0 0 0 0 0 1 0 0 0]\n",
      "747 [1 0 0 0 0 0 0 0 0 0]\n",
      "748 [0 0 0 1 0 0 0 0 0 0]\n",
      "749 [0 0 0 0 0 0 1 0 0 0]\n",
      "770 [0 0 0 0 0 0 1 0 0 0]\n",
      "776 [1 0 0 0 0 0 0 0 0 0]\n",
      "778 [0 0 0 0 0 0 0 1 0 0]\n",
      "779 [0 0 0 0 0 0 0 0 0 1]\n",
      "780 [0 1 0 0 0 0 0 0 0 0]\n",
      "795 [0 0 0 0 0 0 1 0 0 0]\n",
      "802 [0 0 0 1 0 0 0 0 0 1]\n",
      "810 [0 0 0 0 0 1 0 0 0 0]\n",
      "815 [0 0 0 0 0 1 0 0 0 0]\n",
      "830 [0 0 0 0 0 0 0 0 0 1]\n",
      "843 [1 1 0 0 0 0 1 0 0 0]\n",
      "848 [0 0 0 0 0 1 0 0 0 0]\n",
      "853 [0 0 0 0 0 0 1 0 0 0]\n",
      "856 [0 0 0 0 0 0 0 0 1 0]\n",
      "862 [0 1 0 0 0 0 0 0 0 0]\n",
      "867 [0 0 1 0 0 0 0 0 0 0]\n",
      "880 [0 0 0 0 1 0 0 0 0 0]\n",
      "889 [0 0 1 1 0 0 0 0 0 0]\n",
      "897 [0 0 0 0 0 0 0 1 0 0]\n",
      "902 [0 0 0 0 0 0 0 1 0 0]\n",
      "913 [0 1 0 0 0 0 0 0 0 0]\n",
      "918 [0 1 0 0 0 0 0 0 0 0]\n",
      "922 [1 0 0 0 0 0 0 0 0 0]\n",
      "945 [0 0 0 0 0 0 0 0 1 0]\n",
      "946 [0 0 0 0 1 0 0 0 1 0]\n",
      "952 [0 0 0 0 0 0 0 0 0 1]\n",
      "954 [0 0 0 0 0 1 0 0 0 0]\n",
      "959 [0 0 0 0 1 0 0 0 0 0]\n",
      "965 [0 1 0 1 0 1 0 0 0 0]\n",
      "970 [0 0 0 0 0 0 0 1 0 0]\n",
      "974 [0 0 0 0 0 0 0 0 1 0]\n",
      "979 [0 0 0 1 1 0 0 0 0 0]\n",
      "990 [0 0 0 0 1 0 0 0 0 0]\n",
      "996 [0 0 0 1 0 0 0 0 0 0]\n",
      "147\n"
     ]
    }
   ],
   "source": [
    "count = 0\n",
    "for i in range(1000):\n",
    "    k = scipy.stats.bernoulli(prop[i]).rvs(10)\n",
    "    if k.any():\n",
    "        count +=1\n",
    "        print(i, k)\n",
    "print(count)"
   ]
  },
  {
   "cell_type": "code",
   "execution_count": 0,
   "metadata": {
    "colab": {},
    "colab_type": "code",
    "id": "n7r7G9v2_3JX",
    "outputId": "c62dd09a-d224-4335-ee16-5cca86ea2b01"
   },
   "outputs": [
    {
     "data": {
      "text/plain": [
       "array([0, 1, 0, 0, 0, 0, 0, 0, 1])"
      ]
     },
     "execution_count": 85,
     "metadata": {
      "tags": []
     },
     "output_type": "execute_result"
    }
   ],
   "source": [
    "scipy.stats.bernoulli(0.1619882271737661).rvs(9)"
   ]
  },
  {
   "cell_type": "code",
   "execution_count": 0,
   "metadata": {
    "colab": {},
    "colab_type": "code",
    "id": "RC028zww_3JZ",
    "outputId": "08846571-1b67-46bb-8d61-d860b5852d76"
   },
   "outputs": [
    {
     "data": {
      "text/plain": [
       "array([0.   , 0.   , 0.   , 0.   , 0.   , 0.   , 0.   , 0.   , 0.   ,\n",
       "       0.   , 0.   , 0.   , 0.   , 0.   , 0.   , 0.   , 0.   , 0.   ,\n",
       "       0.   , 0.   , 0.   , 0.   , 0.   , 0.   , 0.   , 0.   , 0.   ,\n",
       "       0.   , 0.   , 0.   , 0.   , 0.   , 0.   , 0.   , 0.   , 0.   ,\n",
       "       0.   , 0.   , 0.   , 0.   , 0.   , 0.   , 0.   , 0.   , 0.   ,\n",
       "       0.   , 0.   , 0.   , 0.   , 0.   , 0.   , 0.   , 0.   , 0.   ,\n",
       "       0.   , 0.   , 0.   , 0.   , 0.   , 0.   , 0.   , 0.   , 0.   ,\n",
       "       0.   , 0.   , 0.   , 0.   , 0.   , 0.   , 0.   , 0.   , 0.   ,\n",
       "       0.   , 0.   , 0.   , 0.   , 0.   , 0.   , 0.   , 0.   , 0.   ,\n",
       "       0.   , 0.   , 0.   , 0.   , 0.   , 0.   , 0.   , 0.   , 0.   ,\n",
       "       0.   , 0.   , 0.   , 0.   , 0.   , 0.   , 0.   , 0.   , 0.   ,\n",
       "       0.   , 0.   , 0.   , 0.   , 0.   , 0.   , 0.   , 0.   , 0.   ,\n",
       "       0.   , 0.   , 0.   , 0.   , 0.   , 0.   , 0.   , 0.   , 0.   ,\n",
       "       0.   , 0.   , 0.001, 0.001, 0.001, 0.001, 0.001, 0.001, 0.001,\n",
       "       0.001, 0.001, 0.001, 0.001, 0.001, 0.001, 0.001, 0.001, 0.001,\n",
       "       0.001, 0.001, 0.001, 0.001, 0.001, 0.001, 0.001, 0.001, 0.001,\n",
       "       0.001, 0.001, 0.001, 0.001, 0.001, 0.001, 0.001, 0.001, 0.001,\n",
       "       0.001, 0.001, 0.001, 0.001, 0.001, 0.001, 0.001, 0.001, 0.001,\n",
       "       0.001, 0.001, 0.001, 0.001, 0.001, 0.001, 0.001, 0.001, 0.001,\n",
       "       0.001, 0.001, 0.001, 0.001, 0.001, 0.001, 0.001, 0.001, 0.001,\n",
       "       0.001, 0.001, 0.001, 0.001, 0.001, 0.001, 0.001, 0.001, 0.001,\n",
       "       0.001, 0.001, 0.001, 0.001, 0.001, 0.001, 0.001, 0.001, 0.001,\n",
       "       0.001, 0.001, 0.001, 0.001, 0.001, 0.001, 0.001, 0.001, 0.001,\n",
       "       0.001, 0.002, 0.002, 0.002, 0.002, 0.002, 0.002, 0.002, 0.002,\n",
       "       0.002, 0.002, 0.002, 0.002, 0.002, 0.002, 0.002, 0.002, 0.002,\n",
       "       0.002, 0.002, 0.002, 0.002, 0.002, 0.002, 0.002, 0.002, 0.002,\n",
       "       0.002, 0.002, 0.002, 0.002, 0.002, 0.002, 0.002, 0.002, 0.002,\n",
       "       0.002, 0.002, 0.002, 0.002, 0.002, 0.002, 0.002, 0.002, 0.002,\n",
       "       0.002, 0.002, 0.002, 0.002, 0.002, 0.002, 0.002, 0.002, 0.002,\n",
       "       0.002, 0.003, 0.003, 0.003, 0.003, 0.003, 0.003, 0.003, 0.003,\n",
       "       0.003, 0.003, 0.003, 0.003, 0.003, 0.003, 0.003, 0.003, 0.003,\n",
       "       0.003, 0.003, 0.003, 0.003, 0.003, 0.003, 0.003, 0.003, 0.003,\n",
       "       0.003, 0.003, 0.003, 0.003, 0.003, 0.003, 0.003, 0.003, 0.003,\n",
       "       0.003, 0.003, 0.003, 0.003, 0.003, 0.003, 0.003, 0.003, 0.003,\n",
       "       0.003, 0.003, 0.004, 0.004, 0.004, 0.004, 0.004, 0.004, 0.004,\n",
       "       0.004, 0.004, 0.004, 0.004, 0.004, 0.004, 0.004, 0.004, 0.004,\n",
       "       0.004, 0.004, 0.004, 0.004, 0.004, 0.004, 0.004, 0.004, 0.004,\n",
       "       0.004, 0.004, 0.004, 0.004, 0.004, 0.004, 0.004, 0.004, 0.004,\n",
       "       0.004, 0.004, 0.004, 0.004, 0.004, 0.004, 0.004, 0.004, 0.004,\n",
       "       0.004, 0.004, 0.004, 0.004, 0.004, 0.004, 0.004, 0.004, 0.005,\n",
       "       0.005, 0.005, 0.005, 0.005, 0.005, 0.005, 0.005, 0.005, 0.005,\n",
       "       0.005, 0.005, 0.005, 0.005, 0.005, 0.005, 0.005, 0.005, 0.005,\n",
       "       0.005, 0.005, 0.005, 0.005, 0.005, 0.005, 0.005, 0.005, 0.005,\n",
       "       0.005, 0.005, 0.005, 0.005, 0.005, 0.005, 0.005, 0.005, 0.005,\n",
       "       0.005, 0.005, 0.005, 0.005, 0.005, 0.005, 0.005, 0.006, 0.006,\n",
       "       0.006, 0.006, 0.006, 0.006, 0.006, 0.006, 0.006, 0.006, 0.006,\n",
       "       0.006, 0.006, 0.006, 0.006, 0.006, 0.006, 0.006, 0.006, 0.006,\n",
       "       0.006, 0.006, 0.006, 0.006, 0.006, 0.006, 0.006, 0.006, 0.006,\n",
       "       0.006, 0.006, 0.007, 0.007, 0.007, 0.007, 0.007, 0.007, 0.007,\n",
       "       0.007, 0.007, 0.007, 0.007, 0.007, 0.007, 0.007, 0.007, 0.007,\n",
       "       0.007, 0.007, 0.007, 0.007, 0.007, 0.007, 0.007, 0.007, 0.007,\n",
       "       0.007, 0.007, 0.007, 0.007, 0.007, 0.007, 0.007, 0.007, 0.007,\n",
       "       0.008, 0.008, 0.008, 0.008, 0.008, 0.008, 0.008, 0.008, 0.008,\n",
       "       0.008, 0.008, 0.008, 0.008, 0.008, 0.008, 0.008, 0.008, 0.008,\n",
       "       0.008, 0.008, 0.008, 0.008, 0.008, 0.008, 0.008, 0.008, 0.009,\n",
       "       0.009, 0.009, 0.009, 0.009, 0.009, 0.009, 0.009, 0.009, 0.009,\n",
       "       0.009, 0.009, 0.009, 0.009, 0.009, 0.009, 0.009, 0.009, 0.009,\n",
       "       0.009, 0.009, 0.01 , 0.01 , 0.01 , 0.01 , 0.01 , 0.01 , 0.01 ,\n",
       "       0.01 , 0.01 , 0.01 , 0.01 , 0.01 , 0.01 , 0.01 , 0.01 , 0.01 ,\n",
       "       0.01 , 0.01 , 0.01 , 0.01 , 0.01 , 0.011, 0.011, 0.011, 0.011,\n",
       "       0.011, 0.011, 0.011, 0.011, 0.011, 0.011, 0.011, 0.011, 0.011,\n",
       "       0.011, 0.011, 0.011, 0.011, 0.011, 0.011, 0.011, 0.011, 0.011,\n",
       "       0.011, 0.011, 0.012, 0.012, 0.012, 0.012, 0.012, 0.012, 0.012,\n",
       "       0.012, 0.012, 0.012, 0.012, 0.012, 0.012, 0.012, 0.012, 0.012,\n",
       "       0.012, 0.012, 0.012, 0.013, 0.013, 0.013, 0.013, 0.013, 0.013,\n",
       "       0.013, 0.013, 0.013, 0.013, 0.013, 0.013, 0.013, 0.014, 0.014,\n",
       "       0.014, 0.014, 0.014, 0.014, 0.014, 0.014, 0.014, 0.014, 0.014,\n",
       "       0.014, 0.014, 0.014, 0.014, 0.014, 0.014, 0.014, 0.015, 0.015,\n",
       "       0.015, 0.015, 0.015, 0.015, 0.015, 0.015, 0.015, 0.015, 0.015,\n",
       "       0.015, 0.015, 0.015, 0.015, 0.016, 0.016, 0.016, 0.016, 0.016,\n",
       "       0.016, 0.016, 0.016, 0.016, 0.016, 0.016, 0.016, 0.016, 0.016,\n",
       "       0.016, 0.016, 0.016, 0.017, 0.017, 0.017, 0.017, 0.017, 0.017,\n",
       "       0.017, 0.018, 0.018, 0.018, 0.018, 0.018, 0.018, 0.018, 0.018,\n",
       "       0.018, 0.018, 0.018, 0.018, 0.018, 0.018, 0.018, 0.018, 0.019,\n",
       "       0.019, 0.019, 0.019, 0.019, 0.019, 0.019, 0.019, 0.019, 0.019,\n",
       "       0.019, 0.019, 0.019, 0.02 , 0.02 , 0.02 , 0.02 , 0.02 , 0.02 ,\n",
       "       0.02 , 0.02 , 0.02 , 0.02 , 0.02 , 0.02 , 0.02 , 0.02 , 0.02 ,\n",
       "       0.02 , 0.02 , 0.021, 0.021, 0.021, 0.021, 0.021, 0.021, 0.021,\n",
       "       0.021, 0.021, 0.021, 0.021, 0.021, 0.022, 0.022, 0.022, 0.022,\n",
       "       0.022, 0.022, 0.022, 0.023, 0.023, 0.023, 0.023, 0.023, 0.023,\n",
       "       0.023, 0.023, 0.023, 0.023, 0.023, 0.023, 0.023, 0.023, 0.023,\n",
       "       0.024, 0.024, 0.024, 0.025, 0.025, 0.025, 0.025, 0.025, 0.025,\n",
       "       0.025, 0.025, 0.025, 0.026, 0.026, 0.026, 0.026, 0.026, 0.026,\n",
       "       0.026, 0.026, 0.026, 0.027, 0.027, 0.027, 0.027, 0.027, 0.027,\n",
       "       0.027, 0.027, 0.027, 0.027, 0.027, 0.028, 0.028, 0.028, 0.028,\n",
       "       0.029, 0.029, 0.029, 0.029, 0.029, 0.029, 0.029, 0.029, 0.029,\n",
       "       0.03 , 0.03 , 0.03 , 0.03 , 0.03 , 0.03 , 0.03 , 0.03 , 0.03 ,\n",
       "       0.03 , 0.03 , 0.031, 0.031, 0.031, 0.031, 0.031, 0.031, 0.031,\n",
       "       0.032, 0.032, 0.032, 0.032, 0.032, 0.032, 0.032, 0.032, 0.032,\n",
       "       0.033, 0.033, 0.033, 0.033, 0.033, 0.033, 0.034, 0.034, 0.034,\n",
       "       0.035, 0.035, 0.035, 0.035, 0.036, 0.036, 0.036, 0.036, 0.036,\n",
       "       0.037, 0.037, 0.037, 0.037, 0.037, 0.037, 0.037, 0.038, 0.038,\n",
       "       0.038, 0.038, 0.038, 0.038, 0.038, 0.038, 0.039, 0.039, 0.039,\n",
       "       0.039, 0.04 , 0.041, 0.041, 0.041, 0.041, 0.041, 0.041, 0.041,\n",
       "       0.041, 0.041, 0.042, 0.042, 0.042, 0.042, 0.043, 0.043, 0.043,\n",
       "       0.044, 0.044, 0.044, 0.044, 0.044, 0.045, 0.045, 0.045, 0.045,\n",
       "       0.045, 0.046, 0.046, 0.046, 0.047, 0.047, 0.048, 0.048, 0.048,\n",
       "       0.048, 0.048, 0.048, 0.05 , 0.05 , 0.05 , 0.05 , 0.05 , 0.051,\n",
       "       0.051, 0.051, 0.051, 0.052, 0.052, 0.052, 0.052, 0.052, 0.053,\n",
       "       0.053, 0.053, 0.053, 0.054, 0.054, 0.054, 0.054, 0.054, 0.055,\n",
       "       0.055, 0.055, 0.055, 0.056, 0.056, 0.056, 0.056, 0.056, 0.056,\n",
       "       0.057, 0.057, 0.057, 0.057, 0.057, 0.058, 0.059, 0.059, 0.06 ,\n",
       "       0.06 , 0.06 , 0.06 , 0.06 , 0.061, 0.061, 0.061, 0.062, 0.063,\n",
       "       0.064, 0.064, 0.065, 0.065, 0.066, 0.067, 0.067, 0.067, 0.067,\n",
       "       0.068, 0.069, 0.069, 0.069, 0.069, 0.069, 0.07 , 0.072, 0.073,\n",
       "       0.073, 0.074, 0.075, 0.076, 0.078, 0.078, 0.078, 0.079, 0.079,\n",
       "       0.08 , 0.08 , 0.081, 0.082, 0.082, 0.083, 0.083, 0.084, 0.084,\n",
       "       0.085, 0.085, 0.087, 0.088, 0.089, 0.089, 0.09 , 0.091, 0.092,\n",
       "       0.093, 0.095, 0.095, 0.096, 0.098, 0.099, 0.099, 0.099, 0.101,\n",
       "       0.104, 0.105, 0.105, 0.105, 0.106, 0.109, 0.111, 0.114, 0.116,\n",
       "       0.126, 0.133, 0.139, 0.143, 0.152, 0.162, 0.163, 0.169, 0.19 ,\n",
       "       0.212])"
      ]
     },
     "execution_count": 91,
     "metadata": {
      "tags": []
     },
     "output_type": "execute_result"
    }
   ],
   "source": [
    "prop.sort()\n",
    "prop.round(3)"
   ]
  },
  {
   "cell_type": "code",
   "execution_count": 0,
   "metadata": {
    "colab": {},
    "colab_type": "code",
    "id": "qnaWB5Fe_3Jb"
   },
   "outputs": [],
   "source": [
    "np.set_printoptions(suppress=True)"
   ]
  },
  {
   "cell_type": "code",
   "execution_count": 0,
   "metadata": {
    "colab": {},
    "colab_type": "code",
    "id": "n7nwpr1y_3Jc",
    "outputId": "099ceba1-2578-4e71-8342-bae9701e3989"
   },
   "outputs": [
    {
     "data": {
      "text/plain": [
       "[array([1., 0., 0., 0., 0., 0., 0., 0., 0., 0., 0., 0., 0., 0., 0., 0., 0.,\n",
       "        0., 0., 0., 0., 0., 0., 0., 0., 0., 0., 0., 0., 0., 0., 0., 0., 0.,\n",
       "        0., 0., 0., 0., 0., 0., 0., 0., 0., 0., 0., 0., 0., 0., 0., 0., 0.,\n",
       "        0., 0., 0., 0., 0., 0., 0., 0., 0., 0., 0., 0., 0., 0., 0., 0., 0.,\n",
       "        0., 0., 0., 0., 0., 0., 0., 0., 0., 0., 0., 0., 0., 0., 0., 0., 0.,\n",
       "        0., 0., 0., 0., 0., 0., 0., 0., 0., 0., 0., 0., 0., 0., 0.]),\n",
       " array([1., 0., 0., 0., 0., 0., 0., 0., 0., 0., 0., 1., 0., 1., 0., 0., 0.,\n",
       "        0., 1., 0., 0., 1., 0., 0., 0., 0., 0., 0., 0., 0., 0., 0., 0., 0.,\n",
       "        0., 0., 0., 0., 0., 0., 0., 0., 0., 0., 0., 0., 0., 0., 0., 0., 0.,\n",
       "        0., 0., 0., 0., 0., 0., 0., 0., 0., 0., 0., 0., 0., 0., 0., 0., 0.,\n",
       "        0., 0., 0., 0., 0., 0., 0., 0., 0., 0., 0., 0., 0., 0., 0., 0., 0.,\n",
       "        0., 0., 0., 0., 0., 0., 0., 0., 0., 0., 0., 0., 0., 0., 0.]),\n",
       " array([0., 0., 0., 0., 0., 0., 0., 0., 0., 0., 0., 0., 0., 0., 0., 0., 0.,\n",
       "        0., 0., 0., 0., 0., 0., 0., 0., 0., 0., 0., 0., 0., 0., 0., 0., 0.,\n",
       "        0., 0., 0., 0., 0., 0., 0., 0., 0., 0., 0., 0., 0., 0., 0., 1., 0.,\n",
       "        0., 0., 0., 0., 0., 0., 0., 0., 0., 0., 0., 0., 0., 0., 0., 0., 0.,\n",
       "        0., 0., 0., 0., 0., 0., 0., 0., 0., 0., 0., 0., 0., 0., 0., 0., 0.,\n",
       "        0., 0., 0., 0., 0., 0., 0., 0., 0., 0., 0., 0., 0., 0., 0.]),\n",
       " array([1., 0., 0., 0., 0., 0., 0., 0., 0., 0., 0., 0., 0., 0., 0., 0., 0.,\n",
       "        0., 0., 0., 0., 0., 0., 0., 0., 0., 0., 0., 0., 0., 0., 0., 0., 0.,\n",
       "        0., 0., 0., 0., 0., 0., 0., 0., 0., 0., 0., 0., 0., 0., 0., 0., 0.,\n",
       "        0., 0., 0., 0., 0., 0., 0., 0., 0., 0., 0., 0., 0., 0., 0., 0., 0.,\n",
       "        0., 0., 0., 0., 0., 0., 0., 0., 0., 0., 0., 0., 0., 0., 0., 0., 0.,\n",
       "        0., 0., 0., 0., 0., 0., 0., 0., 0., 0., 0., 0., 0., 0., 0.]),\n",
       " array([0., 0., 0., 0., 0., 0., 0., 0., 0., 0., 0., 0., 0., 0., 0., 0., 0.,\n",
       "        0., 0., 0., 0., 0., 0., 0., 0., 0., 0., 0., 0., 0., 0., 0., 0., 0.,\n",
       "        0., 0., 0., 0., 0., 0., 0., 0., 0., 0., 0., 0., 0., 0., 0., 0., 0.,\n",
       "        0., 0., 0., 0., 0., 0., 0., 0., 0., 0., 0., 0., 0., 0., 0., 0., 0.,\n",
       "        0., 1., 1., 0., 0., 0., 0., 0., 0., 0., 0., 0., 0., 0., 0., 0., 0.,\n",
       "        0., 0., 0., 0., 0., 0., 0., 0., 0., 0., 0., 0., 0., 0., 0.]),\n",
       " array([0., 0., 0., 0., 0., 0., 0., 0., 0., 0., 0., 0., 0., 0., 0., 0., 0.,\n",
       "        0., 0., 0., 0., 0., 0., 0., 0., 0., 0., 0., 0., 0., 0., 0., 0., 0.,\n",
       "        0., 0., 0., 0., 0., 0., 0., 0., 0., 0., 0., 0., 0., 0., 0., 0., 0.,\n",
       "        0., 0., 0., 0., 0., 0., 0., 0., 0., 0., 0., 0., 0., 0., 0., 0., 0.,\n",
       "        0., 0., 0., 0., 0., 0., 0., 0., 0., 0., 0., 0., 0., 0., 0., 0., 0.,\n",
       "        0., 0., 0., 0., 0., 0., 1., 0., 0., 0., 0., 0., 0., 0., 0.]),\n",
       " array([0., 0., 0., 0., 1., 0., 0., 0., 0., 0., 0., 0., 0., 0., 0., 0., 0.,\n",
       "        0., 0., 0., 0., 0., 0., 0., 0., 0., 0., 0., 0., 0., 0., 0., 0., 0.,\n",
       "        0., 0., 0., 0., 0., 0., 0., 0., 0., 0., 0., 0., 0., 0., 0., 0., 0.,\n",
       "        0., 0., 0., 0., 0., 0., 0., 0., 0., 0., 0., 0., 0., 0., 0., 0., 0.,\n",
       "        0., 0., 0., 0., 0., 0., 0., 0., 0., 0., 0., 0., 0., 0., 0., 0., 0.,\n",
       "        0., 0., 0., 0., 0., 0., 0., 0., 0., 0., 0., 0., 0., 0., 0.]),\n",
       " array([0., 0., 0., 1., 0., 0., 0., 0., 0., 0., 0., 0., 0., 0., 0., 0., 0.,\n",
       "        0., 0., 0., 0., 0., 0., 0., 0., 0., 0., 0., 0., 0., 0., 0., 0., 0.,\n",
       "        0., 0., 0., 0., 0., 0., 0., 0., 0., 0., 0., 0., 0., 0., 0., 0., 0.,\n",
       "        0., 0., 0., 0., 0., 0., 0., 0., 0., 0., 0., 0., 0., 0., 0., 0., 0.,\n",
       "        0., 0., 0., 0., 0., 0., 0., 0., 0., 0., 0., 0., 0., 0., 0., 0., 0.,\n",
       "        0., 0., 0., 0., 0., 0., 0., 0., 0., 0., 0., 0., 0., 0., 0.]),\n",
       " array([0., 0., 0., 0., 0., 0., 0., 0., 0., 0., 0., 0., 0., 0., 0., 0., 0.,\n",
       "        0., 0., 0., 0., 0., 0., 0., 0., 0., 0., 0., 0., 0., 0., 0., 0., 0.,\n",
       "        0., 0., 0., 0., 0., 0., 0., 0., 0., 0., 0., 0., 0., 0., 0., 0., 0.,\n",
       "        0., 0., 0., 0., 0., 0., 0., 0., 0., 0., 0., 0., 0., 0., 0., 0., 0.,\n",
       "        0., 0., 0., 0., 0., 0., 0., 0., 0., 0., 0., 0., 0., 0., 0., 1., 0.,\n",
       "        0., 0., 0., 0., 0., 0., 0., 0., 0., 0., 0., 0., 0., 0., 0.]),\n",
       " array([0., 0., 0., 0., 0., 0., 0., 0., 0., 0., 0., 0., 0., 0., 0., 0., 0.,\n",
       "        0., 0., 0., 0., 0., 0., 0., 0., 0., 0., 0., 0., 0., 0., 0., 0., 0.,\n",
       "        0., 0., 0., 0., 0., 0., 0., 0., 0., 0., 0., 0., 0., 0., 0., 0., 0.,\n",
       "        0., 0., 0., 0., 0., 0., 0., 0., 0., 0., 0., 0., 0., 0., 0., 0., 0.,\n",
       "        0., 0., 0., 0., 0., 0., 0., 0., 1., 0., 0., 0., 0., 0., 0., 0., 0.,\n",
       "        0., 0., 0., 0., 0., 0., 0., 0., 0., 0., 0., 0., 0., 0., 0.])]"
      ]
     },
     "execution_count": 203,
     "metadata": {
      "tags": []
     },
     "output_type": "execute_result"
    }
   ],
   "source": [
    "CH[10:20]"
   ]
  },
  {
   "cell_type": "code",
   "execution_count": 0,
   "metadata": {
    "colab": {},
    "colab_type": "code",
    "id": "M7-c0Z10_3Jj"
   },
   "outputs": [],
   "source": []
  }
 ],
 "metadata": {
  "accelerator": "GPU",
  "colab": {
   "collapsed_sections": [],
   "name": "Posterior_last.ipynb",
   "provenance": [],
   "toc_visible": true,
   "version": "0.3.2"
  },
  "kernelspec": {
   "display_name": "Python 3",
   "language": "python",
   "name": "python3"
  },
  "language_info": {
   "codemirror_mode": {
    "name": "ipython",
    "version": 3
   },
   "file_extension": ".py",
   "mimetype": "text/x-python",
   "name": "python",
   "nbconvert_exporter": "python",
   "pygments_lexer": "ipython3",
   "version": "3.6.5"
  }
 },
 "nbformat": 4,
 "nbformat_minor": 1
}
