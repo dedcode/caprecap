{
 "cells": [
  {
   "cell_type": "code",
   "execution_count": 222,
   "metadata": {},
   "outputs": [],
   "source": [
    "import numpy as np\n",
    "from scipy.special import gammaln, gamma\n",
    "from scipy.misc import comb\n",
    "from scipy.special import beta"
   ]
  },
  {
   "cell_type": "code",
   "execution_count": 67,
   "metadata": {},
   "outputs": [
    {
     "data": {
      "text/plain": [
       "array([2, 3, 1, 0, 3])"
      ]
     },
     "execution_count": 67,
     "metadata": {},
     "output_type": "execute_result"
    }
   ],
   "source": [
    "tmp_u = np.array([2, 3,1,0,3])\n",
    "tmp_u"
   ]
  },
  {
   "cell_type": "code",
   "execution_count": 283,
   "metadata": {},
   "outputs": [],
   "source": [
    "def get_imask(S, V):\n",
    "    s_mask = np.zeros([V,S])\n",
    "    q_mask = np.zeros([V,S])\n",
    "    for w in np.arange(V):\n",
    "        f, l = npdata[w, 0] , npdata[w, 1]\n",
    "        s_mask[w] = np.concatenate((np.ones(f+1), np.zeros(S - f -1)))\n",
    "        q_mask[w] = np.concatenate((np.zeros(l), np.ones(S-l)))\n",
    "    i_mask = np.einsum(\"is,iq->isq\", s_mask, q_mask)\n",
    "    return i_mask"
   ]
  },
  {
   "cell_type": "code",
   "execution_count": 68,
   "metadata": {},
   "outputs": [],
   "source": [
    "S = 3\n",
    "V = 5"
   ]
  },
  {
   "cell_type": "code",
   "execution_count": 69,
   "metadata": {},
   "outputs": [
    {
     "data": {
      "text/plain": [
       "array([[[1., 2., 3.],\n",
       "        [0., 1., 2.],\n",
       "        [0., 0., 1.]],\n",
       "\n",
       "       [[1., 2., 3.],\n",
       "        [0., 1., 2.],\n",
       "        [0., 0., 1.]],\n",
       "\n",
       "       [[1., 2., 3.],\n",
       "        [0., 1., 2.],\n",
       "        [0., 0., 1.]],\n",
       "\n",
       "       [[1., 2., 3.],\n",
       "        [0., 1., 2.],\n",
       "        [0., 0., 1.]],\n",
       "\n",
       "       [[1., 2., 3.],\n",
       "        [0., 1., 2.],\n",
       "        [0., 0., 1.]]])"
      ]
     },
     "execution_count": 69,
     "metadata": {},
     "output_type": "execute_result"
    }
   ],
   "source": [
    "n = np.broadcast_to(np.triu(np.ones([S,S]), 0).cumsum(axis =1), (V, S, S)) \n",
    "n"
   ]
  },
  {
   "cell_type": "code",
   "execution_count": 70,
   "metadata": {},
   "outputs": [
    {
     "data": {
      "text/plain": [
       "array([[[2., 2., 2.],\n",
       "        [2., 2., 2.],\n",
       "        [2., 2., 2.]],\n",
       "\n",
       "       [[3., 3., 3.],\n",
       "        [3., 3., 3.],\n",
       "        [3., 3., 3.]],\n",
       "\n",
       "       [[1., 1., 1.],\n",
       "        [1., 1., 1.],\n",
       "        [1., 1., 1.]],\n",
       "\n",
       "       [[0., 0., 0.],\n",
       "        [0., 0., 0.],\n",
       "        [0., 0., 0.]],\n",
       "\n",
       "       [[3., 3., 3.],\n",
       "        [3., 3., 3.],\n",
       "        [3., 3., 3.]]])"
      ]
     },
     "execution_count": 70,
     "metadata": {},
     "output_type": "execute_result"
    }
   ],
   "source": [
    "expanded_u = tmp_u[:, np.newaxis, np.newaxis] *  np.ones((V, S, S))\n",
    "expanded_u"
   ]
  },
  {
   "cell_type": "code",
   "execution_count": 76,
   "metadata": {},
   "outputs": [
    {
     "data": {
      "text/plain": [
       "array([[[0., 0., 1.],\n",
       "        [0., 0., 0.],\n",
       "        [0., 0., 0.]],\n",
       "\n",
       "       [[0., 0., 0.],\n",
       "        [0., 0., 0.],\n",
       "        [0., 0., 0.]],\n",
       "\n",
       "       [[0., 1., 2.],\n",
       "        [0., 0., 1.],\n",
       "        [0., 0., 0.]],\n",
       "\n",
       "       [[1., 2., 3.],\n",
       "        [0., 1., 2.],\n",
       "        [0., 0., 1.]],\n",
       "\n",
       "       [[0., 0., 0.],\n",
       "        [0., 0., 0.],\n",
       "        [0., 0., 0.]]])"
      ]
     },
     "execution_count": 76,
     "metadata": {},
     "output_type": "execute_result"
    }
   ],
   "source": [
    "n_u = np.triu(n - expanded_u, 0)\n",
    "n_u = np.clip(n_u,a_min=0,a_max=S)\n",
    "n_u"
   ]
  },
  {
   "cell_type": "code",
   "execution_count": 72,
   "metadata": {},
   "outputs": [
    {
     "name": "stdout",
     "output_type": "stream",
     "text": [
      "n\n",
      "[[1. 2. 3.]\n",
      " [0. 1. 2.]\n",
      " [0. 0. 1.]]\n",
      "\n",
      "n - k\n",
      "[[1. 2. 3.]\n",
      " [0. 1. 2.]\n",
      " [0. 0. 1.]]\n",
      "\n",
      "k\n",
      "[[0. 0. 0.]\n",
      " [0. 0. 0.]\n",
      " [0. 0. 0.]]\n"
     ]
    }
   ],
   "source": [
    "print(\"n\")\n",
    "print(n[3])\n",
    "print()\n",
    "print(\"n - k\")\n",
    "print(n_u[3])\n",
    "print()\n",
    "print(\"k\")\n",
    "print(expanded_u[3])"
   ]
  },
  {
   "cell_type": "code",
   "execution_count": 73,
   "metadata": {},
   "outputs": [
    {
     "data": {
      "text/plain": [
       "array([[[0.        , 0.33333333, 0.25      ],\n",
       "        [0.        , 0.        , 0.33333333],\n",
       "        [0.        , 0.        , 0.        ]],\n",
       "\n",
       "       [[0.        , 0.        , 0.25      ],\n",
       "        [0.        , 0.        , 0.        ],\n",
       "        [0.        , 0.        , 0.        ]],\n",
       "\n",
       "       [[0.5       , 0.33333333, 0.25      ],\n",
       "        [0.        , 0.5       , 0.33333333],\n",
       "        [0.        , 0.        , 0.5       ]],\n",
       "\n",
       "       [[0.5       , 0.33333333, 0.25      ],\n",
       "        [0.        , 0.5       , 0.33333333],\n",
       "        [0.        , 0.        , 0.5       ]],\n",
       "\n",
       "       [[0.        , 0.        , 0.25      ],\n",
       "        [0.        , 0.        , 0.        ],\n",
       "        [0.        , 0.        , 0.        ]]])"
      ]
     },
     "execution_count": 73,
     "metadata": {},
     "output_type": "execute_result"
    }
   ],
   "source": [
    "a, b = 1, 1\n",
    "# The beta binomial\n",
    "R_isq =   gammaln(n+1)\n",
    "R_isq -=  gammaln(expanded_u+1)\n",
    "R_isq -=  gammaln(n_u+1)   \n",
    "R_isq +=  gammaln(expanded_u+a)\n",
    "R_isq +=  gammaln(n_u+b)\n",
    "R_isq -=  gammaln(n+a+b)\n",
    "R_isq +=  gammaln(a+b) - gammaln(a) - gammaln(b)\n",
    "R_isq = np.exp(R_isq)\n",
    "R_isq[expanded_u > n] = 0\n",
    "R_isq[n == 0] = 0\n",
    "R_isq"
   ]
  },
  {
   "cell_type": "code",
   "execution_count": 59,
   "metadata": {},
   "outputs": [
    {
     "name": "stderr",
     "output_type": "stream",
     "text": [
      "/Users/ded/anaconda3/lib/python3.6/site-packages/ipykernel_launcher.py:2: DeprecationWarning: `comb` is deprecated!\n",
      "Importing `comb` from scipy.misc is deprecated in scipy 1.0.0. Use `scipy.special.comb` instead.\n",
      "  \n"
     ]
    },
    {
     "data": {
      "text/plain": [
       "0.3333333333333333"
      ]
     },
     "execution_count": 59,
     "metadata": {},
     "output_type": "execute_result"
    }
   ],
   "source": [
    "nt, kt = 2, 1\n",
    "comb(nt,kt) * (beta(kt+a, nt-kt+b) / beta(a,b))"
   ]
  },
  {
   "cell_type": "code",
   "execution_count": 28,
   "metadata": {},
   "outputs": [
    {
     "data": {
      "text/plain": [
       "2"
      ]
     },
     "execution_count": 28,
     "metadata": {},
     "output_type": "execute_result"
    }
   ],
   "source": []
  },
  {
   "cell_type": "code",
   "execution_count": 61,
   "metadata": {},
   "outputs": [
    {
     "data": {
      "text/plain": [
       "array([[1., 2., 3.],\n",
       "       [0., 1., 2.],\n",
       "       [0., 0., 1.]])"
      ]
     },
     "execution_count": 61,
     "metadata": {},
     "output_type": "execute_result"
    }
   ],
   "source": [
    "np.triu(np.ones([S,S]), 0).cumsum(axis =1)"
   ]
  },
  {
   "cell_type": "code",
   "execution_count": 75,
   "metadata": {},
   "outputs": [
    {
     "ename": "TypeError",
     "evalue": "tri() missing 1 required positional argument: 'N'",
     "output_type": "error",
     "traceback": [
      "\u001b[0;31m---------------------------------------------------------------------------\u001b[0m",
      "\u001b[0;31mTypeError\u001b[0m                                 Traceback (most recent call last)",
      "\u001b[0;32m<ipython-input-75-a99080d0c10d>\u001b[0m in \u001b[0;36m<module>\u001b[0;34m()\u001b[0m\n\u001b[0;32m----> 1\u001b[0;31m \u001b[0mnp\u001b[0m\u001b[0;34m.\u001b[0m\u001b[0mtriu\u001b[0m\u001b[0;34m(\u001b[0m\u001b[0;36m3\u001b[0m\u001b[0;34m,\u001b[0m \u001b[0;36m0\u001b[0m\u001b[0;34m)\u001b[0m\u001b[0;34m\u001b[0m\u001b[0m\n\u001b[0m",
      "\u001b[0;32m~/anaconda3/lib/python3.6/site-packages/numpy/lib/twodim_base.py\u001b[0m in \u001b[0;36mtriu\u001b[0;34m(m, k)\u001b[0m\n\u001b[1;32m    435\u001b[0m     \"\"\"\n\u001b[1;32m    436\u001b[0m     \u001b[0mm\u001b[0m \u001b[0;34m=\u001b[0m \u001b[0masanyarray\u001b[0m\u001b[0;34m(\u001b[0m\u001b[0mm\u001b[0m\u001b[0;34m)\u001b[0m\u001b[0;34m\u001b[0m\u001b[0m\n\u001b[0;32m--> 437\u001b[0;31m     \u001b[0mmask\u001b[0m \u001b[0;34m=\u001b[0m \u001b[0mtri\u001b[0m\u001b[0;34m(\u001b[0m\u001b[0;34m*\u001b[0m\u001b[0mm\u001b[0m\u001b[0;34m.\u001b[0m\u001b[0mshape\u001b[0m\u001b[0;34m[\u001b[0m\u001b[0;34m-\u001b[0m\u001b[0;36m2\u001b[0m\u001b[0;34m:\u001b[0m\u001b[0;34m]\u001b[0m\u001b[0;34m,\u001b[0m \u001b[0mk\u001b[0m\u001b[0;34m=\u001b[0m\u001b[0mk\u001b[0m\u001b[0;34m-\u001b[0m\u001b[0;36m1\u001b[0m\u001b[0;34m,\u001b[0m \u001b[0mdtype\u001b[0m\u001b[0;34m=\u001b[0m\u001b[0mbool\u001b[0m\u001b[0;34m)\u001b[0m\u001b[0;34m\u001b[0m\u001b[0m\n\u001b[0m\u001b[1;32m    438\u001b[0m \u001b[0;34m\u001b[0m\u001b[0m\n\u001b[1;32m    439\u001b[0m     \u001b[0;32mreturn\u001b[0m \u001b[0mwhere\u001b[0m\u001b[0;34m(\u001b[0m\u001b[0mmask\u001b[0m\u001b[0;34m,\u001b[0m \u001b[0mzeros\u001b[0m\u001b[0;34m(\u001b[0m\u001b[0;36m1\u001b[0m\u001b[0;34m,\u001b[0m \u001b[0mm\u001b[0m\u001b[0;34m.\u001b[0m\u001b[0mdtype\u001b[0m\u001b[0;34m)\u001b[0m\u001b[0;34m,\u001b[0m \u001b[0mm\u001b[0m\u001b[0;34m)\u001b[0m\u001b[0;34m\u001b[0m\u001b[0m\n",
      "\u001b[0;31mTypeError\u001b[0m: tri() missing 1 required positional argument: 'N'"
     ]
    }
   ],
   "source": [
    "np.triu(3, 0)"
   ]
  },
  {
   "cell_type": "code",
   "execution_count": 78,
   "metadata": {},
   "outputs": [
    {
     "data": {
      "text/plain": [
       "array([[[-1.,  0.,  1.],\n",
       "        [ 0., -1.,  0.],\n",
       "        [ 0.,  0., -1.]],\n",
       "\n",
       "       [[-2., -1.,  0.],\n",
       "        [ 0., -2., -1.],\n",
       "        [ 0.,  0., -2.]],\n",
       "\n",
       "       [[ 0.,  1.,  2.],\n",
       "        [ 0.,  0.,  1.],\n",
       "        [ 0.,  0.,  0.]],\n",
       "\n",
       "       [[ 1.,  2.,  3.],\n",
       "        [ 0.,  1.,  2.],\n",
       "        [ 0.,  0.,  1.]],\n",
       "\n",
       "       [[-2., -1.,  0.],\n",
       "        [ 0., -2., -1.],\n",
       "        [ 0.,  0., -2.]]])"
      ]
     },
     "execution_count": 78,
     "metadata": {},
     "output_type": "execute_result"
    }
   ],
   "source": [
    "np.triu(n - expanded_u, 0)"
   ]
  },
  {
   "cell_type": "code",
   "execution_count": 79,
   "metadata": {},
   "outputs": [
    {
     "name": "stderr",
     "output_type": "stream",
     "text": [
      "/Users/ded/anaconda3/lib/python3.6/site-packages/theano/gpuarray/dnn.py:184: UserWarning: Your cuDNN version is more recent than Theano. If you encounter problems, try updating Theano or downgrading cuDNN to a version >= v5 and <= v7.\n",
      "  warnings.warn(\"Your cuDNN version is more recent than \"\n",
      "Using cuDNN version 7201 on context None\n",
      "Mapped name None to device cuda: GeForce GTX 1080 Ti (0000:86:00.0)\n"
     ]
    }
   ],
   "source": [
    "import theano.tensor as tt"
   ]
  },
  {
   "cell_type": "code",
   "execution_count": 280,
   "metadata": {},
   "outputs": [],
   "source": [
    "count_capture = tmp_u\n",
    "n = np.broadcast_to(np.triu(np.ones([S,S]), 0).cumsum(axis =1), (V, S, S))\n",
    "capture = count_capture[:, np.newaxis, np.newaxis] *  np.ones((V, S, S))\n",
    "missed = np.triu(n - capture, 0)\n",
    "missed = np.clip(missed,a_min=0,a_max=S)"
   ]
  },
  {
   "cell_type": "code",
   "execution_count": 281,
   "metadata": {},
   "outputs": [
    {
     "name": "stdout",
     "output_type": "stream",
     "text": [
      "[[[1. 2. 3.]\n",
      "  [0. 1. 2.]\n",
      "  [0. 0. 1.]]\n",
      "\n",
      " [[1. 2. 3.]\n",
      "  [0. 1. 2.]\n",
      "  [0. 0. 1.]]\n",
      "\n",
      " [[1. 2. 3.]\n",
      "  [0. 1. 2.]\n",
      "  [0. 0. 1.]]\n",
      "\n",
      " [[1. 2. 3.]\n",
      "  [0. 1. 2.]\n",
      "  [0. 0. 1.]]\n",
      "\n",
      " [[1. 2. 3.]\n",
      "  [0. 1. 2.]\n",
      "  [0. 0. 1.]]]\n",
      "=====\n",
      "[[[2. 2. 2.]\n",
      "  [2. 2. 2.]\n",
      "  [2. 2. 2.]]\n",
      "\n",
      " [[3. 3. 3.]\n",
      "  [3. 3. 3.]\n",
      "  [3. 3. 3.]]\n",
      "\n",
      " [[1. 1. 1.]\n",
      "  [1. 1. 1.]\n",
      "  [1. 1. 1.]]\n",
      "\n",
      " [[0. 0. 0.]\n",
      "  [0. 0. 0.]\n",
      "  [0. 0. 0.]]\n",
      "\n",
      " [[3. 3. 3.]\n",
      "  [3. 3. 3.]\n",
      "  [3. 3. 3.]]]\n",
      "=====\n",
      "[[[0. 0. 1.]\n",
      "  [0. 0. 0.]\n",
      "  [0. 0. 0.]]\n",
      "\n",
      " [[0. 0. 0.]\n",
      "  [0. 0. 0.]\n",
      "  [0. 0. 0.]]\n",
      "\n",
      " [[0. 1. 2.]\n",
      "  [0. 0. 1.]\n",
      "  [0. 0. 0.]]\n",
      "\n",
      " [[1. 2. 3.]\n",
      "  [0. 1. 2.]\n",
      "  [0. 0. 1.]]\n",
      "\n",
      " [[0. 0. 0.]\n",
      "  [0. 0. 0.]\n",
      "  [0. 0. 0.]]]\n"
     ]
    }
   ],
   "source": [
    "print(n)\n",
    "print('=====')\n",
    "print(capture)\n",
    "print('=====')\n",
    "print(missed)"
   ]
  },
  {
   "cell_type": "code",
   "execution_count": 245,
   "metadata": {},
   "outputs": [
    {
     "data": {
      "text/plain": [
       "array([[[0.5       , 0.33333333, 0.25      ],\n",
       "        [1.        , 0.5       , 0.33333333],\n",
       "        [1.        , 1.        , 0.5       ]],\n",
       "\n",
       "       [[0.5       , 0.33333333, 0.25      ],\n",
       "        [1.        , 0.5       , 0.33333333],\n",
       "        [1.        , 1.        , 0.5       ]],\n",
       "\n",
       "       [[0.5       , 0.33333333, 0.25      ],\n",
       "        [1.        , 0.5       , 0.33333333],\n",
       "        [1.        , 1.        , 0.5       ]],\n",
       "\n",
       "       [[0.5       , 0.33333333, 0.25      ],\n",
       "        [1.        , 0.5       , 0.33333333],\n",
       "        [1.        , 1.        , 0.5       ]],\n",
       "\n",
       "       [[0.5       , 0.33333333, 0.25      ],\n",
       "        [1.        , 0.5       , 0.33333333],\n",
       "        [1.        , 1.        , 0.5       ]]])"
      ]
     },
     "execution_count": 245,
     "metadata": {},
     "output_type": "execute_result"
    }
   ],
   "source": [
    "a, b = 1, 1\n",
    "# The beta binomial\n",
    "R_isq  =  gamma(n+1)\n",
    "R_isq /=  gamma(capture+1) * gamma(missed+1)\n",
    "R_isq *=  gamma(capture+a) *  gamma(missed+b)\n",
    "R_isq /=  gamma(n+a+b)\n",
    "R_isq *=  gamma(a+b) \n",
    "R_isq /=  gamma(a) * gamma(b)\n",
    "R_isq"
   ]
  },
  {
   "cell_type": "code",
   "execution_count": null,
   "metadata": {},
   "outputs": [],
   "source": [
    "nt, kt = 2, 1\n",
    "comb(nt,kt) * (beta(kt+a, nt-kt+b) / beta(a,b))"
   ]
  },
  {
   "cell_type": "code",
   "execution_count": 264,
   "metadata": {},
   "outputs": [],
   "source": [
    "t = tt.constant(np.random.rand(5,3,3).round(1))"
   ]
  },
  {
   "cell_type": "code",
   "execution_count": 265,
   "metadata": {},
   "outputs": [
    {
     "data": {
      "text/plain": [
       "array([[[0.2, 0.9, 0.2],\n",
       "        [0.4, 0.5, 0.4],\n",
       "        [0.7, 0.7, 0.1]],\n",
       "\n",
       "       [[0.2, 0.3, 0.5],\n",
       "        [0.8, 0.4, 0. ],\n",
       "        [0.1, 0.6, 0.3]],\n",
       "\n",
       "       [[0.3, 0.3, 0.2],\n",
       "        [0.8, 0.3, 0.2],\n",
       "        [0.7, 0.1, 0.7]],\n",
       "\n",
       "       [[0.2, 0.1, 0.2],\n",
       "        [0. , 0.4, 0. ],\n",
       "        [0.9, 0.5, 1. ]],\n",
       "\n",
       "       [[0.4, 0.6, 0.1],\n",
       "        [0.6, 0.4, 0.1],\n",
       "        [0.5, 0.8, 0.7]]])"
      ]
     },
     "execution_count": 265,
     "metadata": {},
     "output_type": "execute_result"
    }
   ],
   "source": [
    "t.eval()"
   ]
  },
  {
   "cell_type": "code",
   "execution_count": 263,
   "metadata": {},
   "outputs": [
    {
     "data": {
      "text/plain": [
       "array([[[0, 0, 0],\n",
       "        [0, 1, 1],\n",
       "        [1, 0, 0]],\n",
       "\n",
       "       [[0, 0, 0],\n",
       "        [0, 1, 1],\n",
       "        [1, 0, 0]],\n",
       "\n",
       "       [[0, 0, 0],\n",
       "        [0, 1, 1],\n",
       "        [1, 0, 0]],\n",
       "\n",
       "       [[0, 0, 0],\n",
       "        [0, 1, 1],\n",
       "        [1, 0, 0]],\n",
       "\n",
       "       [[0, 0, 0],\n",
       "        [0, 1, 1],\n",
       "        [1, 0, 0]]])"
      ]
     },
     "execution_count": 263,
     "metadata": {},
     "output_type": "execute_result"
    }
   ],
   "source": [
    "z = np.broadcast_to(np.array([[0,0,0], [0,1,1], [1,0,0]]), (5, 3, 3)) \n",
    "z"
   ]
  },
  {
   "cell_type": "code",
   "execution_count": 267,
   "metadata": {},
   "outputs": [
    {
     "data": {
      "text/plain": [
       "array([[[0. , 0. , 0. ],\n",
       "        [0. , 0.5, 0.4],\n",
       "        [0.7, 0. , 0. ]],\n",
       "\n",
       "       [[0. , 0. , 0. ],\n",
       "        [0. , 0.4, 0. ],\n",
       "        [0.1, 0. , 0. ]],\n",
       "\n",
       "       [[0. , 0. , 0. ],\n",
       "        [0. , 0.3, 0.2],\n",
       "        [0.7, 0. , 0. ]],\n",
       "\n",
       "       [[0. , 0. , 0. ],\n",
       "        [0. , 0.4, 0. ],\n",
       "        [0.9, 0. , 0. ]],\n",
       "\n",
       "       [[0. , 0. , 0. ],\n",
       "        [0. , 0.4, 0.1],\n",
       "        [0.5, 0. , 0. ]]])"
      ]
     },
     "execution_count": 267,
     "metadata": {},
     "output_type": "execute_result"
    }
   ],
   "source": [
    "(t * z).eval()"
   ]
  },
  {
   "cell_type": "code",
   "execution_count": 279,
   "metadata": {},
   "outputs": [
    {
     "data": {
      "text/plain": [
       "array([[[1, 0, 0],\n",
       "        [1, 1, 0],\n",
       "        [1, 1, 1]],\n",
       "\n",
       "       [[1, 1, 0],\n",
       "        [1, 1, 1],\n",
       "        [1, 1, 1]],\n",
       "\n",
       "       [[0, 0, 0],\n",
       "        [1, 0, 0],\n",
       "        [1, 1, 0]],\n",
       "\n",
       "       [[0, 0, 0],\n",
       "        [1, 0, 0],\n",
       "        [1, 1, 0]],\n",
       "\n",
       "       [[1, 1, 0],\n",
       "        [1, 1, 1],\n",
       "        [1, 1, 1]]])"
      ]
     },
     "execution_count": 279,
     "metadata": {},
     "output_type": "execute_result"
    }
   ],
   "source": [
    "((n == 0) | (capture > n) ) * 1"
   ]
  },
  {
   "cell_type": "code",
   "execution_count": 284,
   "metadata": {},
   "outputs": [
    {
     "ename": "NameError",
     "evalue": "name 'npdata' is not defined",
     "output_type": "error",
     "traceback": [
      "\u001b[0;31m---------------------------------------------------------------------------\u001b[0m",
      "\u001b[0;31mNameError\u001b[0m                                 Traceback (most recent call last)",
      "\u001b[0;32m<ipython-input-284-1f14eb4bdef9>\u001b[0m in \u001b[0;36m<module>\u001b[0;34m()\u001b[0m\n\u001b[0;32m----> 1\u001b[0;31m \u001b[0mget_imask\u001b[0m\u001b[0;34m(\u001b[0m\u001b[0mS\u001b[0m\u001b[0;34m,\u001b[0m \u001b[0mV\u001b[0m\u001b[0;34m)\u001b[0m\u001b[0;34m\u001b[0m\u001b[0m\n\u001b[0m",
      "\u001b[0;32m<ipython-input-283-9380a2bc87b8>\u001b[0m in \u001b[0;36mget_imask\u001b[0;34m(S, V)\u001b[0m\n\u001b[1;32m      3\u001b[0m     \u001b[0mq_mask\u001b[0m \u001b[0;34m=\u001b[0m \u001b[0mnp\u001b[0m\u001b[0;34m.\u001b[0m\u001b[0mzeros\u001b[0m\u001b[0;34m(\u001b[0m\u001b[0;34m[\u001b[0m\u001b[0mV\u001b[0m\u001b[0;34m,\u001b[0m\u001b[0mS\u001b[0m\u001b[0;34m]\u001b[0m\u001b[0;34m)\u001b[0m\u001b[0;34m\u001b[0m\u001b[0m\n\u001b[1;32m      4\u001b[0m     \u001b[0;32mfor\u001b[0m \u001b[0mw\u001b[0m \u001b[0;32min\u001b[0m \u001b[0mnp\u001b[0m\u001b[0;34m.\u001b[0m\u001b[0marange\u001b[0m\u001b[0;34m(\u001b[0m\u001b[0mV\u001b[0m\u001b[0;34m)\u001b[0m\u001b[0;34m:\u001b[0m\u001b[0;34m\u001b[0m\u001b[0m\n\u001b[0;32m----> 5\u001b[0;31m         \u001b[0mf\u001b[0m\u001b[0;34m,\u001b[0m \u001b[0ml\u001b[0m \u001b[0;34m=\u001b[0m \u001b[0mnpdata\u001b[0m\u001b[0;34m[\u001b[0m\u001b[0mw\u001b[0m\u001b[0;34m,\u001b[0m \u001b[0;36m0\u001b[0m\u001b[0;34m]\u001b[0m \u001b[0;34m,\u001b[0m \u001b[0mnpdata\u001b[0m\u001b[0;34m[\u001b[0m\u001b[0mw\u001b[0m\u001b[0;34m,\u001b[0m \u001b[0;36m1\u001b[0m\u001b[0;34m]\u001b[0m\u001b[0;34m\u001b[0m\u001b[0m\n\u001b[0m\u001b[1;32m      6\u001b[0m         \u001b[0ms_mask\u001b[0m\u001b[0;34m[\u001b[0m\u001b[0mw\u001b[0m\u001b[0;34m]\u001b[0m \u001b[0;34m=\u001b[0m \u001b[0mnp\u001b[0m\u001b[0;34m.\u001b[0m\u001b[0mconcatenate\u001b[0m\u001b[0;34m(\u001b[0m\u001b[0;34m(\u001b[0m\u001b[0mnp\u001b[0m\u001b[0;34m.\u001b[0m\u001b[0mones\u001b[0m\u001b[0;34m(\u001b[0m\u001b[0mf\u001b[0m\u001b[0;34m+\u001b[0m\u001b[0;36m1\u001b[0m\u001b[0;34m)\u001b[0m\u001b[0;34m,\u001b[0m \u001b[0mnp\u001b[0m\u001b[0;34m.\u001b[0m\u001b[0mzeros\u001b[0m\u001b[0;34m(\u001b[0m\u001b[0mS\u001b[0m \u001b[0;34m-\u001b[0m \u001b[0mf\u001b[0m \u001b[0;34m-\u001b[0m\u001b[0;36m1\u001b[0m\u001b[0;34m)\u001b[0m\u001b[0;34m)\u001b[0m\u001b[0;34m)\u001b[0m\u001b[0;34m\u001b[0m\u001b[0m\n\u001b[1;32m      7\u001b[0m         \u001b[0mq_mask\u001b[0m\u001b[0;34m[\u001b[0m\u001b[0mw\u001b[0m\u001b[0;34m]\u001b[0m \u001b[0;34m=\u001b[0m \u001b[0mnp\u001b[0m\u001b[0;34m.\u001b[0m\u001b[0mconcatenate\u001b[0m\u001b[0;34m(\u001b[0m\u001b[0;34m(\u001b[0m\u001b[0mnp\u001b[0m\u001b[0;34m.\u001b[0m\u001b[0mzeros\u001b[0m\u001b[0;34m(\u001b[0m\u001b[0ml\u001b[0m\u001b[0;34m)\u001b[0m\u001b[0;34m,\u001b[0m \u001b[0mnp\u001b[0m\u001b[0;34m.\u001b[0m\u001b[0mones\u001b[0m\u001b[0;34m(\u001b[0m\u001b[0mS\u001b[0m\u001b[0;34m-\u001b[0m\u001b[0ml\u001b[0m\u001b[0;34m)\u001b[0m\u001b[0;34m)\u001b[0m\u001b[0;34m)\u001b[0m\u001b[0;34m\u001b[0m\u001b[0m\n",
      "\u001b[0;31mNameError\u001b[0m: name 'npdata' is not defined"
     ]
    }
   ],
   "source": [
    "get_imask(S, V)"
   ]
  },
  {
   "cell_type": "code",
   "execution_count": 298,
   "metadata": {},
   "outputs": [],
   "source": [
    "V, S = 5, 12\n",
    "aa = [2, 3, 0, 0, 2]\n",
    "ss = [2, 4, 2, 4, 4]\n",
    "s_mask = np.zeros([V,S])\n",
    "q_mask = np.zeros([V,S])\n",
    "for w in np.arange(V):\n",
    "    f, l = aa[w], ss[w]\n",
    "    s_mask[w] = np.concatenate((np.ones(f+1), np.zeros(S - f -1)))\n",
    "    q_mask[w] = np.concatenate((np.zeros(l), np.ones(S-l)))\n",
    "i_mask = np.einsum(\"is,iq->isq\", s_mask, q_mask)"
   ]
  },
  {
   "cell_type": "code",
   "execution_count": 303,
   "metadata": {},
   "outputs": [
    {
     "data": {
      "text/plain": [
       "array([[0., 0., 0., 0., 1., 1., 1., 1., 1., 1., 1., 1.],\n",
       "       [0., 0., 0., 0., 1., 1., 1., 1., 1., 1., 1., 1.],\n",
       "       [0., 0., 0., 0., 1., 1., 1., 1., 1., 1., 1., 1.],\n",
       "       [0., 0., 0., 0., 1., 1., 1., 1., 1., 1., 1., 1.],\n",
       "       [0., 0., 0., 0., 0., 0., 0., 0., 0., 0., 0., 0.],\n",
       "       [0., 0., 0., 0., 0., 0., 0., 0., 0., 0., 0., 0.],\n",
       "       [0., 0., 0., 0., 0., 0., 0., 0., 0., 0., 0., 0.],\n",
       "       [0., 0., 0., 0., 0., 0., 0., 0., 0., 0., 0., 0.],\n",
       "       [0., 0., 0., 0., 0., 0., 0., 0., 0., 0., 0., 0.],\n",
       "       [0., 0., 0., 0., 0., 0., 0., 0., 0., 0., 0., 0.],\n",
       "       [0., 0., 0., 0., 0., 0., 0., 0., 0., 0., 0., 0.],\n",
       "       [0., 0., 0., 0., 0., 0., 0., 0., 0., 0., 0., 0.]])"
      ]
     },
     "execution_count": 303,
     "metadata": {},
     "output_type": "execute_result"
    }
   ],
   "source": [
    "i_mask[1]"
   ]
  },
  {
   "cell_type": "code",
   "execution_count": 305,
   "metadata": {},
   "outputs": [],
   "source": [
    "V, S = 5, 3"
   ]
  },
  {
   "cell_type": "code",
   "execution_count": 306,
   "metadata": {},
   "outputs": [
    {
     "data": {
      "text/plain": [
       "array([[[1., 2., 3.],\n",
       "        [0., 1., 2.],\n",
       "        [0., 0., 1.]],\n",
       "\n",
       "       [[1., 2., 3.],\n",
       "        [0., 1., 2.],\n",
       "        [0., 0., 1.]],\n",
       "\n",
       "       [[1., 2., 3.],\n",
       "        [0., 1., 2.],\n",
       "        [0., 0., 1.]],\n",
       "\n",
       "       [[1., 2., 3.],\n",
       "        [0., 1., 2.],\n",
       "        [0., 0., 1.]],\n",
       "\n",
       "       [[1., 2., 3.],\n",
       "        [0., 1., 2.],\n",
       "        [0., 0., 1.]]])"
      ]
     },
     "execution_count": 306,
     "metadata": {},
     "output_type": "execute_result"
    }
   ],
   "source": [
    "np.broadcast_to(np.triu(np.ones([S,S]), 0).cumsum(axis =1), (V, S, S))"
   ]
  },
  {
   "cell_type": "code",
   "execution_count": null,
   "metadata": {},
   "outputs": [],
   "source": []
  }
 ],
 "metadata": {
  "kernelspec": {
   "display_name": "Python 3",
   "language": "python",
   "name": "python3"
  },
  "language_info": {
   "codemirror_mode": {
    "name": "ipython",
    "version": 3
   },
   "file_extension": ".py",
   "mimetype": "text/x-python",
   "name": "python",
   "nbconvert_exporter": "python",
   "pygments_lexer": "ipython3",
   "version": "3.6.5"
  }
 },
 "nbformat": 4,
 "nbformat_minor": 2
}
