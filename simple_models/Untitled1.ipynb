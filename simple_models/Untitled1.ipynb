{
 "cells": [
  {
   "cell_type": "code",
   "execution_count": 29,
   "metadata": {},
   "outputs": [],
   "source": [
    "import pandas as pd\n",
    "import numpy as np\n",
    "import scipy.optimize as sciopt\n",
    "np.set_printoptions(suppress=True, precision=200)\n",
    "\n",
    "\n",
    "# bounds for parameters to lie between (0,1), \n",
    "# absolute zero (0) for lower bound avoided as log takes an infinite value \n",
    "bnds = [(0.001e-12,1) for i in range(12)]"
   ]
  },
  {
   "cell_type": "code",
   "execution_count": 30,
   "metadata": {},
   "outputs": [],
   "source": [
    "a = [0,1,2,3,2,1,6,0,1,1,7,10]"
   ]
  },
  {
   "cell_type": "code",
   "execution_count": 31,
   "metadata": {},
   "outputs": [],
   "source": [
    "# Initializing parameters value for optimization\n",
    "init_parameters = np.asarray([0.1 for i in range(12)])"
   ]
  },
  {
   "cell_type": "code",
   "execution_count": 32,
   "metadata": {},
   "outputs": [],
   "source": [
    "# Negative Log Likelihood Function\n",
    "neg_log_lik = lambda p: -np.sum(a*np.log(p))"
   ]
  },
  {
   "cell_type": "code",
   "execution_count": 33,
   "metadata": {},
   "outputs": [],
   "source": [
    "# Constraint sum(p) = 1\n",
    "cons = {'type': 'eq', 'fun': lambda p:  (sum(p) - 1) }"
   ]
  },
  {
   "cell_type": "code",
   "execution_count": 34,
   "metadata": {},
   "outputs": [
    {
     "data": {
      "text/plain": [
       "array([0.000000000000001   , 0.02941793080222571 , 0.05882435856115222 ,\n",
       "       0.08823946053385909 , 0.05882435856111653 , 0.029405973531551714,\n",
       "       0.1764547134459892  , 0.000000000000001   , 0.029413457672558048,\n",
       "       0.02941357142288694 , 0.20584919706277846 , 0.29415697843153904 ])"
      ]
     },
     "execution_count": 34,
     "metadata": {},
     "output_type": "execute_result"
    }
   ],
   "source": [
    "# Minimizing neg_log_lik\n",
    "results = sciopt.minimize(neg_log_lik, x0 = init_parameters, \n",
    "                          method='SLSQP', bounds= bnds, constraints= cons)\n",
    "\n",
    "results.x                                    # point estimates for p"
   ]
  },
  {
   "cell_type": "code",
   "execution_count": 35,
   "metadata": {},
   "outputs": [
    {
     "data": {
      "text/plain": [
       "1.000000000025659"
      ]
     },
     "execution_count": 35,
     "metadata": {},
     "output_type": "execute_result"
    }
   ],
   "source": [
    "results.x.sum()"
   ]
  },
  {
   "cell_type": "code",
   "execution_count": 36,
   "metadata": {},
   "outputs": [
    {
     "data": {
      "text/plain": [
       "1.2000000000000002"
      ]
     },
     "execution_count": 36,
     "metadata": {},
     "output_type": "execute_result"
    }
   ],
   "source": [
    "init_parameters.sum()"
   ]
  },
  {
   "cell_type": "code",
   "execution_count": null,
   "metadata": {},
   "outputs": [],
   "source": []
  }
 ],
 "metadata": {
  "kernelspec": {
   "display_name": "Python 3",
   "language": "python",
   "name": "python3"
  },
  "language_info": {
   "codemirror_mode": {
    "name": "ipython",
    "version": 3
   },
   "file_extension": ".py",
   "mimetype": "text/x-python",
   "name": "python",
   "nbconvert_exporter": "python",
   "pygments_lexer": "ipython3",
   "version": "3.6.5"
  }
 },
 "nbformat": 4,
 "nbformat_minor": 2
}
