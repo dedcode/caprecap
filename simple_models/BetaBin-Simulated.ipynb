{
 "cells": [
  {
   "cell_type": "code",
   "execution_count": 1,
   "metadata": {},
   "outputs": [],
   "source": [
    "import numpy as np\n",
    "import pandas as pd\n",
    "from scipy.special import gammaln, gamma\n",
    "from collections import Counter\n",
    "from scipy.optimize import basinhopping\n",
    "np.set_printoptions(suppress=True)\n",
    "import math"
   ]
  },
  {
   "cell_type": "code",
   "execution_count": 262,
   "metadata": {},
   "outputs": [
    {
     "name": "stdout",
     "output_type": "stream",
     "text": [
      "(36,)\n",
      "35 183951.0 16049.0\n"
     ]
    }
   ],
   "source": [
    "# Load the data and process it.\n",
    "#data = np.array([0, 21255, 3480, 498, 64, 7])\n",
    "#data = np.array([0, 22844, 2951, 373, 30, 3])\n",
    "#data = np.array([0., 29726.,  6738.,  2795.,  1529.,  1011.,   649.,   471., 370.,   261.,   222.,   193.,   183.,   120.,   108.,    95.,  81.,    79.,    44.,    58.,    51.,    40.,    36.,    32., 28.,    28.,    24.,    15.,     8.,    10.,     6.,     4., 7.,     0.,     0.])\n",
    "#data = np.array([    0., 12874.,  2693.,  1035.,   501.,   295.,   210.,   127.,  94.,    54.,    15.])\n",
    "\n",
    "data = np.array([0.0, 11167.0, 9261.0, 8350.0, 7504.0, 7107.0, 6654.0, 6313.0, 6086.0, 5932.0, 5600.0, 5474.0, 5400.0, 5283.0, 5143.0, 4924.0, 4896.0, 4755.0, 4640.0, 4635.0, 4467.0, 4427.0, 4297.0, 4338.0, 4340.0, 4250.0, 4125.0, 4154.0, 3952.0, 4019.0, 3849.0, 3873.0, 3856.0, 3704.0, 3681.0, 3495.0])\n",
    "\n",
    "print(data.shape)\n",
    "S = 35\n",
    "V = data.sum()\n",
    "U = 200000 - V\n",
    "print(S, V, U)"
   ]
  },
  {
   "cell_type": "code",
   "execution_count": 263,
   "metadata": {},
   "outputs": [],
   "source": [
    "# Alpha Beta version\n",
    "def BB(S, k, alpha, beta, NT):\n",
    "    up   = gammaln(k + alpha) + gammaln(S - k + beta) + gammaln(alpha + beta) # + np.log(alpha + beta)\n",
    "    down = gammaln(alpha) + gammaln(beta) + gammaln(S + alpha + beta) #+ np.log(NT) + np.log(alpha) \n",
    "    return up - down"
   ]
  },
  {
   "cell_type": "code",
   "execution_count": 264,
   "metadata": {},
   "outputs": [],
   "source": [
    "def mll(initParams):\n",
    "    # params\n",
    "    f0    = initParams[0]\n",
    "    alpha = initParams[1]\n",
    "    beta  = initParams[2]\n",
    "    \n",
    "    N = gammaln(V + f0 +1) - gammaln(f0 + 1) \n",
    "    L0 = f0 * BB(S, 0, alpha, beta, V+f0)\n",
    "    Lk = np.sum(data * BB(S, np.arange(S+1), alpha, beta, V+f0))\n",
    "    \n",
    "    obj = N + L0 + Lk\n",
    "    return -obj"
   ]
  },
  {
   "cell_type": "code",
   "execution_count": 265,
   "metadata": {},
   "outputs": [
    {
     "name": "stdout",
     "output_type": "stream",
     "text": [
      "                        fun: 1391174.5732946573\n",
      " lowest_optimization_result:      fun: 1391174.5732946573\n",
      "     jac: array([-0.06984919,  2.79396772, -0.79162419])\n",
      " message: 'Max. number of function evaluations reached'\n",
      "    nfev: 100\n",
      "     nit: 11\n",
      "  status: 3\n",
      " success: False\n",
      "       x: array([16501.01783467,     0.67301669,     1.01722331])\n",
      "                    message: ['requested number of basinhopping iterations completed successfully']\n",
      "      minimization_failures: 468\n",
      "                       nfev: 64590\n",
      "                        nit: 1000\n",
      "                          x: array([16501.01783467,     0.67301669,     1.01722331])\n",
      "200452.01783467486\n"
     ]
    }
   ],
   "source": [
    "# Bounds\n",
    "# absolute zero (0) for lower bound avoided as log takes an infinite value \n",
    "B= [(1,None), (0.001e-12, None), (0.001e-12, None)]\n",
    "\n",
    "#args\n",
    "minimizer_kwargs = dict(method=\"TNC\", bounds=B)\n",
    "\n",
    "#run\n",
    "initParams = np.array([1, 1, 5])\n",
    "res = basinhopping(mll, initParams, minimizer_kwargs=minimizer_kwargs, niter = 1000)\n",
    "print(res)\n",
    "print(res['x'][0] + V)\n",
    "alpha0 = res['x'][1]\n",
    "beta0 = res['x'][2]\n",
    "#μ=alpha0/(alpha0+beta0)\n",
    "#τ=alpha0+beta0\n",
    "#print(μ, τ)"
   ]
  },
  {
   "cell_type": "code",
   "execution_count": 224,
   "metadata": {},
   "outputs": [
    {
     "data": {
      "text/plain": [
       "243032.89928001293"
      ]
     },
     "execution_count": 224,
     "metadata": {},
     "output_type": "execute_result"
    }
   ],
   "source": [
    "mll([195846.0,     0.02 ,    20])"
   ]
  },
  {
   "cell_type": "code",
   "execution_count": null,
   "metadata": {},
   "outputs": [],
   "source": [
    "mll([U,  .8,  5])"
   ]
  },
  {
   "cell_type": "code",
   "execution_count": null,
   "metadata": {},
   "outputs": [],
   "source": [
    "mll([1101208, 0.1, 5])"
   ]
  },
  {
   "cell_type": "code",
   "execution_count": null,
   "metadata": {},
   "outputs": [],
   "source": [
    "200000 - 25304"
   ]
  },
  {
   "cell_type": "code",
   "execution_count": null,
   "metadata": {},
   "outputs": [],
   "source": [
    "mll([83793.7773379 ,     0.19999895,     4.07278073,     0.01197954,\n",
    "           0.70142692])"
   ]
  },
  {
   "cell_type": "code",
   "execution_count": null,
   "metadata": {},
   "outputs": [],
   "source": [
    "mll([234776.72579006,      0.03929604,      3.78447354,      0.01050833,\n",
    "            0.33356468])"
   ]
  },
  {
   "cell_type": "code",
   "execution_count": null,
   "metadata": {},
   "outputs": [],
   "source": [
    "mll([57392.28189185,     0.38756928,     4.32406151,     0.01459061,\n",
    "           0.80091354])"
   ]
  },
  {
   "cell_type": "code",
   "execution_count": null,
   "metadata": {},
   "outputs": [],
   "source": [
    "mll([125104.16766101,      0.09702091,      3.89744013,      0.01093061,\n",
    "            0.54677371])"
   ]
  },
  {
   "cell_type": "code",
   "execution_count": null,
   "metadata": {},
   "outputs": [],
   "source": [
    "mll([12.8,      0.09702091,      3.89744013])"
   ]
  },
  {
   "cell_type": "code",
   "execution_count": null,
   "metadata": {},
   "outputs": [],
   "source": [
    "ddd = dict(Counter(data[data['count'] == 1]['max'].values))\n",
    "lists = sorted(ddd.items())\n",
    "x, y = zip(*lists)\n",
    "plt.plot(x, y)"
   ]
  },
  {
   "cell_type": "code",
   "execution_count": null,
   "metadata": {},
   "outputs": [],
   "source": [
    "lists"
   ]
  },
  {
   "cell_type": "code",
   "execution_count": null,
   "metadata": {},
   "outputs": [],
   "source": [
    "%matplotlib inline"
   ]
  },
  {
   "cell_type": "code",
   "execution_count": null,
   "metadata": {},
   "outputs": [],
   "source": [
    "import matplotlib.pyplot as plt"
   ]
  },
  {
   "cell_type": "code",
   "execution_count": null,
   "metadata": {},
   "outputs": [],
   "source": [
    "np.sum(data * BB(S, np.arange(S), 2, 5)[:len(data)])"
   ]
  },
  {
   "cell_type": "code",
   "execution_count": null,
   "metadata": {},
   "outputs": [],
   "source": [
    "BB(S, 0, 2, 5)"
   ]
  },
  {
   "cell_type": "code",
   "execution_count": null,
   "metadata": {},
   "outputs": [],
   "source": [
    "up"
   ]
  },
  {
   "cell_type": "code",
   "execution_count": null,
   "metadata": {},
   "outputs": [],
   "source": [
    "gamma(S-k+5)"
   ]
  },
  {
   "cell_type": "code",
   "execution_count": null,
   "metadata": {},
   "outputs": [],
   "source": [
    "np.arange(S)"
   ]
  },
  {
   "cell_type": "code",
   "execution_count": null,
   "metadata": {},
   "outputs": [],
   "source": [
    "np.sum(data * BB(S, np.arange(S), 2, 5))"
   ]
  },
  {
   "cell_type": "code",
   "execution_count": null,
   "metadata": {},
   "outputs": [],
   "source": [
    "data.shape"
   ]
  },
  {
   "cell_type": "code",
   "execution_count": null,
   "metadata": {},
   "outputs": [],
   "source": []
  }
 ],
 "metadata": {
  "kernelspec": {
   "display_name": "Python 3",
   "language": "python",
   "name": "python3"
  },
  "language_info": {
   "codemirror_mode": {
    "name": "ipython",
    "version": 3
   },
   "file_extension": ".py",
   "mimetype": "text/x-python",
   "name": "python",
   "nbconvert_exporter": "python",
   "pygments_lexer": "ipython3",
   "version": "3.6.5"
  }
 },
 "nbformat": 4,
 "nbformat_minor": 2
}
