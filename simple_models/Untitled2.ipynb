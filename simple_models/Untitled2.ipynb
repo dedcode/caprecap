{
 "cells": [
  {
   "cell_type": "code",
   "execution_count": 1,
   "metadata": {},
   "outputs": [],
   "source": [
    "from tqdm import tqdm\n",
    "import numpy as np\n",
    "from scipy.stats import binom, beta\n",
    "from scipy.special import gamma\n",
    "np.set_printoptions(suppress=True)\n",
    "from collections import Counter\n",
    "%matplotlib inline\n",
    "import matplotlib.pyplot as plt\n",
    "from scipy.stats import bernoulli"
   ]
  },
  {
   "cell_type": "code",
   "execution_count": 9,
   "metadata": {},
   "outputs": [
    {
     "data": {
      "text/plain": [
       "0.14754542647874416"
      ]
     },
     "execution_count": 9,
     "metadata": {},
     "output_type": "execute_result"
    }
   ],
   "source": [
    "a = 1.478638\n",
    "b = 8.542940\n",
    "u = a / (a + b)\n",
    "u"
   ]
  },
  {
   "cell_type": "code",
   "execution_count": 10,
   "metadata": {},
   "outputs": [
    {
     "data": {
      "text/plain": [
       "14754.542647874416"
      ]
     },
     "execution_count": 10,
     "metadata": {},
     "output_type": "execute_result"
    }
   ],
   "source": [
    "u * 100000"
   ]
  },
  {
   "cell_type": "code",
   "execution_count": 11,
   "metadata": {},
   "outputs": [
    {
     "data": {
      "text/plain": [
       "14684.79997669643"
      ]
     },
     "execution_count": 11,
     "metadata": {},
     "output_type": "execute_result"
    }
   ],
   "source": [
    "np.random.choice(su10k, N, replace = False).sum()"
   ]
  },
  {
   "cell_type": "code",
   "execution_count": 4,
   "metadata": {},
   "outputs": [],
   "source": [
    "import seaborn as sns\n",
    "from matplotlib import rcParams\n",
    "\n",
    "# figure size in inches\n",
    "rcParams['figure.figsize'] = 11.7,8.27\n",
    "\n",
    "N = 100000\n",
    "su0 = []\n",
    "su1k = []\n",
    "su2k = []\n",
    "su10k = []\n",
    "su20k = []\n",
    "su30k = []\n",
    "su40k = []\n",
    "su50k = []\n",
    "su60k = []\n",
    "su70k = []\n",
    "su80k = []\n",
    "\n",
    "propfix = beta.rvs(.5, 8, size = N)\n",
    "\n",
    "for _ in range(10000):\n",
    "    tmp = np.random.choice(propfix, 100, replace = False, p = propfix/ propfix.sum())\n",
    "    for i in tmp:\n",
    "        su0.append(i)\n",
    "        \n",
    "for _ in range(1000):\n",
    "    tmp = np.random.choice(propfix, 1000, replace = False, p = propfix/ propfix.sum())\n",
    "    for i in tmp:\n",
    "        su1k.append(i)\n",
    "\n",
    "for _ in range(1000):\n",
    "    tmp = np.random.choice(propfix, 2000, replace = False, p = propfix/ propfix.sum())\n",
    "    for i in tmp:\n",
    "        su2k.append(i)\n",
    "        \n",
    "for _ in range(100):\n",
    "    tmp = np.random.choice(propfix, 10000, replace = False, p = propfix/ propfix.sum())\n",
    "    for i in tmp:\n",
    "        su10k.append(i)\n",
    "for _ in range(100):\n",
    "    tmp = np.random.choice(propfix, 20000, replace = False, p = propfix/ propfix.sum())\n",
    "    for i in tmp:\n",
    "        su20k.append(i)\n",
    "for _ in range(100):\n",
    "    tmp = np.random.choice(propfix, 30000, replace = False, p = propfix/ propfix.sum())\n",
    "    for i in tmp:\n",
    "        su30k.append(i)\n",
    "for _ in range(100):\n",
    "    tmp = np.random.choice(propfix, 40000, replace = False, p = propfix/ propfix.sum())\n",
    "    for i in tmp:\n",
    "        su40k.append(i)\n",
    "for _ in range(100):\n",
    "    tmp = np.random.choice(propfix, 50000, replace = False, p = propfix/ propfix.sum())\n",
    "    for i in tmp:\n",
    "        su50k.append(i)\n",
    "for _ in range(100):\n",
    "    tmp = np.random.choice(propfix, 60000, replace = False, p = propfix/ propfix.sum())\n",
    "    for i in tmp:\n",
    "        su60k.append(i)   \n",
    "for _ in range(100):\n",
    "    tmp = np.random.choice(propfix, 70000, replace = False, p = propfix/ propfix.sum())\n",
    "    for i in tmp:\n",
    "        su70k.append(i)   \n",
    "for _ in range(10):\n",
    "    tmp = np.random.choice(propfix, 80000, replace = False, p = propfix/ propfix.sum())\n",
    "    for i in tmp:\n",
    "        su80k.append(i)\n",
    "        \n",
    "su0 = np.array(su0)\n",
    "su1k = np.array(su1k)\n",
    "su2k = np.array(su2k)\n",
    "su10k = np.array(su10k)\n",
    "su20k = np.array(su20k)\n",
    "su30k = np.array(su30k)\n",
    "su40k = np.array(su40k)\n",
    "su50k = np.array(su50k)\n",
    "su60k = np.array(su60k)\n",
    "su70k = np.array(su70k)\n",
    "su80k = np.array(su80k)"
   ]
  },
  {
   "cell_type": "code",
   "execution_count": null,
   "metadata": {},
   "outputs": [],
   "source": []
  }
 ],
 "metadata": {
  "kernelspec": {
   "display_name": "Python 3",
   "language": "python",
   "name": "python3"
  },
  "language_info": {
   "codemirror_mode": {
    "name": "ipython",
    "version": 3
   },
   "file_extension": ".py",
   "mimetype": "text/x-python",
   "name": "python",
   "nbconvert_exporter": "python",
   "pygments_lexer": "ipython3",
   "version": "3.6.5"
  }
 },
 "nbformat": 4,
 "nbformat_minor": 2
}
