{
 "cells": [
  {
   "cell_type": "code",
   "execution_count": 1,
   "metadata": {
    "colab": {},
    "colab_type": "code",
    "id": "Sjfvgkwcpbgo"
   },
   "outputs": [
    {
     "name": "stderr",
     "output_type": "stream",
     "text": [
      "/Users/ded/anaconda3/lib/python3.6/site-packages/h5py/__init__.py:36: FutureWarning: Conversion of the second argument of issubdtype from `float` to `np.floating` is deprecated. In future, it will be treated as `np.float64 == np.dtype(float).type`.\n",
      "  from ._conv import register_converters as _register_converters\n"
     ]
    }
   ],
   "source": [
    "%matplotlib inline\n",
    "import matplotlib.pyplot as plt\n",
    "import re\n",
    "from tqdm import tqdm\n",
    "import numpy as np\n",
    "import pandas as pd\n",
    "import pymc3 as pm\n",
    "from theano import shared\n",
    "import theano.tensor as tt\n",
    "import theano\n",
    "from pymc3.distributions.dist_math import binomln, betaln, bound\n",
    "from collections import Counter\n",
    "np.set_printoptions(suppress=True)"
   ]
  },
  {
   "cell_type": "code",
   "execution_count": 2,
   "metadata": {},
   "outputs": [],
   "source": [
    "import re\n",
    "def plot_traces(trcs, varnames=None):\n",
    "    '''Plot traces with overlaid means and values'''\n",
    "\n",
    "    nrows = len(trcs.varnames)\n",
    "    if varnames is not None:\n",
    "        nrows = len(varnames)\n",
    "\n",
    "    ax = pm.traceplot(trcs, varnames=varnames, figsize=(12,nrows*1.4),\n",
    "                      lines={k: v['mean'] for k, v in\n",
    "                             pm.summary(trcs,varnames=varnames).iterrows()})\n",
    "\n",
    "    for i, mn in enumerate(pm.summary(trcs, varnames=varnames)['mean']):\n",
    "        ax[i,0].annotate('{:.2f}'.format(mn), xy=(mn,0), xycoords='data',\n",
    "                         xytext=(5,10), textcoords='offset points', rotation=90,\n",
    "                         va='bottom', fontsize='large', color='#AA0022')\n",
    "def strip_derived_rvs(rvs):\n",
    "    '''Remove PyMC3-generated RVs from a list'''\n",
    "\n",
    "    ret_rvs = []\n",
    "    for rv in rvs:\n",
    "        if not (re.search('_log',rv.name) or re.search('_interval',rv.name)):\n",
    "            ret_rvs.append(rv)\n",
    "    return ret_rvs"
   ]
  },
  {
   "cell_type": "code",
   "execution_count": 126,
   "metadata": {},
   "outputs": [],
   "source": [
    "dat = np.array([0,11,12,10,4,4,1,4,2,3,3,0,2,4,1,1,0,1,1,1,2,0,1,0,0,0,0,0,0,0,1,3,0,0,0,0,0,0])"
   ]
  },
  {
   "cell_type": "code",
   "execution_count": 127,
   "metadata": {},
   "outputs": [
    {
     "name": "stdout",
     "output_type": "stream",
     "text": [
      "37 72\n"
     ]
    }
   ],
   "source": [
    "S = len(dat) -1\n",
    "V = dat.sum()\n",
    "print(S, V)"
   ]
  },
  {
   "cell_type": "code",
   "execution_count": 105,
   "metadata": {},
   "outputs": [
    {
     "name": "stdout",
     "output_type": "stream",
     "text": [
      "6 68\n"
     ]
    }
   ],
   "source": [
    "dat = np.array([0,25,22,13,5,1,2])\n",
    "S = 6\n",
    "V = dat.sum()\n",
    "print(S, V)"
   ]
  },
  {
   "cell_type": "code",
   "execution_count": 1451,
   "metadata": {},
   "outputs": [],
   "source": [
    "from scipy.special import gammaln"
   ]
  },
  {
   "cell_type": "code",
   "execution_count": 1555,
   "metadata": {},
   "outputs": [],
   "source": [
    "# Load the data and process it.\n",
    "\n",
    "df = pd.read_csv(\"../mturk_surveys.csv\")\n",
    "df[\"hit_answered_date\"]=pd.to_datetime(df[\"hit_answered_date\"])\n",
    "df['date'] = pd.to_datetime(df['hit_answered_date'].apply(lambda x : x.date()))\n",
    "\n",
    "# Create a list of all unique worker IDs \n",
    "workers = pd.DataFrame(list(set(df.worker_id)), columns=['worker_id']).reset_index().set_index('worker_id')\n",
    "\n",
    "# Calculate the time period of each survey answer. \n",
    "# Below we take out time period to be 30-day periods. \n",
    "# We can change this to be weeks, months, or anything else\n",
    "window_length = 30\n",
    "minDate = min(df['date'])\n",
    "df['period'] = (df['date'] - minDate).dt.days // window_length \n",
    "\n",
    "# Fix the issue of duplicate records within the same period.\n",
    "data = df[['worker_id', 'period']].drop_duplicates().pivot_table(\n",
    "    index = 'worker_id',\n",
    "    values = 'period',                    \n",
    "    aggfunc=('count','min','max')\n",
    ").join(workers).set_index('index').sort_index()\n",
    "\n",
    "# Aggregate the capture histories\n",
    "#data = data.groupby(['min', 'max', 'count']).size().reset_index(name='count_history')"
   ]
  },
  {
   "cell_type": "code",
   "execution_count": 1557,
   "metadata": {},
   "outputs": [
    {
     "data": {
      "text/plain": [
       "35"
      ]
     },
     "execution_count": 1557,
     "metadata": {},
     "output_type": "execute_result"
    }
   ],
   "source": [
    "max(df['period'])"
   ]
  },
  {
   "cell_type": "code",
   "execution_count": 1169,
   "metadata": {},
   "outputs": [],
   "source": [
    "S = 35\n",
    "dat = np.zeros(S + 1)\n",
    "out = Counter(data['count'].values)"
   ]
  },
  {
   "cell_type": "code",
   "execution_count": 1170,
   "metadata": {},
   "outputs": [
    {
     "name": "stdout",
     "output_type": "stream",
     "text": [
      "35 46145\n"
     ]
    }
   ],
   "source": [
    "for k,v in out.items():\n",
    "    dat[k] = v\n",
    "V = len(workers)\n",
    "print(S, V)"
   ]
  },
  {
   "cell_type": "code",
   "execution_count": 1071,
   "metadata": {},
   "outputs": [
    {
     "name": "stdout",
     "output_type": "stream",
     "text": [
      "6 68\n"
     ]
    }
   ],
   "source": [
    "dat = [0,25,22,13,5,1,2]\n",
    "S = 6 \n",
    "V = 68\n",
    "print(S, V)"
   ]
  },
  {
   "cell_type": "code",
   "execution_count": 1072,
   "metadata": {
    "colab": {},
    "colab_type": "code",
    "id": "2yXnG7rkqTs6"
   },
   "outputs": [],
   "source": [
    "def logp_capture(alpha, beta, U, D, S):\n",
    "    def ll_capture_f(ni):\n",
    "        \n",
    "        # useful vars\n",
    "        i = tt.arange(S + 1)\n",
    "        \n",
    "        # At least one capture\n",
    "        # binomln(n, k) + betaln(k + alpha, n - k + beta) - betaln(alpha, beta)\n",
    "        \n",
    "        #binomln\n",
    "        Li =  tt.gammaln(S + 1) - tt.gammaln(i + 1) - tt.gammaln(S - i + 1)\n",
    "        \n",
    "        # betaln(i + alpha, n - i + beta)\n",
    "        # betaln = gammaln(x) + gammaln(y) - gammaln(x + y)\n",
    "        \n",
    "        Li += tt.gammaln(i + alpha) + tt.gammaln(S - i + beta) - tt.gammaln(S + alpha + beta)\n",
    "        \n",
    "        # - betaln(alpha, beta)\n",
    "        # gammaln(x) + gammaln(y) - gammaln(x + y)\n",
    "        \n",
    "        Li += tt.gammaln(alpha + beta) - tt.gammaln(alpha) - tt.gammaln(beta)\n",
    "        \n",
    "        # No captures\n",
    "        #(betaln(alpha, S + beta) - betaln(alpha, beta))\n",
    "        \n",
    "        L0  = tt.gammaln(S + beta) - tt.gammaln(S + alpha + beta) + tt.gammaln(alpha + beta) - tt.gammaln(beta)\n",
    "        \n",
    "        # Likelihood\n",
    "        obj1 = tt.gammaln(D+U+1) - tt.gammaln(U+1.0) - tt.sum(tt.gammaln(ni+1))\n",
    "        obj2 = tt.sum(tt.mul(ni, Li))\n",
    "        obj3 = U * L0\n",
    "        objective = obj1 + obj2 + obj3 \n",
    "        \n",
    "        #print(tt.exp(Li).eval())\n",
    "        return objective\n",
    "    \n",
    "    return ll_capture_f"
   ]
  },
  {
   "cell_type": "code",
   "execution_count": 1073,
   "metadata": {
    "colab": {},
    "colab_type": "code",
    "id": "pATM9j8cqTs8",
    "scrolled": false
   },
   "outputs": [
    {
     "name": "stderr",
     "output_type": "stream",
     "text": [
      "INFO (theano.gof.compilelock): Refreshing lock /Users/ded/.theano/compiledir_Darwin-17.7.0-x86_64-i386-64bit-i386-3.6.5-64/lock_dir/lock\n"
     ]
    }
   ],
   "source": [
    "# custom log-liklihood model\n",
    "with pm.Model() as model:\n",
    "    # parameters\n",
    "    U = pm.Uniform('Unseen', lower=0, upper=200)\n",
    "    a = pm.Uniform('alpha', 0., 100.)\n",
    "    b = pm.Uniform('beta', 0., 100.)\n",
    "    # Model Log-likelihood\n",
    "    ob = pm.DensityDist('x', logp_capture(a, b, U, V, S), observed=dat)"
   ]
  },
  {
   "cell_type": "code",
   "execution_count": 1074,
   "metadata": {},
   "outputs": [
    {
     "name": "stderr",
     "output_type": "stream",
     "text": [
      "Auto-assigning NUTS sampler...\n",
      "Initializing NUTS using jitter+adapt_diag...\n",
      "Multiprocess sampling (4 chains in 4 jobs)\n",
      "NUTS: [beta, alpha, Unseen]\n",
      "Sampling 4 chains: 100%|██████████| 22000/22000 [00:12<00:00, 1701.67draws/s]\n",
      "There were 4 divergences after tuning. Increase `target_accept` or reparameterize.\n",
      "The acceptance probability does not match the target. It is 0.6291558947883568, but should be close to 0.8. Try to increase the number of tuning steps.\n",
      "The number of effective samples is smaller than 10% for some parameters.\n"
     ]
    }
   ],
   "source": [
    "with model:\n",
    "  posterior = pm.sample(5000, chains = 4)"
   ]
  },
  {
   "cell_type": "code",
   "execution_count": 1075,
   "metadata": {},
   "outputs": [
    {
     "name": "stderr",
     "output_type": "stream",
     "text": [
      "logp = -27.703, ||grad|| = 6.9654: 100%|██████████| 30/30 [00:00<00:00, 3146.99it/s]   \n"
     ]
    }
   ],
   "source": [
    "with model:\n",
    "  ma = pm.find_MAP()"
   ]
  },
  {
   "cell_type": "code",
   "execution_count": 1076,
   "metadata": {},
   "outputs": [
    {
     "data": {
      "text/plain": [
       "{'Unseen_interval__': array(-2.04967863),\n",
       " 'alpha_interval__': array(-3.98109186),\n",
       " 'beta_interval__': array(-2.9374685),\n",
       " 'Unseen': array(22.81697166),\n",
       " 'alpha': array(1.83232405),\n",
       " 'beta': array(5.03321385)}"
      ]
     },
     "execution_count": 1076,
     "metadata": {},
     "output_type": "execute_result"
    }
   ],
   "source": [
    "ma"
   ]
  },
  {
   "cell_type": "code",
   "execution_count": 1077,
   "metadata": {},
   "outputs": [
    {
     "name": "stderr",
     "output_type": "stream",
     "text": [
      "/Users/ded/anaconda3/lib/python3.6/site-packages/matplotlib/axes/_base.py:3449: MatplotlibDeprecationWarning: \n",
      "The `ymin` argument was deprecated in Matplotlib 3.0 and will be removed in 3.2. Use `bottom` instead.\n",
      "  alternative='`bottom`', obj_type='argument')\n"
     ]
    },
    {
     "data": {
      "image/png": "[encoded data removed]",
      "text/plain": [
       "<Figure size 864x604.8 with 6 Axes>"
      ]
     },
     "metadata": {},
     "output_type": "display_data"
    }
   ],
   "source": [
    "plot_traces(posterior)"
   ]
  },
  {
   "cell_type": "code",
   "execution_count": 1078,
   "metadata": {},
   "outputs": [
    {
     "data": {
      "text/html": [
       "<div>\n",
       "<style scoped>\n",
       "    .dataframe tbody tr th:only-of-type {\n",
       "        vertical-align: middle;\n",
       "    }\n",
       "\n",
       "    .dataframe tbody tr th {\n",
       "        vertical-align: top;\n",
       "    }\n",
       "\n",
       "    .dataframe thead th {\n",
       "        text-align: right;\n",
       "    }\n",
       "</style>\n",
       "<table border=\"1\" class=\"dataframe\">\n",
       "  <thead>\n",
       "    <tr style=\"text-align: right;\">\n",
       "      <th></th>\n",
       "      <th>mean</th>\n",
       "      <th>sd</th>\n",
       "      <th>mc_error</th>\n",
       "      <th>hpd_2.5</th>\n",
       "      <th>hpd_97.5</th>\n",
       "      <th>n_eff</th>\n",
       "      <th>Rhat</th>\n",
       "    </tr>\n",
       "  </thead>\n",
       "  <tbody>\n",
       "    <tr>\n",
       "      <th>Unseen</th>\n",
       "      <td>11.265917</td>\n",
       "      <td>8.963704</td>\n",
       "      <td>0.266914</td>\n",
       "      <td>0.770677</td>\n",
       "      <td>25.150531</td>\n",
       "      <td>1046.191124</td>\n",
       "      <td>1.002379</td>\n",
       "    </tr>\n",
       "    <tr>\n",
       "      <th>alpha</th>\n",
       "      <td>23.833471</td>\n",
       "      <td>14.561404</td>\n",
       "      <td>0.455335</td>\n",
       "      <td>0.387871</td>\n",
       "      <td>47.068452</td>\n",
       "      <td>818.791707</td>\n",
       "      <td>1.000519</td>\n",
       "    </tr>\n",
       "    <tr>\n",
       "      <th>beta</th>\n",
       "      <td>51.357745</td>\n",
       "      <td>29.639618</td>\n",
       "      <td>0.948311</td>\n",
       "      <td>3.499479</td>\n",
       "      <td>96.875404</td>\n",
       "      <td>770.040908</td>\n",
       "      <td>1.000694</td>\n",
       "    </tr>\n",
       "  </tbody>\n",
       "</table>\n",
       "</div>"
      ],
      "text/plain": [
       "             mean         sd  mc_error   hpd_2.5   hpd_97.5        n_eff  \\\n",
       "Unseen  11.265917   8.963704  0.266914  0.770677  25.150531  1046.191124   \n",
       "alpha   23.833471  14.561404  0.455335  0.387871  47.068452   818.791707   \n",
       "beta    51.357745  29.639618  0.948311  3.499479  96.875404   770.040908   \n",
       "\n",
       "            Rhat  \n",
       "Unseen  1.002379  \n",
       "alpha   1.000519  \n",
       "beta    1.000694  "
      ]
     },
     "execution_count": 1078,
     "metadata": {},
     "output_type": "execute_result"
    }
   ],
   "source": [
    "pm.summary(posterior)"
   ]
  },
  {
   "cell_type": "code",
   "execution_count": 1079,
   "metadata": {},
   "outputs": [
    {
     "data": {
      "text/plain": [
       "array([<matplotlib.axes._subplots.AxesSubplot object at 0x1c292e1b00>,\n",
       "       <matplotlib.axes._subplots.AxesSubplot object at 0x1c242f3828>,\n",
       "       <matplotlib.axes._subplots.AxesSubplot object at 0x1c23c159e8>],\n",
       "      dtype=object)"
      ]
     },
     "execution_count": 1079,
     "metadata": {},
     "output_type": "execute_result"
    },
    {
     "data": {
      "image/png": "[encoded data removed]",
      "text/plain": [
       "<Figure size 864x360 with 4 Axes>"
      ]
     },
     "metadata": {},
     "output_type": "display_data"
    }
   ],
   "source": [
    "pm.plot_posterior(posterior)"
   ]
  },
  {
   "cell_type": "code",
   "execution_count": 1080,
   "metadata": {},
   "outputs": [
    {
     "data": {
      "text/plain": [
       "<BarContainer object of 7 artists>"
      ]
     },
     "execution_count": 1080,
     "metadata": {},
     "output_type": "execute_result"
    },
    {
     "data": {
      "image/png": "[encoded data removed]",
      "text/plain": [
       "<Figure size 432x288 with 1 Axes>"
      ]
     },
     "metadata": {},
     "output_type": "display_data"
    }
   ],
   "source": [
    "plt.bar(np.arange(len(dat)), dat)"
   ]
  },
  {
   "cell_type": "code",
   "execution_count": 145,
   "metadata": {},
   "outputs": [
    {
     "data": {
      "image/png": "[encoded data removed]",
      "text/plain": [
       "<Figure size 432x288 with 1 Axes>"
      ]
     },
     "metadata": {},
     "output_type": "display_data"
    }
   ],
   "source": [
    "plt.hist(pm.Beta.dist(alpha = 0.33, beta = 14).random(size = 1000000));"
   ]
  },
  {
   "cell_type": "code",
   "execution_count": 93,
   "metadata": {},
   "outputs": [],
   "source": [
    "import numpy as np\n",
    "from scipy.optimize import minimize\n",
    "import scipy.stats as stats\n",
    "import time"
   ]
  },
  {
   "cell_type": "code",
   "execution_count": 135,
   "metadata": {},
   "outputs": [],
   "source": [
    "initParams = np.array([100, 100, 1000])"
   ]
  },
  {
   "cell_type": "code",
   "execution_count": 136,
   "metadata": {},
   "outputs": [],
   "source": [
    "results = minimize(logp_capture, initParams, method='nelder-mead')"
   ]
  },
  {
   "cell_type": "code",
   "execution_count": 137,
   "metadata": {},
   "outputs": [
    {
     "data": {
      "text/plain": [
       " final_simplex: (array([[-336.6666956 ,  331.6666956 , 2383.33339226],\n",
       "       [-336.66669559,  331.66669559, 2383.33339224],\n",
       "       [-336.66669558,  331.66669558, 2383.33339224],\n",
       "       [-336.66669558,  331.66669558, 2383.33339223]]), array([-8061362.48454037, -8061362.48448832, -8061362.48447421,\n",
       "       -8061362.48446407]))\n",
       "           fun: -8061362.484540369\n",
       "       message: 'Optimization terminated successfully.'\n",
       "          nfev: 301\n",
       "           nit: 134\n",
       "        status: 0\n",
       "       success: True\n",
       "             x: array([-336.6666956 ,  331.6666956 , 2383.33339226])"
      ]
     },
     "execution_count": 137,
     "metadata": {},
     "output_type": "execute_result"
    }
   ],
   "source": [
    "results"
   ]
  },
  {
   "cell_type": "code",
   "execution_count": 83,
   "metadata": {},
   "outputs": [
    {
     "data": {
      "text/plain": [
       "array([ 0, 25, 22, 13,  5,  1,  2])"
      ]
     },
     "execution_count": 83,
     "metadata": {},
     "output_type": "execute_result"
    }
   ],
   "source": [
    "dat"
   ]
  },
  {
   "cell_type": "code",
   "execution_count": 112,
   "metadata": {},
   "outputs": [
    {
     "data": {
      "text/plain": [
       "array([0, 1, 2, 3, 4, 5, 6])"
      ]
     },
     "execution_count": 112,
     "metadata": {},
     "output_type": "execute_result"
    }
   ],
   "source": [
    "np.arange(S + 1)"
   ]
  },
  {
   "cell_type": "code",
   "execution_count": 159,
   "metadata": {},
   "outputs": [
    {
     "data": {
      "text/plain": [
       "0.999999000799777"
      ]
     },
     "execution_count": 159,
     "metadata": {},
     "output_type": "execute_result"
    }
   ],
   "source": [
    "np.power(.99999999999999,100000000)"
   ]
  },
  {
   "cell_type": "code",
   "execution_count": 167,
   "metadata": {},
   "outputs": [
    {
     "data": {
      "text/plain": [
       "17.502307845873887"
      ]
     },
     "execution_count": 167,
     "metadata": {},
     "output_type": "execute_result"
    }
   ],
   "source": [
    "gammaln(12)"
   ]
  },
  {
   "cell_type": "code",
   "execution_count": 184,
   "metadata": {},
   "outputs": [
    {
     "data": {
      "text/plain": [
       "-215.3489920375395"
      ]
     },
     "execution_count": 184,
     "metadata": {},
     "output_type": "execute_result"
    }
   ],
   "source": [
    "alpha = 10000\n",
    "beta = 10\n",
    "S = 36\n",
    "gammaln(S + beta) - gammaln(S + alpha + beta) + gammaln(alpha + beta) - gammaln(beta)"
   ]
  },
  {
   "cell_type": "code",
   "execution_count": 185,
   "metadata": {},
   "outputs": [
    {
     "ename": "NameError",
     "evalue": "name 'gamma' is not defined",
     "output_type": "error",
     "traceback": [
      "\u001b[0;31m---------------------------------------------------------------------------\u001b[0m",
      "\u001b[0;31mNameError\u001b[0m                                 Traceback (most recent call last)",
      "\u001b[0;32m<ipython-input-185-37f385b028bf>\u001b[0m in \u001b[0;36m<module>\u001b[0;34m()\u001b[0m\n\u001b[0;32m----> 1\u001b[0;31m \u001b[0mgamma\u001b[0m\u001b[0;34m\u001b[0m\u001b[0m\n\u001b[0m",
      "\u001b[0;31mNameError\u001b[0m: name 'gamma' is not defined"
     ]
    }
   ],
   "source": [
    "gamma"
   ]
  },
  {
   "cell_type": "code",
   "execution_count": 189,
   "metadata": {},
   "outputs": [],
   "source": [
    "from scipy.special import gamma"
   ]
  },
  {
   "cell_type": "code",
   "execution_count": 275,
   "metadata": {},
   "outputs": [
    {
     "data": {
      "text/plain": [
       "0.999843414690532"
      ]
     },
     "execution_count": 275,
     "metadata": {},
     "output_type": "execute_result"
    }
   ],
   "source": [
    "alpha = .0001\n",
    "beta = 10\n",
    "S = 36\n",
    "( gamma(S + beta) * gamma(alpha + beta) ) / ( gamma(S + alpha + beta) * gamma(beta))"
   ]
  },
  {
   "cell_type": "code",
   "execution_count": 276,
   "metadata": {},
   "outputs": [
    {
     "data": {
      "text/plain": [
       "5535.7812618870885"
      ]
     },
     "execution_count": 276,
     "metadata": {},
     "output_type": "execute_result"
    }
   ],
   "source": [
    "f0 = 500\n",
    "V = 50\n"
   ]
  },
  {
   "cell_type": "code",
   "execution_count": 914,
   "metadata": {},
   "outputs": [],
   "source": [
    "def gm(T, K, alpha, beta):\n",
    "    Li = 0\n",
    "    for i in range(1, len(K)):\n",
    "        k = i\n",
    "        Li += K[i] * (gammaln(k + alpha)+gammaln(T-k+beta)+gammaln(alpha + beta) - gammaln(T + alpha + beta)-gammaln(alpha)-gammaln(beta))\n",
    "    return Li    "
   ]
  },
  {
   "cell_type": "code",
   "execution_count": 761,
   "metadata": {},
   "outputs": [
    {
     "data": {
      "text/plain": [
       "38"
      ]
     },
     "execution_count": 761,
     "metadata": {},
     "output_type": "execute_result"
    }
   ],
   "source": [
    "len(dat)"
   ]
  },
  {
   "cell_type": "code",
   "execution_count": 737,
   "metadata": {},
   "outputs": [
    {
     "data": {
      "text/plain": [
       "72"
      ]
     },
     "execution_count": 737,
     "metadata": {},
     "output_type": "execute_result"
    }
   ],
   "source": [
    "sum(dat)"
   ]
  },
  {
   "cell_type": "code",
   "execution_count": 763,
   "metadata": {},
   "outputs": [
    {
     "name": "stdout",
     "output_type": "stream",
     "text": [
      "302.9951606751319 -29.059913253995305 -1375.9682225494507 \n",
      "\n",
      "Likelihood: -1102.032975128314 \n",
      "\n",
      "Estimate: 106\n"
     ]
    }
   ],
   "source": [
    "dat = [0,11,12,10,4,4,1,4,2,3,3,0,2,4,1,1,0,1,1,1,2,0,1,0,0,0,0,0,0,0,1,3,0,0,0,0,0,0]\n",
    "alpha = .3979\n",
    "beta = 3.4101\n",
    "S = 50\n",
    "D = 72\n",
    "f0 = 34\n",
    "N = gammaln(D + f0 +1) - gammaln(f0+1) \n",
    "L0 = f0 * (gammaln(S + beta) - gammaln(S + alpha + beta) + gammaln(alpha + beta) - gammaln(beta))\n",
    "Lk = gm(S, dat, alpha, beta)\n",
    "print(N, L0, Lk, '\\n')\n",
    "print(\"Likelihood:\", N + L0 + Lk, '\\n')\n",
    "print(\"Estimate:\", D + f0)"
   ]
  },
  {
   "cell_type": "code",
   "execution_count": 1218,
   "metadata": {},
   "outputs": [
    {
     "name": "stdout",
     "output_type": "stream",
     "text": [
      "282.1814160994484 -19.962768203206565 -329.9280182917158 \n",
      "\n",
      "Likelihood: -67.70937039547391 \n",
      "\n",
      "Estimate: 100\n"
     ]
    }
   ],
   "source": [
    "def gm(T, K, alpha, beta):\n",
    "    Li = 0\n",
    "    for i in range(1, len(K)):\n",
    "        k = i\n",
    "        Li += K[i] * (gammaln(k + alpha)+gammaln(T-k+beta)+gammaln(alpha + beta) - gammaln(T + alpha + beta)-gammaln(alpha)-gammaln(beta))\n",
    "    return Li   \n",
    "\n",
    "alpha = 1.9\n",
    "beta = 15\n",
    "S = 6 \n",
    "D = 68\n",
    "f0 = 32\n",
    "\n",
    "N = gammaln(D + f0 +1) - gammaln(f0+1) \n",
    "L0 = f0 * (gammaln(S + beta) - gammaln(S + alpha + beta) + gammaln(alpha + beta) - gammaln(beta))\n",
    "Lk = gm(S, [0,25,22,13,5,1,2], alpha, beta)\n",
    "print(N, L0, Lk, '\\n')\n",
    "print(\"Likelihood:\", N + L0 + Lk, '\\n')\n",
    "print(\"Estimate:\", D + f0)"
   ]
  },
  {
   "cell_type": "code",
   "execution_count": 1217,
   "metadata": {},
   "outputs": [
    {
     "name": "stdout",
     "output_type": "stream",
     "text": [
      "282.1814160994484 -2938.5546392034876 2588.663852708565 \n",
      "\n",
      "Likelihood: -67.7093703954738 \n",
      "\n",
      "Estimate: 100\n"
     ]
    }
   ],
   "source": [
    "# Alpha Beta version\n",
    "def gm(T, K, alpha, beta):\n",
    "    Li = 0\n",
    "    for k in range(1, len(K)):\n",
    "        Li += K[k] * (gammaln(k + alpha)+gammaln(T - k + beta))\n",
    "    return Li   \n",
    "\n",
    "alpha = 1.9\n",
    "beta = 15\n",
    "S = 6 \n",
    "D = 68\n",
    "f0 = 32\n",
    "\n",
    "N = gammaln(D + f0 +1) - gammaln(f0+1) \n",
    "L0 = (f0+D) * (gammaln(alpha + beta) - gammaln(S + alpha + beta) - gammaln(beta) - gammaln(alpha))\n",
    "L0 += f0 * (gammaln(S + beta)  +  gammaln(alpha) )\n",
    "Lk = gm(S, [0,25,22,13,5,1,2], alpha, beta)\n",
    "print(N, L0, Lk, '\\n')\n",
    "print(\"Likelihood:\", N + L0 + Lk, '\\n')\n",
    "print(\"Estimate:\", D + f0)"
   ]
  },
  {
   "cell_type": "code",
   "execution_count": 1166,
   "metadata": {},
   "outputs": [
    {
     "name": "stdout",
     "output_type": "stream",
     "text": [
      "282.1814160994484 -2938.5546392034876 2588.663852708565 \n",
      "\n",
      "Likelihood: -67.7093703954738 \n",
      "\n",
      "Estimate: 100\n"
     ]
    }
   ],
   "source": [
    "# Mu Tau version\n",
    "def gtaumu(T, K, mu, tau):\n",
    "    Li = 0\n",
    "    for k in range(1, len(K)):\n",
    "        Li += K[k] * (gammaln(k + (tau*mu)) + gammaln(T - k + (tau * (1-mu))) )\n",
    "    return Li    \n",
    "\n",
    "alpha = 1.9\n",
    "beta = 15\n",
    "S = 6 \n",
    "D = 68\n",
    "f0 = 32\n",
    "\n",
    "mu = alpha / (alpha + beta)\n",
    "tau = alpha + beta\n",
    "\n",
    "N = gammaln(D + f0 +1) - gammaln(f0+1)\n",
    "L0 = (f0 + D) * (gammaln(tau) - gammaln(tau*mu) - gammaln(tau * (1-mu)) - gammaln(S + tau))\n",
    "L0 += f0 * (gammaln(tau*mu) + gammaln(S + (tau*(1-mu))))\n",
    "Lk = gtaumu(S, [0,25,22,13,5,1,2], mu, tau)\n",
    "print(N, L0, Lk, '\\n')\n",
    "print(\"Likelihood:\", N + L0 + Lk, '\\n')\n",
    "print(\"Estimate:\", D + f0)"
   ]
  },
  {
   "cell_type": "code",
   "execution_count": 1310,
   "metadata": {},
   "outputs": [
    {
     "name": "stdout",
     "output_type": "stream",
     "text": [
      "540570.8001732698 -4900514.330231082 4142960.464353323 \n",
      "\n",
      "Likelihood: -216983.06570448913 \n",
      "\n",
      "Estimate: 146145\n"
     ]
    }
   ],
   "source": [
    "def gtaumu(T, K, mu, tau):\n",
    "    Li = 0\n",
    "    for k in range(1, len(K)):\n",
    "        Li += K[k] * (gammaln(k + (tau*mu)) + gammaln(T - k + (tau * (1-mu))) )\n",
    "    return Li    \n",
    "\n",
    "alpha = .9\n",
    "beta = 1\n",
    "\n",
    "S  = 36\n",
    "D  = 46145\n",
    "f0 = 100000\n",
    "\n",
    "mu = alpha / (alpha + beta)\n",
    "tau = alpha + beta\n",
    "\n",
    "N = gammaln(D + f0 +1) - gammaln(f0+1)\n",
    "L0 = (f0 + D) * (gammaln(tau) - gammaln(tau*mu) - gammaln(tau * (1-mu)) - gammaln(S + tau))\n",
    "L0 += f0 * (gammaln(tau*mu) + gammaln(S + (tau*(1-mu))))\n",
    "Lk = gtaumu(S, dat, mu, tau)\n",
    "print(N, L0, Lk, '\\n')\n",
    "print(\"Likelihood:\", N + L0 + Lk, '\\n')\n",
    "print(\"Estimate:\", D + f0)"
   ]
  },
  {
   "cell_type": "code",
   "execution_count": 1314,
   "metadata": {},
   "outputs": [
    {
     "name": "stdout",
     "output_type": "stream",
     "text": [
      "475736.93732583517 -22677388914.85477 22661630106.84 \n",
      "\n",
      "Likelihood: -15283071.077445984 \n",
      "\n",
      "Estimate: 56145\n"
     ]
    }
   ],
   "source": [
    "# Alpha Beta version\n",
    "def gm(T, K, alpha, beta):\n",
    "    Li = 0\n",
    "    for k in range(1, len(K)):\n",
    "        Li += K[k] * (gammaln(k + alpha)+gammaln(T - k + beta))\n",
    "    return Li  \n",
    "\n",
    "alpha = 50000\n",
    "beta = 1\n",
    "\n",
    "S  = 36\n",
    "D  = 46145\n",
    "f0 = 10000\n",
    "\n",
    "L0 = 0\n",
    "N = gammaln(D + f0 +1) - gammaln(f0 + 1)\n",
    "L0 = (f0+D) * (gammaln(alpha + beta) - gammaln(S + alpha + beta) - gammaln(beta) - gammaln(alpha))\n",
    "L0 += f0 * (gammaln(S + beta)  +  gammaln(alpha) )\n",
    "Lk = gm(S, dat, alpha, beta)\n",
    "print(N, L0, Lk, '\\n')\n",
    "print(\"Likelihood:\", N + L0 + Lk, '\\n')\n",
    "print(\"Estimate:\", D + f0)"
   ]
  },
  {
   "cell_type": "code",
   "execution_count": 1172,
   "metadata": {},
   "outputs": [
    {
     "data": {
      "text/plain": [
       "36"
      ]
     },
     "execution_count": 1172,
     "metadata": {},
     "output_type": "execute_result"
    }
   ],
   "source": [
    "len(dat)"
   ]
  },
  {
   "cell_type": "markdown",
   "metadata": {},
   "source": [
    "u = a / a +b  , t = a+b\n",
    "a = t - b\n",
    "b = t - a\n",
    "ua + ub = a\n",
    "ut - ub +ub = ut = a\n",
    "a = ut\n",
    "b = t - ut = (1-u) t"
   ]
  },
  {
   "cell_type": "code",
   "execution_count": 949,
   "metadata": {},
   "outputs": [
    {
     "name": "stdout",
     "output_type": "stream",
     "text": [
      "1.8316200000000002 5.02838\n"
     ]
    }
   ],
   "source": [
    "u=0.267 \n",
    "t=6.86\n",
    "a = u * t\n",
    "b = t * (1-u)\n",
    "print(a, b)\n"
   ]
  },
  {
   "cell_type": "code",
   "execution_count": 682,
   "metadata": {},
   "outputs": [
    {
     "data": {
      "text/plain": [
       "(12194848.425258968, 12126014.20144514)"
      ]
     },
     "execution_count": 682,
     "metadata": {},
     "output_type": "execute_result"
    }
   ],
   "source": [
    "gammaln(D+f0+1), gammaln(f0+1)"
   ]
  },
  {
   "cell_type": "code",
   "execution_count": 1173,
   "metadata": {},
   "outputs": [
    {
     "data": {
      "text/plain": [
       "array([    0., 30424.,  6905.,  2879.,  1569.,  1033.,   685.,   480.,\n",
       "         372.,   284.,   221.,   185.,   192.,   126.,   114.,    90.,\n",
       "          83.,    83.,    58.,    43.,    66.,    38.,    37.,    29.,\n",
       "          31.,    31.,    22.,    22.,    10.,    10.,     8.,     6.,\n",
       "           5.,     4.,     0.,     0.])"
      ]
     },
     "execution_count": 1173,
     "metadata": {},
     "output_type": "execute_result"
    }
   ],
   "source": [
    "dat"
   ]
  },
  {
   "cell_type": "code",
   "execution_count": 416,
   "metadata": {},
   "outputs": [],
   "source": [
    "def gmm(T, K, alpha, beta):\n",
    "    Li = 0\n",
    "    for i in range(1, len(K)):\n",
    "        k = i\n",
    "        Li += K[i] * (gammaln(k + alpha)+gammaln(T-k+beta)+gammaln(alpha + beta) - gammaln(T + alpha + beta)-gammaln(alpha)-gammaln(beta))\n",
    "    return Li   "
   ]
  },
  {
   "cell_type": "code",
   "execution_count": 535,
   "metadata": {},
   "outputs": [
    {
     "name": "stdout",
     "output_type": "stream",
     "text": [
      "Parameters: 360 46145 45000 \n",
      "\n",
      "512601.3133847537 -626392.8436104478 -1059964.5305132996 \n",
      "\n",
      "-1173756.0607389938\n"
     ]
    }
   ],
   "source": [
    "alpha = \n",
    "beta  = 10\n",
    "S  = 360\n",
    "D  = 46145\n",
    "f0 = 45000\n",
    "\n",
    "C  = gammaln(D + f0 +1) - gammaln(f0+1) \n",
    "L0 = f0 * (gammaln(S + beta) - gammaln(S + alpha + beta) + gammaln(alpha + beta) - gammaln(beta))\n",
    "Lk = gmm(S, dat, alpha, beta)\n",
    "\n",
    "print(\"Parameters:\", S, D, f0, '\\n')\n",
    "print(C, L0, Lk, '\\n')\n",
    "print(C + L0 + Lk)"
   ]
  },
  {
   "cell_type": "code",
   "execution_count": 617,
   "metadata": {},
   "outputs": [],
   "source": [
    "alpha = .17\n",
    "beta  = 14\n",
    "S  = 36\n",
    "D  = 46145\n",
    "f0 = 40000\n",
    "\n",
    "def mle(initParams, rel = False):\n",
    "    alpha = initParams[0]#/1000000\n",
    "    if rel:\n",
    "        alpha = alpha / 1000000\n",
    "    beta = initParams[1]\n",
    "    f0 = initParams[2]\n",
    "    C  = gammaln(D + f0 +1) - gammaln(f0+1) \n",
    "    L0 = f0 * (gammaln(S + beta) - gammaln(S + alpha + beta) + gammaln(alpha + beta) - gammaln(beta))\n",
    "    Lk = gmm(S, dat, alpha, beta)\n",
    "    obj = C + L0 + Lk\n",
    "    #print(obj, alpha, beta, f0)\n",
    "    return -obj"
   ]
  },
  {
   "cell_type": "code",
   "execution_count": 616,
   "metadata": {
    "scrolled": false
   },
   "outputs": [
    {
     "name": "stderr",
     "output_type": "stream",
     "text": [
      "/Users/ded/anaconda3/lib/python3.6/site-packages/scipy/optimize/_minimize.py:518: RuntimeWarning: Method BFGS cannot handle constraints nor bounds.\n",
      "  RuntimeWarning)\n",
      "/Users/ded/anaconda3/lib/python3.6/site-packages/ipykernel_launcher.py:3: OptimizeWarning: Unknown solver options: epsilon\n",
      "  This is separate from the ipykernel package so we can avoid doing imports until\n"
     ]
    },
    {
     "data": {
      "text/plain": [
       "      fun: -14394455.762733398\n",
       " hess_inv: array([[ 0.00094842, -0.00088571, -0.00337655],\n",
       "       [-0.00088571,  0.00084805,  0.00321831],\n",
       "       [-0.00337655,  0.00321831,  1.01911445]])\n",
       "      jac: array([-230076.875, -278012.875,     -95.125])\n",
       "  message: 'Desired error not necessarily achieved due to precision loss.'\n",
       "     nfev: 449\n",
       "      nit: 4\n",
       "     njev: 89\n",
       "   status: 2\n",
       "  success: False\n",
       "        x: array([  -120.88525374,     93.41880931, 100087.04671005])"
      ]
     },
     "execution_count": 616,
     "metadata": {},
     "output_type": "execute_result"
    }
   ],
   "source": [
    "initParams = [.5, 10, 100003]\n",
    "bnds = ((0.000001, None), (0.01, None), (1, None))\n",
    "results = minimize(mle, initParams, method='BFGS', bounds = bnds, options=dict({'epsilon' : }))\n",
    "results"
   ]
  },
  {
   "cell_type": "code",
   "execution_count": 597,
   "metadata": {},
   "outputs": [
    {
     "data": {
      "text/plain": [
       "<Figure size 432x288 with 0 Axes>"
      ]
     },
     "execution_count": 597,
     "metadata": {},
     "output_type": "execute_result"
    },
    {
     "data": {
      "text/plain": [
       "<Figure size 432x288 with 0 Axes>"
      ]
     },
     "metadata": {},
     "output_type": "display_data"
    }
   ],
   "source": [
    "plt.figure()"
   ]
  },
  {
   "cell_type": "code",
   "execution_count": 646,
   "metadata": {},
   "outputs": [],
   "source": [
    "x = np.linspace(1, 1000000, 500)\n",
    "y = np.linspace(1, 1000000, 500)\n",
    "X, Y = np.meshgrid(x, y)"
   ]
  },
  {
   "cell_type": "code",
   "execution_count": 647,
   "metadata": {},
   "outputs": [],
   "source": [
    "Z = mle([X, 10, Y], True)"
   ]
  },
  {
   "cell_type": "code",
   "execution_count": 648,
   "metadata": {},
   "outputs": [
    {
     "data": {
      "text/plain": [
       "<matplotlib.contour.QuadContourSet at 0x1c1e2423c8>"
      ]
     },
     "execution_count": 648,
     "metadata": {},
     "output_type": "execute_result"
    },
    {
     "data": {
      "image/png": "[encoded data removed]",
      "text/plain": [
       "<Figure size 432x288 with 1 Axes>"
      ]
     },
     "metadata": {},
     "output_type": "display_data"
    }
   ],
   "source": [
    "plt.contour(X, Y, Z)"
   ]
  },
  {
   "cell_type": "code",
   "execution_count": 632,
   "metadata": {},
   "outputs": [
    {
     "data": {
      "text/plain": [
       "(2, 2500)"
      ]
     },
     "execution_count": 632,
     "metadata": {},
     "output_type": "execute_result"
    }
   ],
   "source": [
    "np.vstack([X.ravel(), Y.ravel()]).shape"
   ]
  },
  {
   "cell_type": "code",
   "execution_count": 651,
   "metadata": {},
   "outputs": [
    {
     "data": {
      "text/plain": [
       "-113827.15907637292"
      ]
     },
     "execution_count": 651,
     "metadata": {},
     "output_type": "execute_result"
    }
   ],
   "source": [
    "Z.min()"
   ]
  },
  {
   "cell_type": "code",
   "execution_count": 1148,
   "metadata": {},
   "outputs": [],
   "source": [
    "alpha = 1.9\n",
    "beta = 15\n",
    "\n",
    "S = 6 \n",
    "D = 68\n",
    "f0 = 32\n",
    "\n",
    "def mlen(initParams, rel = False):\n",
    "    alpha = initParams[0]#/1000000\n",
    "    if rel:\n",
    "        alpha = alpha / 1000000\n",
    "    beta = initParams[1]\n",
    "    f0 = initParams[2]\n",
    "  \n",
    "    mu = alpha / (alpha + beta)\n",
    "    tau = alpha + beta\n",
    "    \n",
    "    C = gammaln(D + f0 +1) - gammaln(f0+1)\n",
    "    L0 = (f0 + D) * (gammaln(tau) - gammaln(tau*mu) - gammaln(tau * (1-mu)) - gammaln(S + tau))\n",
    "    L0 += f0 * (gammaln(tau*mu) + gammaln(S + (tau*(1-mu))))\n",
    "    Lk = gtaumu(S, [0,25,22,13,5,1,2], alpha, beta)\n",
    "    obj = C + L0 + Lk\n",
    "    print(alpha, beta, f0, -obj)\n",
    "    return -obj"
   ]
  },
  {
   "cell_type": "code",
   "execution_count": 1769,
   "metadata": {},
   "outputs": [
    {
     "name": "stdout",
     "output_type": "stream",
     "text": [
      "                        fun: -117214.74993509427\n",
      " lowest_optimization_result:       fun: -117214.74993509427\n",
      " hess_inv: <3x3 LbfgsInvHessProduct with dtype=float64>\n",
      "      jac: array([-506.1738193 , -314.60076571, -381.46972656])\n",
      "  message: b'CONVERGENCE: REL_REDUCTION_OF_F_<=_FACTR*EPSMCH'\n",
      "     nfev: 92\n",
      "      nit: 7\n",
      "   status: 0\n",
      "  success: True\n",
      "        x: array([ 0.00006254, 10.06023517, 19.98817997])\n",
      "                    message: ['requested number of basinhopping iterations completed successfully']\n",
      "      minimization_failures: 1\n",
      "                       nfev: 14896\n",
      "                        nit: 100\n",
      "                          x: array([ 0.00006254, 10.06023517, 19.98817997])\n",
      "479510432.8329042\n"
     ]
    }
   ],
   "source": [
    "# Alpha Beta version\n",
    "def gm(T, K, alpha, beta):\n",
    "    Li = 0\n",
    "    for k in range(1, len(K)):\n",
    "        Li += K[k] * (gammaln(k + alpha)+gammaln(T - k + beta))\n",
    "    return Li   \n",
    "\n",
    "S  = 35\n",
    "D  = 46145\n",
    "\n",
    "def mll(initParams):\n",
    "    alpha = initParams[0]\n",
    "    beta = initParams[1]\n",
    "    f0 = np.exp(initParams[2])\n",
    "    N = gammaln(D + f0 +1) - gammaln(f0 + 1)\n",
    "    L0 = (f0+D) * (gammaln(alpha + beta) - gammaln(S + alpha + beta) - gammaln(beta) - gammaln(alpha))\n",
    "    L0 += f0 * (gammaln(S + beta)  +  gammaln(alpha) )\n",
    "    Lk = gm(S, dat, alpha, beta)\n",
    "    obj = N + L0 + Lk\n",
    "    #print(alpha, beta, f0, -obj)\n",
    "    return -obj\n",
    "\n",
    "initParams = np.array([.5,1,10])\n",
    "B= ((.00000001, None), (1, None), (1, None))\n",
    "#res = minimize(mll, initParams, method = 'TNC', bounds = B)\n",
    "minimizer_kwargs = dict(method=\"L-BFGS-B\", bounds=B)\n",
    "res = scipy.optimize.basinhopping(mll, initParams, minimizer_kwargs=minimizer_kwargs)\n",
    "print(res)\n",
    "print(np.exp(res['x'][2]) + D)"
   ]
  },
  {
   "cell_type": "code",
   "execution_count": null,
   "metadata": {},
   "outputs": [],
   "source": [
    "mll([     0.0515    ,     10.85245336, 586639.75185021])"
   ]
  },
  {
   "cell_type": "code",
   "execution_count": 1765,
   "metadata": {},
   "outputs": [
    {
     "name": "stdout",
     "output_type": "stream",
     "text": [
      "                        fun: -78823.89312218159\n",
      " lowest_optimization_result:       fun: -78823.89312218159\n",
      " hess_inv: <2x2 LbfgsInvHessProduct with dtype=float64>\n",
      "      jac: array([0.        , 0.18626451])\n",
      "  message: b'CONVERGENCE: REL_REDUCTION_OF_F_<=_FACTR*EPSMCH'\n",
      "     nfev: 96\n",
      "      nit: 24\n",
      "   status: 0\n",
      "  success: True\n",
      "        x: array([8.99199341, 0.0530573 ])\n",
      "                    message: ['requested number of basinhopping iterations completed successfully']\n",
      "      minimization_failures: 0\n",
      "                       nfev: 7083\n",
      "                        nit: 100\n",
      "                          x: array([8.99199341, 0.0530573 ])\n",
      "54183.4648756839\n"
     ]
    }
   ],
   "source": [
    "S  = 35\n",
    "D  = 46145\n",
    "\n",
    "def mllBin(initParams):\n",
    "    f0 = np.exp(initParams[0])\n",
    "    p = initParams[1]\n",
    "    N = gammaln(D + f0 +1) - gammaln(f0 + 1)\n",
    "    Lk = f0 * S * np.log(1-p)\n",
    "    for j in range(1, len(dat)):\n",
    "        Lk += dat[j] * ( (j * np.log(p)) + ((S-j) * np.log(1-p)) )\n",
    "        \n",
    "    obj = N + Lk\n",
    "    #print(-obj, p, f0)\n",
    "    return -obj\n",
    "\n",
    "initParams = np.array([1,1])\n",
    "B= ((1, None), (0.00001, 0.999))\n",
    "minimizer_kwargs = dict(method=\"L-BFGS-B\", bounds=B)\n",
    "res = scipy.optimize.basinhopping(mllBin, initParams, minimizer_kwargs=minimizer_kwargs)\n",
    "print(res)\n",
    "print(np.exp(res['x'][0]) + D)"
   ]
  },
  {
   "cell_type": "code",
   "execution_count": 1521,
   "metadata": {},
   "outputs": [
    {
     "data": {
      "text/plain": [
       "36"
      ]
     },
     "execution_count": 1521,
     "metadata": {},
     "output_type": "execute_result"
    }
   ],
   "source": [
    "len(dat)"
   ]
  },
  {
   "cell_type": "code",
   "execution_count": 1446,
   "metadata": {},
   "outputs": [
    {
     "data": {
      "text/plain": [
       "      fun: 865.6454392681144\n",
       " hess_inv: <3x3 LbfgsInvHessProduct with dtype=float64>\n",
       "      jac: array([ 1.9143559 , -0.32434813, -0.30158524])\n",
       "  message: b'CONVERGENCE: REL_REDUCTION_OF_F_<=_FACTR*EPSMCH'\n",
       "     nfev: 208\n",
       "      nit: 14\n",
       "   status: 0\n",
       "  success: True\n",
       "        x: array([ 0.38655453,  1.80604789, 19.08719115])"
      ]
     },
     "execution_count": 1446,
     "metadata": {},
     "output_type": "execute_result"
    }
   ],
   "source": [
    "birds = np.array([0,11,12,10,4,4,1,4,2,3,3,0,2,4,1,1,0,1,1,1,2,0,1,0,0,0,0,0,0,0,1,3,0,0,0,0,0])\n",
    "\n",
    "alpha = .55\n",
    "beta = 30\n",
    "\n",
    "S  = 36\n",
    "D  = 72\n",
    "f0 = 20\n",
    "\n",
    "def mll(initParams):\n",
    "    alpha = initParams[0]\n",
    "    beta = initParams[1]\n",
    "    f0 = initParams[2]\n",
    "    N = gammaln(D + f0 +1) - gammaln(f0 + 1)\n",
    "    L0 = (f0+D) * (gammaln(alpha + beta) - gammaln(S + alpha + beta) - gammaln(beta) - gammaln(alpha))\n",
    "    L0 += f0 * (gammaln(S + beta)  +  gammaln(alpha) )\n",
    "    Lk = gm(S, birds, alpha, beta)\n",
    "    obj = N + L0 + Lk\n",
    "    #print(alpha, beta, f0, obj)\n",
    "    return -obj\n",
    "\n",
    "initParams = np.array([1,1,1])\n",
    "B= ((.0515, 1), (0, 30), (1, None))\n",
    "res = minimize(mll, initParams, method = 'L-BFGS-B', bounds = B, options = {'eps': 0.1})\n",
    "res"
   ]
  },
  {
   "cell_type": "code",
   "execution_count": 1492,
   "metadata": {},
   "outputs": [
    {
     "data": {
      "text/plain": [
       "      fun: -4.0528151299276826e+20\n",
       " hess_inv: <3x3 LbfgsInvHessProduct with dtype=float64>\n",
       "      jac: array([0., 0., 0.])\n",
       "  message: b'CONVERGENCE: NORM_OF_PROJECTED_GRADIENT_<=_PGTOL'\n",
       "     nfev: 80\n",
       "      nit: 4\n",
       "   status: 0\n",
       "  success: True\n",
       "        x: array([-1.26898470e+11, -9.45203842e+11,  6.38720511e+07])"
      ]
     },
     "execution_count": 1492,
     "metadata": {},
     "output_type": "execute_result"
    }
   ],
   "source": [
    "#birds = np.array([0,11,12,10,4,4,1,4,2,3,3,0,2,4,1,1,0,1,1,1,2,0,1,0,0,0,0,0,0,0,1,3,0,0,0,0,0])\n",
    "birds = np.array([0,11,12,10,4,4,1,4,2,3,3,0,2,4,1,1,0,1,1,1,2,0,1,0,0,0,0,0,0,0,1,3,0,0,0,0,0,0,0,0,0,0,0,0,0,0,0,0,0,0,0])\n",
    "\n",
    "#alpha = .55\n",
    "#beta = 30\n",
    "\n",
    "S  = 50\n",
    "D  = 72\n",
    "f0 = 20\n",
    "\n",
    "def mll(initParams):\n",
    "    mu = initParams[0]\n",
    "    om = initParams[1]\n",
    "    f0 = initParams[2]\n",
    "    #mu = alpha / (alpha + beta)\n",
    "    #om = 1 / (alpha + beta)\n",
    "    N = gammaln(D + f0 +1) - gammaln(f0 + 1)\n",
    "    \n",
    "    for j in range(0, S + 1):\n",
    "        #Pj\n",
    "        Lk = 0\n",
    "        for r in range(0, j):\n",
    "            Lk += mu + (r * om)\n",
    "        for r in range(0, S - j):\n",
    "            Lk += 1 - mu + (r * om)\n",
    "        for r in range(0, S):\n",
    "            Lk -= 1 + (r*om)\n",
    "            \n",
    "        if j == 0:\n",
    "            Lk = Lk * f0\n",
    "        else:\n",
    "            Lk = Lk * birds[j]\n",
    "            \n",
    "        N = N + Lk\n",
    "    \n",
    "    #print(alpha, beta, f0, N)\n",
    "    return -N\n",
    "\n",
    "initParams = np.array([1,1,1])\n",
    "B= (( 0, None), (0, None), (1, None))\n",
    "res = minimize(mll, initParams, method = 'L-BFGS-B')\n",
    "res"
   ]
  },
  {
   "cell_type": "code",
   "execution_count": 1493,
   "metadata": {},
   "outputs": [
    {
     "data": {
      "text/plain": [
       "5665.857639324873"
      ]
     },
     "execution_count": 1493,
     "metadata": {},
     "output_type": "execute_result"
    }
   ],
   "source": [
    "mll([ 0.1045 , 0.2626, 34])"
   ]
  },
  {
   "cell_type": "code",
   "execution_count": 1490,
   "metadata": {},
   "outputs": [
    {
     "data": {
      "text/plain": [
       "51"
      ]
     },
     "execution_count": 1490,
     "metadata": {},
     "output_type": "execute_result"
    }
   ],
   "source": [
    "len(np.array([0,11,12,10,4,4,1,4,2,3,3,0,2,4,1,1,0,1,1,1,2,0,1,0,0,0,0,0,0,0,1,3,0,0,0,0,0,0,0,0,0,0,0,0,0,0,0,0,0,0,0]))"
   ]
  },
  {
   "cell_type": "code",
   "execution_count": 1513,
   "metadata": {},
   "outputs": [
    {
     "name": "stdout",
     "output_type": "stream",
     "text": [
      "      fun: 4731.478491730901\n",
      " hess_inv: <3x3 LbfgsInvHessProduct with dtype=float64>\n",
      "      jac: array([-0.33032848,  0.06693881,  0.00291038])\n",
      "  message: b'CONVERGENCE: REL_REDUCTION_OF_F_<=_FACTR*EPSMCH'\n",
      "     nfev: 212\n",
      "      nit: 29\n",
      "   status: 0\n",
      "  success: True\n",
      "        x: array([  0.88910343,   6.46603246, 990.92157448])\n",
      "9468.956983461801 3490.921574482495\n"
     ]
    }
   ],
   "source": [
    "birds = np.array([0, 679, 531, 379, 272, 198, 143, 99,67, 46, 32, 22, 14, 9, 5, 3, 1, 0, 0, 0, 0])\n",
    "\n",
    "alpha = .55\n",
    "beta = 30\n",
    "\n",
    "S  = 20\n",
    "D  = 2500\n",
    "f0 = 20\n",
    "\n",
    "def mll(initParams):\n",
    "    alpha = initParams[0]\n",
    "    beta = initParams[1]\n",
    "    f0 = initParams[2]\n",
    "    N = gammaln(D + f0 +1) - gammaln(f0 + 1)\n",
    "    L0 = (f0+D) * (gammaln(alpha + beta) - gammaln(S + alpha + beta) - gammaln(beta) - gammaln(alpha))\n",
    "    L0 += f0 * (gammaln(S + beta)  +  gammaln(alpha) )\n",
    "    Lk = gm(S, birds, alpha, beta)\n",
    "    obj = N + L0 + Lk\n",
    "    return -obj\n",
    "\n",
    "initParams = np.array([1,1,1])\n",
    "B= ((.001, 1), (0, None), (1, None))\n",
    "res = minimize(mll, initParams, method = 'L-BFGS-B', bounds = B)\n",
    "print(res)\n",
    "print((2 * 3) - (2 * -res['fun']), D + res['x'][2])"
   ]
  },
  {
   "cell_type": "code",
   "execution_count": null,
   "metadata": {},
   "outputs": [],
   "source": []
  },
  {
   "cell_type": "code",
   "execution_count": 1628,
   "metadata": {},
   "outputs": [
    {
     "data": {
      "text/plain": [
       "10.000000000000002"
      ]
     },
     "execution_count": 1628,
     "metadata": {},
     "output_type": "execute_result"
    }
   ],
   "source": [
    "np.exp(np.log(10))"
   ]
  },
  {
   "cell_type": "code",
   "execution_count": 1762,
   "metadata": {},
   "outputs": [
    {
     "name": "stdout",
     "output_type": "stream",
     "text": [
      "                        fun: 36.69379621812186\n",
      " lowest_optimization_result:       fun: 36.69379621812186\n",
      " hess_inv: <3x3 LbfgsInvHessProduct with dtype=float64>\n",
      "      jac: array([-0.00001137,  0.00001137,  0.00004547])\n",
      "  message: b'CONVERGENCE: REL_REDUCTION_OF_F_<=_FACTR*EPSMCH'\n",
      "     nfev: 68\n",
      "      nit: 13\n",
      "   status: 0\n",
      "  success: True\n",
      "        x: array([1.83233207, 5.0332307 , 3.12750294])\n",
      "                    message: ['requested number of basinhopping iterations completed successfully']\n",
      "      minimization_failures: 0\n",
      "                       nfev: 7212\n",
      "                        nit: 100\n",
      "                          x: array([1.83233207, 5.0332307 , 3.12750294])\n",
      "90.81693311057901\n"
     ]
    }
   ],
   "source": [
    "# Snowhoe\n",
    "\n",
    "snow = np.array([ 0, 25, 22, 13,  5,  1,  2])\n",
    "\n",
    "# Alpha Beta version\n",
    "def gm(T, K, alpha, beta):\n",
    "    Li = 0\n",
    "    for k in range(1, len(K)):\n",
    "        Li += K[k] * (gammaln(k + alpha)+gammaln(T - k + beta))\n",
    "    return Li   \n",
    "\n",
    "\n",
    "S  = 6\n",
    "D  = sum(snow)\n",
    "\n",
    "def mll(initParams):\n",
    "    alpha = initParams[0]\n",
    "    beta = initParams[1]\n",
    "    f0 = np.exp(initParams[2])\n",
    "    N = gammaln(D + f0 +1) - gammaln(f0 + 1)\n",
    "    L0 = (f0+D) * (gammaln(alpha + beta) - gammaln(S + alpha + beta) - gammaln(beta) - gammaln(alpha))\n",
    "    L0 += f0 * (gammaln(S + beta)  +  gammaln(alpha) )\n",
    "    Lk = gm(S, snow, alpha, beta)\n",
    "    obj = N + L0 + Lk\n",
    "    #print(alpha, beta, f0, N, L0, Lk, obj)\n",
    "    return -obj\n",
    "\n",
    "initParams = np.array([1, 1,.01])\n",
    "B= ((0.000001, None), (.1, None), (0, None))\n",
    "minimizer_kwargs = dict(method=\"L-BFGS-B\" , bounds=B)\n",
    "res = scipy.optimize.basinhopping(mll, initParams, minimizer_kwargs=minimizer_kwargs)\n",
    "print(res)\n",
    "print(np.exp(res['x'][2]) + D)"
   ]
  },
  {
   "cell_type": "code",
   "execution_count": 1723,
   "metadata": {},
   "outputs": [
    {
     "data": {
      "text/plain": [
       "68"
      ]
     },
     "execution_count": 1723,
     "metadata": {},
     "output_type": "execute_result"
    }
   ],
   "source": [
    "sum(snow)"
   ]
  },
  {
   "cell_type": "code",
   "execution_count": 1725,
   "metadata": {},
   "outputs": [
    {
     "data": {
      "text/plain": [
       "1.1378330018213911"
      ]
     },
     "execution_count": 1725,
     "metadata": {},
     "output_type": "execute_result"
    }
   ],
   "source": [
    "np.log(3.12)"
   ]
  },
  {
   "cell_type": "code",
   "execution_count": 1727,
   "metadata": {},
   "outputs": [
    {
     "data": {
      "text/plain": [
       "36.69379621811879"
      ]
     },
     "execution_count": 1727,
     "metadata": {},
     "output_type": "execute_result"
    }
   ],
   "source": [
    "mll([1.83232565, 5.03322132, 3.12750686])"
   ]
  },
  {
   "cell_type": "code",
   "execution_count": 1732,
   "metadata": {},
   "outputs": [
    {
     "data": {
      "text/plain": [
       "51.19074694000585"
      ]
     },
     "execution_count": 1732,
     "metadata": {},
     "output_type": "execute_result"
    }
   ],
   "source": [
    "mll([1.83232565, 5.03322132, np.log(3.12750686)])"
   ]
  },
  {
   "cell_type": "code",
   "execution_count": 1735,
   "metadata": {},
   "outputs": [
    {
     "data": {
      "text/plain": [
       "3.12750686"
      ]
     },
     "execution_count": 1735,
     "metadata": {},
     "output_type": "execute_result"
    }
   ],
   "source": [
    "np.exp(np.log(3.12750686))"
   ]
  },
  {
   "cell_type": "code",
   "execution_count": 1751,
   "metadata": {},
   "outputs": [],
   "source": [
    "from scipy.special import expit"
   ]
  },
  {
   "cell_type": "code",
   "execution_count": 1757,
   "metadata": {},
   "outputs": [
    {
     "data": {
      "text/plain": [
       "0.0"
      ]
     },
     "execution_count": 1757,
     "metadata": {},
     "output_type": "execute_result"
    }
   ],
   "source": [
    "expit(-1000)"
   ]
  },
  {
   "cell_type": "code",
   "execution_count": 19,
   "metadata": {},
   "outputs": [
    {
     "data": {
      "text/plain": [
       "11.736900670364296"
      ]
     },
     "execution_count": 19,
     "metadata": {},
     "output_type": "execute_result"
    }
   ],
   "source": [
    "np.log(125104)"
   ]
  },
  {
   "cell_type": "code",
   "execution_count": 20,
   "metadata": {},
   "outputs": [
    {
     "ename": "NameError",
     "evalue": "name 'data' is not defined",
     "output_type": "error",
     "traceback": [
      "\u001b[0;31m---------------------------------------------------------------------------\u001b[0m",
      "\u001b[0;31mNameError\u001b[0m                                 Traceback (most recent call last)",
      "\u001b[0;32m<ipython-input-20-c5d84736ba45>\u001b[0m in \u001b[0;36m<module>\u001b[0;34m()\u001b[0m\n\u001b[0;32m----> 1\u001b[0;31m \u001b[0mdata\u001b[0m\u001b[0;34m\u001b[0m\u001b[0m\n\u001b[0m",
      "\u001b[0;31mNameError\u001b[0m: name 'data' is not defined"
     ]
    }
   ],
   "source": [
    "data"
   ]
  },
  {
   "cell_type": "code",
   "execution_count": null,
   "metadata": {},
   "outputs": [],
   "source": []
  }
 ],
 "metadata": {
  "accelerator": "GPU",
  "colab": {
   "collapsed_sections": [],
   "name": "Posterior_last.ipynb",
   "provenance": [],
   "toc_visible": true,
   "version": "0.3.2"
  },
  "kernelspec": {
   "display_name": "Python 3",
   "language": "python",
   "name": "python3"
  },
  "language_info": {
   "codemirror_mode": {
    "name": "ipython",
    "version": 3
   },
   "file_extension": ".py",
   "mimetype": "text/x-python",
   "name": "python",
   "nbconvert_exporter": "python",
   "pygments_lexer": "ipython3",
   "version": "3.6.5"
  }
 },
 "nbformat": 4,
 "nbformat_minor": 1
}
