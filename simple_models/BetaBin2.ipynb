{
 "cells": [
  {
   "cell_type": "code",
   "execution_count": 1,
   "metadata": {},
   "outputs": [],
   "source": [
    "import numpy as np\n",
    "import pandas as pd\n",
    "from scipy.special import gammaln, gamma\n",
    "from collections import Counter\n",
    "from scipy.optimize import basinhopping\n",
    "np.set_printoptions(suppress=True)"
   ]
  },
  {
   "cell_type": "code",
   "execution_count": 38,
   "metadata": {},
   "outputs": [
    {
     "name": "stdout",
     "output_type": "stream",
     "text": [
      "21 31850\n"
     ]
    }
   ],
   "source": [
    "# Load the data and process it.\n",
    "\n",
    "df = pd.read_csv(\"../mturk_surveys.csv\")\n",
    "df[\"hit_answered_date\"]=pd.to_datetime(df[\"hit_answered_date\"])\n",
    "df['date'] = pd.to_datetime(df['hit_answered_date'].apply(lambda x : x.date()))\n",
    "\n",
    "# Calculate the time period of each survey answer. \n",
    "# Below we take out time period to be 30-day periods. \n",
    "# We can change this to be weeks, months, or anything else\n",
    "window_length = 30\n",
    "minDate = min(df['date'])\n",
    "df['period'] = (df['date'] - minDate).dt.days // window_length \n",
    "\n",
    "df = df[df['period'] < 21]\n",
    "# Create a list of all unique worker IDs \n",
    "workers = pd.DataFrame(list(set(df.worker_id)), columns=['worker_id']).reset_index().set_index('worker_id')\n",
    "\n",
    "# Fix the issue of duplicate records within the same period.\n",
    "data = df[['worker_id', 'period']].drop_duplicates().pivot_table(\n",
    "    index = 'worker_id',\n",
    "    values = 'period',                    \n",
    "    aggfunc=('count','min','max')\n",
    ").join(workers).set_index('index').sort_index()\n",
    "\n",
    "# Aggregate the capture histories\n",
    "#data = data.groupby(['min', 'max', 'count']).size().reset_index(name='count_history')\n",
    "S = df['period'].max() + 1\n",
    "dat = np.zeros(S + 1)\n",
    "out = Counter(data['count'].values)\n",
    "for k,v in out.items():\n",
    "    dat[k] = v\n",
    "V = len(workers)\n",
    "print(S, V)"
   ]
  },
  {
   "cell_type": "code",
   "execution_count": 39,
   "metadata": {},
   "outputs": [
    {
     "data": {
      "text/plain": [
       "[<matplotlib.lines.Line2D at 0x116f11550>]"
      ]
     },
     "execution_count": 39,
     "metadata": {},
     "output_type": "execute_result"
    },
    {
     "data": {
      "image/png": "[encoded data removed]",
      "text/plain": [
       "<Figure size 432x288 with 1 Axes>"
      ]
     },
     "metadata": {},
     "output_type": "display_data"
    }
   ],
   "source": [
    "ddd = dict(Counter(data[data['count'] == 1]['max'].values))\n",
    "lists = sorted(ddd.items())\n",
    "x, y = zip(*lists)\n",
    "plt.plot(x, y)"
   ]
  },
  {
   "cell_type": "code",
   "execution_count": 40,
   "metadata": {},
   "outputs": [],
   "source": [
    "# Alpha Beta version\n",
    "def BB(S, k, alpha, beta):\n",
    "    up = gamma(k + alpha) * gamma(S - k + beta) * gamma(alpha + beta)\n",
    "    down = gamma(alpha) * gamma(beta) * gamma(S + alpha + beta)\n",
    "    return up / down"
   ]
  },
  {
   "cell_type": "code",
   "execution_count": 67,
   "metadata": {},
   "outputs": [],
   "source": [
    "def mll(initParams):\n",
    "    # params\n",
    "    f0    = np.exp(initParams[0])\n",
    "    alpha = initParams[1]\n",
    "    beta  = initParams[2]\n",
    "    \n",
    "    N = gammaln(V + f0 +1) - gammaln(f0 + 1)\n",
    "    L0 = f0 * np.log(BB(S, 0, alpha, beta))\n",
    "    Lk = 0\n",
    "    \n",
    "    # fk likelihood\n",
    "    for k in range(1, len(dat)):\n",
    "        Lk += dat[k] * np.log(BB(S, k, alpha, beta))\n",
    "    \n",
    "    obj = N + L0 + Lk\n",
    "    \n",
    "    if -obj < -118000:\n",
    "        print(f0, alpha, beta, -obj)\n",
    "    \n",
    "    return -obj"
   ]
  },
  {
   "cell_type": "code",
   "execution_count": null,
   "metadata": {},
   "outputs": [],
   "source": [
    "# Bounds\n",
    "B= ((1,14), (0.000001, 1), (1, 10))\n",
    "\n",
    "#args\n",
    "minimizer_kwargs = dict(method=\"L-BFGS-B\", bounds=B)\n",
    "\n",
    "#run\n",
    "initParams = np.array([10000, .5, 5])\n",
    "res = basinhopping(mll, initParams, minimizer_kwargs=minimizer_kwargs, niter = 50000)\n",
    "print(res)\n",
    "print(np.exp(res['x'][0]) + V)"
   ]
  },
  {
   "cell_type": "code",
   "execution_count": 21,
   "metadata": {},
   "outputs": [
    {
     "data": {
      "text/plain": [
       "-107217.0270592348"
      ]
     },
     "execution_count": 21,
     "metadata": {},
     "output_type": "execute_result"
    }
   ],
   "source": [
    "mll([403608.7895533 ,      0.02039742,      3.7429387 ,      0.01037844,\n",
    "            0.20782324])"
   ]
  },
  {
   "cell_type": "code",
   "execution_count": 22,
   "metadata": {},
   "outputs": [
    {
     "data": {
      "text/plain": [
       "-110056.33441323455"
      ]
     },
     "execution_count": 22,
     "metadata": {},
     "output_type": "execute_result"
    }
   ],
   "source": [
    "mll([83793.7773379 ,     0.19999895,     4.07278073,     0.01197954,\n",
    "           0.70142692])"
   ]
  },
  {
   "cell_type": "code",
   "execution_count": 64,
   "metadata": {},
   "outputs": [
    {
     "data": {
      "text/plain": [
       "-121053.78927293565"
      ]
     },
     "execution_count": 64,
     "metadata": {},
     "output_type": "execute_result"
    }
   ],
   "source": [
    "mll([234776.72579006,      0.03929604,      3.78447354,      0.01050833,\n",
    "            0.33356468])"
   ]
  },
  {
   "cell_type": "code",
   "execution_count": 67,
   "metadata": {},
   "outputs": [
    {
     "data": {
      "text/plain": [
       "-120812.86576105905"
      ]
     },
     "execution_count": 67,
     "metadata": {},
     "output_type": "execute_result"
    }
   ],
   "source": [
    "mll([57392.28189185,     0.38756928,     4.32406151,     0.01459061,\n",
    "           0.80091354])"
   ]
  },
  {
   "cell_type": "code",
   "execution_count": 114,
   "metadata": {},
   "outputs": [
    {
     "data": {
      "text/plain": [
       "-121029.53788561595"
      ]
     },
     "execution_count": 114,
     "metadata": {},
     "output_type": "execute_result"
    }
   ],
   "source": [
    "mll([125104.16766101,      0.09702091,      3.89744013,      0.01093061,\n",
    "            0.54677371])"
   ]
  },
  {
   "cell_type": "code",
   "execution_count": 43,
   "metadata": {},
   "outputs": [
    {
     "data": {
      "text/plain": [
       "-97002.804319622"
      ]
     },
     "execution_count": 43,
     "metadata": {},
     "output_type": "execute_result"
    }
   ],
   "source": [
    "mll([12.8,      0.09702091,      3.89744013])"
   ]
  },
  {
   "cell_type": "code",
   "execution_count": 25,
   "metadata": {},
   "outputs": [
    {
     "data": {
      "text/plain": [
       "[<matplotlib.lines.Line2D at 0x119b2a080>]"
      ]
     },
     "execution_count": 25,
     "metadata": {},
     "output_type": "execute_result"
    },
    {
     "data": {
      "image/png": "[encoded data removed]",
      "text/plain": [
       "<Figure size 432x288 with 1 Axes>"
      ]
     },
     "metadata": {},
     "output_type": "display_data"
    }
   ],
   "source": [
    "ddd = dict(Counter(data[data['count'] == 1]['max'].values))\n",
    "lists = sorted(ddd.items())\n",
    "x, y = zip(*lists)\n",
    "plt.plot(x, y)"
   ]
  },
  {
   "cell_type": "code",
   "execution_count": 78,
   "metadata": {},
   "outputs": [
    {
     "data": {
      "text/plain": [
       "[(0, 928),\n",
       " (1, 1228),\n",
       " (2, 1132),\n",
       " (3, 1049),\n",
       " (4, 1035),\n",
       " (5, 1016),\n",
       " (6, 926),\n",
       " (7, 923),\n",
       " (8, 882),\n",
       " (9, 887),\n",
       " (10, 849),\n",
       " (11, 821),\n",
       " (12, 836),\n",
       " (13, 993),\n",
       " (14, 1126),\n",
       " (15, 972),\n",
       " (16, 961),\n",
       " (17, 894),\n",
       " (18, 804),\n",
       " (19, 629),\n",
       " (20, 625),\n",
       " (21, 678),\n",
       " (22, 659),\n",
       " (23, 602),\n",
       " (24, 643),\n",
       " (25, 700),\n",
       " (26, 826),\n",
       " (27, 807),\n",
       " (28, 761),\n",
       " (29, 821),\n",
       " (30, 726),\n",
       " (31, 840),\n",
       " (32, 857),\n",
       " (33, 865),\n",
       " (34, 1092),\n",
       " (35, 31)]"
      ]
     },
     "execution_count": 78,
     "metadata": {},
     "output_type": "execute_result"
    }
   ],
   "source": [
    "lists"
   ]
  },
  {
   "cell_type": "code",
   "execution_count": 4,
   "metadata": {},
   "outputs": [],
   "source": [
    "%matplotlib inline"
   ]
  },
  {
   "cell_type": "code",
   "execution_count": 5,
   "metadata": {},
   "outputs": [],
   "source": [
    "import matplotlib.pyplot as plt"
   ]
  },
  {
   "cell_type": "code",
   "execution_count": null,
   "metadata": {},
   "outputs": [],
   "source": []
  }
 ],
 "metadata": {
  "kernelspec": {
   "display_name": "Python 3",
   "language": "python",
   "name": "python3"
  },
  "language_info": {
   "codemirror_mode": {
    "name": "ipython",
    "version": 3
   },
   "file_extension": ".py",
   "mimetype": "text/x-python",
   "name": "python",
   "nbconvert_exporter": "python",
   "pygments_lexer": "ipython3",
   "version": "3.6.5"
  }
 },
 "nbformat": 4,
 "nbformat_minor": 2
}
