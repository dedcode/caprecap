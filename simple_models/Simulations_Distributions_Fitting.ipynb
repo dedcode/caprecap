{
 "cells": [
  {
   "cell_type": "code",
   "execution_count": 1,
   "metadata": {},
   "outputs": [],
   "source": [
    "from tqdm import tqdm\n",
    "import numpy as np\n",
    "from scipy.stats import binom, beta\n",
    "from scipy.special import gamma\n",
    "np.set_printoptions(suppress=True)\n",
    "from collections import Counter\n",
    "%matplotlib inline\n",
    "import matplotlib.pyplot as plt\n",
    "from scipy.stats import bernoulli\n",
    "#import pymc3 as pm"
   ]
  },
  {
   "cell_type": "code",
   "execution_count": 2,
   "metadata": {},
   "outputs": [],
   "source": [
    "import seaborn as sns\n",
    "from matplotlib import rcParams\n",
    "\n",
    "# figure size in inches\n",
    "rcParams['figure.figsize'] = 11.7,8.27"
   ]
  },
  {
   "cell_type": "code",
   "execution_count": 2,
   "metadata": {},
   "outputs": [],
   "source": [
    "# Parameters\n",
    "N = 300000 # True total individuals\n",
    "S = 35  # Sample periods\n",
    "a = .5\n",
    "b = .5\n",
    "#pm.Beta.dist(alpha, beta, shape= N).random()\n",
    "prop = beta.rvs(a, b, size=N)"
   ]
  },
  {
   "cell_type": "code",
   "execution_count": 3,
   "metadata": {},
   "outputs": [
    {
     "data": {
      "text/plain": [
       "(40.26841081277566,\n",
       " 39.992001599680066,\n",
       " 0.00019996000799840034,\n",
       " 105746,\n",
       " 0.14781011641583625)"
      ]
     },
     "execution_count": 3,
     "metadata": {},
     "output_type": "execute_result"
    }
   ],
   "source": [
    "prop.sum(), N * (a/(a+b)), a/(a+b), prop.argmax(), prop.max()"
   ]
  },
  {
   "cell_type": "code",
   "execution_count": 87,
   "metadata": {},
   "outputs": [
    {
     "name": "stdout",
     "output_type": "stream",
     "text": [
      "84969 0.9999999999968601 0\n",
      "112151 56823\n"
     ]
    },
    {
     "data": {
      "image/png": "[encoded data removed]",
      "text/plain": [
       "<Figure size 842.4x595.44 with 1 Axes>"
      ]
     },
     "metadata": {},
     "output_type": "display_data"
    }
   ],
   "source": [
    "# Parameters\n",
    "N = 300000 # True total individuals\n",
    "S = 35  # Sample periods\n",
    "a = .08\n",
    "b = .4\n",
    "#pm.Beta.dist(alpha, beta, shape= N).random()\n",
    "prop = beta.rvs(a, b, size=N)\n",
    "\n",
    "obs = []\n",
    "obslim = []\n",
    "cnt = 0\n",
    "for s_ in range(S):\n",
    "    tmp, = np.where(bernoulli.rvs(prop, size=N))\n",
    "    #tmp, = np.where(bernoulli.rvs(prop * 3000/prop.sum(), size=N))\n",
    "    #tmp = np.random.choice(tmp, 3000, replace = False)\n",
    "    #tmp = np.random.choice(N, 3000, replace = False, p = prop/prop.sum())\n",
    "    #print(s_, \" -> \", len(tmp))\n",
    "    for i in tmp:\n",
    "        obs.append(i)\n",
    "    tmp = np.random.choice(N, 3000, replace = False, p = prop/prop.sum())\n",
    "    #tmp = np.random.choice(tmp, 3000, replace = False)\n",
    "    #tmp, = np.where(bernoulli.rvs(prop * 3000/prop.sum(), size=N))\n",
    "    for i in tmp:\n",
    "        obslim.append(i)\n",
    "    if prop.argmax() in tmp:\n",
    "        cnt += 1\n",
    "print(prop.argmax(), max(prop), cnt)\n",
    "print(len(set(obs)), len(set(obslim)))\n",
    "\n",
    "\n",
    "\n",
    "mydist = Counter(Counter(obs).values())\n",
    "lists = sorted(mydist.items())\n",
    "x, y = zip(*lists)\n",
    "\n",
    "mydistlim = Counter(Counter(obslim).values())\n",
    "llists = sorted(mydistlim.items())\n",
    "xl, yl = zip(*llists)\n",
    "\n",
    "width = 0.35\n",
    "\n",
    "fig = plt.figure()\n",
    "ax = fig.add_subplot(111)\n",
    "#plot\n",
    "ax.bar(x, y, color = 'black');\n",
    "ax.bar(xl, yl);\n",
    "plt.yscale(\"log\")\n",
    "plt.show()"
   ]
  },
  {
   "cell_type": "code",
   "execution_count": 40,
   "metadata": {},
   "outputs": [
    {
     "data": {
      "image/png": "[encoded data removed]",
      "text/plain": [
       "<Figure size 842.4x595.44 with 1 Axes>"
      ]
     },
     "metadata": {},
     "output_type": "display_data"
    }
   ],
   "source": [
    "mydist = Counter(Counter(obs).values())\n",
    "lists = sorted(mydist.items())\n",
    "x, y = zip(*lists)\n",
    "\n",
    "mydistlim = Counter(Counter(obslim).values())\n",
    "llists = sorted(mydistlim.items())\n",
    "xl, yl = zip(*llists)\n",
    "\n",
    "width = 0.35\n",
    "\n",
    "fig = plt.figure()\n",
    "ax = fig.add_subplot(111)\n",
    "#plot\n",
    "ax.bar(xl, yl);\n",
    "#ax.bar(x, y);\n",
    "#plt.yscale(\"log\")\n",
    "plt.show()"
   ]
  },
  {
   "cell_type": "code",
   "execution_count": 25,
   "metadata": {},
   "outputs": [
    {
     "data": {
      "text/plain": [
       "(1,\n",
       " 2,\n",
       " 3,\n",
       " 4,\n",
       " 5,\n",
       " 6,\n",
       " 7,\n",
       " 8,\n",
       " 9,\n",
       " 10,\n",
       " 11,\n",
       " 12,\n",
       " 13,\n",
       " 14,\n",
       " 15,\n",
       " 16,\n",
       " 17,\n",
       " 18,\n",
       " 19,\n",
       " 20,\n",
       " 21,\n",
       " 22,\n",
       " 23,\n",
       " 24,\n",
       " 25,\n",
       " 26,\n",
       " 27,\n",
       " 28,\n",
       " 29,\n",
       " 30,\n",
       " 31,\n",
       " 32,\n",
       " 33,\n",
       " 34,\n",
       " 35)"
      ]
     },
     "execution_count": 25,
     "metadata": {},
     "output_type": "execute_result"
    }
   ],
   "source": [
    "xl"
   ]
  },
  {
   "cell_type": "raw",
   "metadata": {},
   "source": [
    "import numpy as np\n",
    "np.set_printoptions(threshold=np.nan)\n",
    "import pyperclip\n",
    "\n",
    "dat = np.zeros(S + 1)\n",
    "for k,v in mydist.items():\n",
    "    dat[k] = v\n",
    "pyperclip.copy(str(dat.tolist()))"
   ]
  },
  {
   "cell_type": "code",
   "execution_count": 689,
   "metadata": {},
   "outputs": [
    {
     "data": {
      "text/plain": [
       "52949"
      ]
     },
     "execution_count": 689,
     "metadata": {},
     "output_type": "execute_result"
    }
   ],
   "source": [
    "len(set(obs))"
   ]
  },
  {
   "cell_type": "code",
   "execution_count": 690,
   "metadata": {},
   "outputs": [
    {
     "data": {
      "text/plain": [
       "14"
      ]
     },
     "execution_count": 690,
     "metadata": {},
     "output_type": "execute_result"
    }
   ],
   "source": [
    "Counter(obs)[prop.argmax()]"
   ]
  },
  {
   "cell_type": "code",
   "execution_count": null,
   "metadata": {},
   "outputs": [],
   "source": [
    "mydist"
   ]
  },
  {
   "cell_type": "code",
   "execution_count": 173,
   "metadata": {},
   "outputs": [
    {
     "data": {
      "text/plain": [
       "array([0.00000506, 0.00000527, 0.0000027 , ..., 0.00000285, 0.00000865,\n",
       "       0.00000569])"
      ]
     },
     "execution_count": 173,
     "metadata": {},
     "output_type": "execute_result"
    }
   ],
   "source": [
    "prop/prop.sum()"
   ]
  },
  {
   "cell_type": "code",
   "execution_count": 144,
   "metadata": {},
   "outputs": [
    {
     "data": {
      "text/plain": [
       "28650.75177272191"
      ]
     },
     "execution_count": 144,
     "metadata": {},
     "output_type": "execute_result"
    }
   ],
   "source": [
    "prop.sum()"
   ]
  },
  {
   "cell_type": "code",
   "execution_count": 145,
   "metadata": {},
   "outputs": [
    {
     "data": {
      "text/plain": [
       "(array([109826.,  35631.,  21528.,  13786.,   8615.,   5332.,   3009.,\n",
       "          1570.,    605.,     98.]),\n",
       " array([0.        , 0.09815767, 0.19631533, 0.294473  , 0.39263066,\n",
       "        0.49078833, 0.588946  , 0.68710366, 0.78526133, 0.883419  ,\n",
       "        0.98157666]),\n",
       " <a list of 10 Patch objects>)"
      ]
     },
     "execution_count": 145,
     "metadata": {},
     "output_type": "execute_result"
    },
    {
     "data": {
      "image/png": "[encoded data removed]",
      "text/plain": [
       "<Figure size 432x288 with 1 Axes>"
      ]
     },
     "metadata": {},
     "output_type": "display_data"
    }
   ],
   "source": [
    "plt.hist(prop)"
   ]
  },
  {
   "cell_type": "code",
   "execution_count": 146,
   "metadata": {},
   "outputs": [
    {
     "data": {
      "text/plain": [
       "187281"
      ]
     },
     "execution_count": 146,
     "metadata": {},
     "output_type": "execute_result"
    }
   ],
   "source": [
    "prop.argmax()"
   ]
  },
  {
   "cell_type": "code",
   "execution_count": 147,
   "metadata": {},
   "outputs": [
    {
     "data": {
      "text/plain": [
       "0.13472467523717876"
      ]
     },
     "execution_count": 147,
     "metadata": {},
     "output_type": "execute_result"
    }
   ],
   "source": [
    "prop[52328]"
   ]
  },
  {
   "cell_type": "code",
   "execution_count": 53,
   "metadata": {},
   "outputs": [
    {
     "data": {
      "text/plain": [
       "0.3177595837330483"
      ]
     },
     "execution_count": 53,
     "metadata": {},
     "output_type": "execute_result"
    }
   ],
   "source": [
    "prop[29850]"
   ]
  },
  {
   "cell_type": "code",
   "execution_count": 174,
   "metadata": {},
   "outputs": [],
   "source": [
    "npr = prop/prop.sum()"
   ]
  },
  {
   "cell_type": "code",
   "execution_count": 150,
   "metadata": {},
   "outputs": [
    {
     "data": {
      "text/plain": [
       "array([0.00001555, 0.0000027 , 0.00001333, ..., 0.00000256, 0.00000379,\n",
       "       0.00000002])"
      ]
     },
     "execution_count": 150,
     "metadata": {},
     "output_type": "execute_result"
    }
   ],
   "source": [
    "npr"
   ]
  },
  {
   "cell_type": "code",
   "execution_count": 175,
   "metadata": {},
   "outputs": [
    {
     "data": {
      "text/plain": [
       "(0,)"
      ]
     },
     "execution_count": 175,
     "metadata": {},
     "output_type": "execute_result"
    }
   ],
   "source": [
    "npr[npr == 0].shape"
   ]
  },
  {
   "cell_type": "code",
   "execution_count": 152,
   "metadata": {},
   "outputs": [
    {
     "data": {
      "text/plain": [
       "28650.75177272191"
      ]
     },
     "execution_count": 152,
     "metadata": {},
     "output_type": "execute_result"
    }
   ],
   "source": [
    "prop.sum()"
   ]
  },
  {
   "cell_type": "code",
   "execution_count": 77,
   "metadata": {},
   "outputs": [
    {
     "data": {
      "text/plain": [
       "array([0.        , 0.        , 0.00000002, ..., 0.        , 0.        ,\n",
       "       0.0000047 ])"
      ]
     },
     "execution_count": 77,
     "metadata": {},
     "output_type": "execute_result"
    }
   ],
   "source": [
    "prop"
   ]
  },
  {
   "cell_type": "code",
   "execution_count": 81,
   "metadata": {},
   "outputs": [
    {
     "data": {
      "text/plain": [
       "array([0., 0., 0.])"
      ]
     },
     "execution_count": 81,
     "metadata": {},
     "output_type": "execute_result"
    }
   ],
   "source": [
    "pm.Beta.dist(0.01, 8).random(size = 3)"
   ]
  },
  {
   "cell_type": "code",
   "execution_count": 136,
   "metadata": {},
   "outputs": [
    {
     "data": {
      "text/plain": [
       "array([0.00000331, 0.00000017, 0.07064017, 0.01776926, 0.08935499,\n",
       "       0.00000001, 0.        , 0.00158692, 0.00000001, 0.        ,\n",
       "       0.00753238, 0.14804667, 0.0013567 , 0.00279733, 0.06632636,\n",
       "       0.00003204, 0.00097981, 0.35008213, 0.00004334, 0.        ,\n",
       "       0.00008245, 0.00539509, 0.06408141, 0.00000283, 0.        ,\n",
       "       0.00002469, 0.00001676, 0.00001023, 0.        , 0.00051158])"
      ]
     },
     "execution_count": 136,
     "metadata": {},
     "output_type": "execute_result"
    }
   ],
   "source": [
    "beta.rvs(.3, 2, size=30)"
   ]
  },
  {
   "cell_type": "code",
   "execution_count": 92,
   "metadata": {},
   "outputs": [
    {
     "data": {
      "text/plain": [
       "1.0000277262715884"
      ]
     },
     "execution_count": 92,
     "metadata": {},
     "output_type": "execute_result"
    }
   ],
   "source": [
    "16**0.00001"
   ]
  },
  {
   "cell_type": "code",
   "execution_count": 97,
   "metadata": {},
   "outputs": [
    {
     "data": {
      "text/plain": [
       "999999.4227853243"
      ]
     },
     "execution_count": 97,
     "metadata": {},
     "output_type": "execute_result"
    }
   ],
   "source": [
    "gamma(0.000001)"
   ]
  },
  {
   "cell_type": "code",
   "execution_count": 104,
   "metadata": {},
   "outputs": [
    {
     "ename": "TypeError",
     "evalue": "'>' not supported between instances of 'beta_gen' and 'int'",
     "output_type": "error",
     "traceback": [
      "\u001b[0;31m---------------------------------------------------------------------------\u001b[0m",
      "\u001b[0;31mTypeError\u001b[0m                                 Traceback (most recent call last)",
      "\u001b[0;32m<ipython-input-104-8e65152b3261>\u001b[0m in \u001b[0;36m<module>\u001b[0;34m()\u001b[0m\n\u001b[0;32m----> 1\u001b[0;31m \u001b[0mbeta\u001b[0m\u001b[0;34m.\u001b[0m\u001b[0mpdf\u001b[0m\u001b[0;34m(\u001b[0m\u001b[0;36m1\u001b[0m\u001b[0;34m,\u001b[0m \u001b[0malpha\u001b[0m\u001b[0;34m,\u001b[0m \u001b[0mbeta\u001b[0m\u001b[0;34m)\u001b[0m\u001b[0;34m\u001b[0m\u001b[0m\n\u001b[0m",
      "\u001b[0;32m~/anaconda3/lib/python3.6/site-packages/scipy/stats/_distn_infrastructure.py\u001b[0m in \u001b[0;36mpdf\u001b[0;34m(self, x, *args, **kwds)\u001b[0m\n\u001b[1;32m   1651\u001b[0m         \u001b[0mdtyp\u001b[0m \u001b[0;34m=\u001b[0m \u001b[0mnp\u001b[0m\u001b[0;34m.\u001b[0m\u001b[0mfind_common_type\u001b[0m\u001b[0;34m(\u001b[0m\u001b[0;34m[\u001b[0m\u001b[0mx\u001b[0m\u001b[0;34m.\u001b[0m\u001b[0mdtype\u001b[0m\u001b[0;34m,\u001b[0m \u001b[0mnp\u001b[0m\u001b[0;34m.\u001b[0m\u001b[0mfloat64\u001b[0m\u001b[0;34m]\u001b[0m\u001b[0;34m,\u001b[0m \u001b[0;34m[\u001b[0m\u001b[0;34m]\u001b[0m\u001b[0;34m)\u001b[0m\u001b[0;34m\u001b[0m\u001b[0m\n\u001b[1;32m   1652\u001b[0m         \u001b[0mx\u001b[0m \u001b[0;34m=\u001b[0m \u001b[0mnp\u001b[0m\u001b[0;34m.\u001b[0m\u001b[0masarray\u001b[0m\u001b[0;34m(\u001b[0m\u001b[0;34m(\u001b[0m\u001b[0mx\u001b[0m \u001b[0;34m-\u001b[0m \u001b[0mloc\u001b[0m\u001b[0;34m)\u001b[0m\u001b[0;34m/\u001b[0m\u001b[0mscale\u001b[0m\u001b[0;34m,\u001b[0m \u001b[0mdtype\u001b[0m\u001b[0;34m=\u001b[0m\u001b[0mdtyp\u001b[0m\u001b[0;34m)\u001b[0m\u001b[0;34m\u001b[0m\u001b[0m\n\u001b[0;32m-> 1653\u001b[0;31m         \u001b[0mcond0\u001b[0m \u001b[0;34m=\u001b[0m \u001b[0mself\u001b[0m\u001b[0;34m.\u001b[0m\u001b[0m_argcheck\u001b[0m\u001b[0;34m(\u001b[0m\u001b[0;34m*\u001b[0m\u001b[0margs\u001b[0m\u001b[0;34m)\u001b[0m \u001b[0;34m&\u001b[0m \u001b[0;34m(\u001b[0m\u001b[0mscale\u001b[0m \u001b[0;34m>\u001b[0m \u001b[0;36m0\u001b[0m\u001b[0;34m)\u001b[0m\u001b[0;34m\u001b[0m\u001b[0m\n\u001b[0m\u001b[1;32m   1654\u001b[0m         \u001b[0mcond1\u001b[0m \u001b[0;34m=\u001b[0m \u001b[0mself\u001b[0m\u001b[0;34m.\u001b[0m\u001b[0m_support_mask\u001b[0m\u001b[0;34m(\u001b[0m\u001b[0mx\u001b[0m\u001b[0;34m)\u001b[0m \u001b[0;34m&\u001b[0m \u001b[0;34m(\u001b[0m\u001b[0mscale\u001b[0m \u001b[0;34m>\u001b[0m \u001b[0;36m0\u001b[0m\u001b[0;34m)\u001b[0m\u001b[0;34m\u001b[0m\u001b[0m\n\u001b[1;32m   1655\u001b[0m         \u001b[0mcond\u001b[0m \u001b[0;34m=\u001b[0m \u001b[0mcond0\u001b[0m \u001b[0;34m&\u001b[0m \u001b[0mcond1\u001b[0m\u001b[0;34m\u001b[0m\u001b[0m\n",
      "\u001b[0;32m~/anaconda3/lib/python3.6/site-packages/scipy/stats/_distn_infrastructure.py\u001b[0m in \u001b[0;36m_argcheck\u001b[0;34m(self, *args)\u001b[0m\n\u001b[1;32m    870\u001b[0m         \u001b[0mcond\u001b[0m \u001b[0;34m=\u001b[0m \u001b[0;36m1\u001b[0m\u001b[0;34m\u001b[0m\u001b[0m\n\u001b[1;32m    871\u001b[0m         \u001b[0;32mfor\u001b[0m \u001b[0marg\u001b[0m \u001b[0;32min\u001b[0m \u001b[0margs\u001b[0m\u001b[0;34m:\u001b[0m\u001b[0;34m\u001b[0m\u001b[0m\n\u001b[0;32m--> 872\u001b[0;31m             \u001b[0mcond\u001b[0m \u001b[0;34m=\u001b[0m \u001b[0mlogical_and\u001b[0m\u001b[0;34m(\u001b[0m\u001b[0mcond\u001b[0m\u001b[0;34m,\u001b[0m \u001b[0;34m(\u001b[0m\u001b[0masarray\u001b[0m\u001b[0;34m(\u001b[0m\u001b[0marg\u001b[0m\u001b[0;34m)\u001b[0m \u001b[0;34m>\u001b[0m \u001b[0;36m0\u001b[0m\u001b[0;34m)\u001b[0m\u001b[0;34m)\u001b[0m\u001b[0;34m\u001b[0m\u001b[0m\n\u001b[0m\u001b[1;32m    873\u001b[0m         \u001b[0;32mreturn\u001b[0m \u001b[0mcond\u001b[0m\u001b[0;34m\u001b[0m\u001b[0m\n\u001b[1;32m    874\u001b[0m \u001b[0;34m\u001b[0m\u001b[0m\n",
      "\u001b[0;31mTypeError\u001b[0m: '>' not supported between instances of 'beta_gen' and 'int'"
     ]
    }
   ],
   "source": [
    "beta.pdf(1, alpha, beta)"
   ]
  },
  {
   "cell_type": "code",
   "execution_count": 122,
   "metadata": {},
   "outputs": [
    {
     "data": {
      "text/plain": [
       "88913.5347167808"
      ]
     },
     "execution_count": 122,
     "metadata": {},
     "output_type": "execute_result"
    }
   ],
   "source": [
    "a, b = 0.9, 7\n",
    "beta.pdf(1e-8, 0.0009, 78)"
   ]
  },
  {
   "cell_type": "code",
   "execution_count": 123,
   "metadata": {},
   "outputs": [],
   "source": [
    "x = np.linspace(beta.ppf(0.01, a, b), beta.ppf(0.99, a, b), 100)"
   ]
  },
  {
   "cell_type": "code",
   "execution_count": 124,
   "metadata": {},
   "outputs": [
    {
     "data": {
      "text/plain": [
       "array([0.00082803, 0.00553432, 0.0102406 , 0.01494689, 0.01965318,\n",
       "       0.02435947, 0.02906575, 0.03377204, 0.03847833, 0.04318461,\n",
       "       0.0478909 , 0.05259719, 0.05730348, 0.06200976, 0.06671605,\n",
       "       0.07142234, 0.07612863, 0.08083491, 0.0855412 , 0.09024749,\n",
       "       0.09495377, 0.09966006, 0.10436635, 0.10907264, 0.11377892,\n",
       "       0.11848521, 0.1231915 , 0.12789779, 0.13260407, 0.13731036,\n",
       "       0.14201665, 0.14672294, 0.15142922, 0.15613551, 0.1608418 ,\n",
       "       0.16554808, 0.17025437, 0.17496066, 0.17966695, 0.18437323,\n",
       "       0.18907952, 0.19378581, 0.1984921 , 0.20319838, 0.20790467,\n",
       "       0.21261096, 0.21731724, 0.22202353, 0.22672982, 0.23143611,\n",
       "       0.23614239, 0.24084868, 0.24555497, 0.25026126, 0.25496754,\n",
       "       0.25967383, 0.26438012, 0.2690864 , 0.27379269, 0.27849898,\n",
       "       0.28320527, 0.28791155, 0.29261784, 0.29732413, 0.30203042,\n",
       "       0.3067367 , 0.31144299, 0.31614928, 0.32085556, 0.32556185,\n",
       "       0.33026814, 0.33497443, 0.33968071, 0.344387  , 0.34909329,\n",
       "       0.35379958, 0.35850586, 0.36321215, 0.36791844, 0.37262473,\n",
       "       0.37733101, 0.3820373 , 0.38674359, 0.39144987, 0.39615616,\n",
       "       0.40086245, 0.40556874, 0.41027502, 0.41498131, 0.4196876 ,\n",
       "       0.42439389, 0.42910017, 0.43380646, 0.43851275, 0.44321903,\n",
       "       0.44792532, 0.45263161, 0.4573379 , 0.46204418, 0.46675047])"
      ]
     },
     "execution_count": 124,
     "metadata": {},
     "output_type": "execute_result"
    }
   ],
   "source": [
    "x"
   ]
  },
  {
   "cell_type": "code",
   "execution_count": 220,
   "metadata": {},
   "outputs": [
    {
     "data": {
      "text/plain": [
       "[<matplotlib.lines.Line2D at 0x1a0ccfdf98>]"
      ]
     },
     "execution_count": 220,
     "metadata": {},
     "output_type": "execute_result"
    },
    {
     "data": {
      "image/png": "[encoded data removed]",
      "text/plain": [
       "<Figure size 432x288 with 1 Axes>"
      ]
     },
     "metadata": {},
     "output_type": "display_data"
    }
   ],
   "source": [
    "xx = np.linspace(0, 1, 100000)\n",
    "fig, ax = plt.subplots(1, 1)\n",
    "a, b = 1.96, 200\n",
    "ax.plot(xx, beta.pdf(xx, a, b), 'r-', lw=5, alpha=0.6, label='beta pdf')"
   ]
  },
  {
   "cell_type": "code",
   "execution_count": 131,
   "metadata": {},
   "outputs": [],
   "source": []
  },
  {
   "cell_type": "code",
   "execution_count": 154,
   "metadata": {},
   "outputs": [
    {
     "data": {
      "text/plain": [
       "array([], dtype=float64)"
      ]
     },
     "execution_count": 154,
     "metadata": {},
     "output_type": "execute_result"
    }
   ],
   "source": [
    "prop[prop == 0]"
   ]
  },
  {
   "cell_type": "code",
   "execution_count": 191,
   "metadata": {},
   "outputs": [],
   "source": [
    "obs2 = []\n",
    "for _ in range(S):\n",
    "    for i in list(np.random.choice(N, 3000, replace = False)):\n",
    "        obs2.append(i)"
   ]
  },
  {
   "cell_type": "code",
   "execution_count": 193,
   "metadata": {},
   "outputs": [
    {
     "data": {
      "text/plain": [
       "28107"
      ]
     },
     "execution_count": 193,
     "metadata": {},
     "output_type": "execute_result"
    }
   ],
   "source": [
    "len(set(obs2))"
   ]
  },
  {
   "cell_type": "code",
   "execution_count": 188,
   "metadata": {},
   "outputs": [
    {
     "data": {
      "text/plain": [
       "array([0, 7])"
      ]
     },
     "execution_count": 188,
     "metadata": {},
     "output_type": "execute_result"
    }
   ],
   "source": [
    "np.random.choice(10, 2, replace = False)"
   ]
  },
  {
   "cell_type": "code",
   "execution_count": 194,
   "metadata": {},
   "outputs": [
    {
     "data": {
      "text/plain": [
       "30000"
      ]
     },
     "execution_count": 194,
     "metadata": {},
     "output_type": "execute_result"
    }
   ],
   "source": [
    "3000*10"
   ]
  },
  {
   "cell_type": "code",
   "execution_count": 201,
   "metadata": {},
   "outputs": [
    {
     "data": {
      "text/plain": [
       "array([0.        , 0.        , 0.        , ..., 0.        , 0.00000004,\n",
       "       0.00186392])"
      ]
     },
     "execution_count": 201,
     "metadata": {},
     "output_type": "execute_result"
    }
   ],
   "source": [
    "prop"
   ]
  },
  {
   "cell_type": "code",
   "execution_count": 260,
   "metadata": {},
   "outputs": [],
   "source": [
    "nrp = prop/prop.sum()"
   ]
  },
  {
   "cell_type": "code",
   "execution_count": 263,
   "metadata": {},
   "outputs": [
    {
     "data": {
      "text/plain": [
       "0.024904122067625444"
      ]
     },
     "execution_count": 263,
     "metadata": {},
     "output_type": "execute_result"
    }
   ],
   "source": [
    "nrp[87]"
   ]
  },
  {
   "cell_type": "code",
   "execution_count": 287,
   "metadata": {},
   "outputs": [
    {
     "name": "stdout",
     "output_type": "stream",
     "text": [
      "2388\n"
     ]
    }
   ],
   "source": [
    "cnt = 1\n",
    "for _ in range(S):\n",
    "    if 87 in np.random.choice(N, 10, replace = False, p=nrp):\n",
    "        cnt += 1\n",
    "print(cnt)"
   ]
  },
  {
   "cell_type": "code",
   "execution_count": 276,
   "metadata": {},
   "outputs": [
    {
     "data": {
      "text/plain": [
       "<BarContainer object of 100 artists>"
      ]
     },
     "execution_count": 276,
     "metadata": {},
     "output_type": "execute_result"
    },
    {
     "data": {
      "image/png": "[encoded data removed]",
      "text/plain": [
       "<Figure size 432x288 with 1 Axes>"
      ]
     },
     "metadata": {},
     "output_type": "display_data"
    }
   ],
   "source": [
    "plt.bar(np.arange(len(nrp)), sorted(nrp))"
   ]
  },
  {
   "cell_type": "code",
   "execution_count": 277,
   "metadata": {},
   "outputs": [
    {
     "ename": "SyntaxError",
     "evalue": "unexpected EOF while parsing (<ipython-input-277-4cc5be5f466a>, line 1)",
     "output_type": "error",
     "traceback": [
      "\u001b[0;36m  File \u001b[0;32m\"<ipython-input-277-4cc5be5f466a>\"\u001b[0;36m, line \u001b[0;32m1\u001b[0m\n\u001b[0;31m    np.random.choice(N, 10, replace = False, p=\u001b[0m\n\u001b[0m                                               ^\u001b[0m\n\u001b[0;31mSyntaxError\u001b[0m\u001b[0;31m:\u001b[0m unexpected EOF while parsing\n"
     ]
    }
   ],
   "source": [
    "np.random.choice(N, 10, replace = False, p="
   ]
  },
  {
   "cell_type": "code",
   "execution_count": 301,
   "metadata": {},
   "outputs": [],
   "source": [
    "z = []"
   ]
  },
  {
   "cell_type": "code",
   "execution_count": 302,
   "metadata": {},
   "outputs": [],
   "source": [
    "ar = np.array([565, 73,563,35,35,35])"
   ]
  },
  {
   "cell_type": "code",
   "execution_count": 306,
   "metadata": {},
   "outputs": [
    {
     "ename": "TypeError",
     "evalue": "join() takes exactly one argument (2 given)",
     "output_type": "error",
     "traceback": [
      "\u001b[0;31m---------------------------------------------------------------------------\u001b[0m",
      "\u001b[0;31mTypeError\u001b[0m                                 Traceback (most recent call last)",
      "\u001b[0;32m<ipython-input-306-a92f24c92506>\u001b[0m in \u001b[0;36m<module>\u001b[0;34m()\u001b[0m\n\u001b[0;32m----> 1\u001b[0;31m \u001b[0;34m\"\"\u001b[0m\u001b[0;34m.\u001b[0m\u001b[0mjoin\u001b[0m\u001b[0;34m(\u001b[0m\u001b[0mz\u001b[0m\u001b[0;34m,\u001b[0m \u001b[0mlist\u001b[0m\u001b[0;34m(\u001b[0m\u001b[0mar\u001b[0m\u001b[0;34m)\u001b[0m\u001b[0;34m)\u001b[0m\u001b[0;34m\u001b[0m\u001b[0m\n\u001b[0m",
      "\u001b[0;31mTypeError\u001b[0m: join() takes exactly one argument (2 given)"
     ]
    }
   ],
   "source": [
    "\"\".join(z, list(ar))"
   ]
  },
  {
   "cell_type": "code",
   "execution_count": 218,
   "metadata": {},
   "outputs": [],
   "source": [
    "test = beta.rvs(a, b, size=N)"
   ]
  },
  {
   "cell_type": "code",
   "execution_count": 220,
   "metadata": {},
   "outputs": [
    {
     "data": {
      "text/plain": [
       "27592.19013369081"
      ]
     },
     "execution_count": 220,
     "metadata": {},
     "output_type": "execute_result"
    }
   ],
   "source": [
    "test.sum()"
   ]
  },
  {
   "cell_type": "code",
   "execution_count": 222,
   "metadata": {},
   "outputs": [
    {
     "data": {
      "text/plain": [
       "27586.206896551725"
      ]
     },
     "execution_count": 222,
     "metadata": {},
     "output_type": "execute_result"
    }
   ],
   "source": [
    "N * a/(a+b)"
   ]
  },
  {
   "cell_type": "code",
   "execution_count": 358,
   "metadata": {},
   "outputs": [
    {
     "data": {
      "text/plain": [
       "array([2])"
      ]
     },
     "execution_count": 358,
     "metadata": {},
     "output_type": "execute_result"
    }
   ],
   "source": [
    "np.random.choice(5, 1, replace = False, p = [.03, .05, .9, 0.01, 0.01])"
   ]
  },
  {
   "cell_type": "code",
   "execution_count": 1124,
   "metadata": {},
   "outputs": [],
   "source": [
    "scaledprop = (prop - prop.min()) / (prop - prop.min()).sum()"
   ]
  },
  {
   "cell_type": "code",
   "execution_count": 1133,
   "metadata": {},
   "outputs": [
    {
     "data": {
      "text/plain": [
       "0.0"
      ]
     },
     "execution_count": 1133,
     "metadata": {},
     "output_type": "execute_result"
    }
   ],
   "source": [
    "np.array(sorted(scaledprop)).min()"
   ]
  },
  {
   "cell_type": "code",
   "execution_count": 74,
   "metadata": {},
   "outputs": [
    {
     "data": {
      "text/plain": [
       "[<matplotlib.lines.Line2D at 0x1a1bb7b438>]"
      ]
     },
     "execution_count": 74,
     "metadata": {},
     "output_type": "execute_result"
    },
    {
     "data": {
      "image/png": "[encoded data removed]",
      "text/plain": [
       "<Figure size 432x288 with 1 Axes>"
      ]
     },
     "metadata": {},
     "output_type": "display_data"
    }
   ],
   "source": [
    "zp = prop/prop.sum()\n",
    "plt.plot(sorted(prop))\n",
    "plt.plot()\n",
    "plt.plot(sorted(zp))"
   ]
  },
  {
   "cell_type": "code",
   "execution_count": 72,
   "metadata": {},
   "outputs": [
    {
     "data": {
      "text/plain": [
       "(1866,)"
      ]
     },
     "execution_count": 72,
     "metadata": {},
     "output_type": "execute_result"
    }
   ],
   "source": [
    "prop = beta.rvs(.01, .8, size = N)\n",
    "prop[prop > .5].shape"
   ]
  },
  {
   "cell_type": "code",
   "execution_count": 193,
   "metadata": {},
   "outputs": [
    {
     "ename": "ValueError",
     "evalue": "Fewer non-zero entries in p than size",
     "output_type": "error",
     "traceback": [
      "\u001b[0;31m---------------------------------------------------------------------------\u001b[0m",
      "\u001b[0;31mValueError\u001b[0m                                Traceback (most recent call last)",
      "\u001b[0;32m<ipython-input-193-61ac28221813>\u001b[0m in \u001b[0;36m<module>\u001b[0;34m()\u001b[0m\n\u001b[0;32m----> 1\u001b[0;31m \u001b[0mtest_p\u001b[0m \u001b[0;34m=\u001b[0m \u001b[0mnp\u001b[0m\u001b[0;34m.\u001b[0m\u001b[0mrandom\u001b[0m\u001b[0;34m.\u001b[0m\u001b[0mchoice\u001b[0m\u001b[0;34m(\u001b[0m\u001b[0mN\u001b[0m\u001b[0;34m,\u001b[0m \u001b[0mN\u001b[0m\u001b[0;34m-\u001b[0m\u001b[0;36m1\u001b[0m\u001b[0;34m,\u001b[0m \u001b[0mreplace\u001b[0m \u001b[0;34m=\u001b[0m \u001b[0;32mFalse\u001b[0m\u001b[0;34m,\u001b[0m \u001b[0mp\u001b[0m \u001b[0;34m=\u001b[0m \u001b[0mprop\u001b[0m\u001b[0;34m/\u001b[0m\u001b[0mprop\u001b[0m\u001b[0;34m.\u001b[0m\u001b[0msum\u001b[0m\u001b[0;34m(\u001b[0m\u001b[0;34m)\u001b[0m\u001b[0;34m)\u001b[0m\u001b[0;34m\u001b[0m\u001b[0m\n\u001b[0m",
      "\u001b[0;32mmtrand.pyx\u001b[0m in \u001b[0;36mmtrand.RandomState.choice\u001b[0;34m()\u001b[0m\n",
      "\u001b[0;31mValueError\u001b[0m: Fewer non-zero entries in p than size"
     ]
    }
   ],
   "source": [
    "test_p = np.random.choice(N, N-1, replace = False, p = prop/prop.sum())"
   ]
  },
  {
   "cell_type": "code",
   "execution_count": 184,
   "metadata": {},
   "outputs": [
    {
     "data": {
      "text/plain": [
       "0.9999999999999547"
      ]
     },
     "execution_count": 184,
     "metadata": {},
     "output_type": "execute_result"
    }
   ],
   "source": [
    "sum(prop[test_p]/prop.sum())"
   ]
  },
  {
   "cell_type": "code",
   "execution_count": 168,
   "metadata": {},
   "outputs": [
    {
     "data": {
      "text/plain": [
       "array([  3892,  20326, 173413, ..., 183908, 148560,  83954])"
      ]
     },
     "execution_count": 168,
     "metadata": {},
     "output_type": "execute_result"
    }
   ],
   "source": [
    "test_p"
   ]
  },
  {
   "cell_type": "code",
   "execution_count": 189,
   "metadata": {},
   "outputs": [
    {
     "data": {
      "text/plain": [
       "1.0"
      ]
     },
     "execution_count": 189,
     "metadata": {},
     "output_type": "execute_result"
    }
   ],
   "source": [
    "(prop[test_p]/prop.sum())[:100000].sum()"
   ]
  },
  {
   "cell_type": "code",
   "execution_count": 198,
   "metadata": {},
   "outputs": [
    {
     "data": {
      "text/plain": [
       "(4757,)"
      ]
     },
     "execution_count": 198,
     "metadata": {},
     "output_type": "execute_result"
    }
   ],
   "source": [
    "prop[prop == 0.].shape"
   ]
  },
  {
   "cell_type": "code",
   "execution_count": 199,
   "metadata": {},
   "outputs": [],
   "source": [
    "p_p = prop/prop.sum()"
   ]
  },
  {
   "cell_type": "code",
   "execution_count": 201,
   "metadata": {},
   "outputs": [
    {
     "data": {
      "text/plain": [
       "(4896,)"
      ]
     },
     "execution_count": 201,
     "metadata": {},
     "output_type": "execute_result"
    }
   ],
   "source": [
    "p_p[p_p == 0].shape"
   ]
  },
  {
   "cell_type": "code",
   "execution_count": 317,
   "metadata": {},
   "outputs": [
    {
     "data": {
      "text/plain": [
       "(array([  2.,   6.,  35.,  78., 155., 248., 226., 172.,  63.,  15.]),\n",
       " array([15847.27986929, 15847.28821723, 15847.29656516, 15847.30491309,\n",
       "        15847.31326102, 15847.32160896, 15847.32995689, 15847.33830482,\n",
       "        15847.34665275, 15847.35500069, 15847.36334862]),\n",
       " <a list of 10 Patch objects>)"
      ]
     },
     "execution_count": 317,
     "metadata": {},
     "output_type": "execute_result"
    },
    {
     "data": {
      "image/png": "[encoded data removed]",
      "text/plain": [
       "<Figure size 432x288 with 1 Axes>"
      ]
     },
     "metadata": {},
     "output_type": "display_data"
    }
   ],
   "source": [
    "N = 100000\n",
    "prop = beta.rvs(1.5, 8, size = N)\n",
    "su = []\n",
    "for _ in range(1000):\n",
    "    tmp = np.random.choice(prop, 99900, replace = False, p = prop/ prop.sum()).sum()\n",
    "    su.append(tmp.sum())\n",
    "\n",
    "plt.hist(su)"
   ]
  },
  {
   "cell_type": "code",
   "execution_count": 315,
   "metadata": {},
   "outputs": [
    {
     "data": {
      "text/plain": [
       "(array([  2.,   6.,  29., 145., 266., 286., 172.,  77.,  14.,   3.]),\n",
       " array([10314.61086627, 10324.68966735, 10334.76846843, 10344.84726952,\n",
       "        10354.9260706 , 10365.00487168, 10375.08367276, 10385.16247384,\n",
       "        10395.24127492, 10405.320076  , 10415.39887709]),\n",
       " <a list of 10 Patch objects>)"
      ]
     },
     "execution_count": 315,
     "metadata": {},
     "output_type": "execute_result"
    },
    {
     "data": {
      "image/png": "[encoded data removed]",
      "text/plain": [
       "<Figure size 432x288 with 1 Axes>"
      ]
     },
     "metadata": {},
     "output_type": "display_data"
    }
   ],
   "source": [
    "N = 65650\n",
    "su2 = []\n",
    "for _ in range(1000):\n",
    "    tmp = beta.rvs(1.5, 8, size = N)\n",
    "    su2.append(tmp.sum())\n",
    "plt.hist(su2)\n",
    "plt.hist(su)"
   ]
  },
  {
   "cell_type": "code",
   "execution_count": 224,
   "metadata": {},
   "outputs": [
    {
     "data": {
      "text/plain": [
       "37.03703703703704"
      ]
     },
     "execution_count": 224,
     "metadata": {},
     "output_type": "execute_result"
    }
   ],
   "source": [
    "3000 * (.01/ (.01 + .8))"
   ]
  },
  {
   "cell_type": "code",
   "execution_count": 248,
   "metadata": {},
   "outputs": [
    {
     "data": {
      "text/plain": [
       "array([0.9913, 0.9   ])"
      ]
     },
     "execution_count": 248,
     "metadata": {},
     "output_type": "execute_result"
    }
   ],
   "source": [
    "l = np.array([.8, .9, .10, .001, 0.9913])\n",
    "np.random.choice(l, 2, replace = False, p = l/ l.sum())"
   ]
  },
  {
   "cell_type": "code",
   "execution_count": 254,
   "metadata": {},
   "outputs": [
    {
     "data": {
      "text/plain": [
       "2999.9999999999986"
      ]
     },
     "execution_count": 254,
     "metadata": {},
     "output_type": "execute_result"
    }
   ],
   "source": [
    "(prop * 3000/prop.sum()).sum()"
   ]
  },
  {
   "cell_type": "code",
   "execution_count": 238,
   "metadata": {},
   "outputs": [
    {
     "data": {
      "text/plain": [
       "2.7923"
      ]
     },
     "execution_count": 238,
     "metadata": {},
     "output_type": "execute_result"
    }
   ],
   "source": [
    "l.sum()"
   ]
  },
  {
   "cell_type": "code",
   "execution_count": 263,
   "metadata": {},
   "outputs": [
    {
     "data": {
      "text/plain": [
       "0.823798361823106"
      ]
     },
     "execution_count": 263,
     "metadata": {},
     "output_type": "execute_result"
    }
   ],
   "source": [
    "prop.max()"
   ]
  },
  {
   "cell_type": "code",
   "execution_count": 281,
   "metadata": {},
   "outputs": [
    {
     "data": {
      "text/plain": [
       "31578.049269681065"
      ]
     },
     "execution_count": 281,
     "metadata": {},
     "output_type": "execute_result"
    }
   ],
   "source": [
    "prop.sum()"
   ]
  },
  {
   "cell_type": "code",
   "execution_count": 288,
   "metadata": {},
   "outputs": [
    {
     "data": {
      "text/plain": [
       "473.6842105263158"
      ]
     },
     "execution_count": 288,
     "metadata": {},
     "output_type": "execute_result"
    }
   ],
   "source": [
    "(1.5 / (1.5 + 8)) * 3000"
   ]
  },
  {
   "cell_type": "code",
   "execution_count": null,
   "metadata": {},
   "outputs": [],
   "source": [
    "prop[prop == 0]"
   ]
  },
  {
   "cell_type": "code",
   "execution_count": 18,
   "metadata": {},
   "outputs": [
    {
     "data": {
      "image/png": "[encoded data removed]",
      "text/plain": [
       "<Figure size 432x288 with 1 Axes>"
      ]
     },
     "metadata": {},
     "output_type": "display_data"
    }
   ],
   "source": [
    "N = 100000\n",
    "su = []\n",
    "sf = []\n",
    "propfix = beta.rvs(1.5, 8, size = N)\n",
    "for _ in range(1000):\n",
    "    prop = beta.rvs(1.5, 8, size = N)\n",
    "    for z in prop:\n",
    "        sf.append(z)\n",
    "    tmp = np.random.choice(prop, 10000, replace = False, p = prop/ prop.sum())\n",
    "    for i in tmp:\n",
    "        su.append(i)\n",
    "        \n",
    "plt.hist(np.array(sf));\n",
    "plt.hist(np.array(su));"
   ]
  },
  {
   "cell_type": "code",
   "execution_count": 17,
   "metadata": {},
   "outputs": [
    {
     "data": {
      "image/png": "[encoded data removed]",
      "text/plain": [
       "<Figure size 432x288 with 1 Axes>"
      ]
     },
     "metadata": {},
     "output_type": "display_data"
    }
   ],
   "source": [
    "#bist = sorted(Counter(su).items())\n",
    "#xb, yb = zip(*bist)\n",
    "plt.hist(np.array(sf));\n",
    "plt.hist(np.array(su));"
   ]
  },
  {
   "cell_type": "code",
   "execution_count": 2,
   "metadata": {},
   "outputs": [],
   "source": [
    "import seaborn as sns\n",
    "from matplotlib import rcParams\n",
    "\n",
    "# figure size in inches\n",
    "rcParams['figure.figsize'] = 11.7,8.27\n",
    "\n",
    "N = 100000\n",
    "su0 = []\n",
    "su1k = []\n",
    "su2k = []\n",
    "su10k = []\n",
    "su20k = []\n",
    "su30k = []\n",
    "su40k = []\n",
    "su50k = []\n",
    "su60k = []\n",
    "su70k = []\n",
    "su80k = []\n",
    "\n",
    "propfix = beta.rvs(.5, 8, size = N)\n",
    "\n",
    "for _ in range(10000):\n",
    "    tmp = np.random.choice(propfix, 100, replace = False, p = propfix/ propfix.sum())\n",
    "    for i in tmp:\n",
    "        su0.append(i)\n",
    "        \n",
    "for _ in range(1000):\n",
    "    tmp = np.random.choice(propfix, 1000, replace = False, p = propfix/ propfix.sum())\n",
    "    for i in tmp:\n",
    "        su1k.append(i)\n",
    "\n",
    "for _ in range(1000):\n",
    "    tmp = np.random.choice(propfix, 2000, replace = False, p = propfix/ propfix.sum())\n",
    "    for i in tmp:\n",
    "        su2k.append(i)\n",
    "        \n",
    "for _ in range(100):\n",
    "    tmp = np.random.choice(propfix, 10000, replace = False, p = propfix/ propfix.sum())\n",
    "    for i in tmp:\n",
    "        su10k.append(i)\n",
    "for _ in range(100):\n",
    "    tmp = np.random.choice(propfix, 20000, replace = False, p = propfix/ propfix.sum())\n",
    "    for i in tmp:\n",
    "        su20k.append(i)\n",
    "for _ in range(100):\n",
    "    tmp = np.random.choice(propfix, 30000, replace = False, p = propfix/ propfix.sum())\n",
    "    for i in tmp:\n",
    "        su30k.append(i)\n",
    "for _ in range(100):\n",
    "    tmp = np.random.choice(propfix, 40000, replace = False, p = propfix/ propfix.sum())\n",
    "    for i in tmp:\n",
    "        su40k.append(i)\n",
    "for _ in range(100):\n",
    "    tmp = np.random.choice(propfix, 50000, replace = False, p = propfix/ propfix.sum())\n",
    "    for i in tmp:\n",
    "        su50k.append(i)\n",
    "for _ in range(100):\n",
    "    tmp = np.random.choice(propfix, 60000, replace = False, p = propfix/ propfix.sum())\n",
    "    for i in tmp:\n",
    "        su60k.append(i)   \n",
    "for _ in range(100):\n",
    "    tmp = np.random.choice(propfix, 70000, replace = False, p = propfix/ propfix.sum())\n",
    "    for i in tmp:\n",
    "        su70k.append(i)   \n",
    "for _ in range(10):\n",
    "    tmp = np.random.choice(propfix, 80000, replace = False, p = propfix/ propfix.sum())\n",
    "    for i in tmp:\n",
    "        su80k.append(i)\n",
    "        \n",
    "su0 = np.array(su0)\n",
    "su1k = np.array(su1k)\n",
    "su2k = np.array(su2k)\n",
    "su10k = np.array(su10k)\n",
    "su20k = np.array(su20k)\n",
    "su30k = np.array(su30k)\n",
    "su40k = np.array(su40k)\n",
    "su50k = np.array(su50k)\n",
    "su60k = np.array(su60k)\n",
    "su70k = np.array(su70k)\n",
    "su80k = np.array(su80k)"
   ]
  },
  {
   "cell_type": "code",
   "execution_count": 92,
   "metadata": {},
   "outputs": [],
   "source": [
    "N = 200000\n",
    "propfix = beta.rvs(0.0001, 14.579, size = N)\n",
    "stmp = []\n",
    "for _ in range(3000):\n",
    "    tmp = np.random.choice(propfix, 3000, replace = False, p = propfix/ propfix.sum())\n",
    "    for i in tmp:\n",
    "        stmp.append(i)\n",
    "stmp = np.array(stmp)"
   ]
  },
  {
   "cell_type": "code",
   "execution_count": 90,
   "metadata": {},
   "outputs": [
    {
     "data": {
      "image/png": "[encoded data removed]",
      "text/plain": [
       "<Figure size 842.4x595.44 with 1 Axes>"
      ]
     },
     "metadata": {},
     "output_type": "display_data"
    }
   ],
   "source": [
    "sns.distplot(beta.rvs(1.00001, 10, size = N), color= 'red', hist = False);\n",
    "sns.distplot(stmp,hist=False, color = 'green');\n",
    "sns.distplot(propfix,hist=False);"
   ]
  },
  {
   "cell_type": "code",
   "execution_count": 92,
   "metadata": {},
   "outputs": [
    {
     "data": {
      "image/png": "[encoded data removed]",
      "text/plain": [
       "<Figure size 432x288 with 1 Axes>"
      ]
     },
     "metadata": {},
     "output_type": "display_data"
    }
   ],
   "source": [
    "N = 100000\n",
    "su0 = []\n",
    "su1 = []\n",
    "su2 = []\n",
    "su3 = []\n",
    "for _ in range(10000):\n",
    "    propnew = beta.rvs(1.5, 8, size = N)\n",
    "    tmp = np.random.choice(propnew, 100, replace = False, p = propnew/ propnew.sum())\n",
    "    for i in tmp:\n",
    "        su0.append(i)\n",
    "for _ in range(1000):\n",
    "    propnew = beta.rvs(1.5, 8, size = N)\n",
    "    tmp = np.random.choice(propnew, 1000, replace = False, p = propnew/ propnew.sum())\n",
    "    for i in tmp:\n",
    "        su1.append(i)\n",
    "for _ in range(100):\n",
    "    propnew = beta.rvs(1.5, 8, size = N)\n",
    "    tmp = np.random.choice(propnew, 50000, replace = False, p = propnew/ propnew.sum())\n",
    "    for i in tmp:\n",
    "        su2.append(i)\n",
    "for _ in range(10):\n",
    "    propnew = beta.rvs(1.5, 8, size = N)\n",
    "    tmp = np.random.choice(propnew, 80000, replace = False, p = propnew/ propnew.sum())\n",
    "    for i in tmp:\n",
    "        su3.append(i)\n",
    "su0 = np.array(su0)\n",
    "su1 = np.array(su1)\n",
    "su2 = np.array(su2)\n",
    "su3 = np.array(su3)\n",
    "plt.hist(propfix, bins = 100, alpha = .8, density = True, color = 'yellow');\n",
    "plt.hist(su0, bins = 100, alpha = .8, density = True, color = 'magenta');\n",
    "plt.hist(su1, bins = 100, alpha = .8, density = True, color = 'green');\n",
    "plt.hist(su2, bins = 100, alpha = .8, density = True, color = 'blue');\n",
    "plt.hist(su3, bins = 100, alpha = .8, density = True, color = 'red');"
   ]
  },
  {
   "cell_type": "code",
   "execution_count": 28,
   "metadata": {},
   "outputs": [
    {
     "data": {
      "image/png": "[encoded data removed]",
      "text/plain": [
       "<Figure size 432x288 with 1 Axes>"
      ]
     },
     "metadata": {},
     "output_type": "display_data"
    }
   ],
   "source": [
    "plt.hist(beta.rvs(1.5, 8, size = 1000000), bins = 100);"
   ]
  },
  {
   "cell_type": "code",
   "execution_count": 59,
   "metadata": {},
   "outputs": [
    {
     "name": "stderr",
     "output_type": "stream",
     "text": [
      "Auto-assigning NUTS sampler...\n",
      "Initializing NUTS using jitter+adapt_diag...\n",
      "Multiprocess sampling (4 chains in 4 jobs)\n",
      "NUTS: [beta, alpha]\n",
      "Sampling 4 chains: 100%|██████████| 6000/6000 [00:12<00:00, 493.55draws/s]\n",
      "The acceptance probability does not match the target. It is 0.8891542713935173, but should be close to 0.8. Try to increase the number of tuning steps.\n",
      "The acceptance probability does not match the target. It is 0.8983372569033486, but should be close to 0.8. Try to increase the number of tuning steps.\n",
      "The acceptance probability does not match the target. It is 0.8980185833705155, but should be close to 0.8. Try to increase the number of tuning steps.\n"
     ]
    }
   ],
   "source": [
    "with pm.Model() as model:\n",
    "    a = pm.Uniform('alpha', 0, 5)\n",
    "    b = pm.Uniform('beta', 0, 20)\n",
    "    U = pm.Beta('Unseen', alpha = a, beta = b, observed = np.random.choice(stmp, 100000,replace = False))\n",
    "    trace = pm.sample(1000)"
   ]
  },
  {
   "cell_type": "code",
   "execution_count": 60,
   "metadata": {},
   "outputs": [
    {
     "name": "stderr",
     "output_type": "stream",
     "text": [
      "/Users/ded/anaconda3/lib/python3.6/site-packages/matplotlib/axes/_base.py:3449: MatplotlibDeprecationWarning: \n",
      "The `ymin` argument was deprecated in Matplotlib 3.0 and will be removed in 3.2. Use `bottom` instead.\n",
      "  alternative='`bottom`', obj_type='argument')\n",
      "/Users/ded/anaconda3/lib/python3.6/site-packages/matplotlib/axes/_base.py:3449: MatplotlibDeprecationWarning: \n",
      "The `ymin` argument was deprecated in Matplotlib 3.0 and will be removed in 3.2. Use `bottom` instead.\n",
      "  alternative='`bottom`', obj_type='argument')\n"
     ]
    },
    {
     "data": {
      "text/plain": [
       "array([[<matplotlib.axes._subplots.AxesSubplot object at 0x1c364388d0>,\n",
       "        <matplotlib.axes._subplots.AxesSubplot object at 0x1c3511ccf8>],\n",
       "       [<matplotlib.axes._subplots.AxesSubplot object at 0x1c34a2c8d0>,\n",
       "        <matplotlib.axes._subplots.AxesSubplot object at 0x1c350b9400>]],\n",
       "      dtype=object)"
      ]
     },
     "execution_count": 60,
     "metadata": {},
     "output_type": "execute_result"
    },
    {
     "data": {
      "image/png": "[encoded data removed]",
      "text/plain": [
       "<Figure size 864x288 with 4 Axes>"
      ]
     },
     "metadata": {},
     "output_type": "display_data"
    }
   ],
   "source": [
    "pm.traceplot(trace)"
   ]
  },
  {
   "cell_type": "code",
   "execution_count": 61,
   "metadata": {},
   "outputs": [
    {
     "data": {
      "text/html": [
       "<div>\n",
       "<style scoped>\n",
       "    .dataframe tbody tr th:only-of-type {\n",
       "        vertical-align: middle;\n",
       "    }\n",
       "\n",
       "    .dataframe tbody tr th {\n",
       "        vertical-align: top;\n",
       "    }\n",
       "\n",
       "    .dataframe thead th {\n",
       "        text-align: right;\n",
       "    }\n",
       "</style>\n",
       "<table border=\"1\" class=\"dataframe\">\n",
       "  <thead>\n",
       "    <tr style=\"text-align: right;\">\n",
       "      <th></th>\n",
       "      <th>mean</th>\n",
       "      <th>sd</th>\n",
       "      <th>mc_error</th>\n",
       "      <th>hpd_2.5</th>\n",
       "      <th>hpd_97.5</th>\n",
       "      <th>n_eff</th>\n",
       "      <th>Rhat</th>\n",
       "    </tr>\n",
       "  </thead>\n",
       "  <tbody>\n",
       "    <tr>\n",
       "      <th>alpha</th>\n",
       "      <td>2.510468</td>\n",
       "      <td>0.011096</td>\n",
       "      <td>0.000310</td>\n",
       "      <td>2.488952</td>\n",
       "      <td>2.532245</td>\n",
       "      <td>1083.794635</td>\n",
       "      <td>1.000020</td>\n",
       "    </tr>\n",
       "    <tr>\n",
       "      <th>beta</th>\n",
       "      <td>3.035254</td>\n",
       "      <td>0.013654</td>\n",
       "      <td>0.000398</td>\n",
       "      <td>3.008520</td>\n",
       "      <td>3.061933</td>\n",
       "      <td>1033.872949</td>\n",
       "      <td>1.000174</td>\n",
       "    </tr>\n",
       "  </tbody>\n",
       "</table>\n",
       "</div>"
      ],
      "text/plain": [
       "           mean        sd  mc_error   hpd_2.5  hpd_97.5        n_eff      Rhat\n",
       "alpha  2.510468  0.011096  0.000310  2.488952  2.532245  1083.794635  1.000020\n",
       "beta   3.035254  0.013654  0.000398  3.008520  3.061933  1033.872949  1.000174"
      ]
     },
     "execution_count": 61,
     "metadata": {},
     "output_type": "execute_result"
    }
   ],
   "source": [
    "pm.summary(trace)"
   ]
  },
  {
   "cell_type": "code",
   "execution_count": null,
   "metadata": {},
   "outputs": [],
   "source": []
  }
 ],
 "metadata": {
  "kernelspec": {
   "display_name": "Python 3",
   "language": "python",
   "name": "python3"
  },
  "language_info": {
   "codemirror_mode": {
    "name": "ipython",
    "version": 3
   },
   "file_extension": ".py",
   "mimetype": "text/x-python",
   "name": "python",
   "nbconvert_exporter": "python",
   "pygments_lexer": "ipython3",
   "version": "3.6.5"
  }
 },
 "nbformat": 4,
 "nbformat_minor": 2
}
