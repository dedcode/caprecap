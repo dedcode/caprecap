{
 "cells": [
  {
   "cell_type": "code",
   "execution_count": 1,
   "metadata": {},
   "outputs": [],
   "source": [
    "import numpy as np\n",
    "import pandas as pd\n",
    "from scipy.special import gammaln, gamma\n",
    "from collections import Counter\n",
    "from scipy.optimize import basinhopping\n",
    "np.set_printoptions(suppress=True)"
   ]
  },
  {
   "cell_type": "code",
   "execution_count": 2,
   "metadata": {},
   "outputs": [
    {
     "name": "stdout",
     "output_type": "stream",
     "text": [
      "35 46145\n"
     ]
    }
   ],
   "source": [
    "# Load the data and process it.\n",
    "\n",
    "df = pd.read_csv(\"../mturk_surveys.csv\")\n",
    "df[\"hit_answered_date\"]=pd.to_datetime(df[\"hit_answered_date\"])\n",
    "df['date'] = pd.to_datetime(df['hit_answered_date'].apply(lambda x : x.date()))\n",
    "\n",
    "# Create a list of all unique worker IDs \n",
    "workers = pd.DataFrame(list(set(df.worker_id)), columns=['worker_id']).reset_index().set_index('worker_id')\n",
    "\n",
    "# Calculate the time period of each survey answer. \n",
    "# Below we take out time period to be 30-day periods. \n",
    "# We can change this to be weeks, months, or anything else\n",
    "window_length = 30\n",
    "minDate = min(df['date'])\n",
    "df['period'] = (df['date'] - minDate).dt.days // window_length \n",
    "\n",
    "# Fix the issue of duplicate records within the same period.\n",
    "data = df[['worker_id', 'period']].drop_duplicates().pivot_table(\n",
    "    index = 'worker_id',\n",
    "    values = 'period',                    \n",
    "    aggfunc=('count','min','max')\n",
    ").join(workers).set_index('index').sort_index()\n",
    "\n",
    "# Aggregate the capture histories\n",
    "#data = data.groupby(['min', 'max', 'count']).size().reset_index(name='count_history')\n",
    "S = 35\n",
    "dat = np.zeros(S + 1)\n",
    "out = Counter(data['count'].values)\n",
    "for k,v in out.items():\n",
    "    dat[k] = v\n",
    "V = len(workers)\n",
    "print(S, V)"
   ]
  },
  {
   "cell_type": "code",
   "execution_count": 38,
   "metadata": {},
   "outputs": [],
   "source": [
    "def mll(initParams):\n",
    "    # params\n",
    "    f0 = np.exp(initParams[0])\n",
    "    p1 = initParams[1]\n",
    "    p2 = initParams[2]\n",
    "    p3 = initParams[3]\n",
    "    m1 = initParams[4]\n",
    "    m2 = initParams[5]\n",
    "    m3 = initParams[6]\n",
    "    \n",
    "    # N! / f0!\n",
    "    N = gammaln(V + f0 +1) - gammaln(f0 + 1)\n",
    "    L0 = f0 * np.log( (m1 * np.power(1-p1, S)) +  (m2 * np.power(1-p2, S)) + (m3 * np.power(1-p3, S)) )\n",
    "    Lk = 0 \n",
    "    # fk likelihood\n",
    "    for k in range(1, len(dat)):\n",
    "        Lk += dat[k] * np.log((m1* np.power(p1, k) * np.power(1-p1, S-k)) +  (m2* np.power(p2, k)* np.power(1-p2, S-k)) + (m3* np.power(p3, k) * np.power(1-p3, S-k)))\n",
    "    \n",
    "    obj = N + L0 + Lk\n",
    "    if -obj < -10000:\n",
    "        print(f0, p1, p2, p3, m1, m2, m3, -obj, np.sum(initParams[4:]))\n",
    "    return -obj"
   ]
  },
  {
   "cell_type": "code",
   "execution_count": 45,
   "metadata": {
    "scrolled": false
   },
   "outputs": [
    {
     "name": "stdout",
     "output_type": "stream",
     "text": [
      "3.891689428955684 0.08128736209795673 0.44028711251651076 0.7982503358759168 0.4162844262899601 0.49375095463583096 0.0 -54146.27438862511 0.9100353809257911\n",
      "3.891689428955684 0.08128736209795673 0.44028711251651076 0.7982503358759168 0.4162844262899601 0.49375095463583096 0.0 -54146.27438862511 0.9100353809257911\n",
      "3.8916894869463756 0.08128736209795673 0.44028711251651076 0.7982503358759168 0.4162844262899601 0.49375095463583096 0.0 -54146.274388939084 0.9100353809257911\n",
      "3.891689428955684 0.08128737699911792 0.44028711251651076 0.7982503358759168 0.4162844262899601 0.49375095463583096 0.0 -54146.26387659588 0.9100353809257911\n",
      "3.891689428955684 0.08128736209795673 0.44028712741767195 0.7982503358759168 0.4162844262899601 0.49375095463583096 0.0 -54146.27414961811 0.9100353809257911\n",
      "3.891689428955684 0.08128736209795673 0.44028711251651076 0.798250350777078 0.4162844262899601 0.49375095463583096 0.0 -54146.27438862511 0.9100353809257911\n",
      "3.891689428955684 0.08128736209795673 0.44028711251651076 0.7982503358759168 0.4162844411911213 0.49375095463583096 0.0 -54146.27596660255 0.9100353958269523\n",
      "3.891689428955684 0.08128736209795673 0.44028711251651076 0.7982503358759168 0.4162844262899601 0.49375096953699216 0.0 -54146.27445097355 0.9100353958269523\n",
      "3.891689428955684 0.08128736209795673 0.44028711251651076 0.7982503358759168 0.4162844262899601 0.49375095463583096 1.4901161193847656e-08 -54151.221722621296 0.9100353958269523\n",
      "842.3416786685984 0.04670904080157811 0.2529961382946594 0.7982503358759168 0.23920380426674023 0.2837173318296533 0.42538373006506747 -53451.77229621948 0.948304866161461\n",
      "61.75729593086245 0.06351143774046984 0.34400510501037046 0.7982503358759168 0.32525132739307555 0.38577747149503544 0.2186800493792099 -57200.71160667343 0.9297088482673209\n",
      "16.119164543766278 0.07214873645253461 0.3907884082413799 0.7982503358759168 0.3694841927026176 0.4382416476534104 0.11242369551135716 -56805.353272697306 0.9201495358673851\n",
      "8.080774454917504 0.07658904581619164 0.41483902248137283 0.7982503358759168 0.3922236639844193 0.46521271585638735 0.05779885286600035 -56021.427596769645 0.9152352327068071\n",
      "5.666034391082316 0.07887181722172687 0.42720348855258305 0.7982503358759168 0.403914068991771 0.4790785928095618 0.02971611839635001 -55446.306453465426 0.9127087801976829\n",
      "4.7208120822388855 0.08004541596163128 0.43356020117197946 0.7982503358759168 0.40992423915262566 0.48620719783784294 0.015278465240744592 -55080.539927533246 0.9114099022312132\n",
      "4.297999576286821 0.08064878524079962 0.4368283071954725 0.7982503358759168 0.4130141811526735 0.48987214832828074 0.007855795054434008 -54850.51681228838 0.9107421245353883\n",
      "4.095580718582558 0.08095899406439377 0.4385085308328545 0.7982503358759168 0.4146028057411349 0.49175640067493087 0.004039595148471581 -54699.91269379156 0.9103988015645373\n",
      "3.9952484279131144 0.0811184850617185 0.43937240227451674 0.7982503358759168 0.4154195823790547 0.4927251715902671 0.0020775312653733653 -54595.00101409812 0.9102222852346951\n",
      "3.9446219398681364 0.08120048933580547 0.4398165724889255 0.7982503358759168 0.415839538216107 0.49322327716990033 0.0010687117887595856 -54517.06734071288 0.9101315271747669\n",
      "3.9446219398681364 0.08120048933580547 0.4398165724889255 0.7982503358759168 0.415839538216107 0.49322327716990033 0.0010687117887595856 -54517.06734071288 0.9101315271747669\n",
      "3.944621998647584 0.08120048933580547 0.4398165724889255 0.7982503358759168 0.415839538216107 0.49322327716990033 0.0010687117887595856 -54517.06734103052 0.9101315271747669\n",
      "3.9446219398681364 0.08120050423696666 0.4398165724889255 0.7982503358759168 0.415839538216107 0.49322327716990033 0.0010687117887595856 -54517.05684161495 0.9101315271747669\n",
      "3.9446219398681364 0.08120048933580547 0.43981658739008667 0.7982503358759168 0.415839538216107 0.49322327716990033 0.0010687117887595856 -54517.067039200745 0.9101315271747669\n",
      "3.9446219398681364 0.08120048933580547 0.4398165724889255 0.798250350777078 0.415839538216107 0.49322327716990033 0.0010687117887595856 -54517.06734265323 0.9101315271747669\n",
      "3.9446219398681364 0.08120048933580547 0.4398165724889255 0.7982503358759168 0.41583955311726817 0.49322327716990033 0.0010687117887595856 -54517.06892024737 0.9101315420759281\n",
      "3.9446219398681364 0.08120048933580547 0.4398165724889255 0.7982503358759168 0.415839538216107 0.4932232920710615 0.0010687117887595856 -54517.06740079186 0.9101315420759281\n",
      "3.9446219398681364 0.08120048933580547 0.4398165724889255 0.7982503358759168 0.415839538216107 0.49322327716990033 0.0010687266899207795 -54517.06847076549 0.9101315420759281\n",
      "1187171.3878864616 0.002046577573536613 0.1031205727166283 0.9236671509285393 0.967625480758939 0.001075714944437488 0.10342564303889044 -39461.49669592938 1.0721268387422669\n"
     ]
    },
    {
     "name": "stderr",
     "output_type": "stream",
     "text": [
      "/Users/ded/anaconda3/lib/python3.6/site-packages/ipykernel_launcher.py:13: RuntimeWarning: divide by zero encountered in log\n",
      "  del sys.path[0]\n",
      "/Users/ded/anaconda3/lib/python3.6/site-packages/ipykernel_launcher.py:17: RuntimeWarning: divide by zero encountered in log\n",
      "/Users/ded/anaconda3/lib/python3.6/site-packages/ipykernel_launcher.py:17: RuntimeWarning: invalid value encountered in double_scalars\n",
      "/Users/ded/anaconda3/lib/python3.6/site-packages/ipykernel_launcher.py:17: RuntimeWarning: invalid value encountered in log\n"
     ]
    },
    {
     "name": "stdout",
     "output_type": "stream",
     "text": [
      "                        fun: -9790.951715394855\n",
      " lowest_optimization_result:      fun: -9790.951715394855\n",
      "     jac: array([   55216.640625 , 20248129.0703125, -1765355.140625 ,\n",
      "         267424.3046875, -1232716.890625 , -6199488.0703125,\n",
      "         -24602.9609375])\n",
      " message: 'Positive directional derivative for linesearch'\n",
      "    nfev: 104\n",
      "     nit: 12\n",
      "    njev: 8\n",
      "  status: 8\n",
      " success: False\n",
      "       x: array([13.98588385,  0.00223675,  0.01977897,  0.97624122,  0.9930171 ,\n",
      "        0.00117567,  0.02011238])\n",
      "                    message: ['requested number of basinhopping iterations completed successfully']\n",
      "      minimization_failures: 101\n",
      "                       nfev: 185304\n",
      "                        nit: 100\n",
      "                       njev: 9808\n",
      "                          x: array([13.98588385,  0.00223675,  0.01977897,  0.97624122,  0.9930171 ,\n",
      "        0.00117567,  0.02011238])\n",
      "1231892.3977800647\n"
     ]
    }
   ],
   "source": [
    "# Bounds\n",
    "B= ((1, 14), (0, 1), (0, 1), (0,1), (0, 1), (0, 1), (0,1))\n",
    "\n",
    "cons = {'type':'eq', 'fun': lambda x: 1- np.sum(x[4:])}\n",
    "\n",
    "#args\n",
    "minimizer_kwargs = dict(method=\"SLSQP\", bounds=B, constraints = cons)\n",
    "\n",
    "#run\n",
    "initParams = np.array([1, .5, .5, .5, .25, .25, .5])\n",
    "res = basinhopping(mll, initParams, minimizer_kwargs=minimizer_kwargs)\n",
    "print(res)\n",
    "print(np.exp(res['x'][0]) + V)"
   ]
  },
  {
   "cell_type": "code",
   "execution_count": 23,
   "metadata": {},
   "outputs": [
    {
     "data": {
      "text/plain": [
       "-0.5"
      ]
     },
     "execution_count": 23,
     "metadata": {},
     "output_type": "execute_result"
    }
   ],
   "source": [
    "1 - np.sum(initParams[4:])"
   ]
  },
  {
   "cell_type": "code",
   "execution_count": null,
   "metadata": {},
   "outputs": [],
   "source": []
  }
 ],
 "metadata": {
  "kernelspec": {
   "display_name": "Python 3",
   "language": "python",
   "name": "python3"
  },
  "language_info": {
   "codemirror_mode": {
    "name": "ipython",
    "version": 3
   },
   "file_extension": ".py",
   "mimetype": "text/x-python",
   "name": "python",
   "nbconvert_exporter": "python",
   "pygments_lexer": "ipython3",
   "version": "3.6.5"
  }
 },
 "nbformat": 4,
 "nbformat_minor": 2
}
