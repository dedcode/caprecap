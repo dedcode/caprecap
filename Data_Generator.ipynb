{
 "cells": [
  {
   "cell_type": "code",
   "execution_count": 1,
   "metadata": {},
   "outputs": [
    {
     "name": "stderr",
     "output_type": "stream",
     "text": [
      "/Users/ded/anaconda3/lib/python3.6/site-packages/theano/gpuarray/dnn.py:184: UserWarning: Your cuDNN version is more recent than Theano. If you encounter problems, try updating Theano or downgrading cuDNN to a version >= v5 and <= v7.\n",
      "  warnings.warn(\"Your cuDNN version is more recent than \"\n",
      "Using cuDNN version 7201 on context None\n",
      "Mapped name None to device cuda: GeForce GTX 1080 Ti (0000:86:00.0)\n",
      "/Users/ded/anaconda3/lib/python3.6/site-packages/h5py/__init__.py:36: FutureWarning: Conversion of the second argument of issubdtype from `float` to `np.floating` is deprecated. In future, it will be treated as `np.float64 == np.dtype(float).type`.\n",
      "  from ._conv import register_converters as _register_converters\n"
     ]
    }
   ],
   "source": [
    "%matplotlib inline\n",
    "from tqdm import tqdm\n",
    "import numpy as np\n",
    "import pymc3 as pm\n",
    "np.set_printoptions(suppress=True)"
   ]
  },
  {
   "cell_type": "code",
   "execution_count": 26,
   "metadata": {},
   "outputs": [],
   "source": [
    "# Parameters\n",
    "N = 2000 # True total individuals\n",
    "S = 10  # Sample periods\n",
    "\n",
    "# Arrival: 40% initially present\n",
    "birth = np.concatenate(([.4], np.ones(S-7) * (1-.7)/(S-2), [.3], np.ones(S-5) * (1-.7)/(S-2)), axis=0)\n",
    "\n",
    "# Departure: fixed 20% rate All depart at \n",
    "dep  = np.concatenate((np.random.uniform(low=0.05, high=.15, size=(S-1,)), [1.]), axis=0)\n",
    "\n",
    "# Capture probability (propensity)\n",
    "alpha = .12\n",
    "beta = 8.5\n",
    "prop = pm.Beta.dist(alpha, beta).random(size = N)"
   ]
  },
  {
   "cell_type": "code",
   "execution_count": 27,
   "metadata": {},
   "outputs": [
    {
     "name": "stderr",
     "output_type": "stream",
     "text": [
      "100%|██████████| 2000/2000 [00:48<00:00, 41.11it/s]\n"
     ]
    }
   ],
   "source": [
    "# Capture History Data Structures\n",
    "CH = [] # Full CH matrix\n",
    "GCH = [] # First/Last/Count CH matrix\n",
    "TH = []\n",
    "\n",
    "# Generate and Arrival Distribution lmd ~ Cat(arr)\n",
    "ARRIVALS = pm.Categorical.dist(birth).random(size = N)\n",
    "\n",
    "for i in tqdm(range(N)):\n",
    "    arrival = ARRIVALS[i]\n",
    "    dep_tmp = dep.copy()\n",
    "    dep_tmp[:arrival] = 0\n",
    "    dep_tmp = np.append([1],(1-dep_tmp).cumprod())[:-1] * dep_tmp # Based on the arrival, compute probs of departure\n",
    "    departure = pm.Categorical.dist(dep_tmp).random() # Sample departure\n",
    "    dur = departure - arrival + 1\n",
    "    capture_history = pm.Bernoulli.dist(prop[i]).random(size=(dur,1))\n",
    "    capture_history = np.concatenate((np.zeros(arrival), \n",
    "                                      np.array(capture_history), \n",
    "                                      np.zeros(S - departure - 1)), \n",
    "                                     axis = 0)\n",
    "    TH.append([int(arrival), int(departure), dur, prop[i], capture_history.sum()])\n",
    "    if capture_history.any():\n",
    "        first = capture_history.argmax()\n",
    "        last = S - capture_history[::-1].argmax() -1\n",
    "        count = capture_history.sum()\n",
    "        GCH.append([first, last, count])\n",
    "        CH.append(capture_history)"
   ]
  },
  {
   "cell_type": "code",
   "execution_count": 28,
   "metadata": {},
   "outputs": [
    {
     "data": {
      "text/plain": [
       "'data/vch-2000-10-0.12-8.50.pkl'"
      ]
     },
     "execution_count": 28,
     "metadata": {},
     "output_type": "execute_result"
    }
   ],
   "source": [
    "import pickle\n",
    "fname = 'data/vch-%d-%d-%.2f-%.2f.pkl' % (N, S, alpha, beta)\n",
    "fname\n",
    "with open(fname, 'wb') as f:\n",
    "  pickle.dump((GCH, sorted(TH, key=lambda tup: tup[3])), f)\n",
    "fname"
   ]
  },
  {
   "cell_type": "code",
   "execution_count": null,
   "metadata": {},
   "outputs": [],
   "source": [
    "np.unique(np.array(GCH)[:, 2], return_counts = True)"
   ]
  },
  {
   "cell_type": "code",
   "execution_count": null,
   "metadata": {},
   "outputs": [],
   "source": [
    "np.concatenate((np.ones(S-1) * .2, [1.]), axis=0)"
   ]
  },
  {
   "cell_type": "code",
   "execution_count": 7,
   "metadata": {},
   "outputs": [
    {
     "data": {
      "text/plain": [
       "array([0.08759995, 0.01410217, 0.16212045, 0.07005163, 0.04871504,\n",
       "       0.18720399, 0.06364118, 0.16924905, 0.16394403])"
      ]
     },
     "execution_count": 7,
     "metadata": {},
     "output_type": "execute_result"
    }
   ],
   "source": [
    "np.random.uniform(low=0, high=.2, size=(S-1,))"
   ]
  },
  {
   "cell_type": "code",
   "execution_count": 11,
   "metadata": {},
   "outputs": [
    {
     "data": {
      "text/plain": [
       "array([0.4       , 0.06666667, 0.06666667, 0.06666667, 0.06666667,\n",
       "       0.06666667, 0.06666667, 0.06666667, 0.06666667, 0.06666667])"
      ]
     },
     "execution_count": 11,
     "metadata": {},
     "output_type": "execute_result"
    }
   ],
   "source": [
    "birth"
   ]
  },
  {
   "cell_type": "code",
   "execution_count": 13,
   "metadata": {},
   "outputs": [
    {
     "data": {
      "text/plain": [
       "array([0.08637196, 0.00590847, 0.03893437, 0.04836698, 0.08371534,\n",
       "       0.07895228, 0.10484167, 0.00715515, 0.06057719, 1.        ])"
      ]
     },
     "execution_count": 13,
     "metadata": {},
     "output_type": "execute_result"
    }
   ],
   "source": [
    "dep"
   ]
  },
  {
   "cell_type": "code",
   "execution_count": 25,
   "metadata": {},
   "outputs": [
    {
     "data": {
      "text/plain": [
       "array([0.4   , 0.0375, 0.0375, 0.0375, 0.3   , 0.0375, 0.0375, 0.0375,\n",
       "       0.0375, 0.0375])"
      ]
     },
     "execution_count": 25,
     "metadata": {},
     "output_type": "execute_result"
    }
   ],
   "source": [
    "np.concatenate(([.4], np.ones(S-7) * (1-.7)/(S-2), [.3], np.ones(S-5) * (1-.7)/(S-2)), axis=0)"
   ]
  },
  {
   "cell_type": "code",
   "execution_count": 22,
   "metadata": {},
   "outputs": [
    {
     "data": {
      "text/plain": [
       "3"
      ]
     },
     "execution_count": 22,
     "metadata": {},
     "output_type": "execute_result"
    }
   ],
   "source": [
    "S-1-6"
   ]
  },
  {
   "cell_type": "code",
   "execution_count": null,
   "metadata": {},
   "outputs": [],
   "source": []
  }
 ],
 "metadata": {
  "kernelspec": {
   "display_name": "Python 3",
   "language": "python",
   "name": "python3"
  },
  "language_info": {
   "codemirror_mode": {
    "name": "ipython",
    "version": 3
   },
   "file_extension": ".py",
   "mimetype": "text/x-python",
   "name": "python",
   "nbconvert_exporter": "python",
   "pygments_lexer": "ipython3",
   "version": "3.6.5"
  }
 },
 "nbformat": 4,
 "nbformat_minor": 2
}
