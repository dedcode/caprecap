{
 "cells": [
  {
   "cell_type": "code",
   "execution_count": 1,
   "metadata": {},
   "outputs": [
    {
     "name": "stderr",
     "output_type": "stream",
     "text": [
      "/Users/ded/anaconda3/lib/python3.6/site-packages/theano/gpuarray/dnn.py:184: UserWarning: Your cuDNN version is more recent than Theano. If you encounter problems, try updating Theano or downgrading cuDNN to a version >= v5 and <= v7.\n",
      "  warnings.warn(\"Your cuDNN version is more recent than \"\n",
      "Using cuDNN version 7201 on context None\n",
      "Mapped name None to device cuda: GeForce GTX 1080 Ti (0000:86:00.0)\n",
      "/Users/ded/anaconda3/lib/python3.6/site-packages/h5py/__init__.py:36: FutureWarning: Conversion of the second argument of issubdtype from `float` to `np.floating` is deprecated. In future, it will be treated as `np.float64 == np.dtype(float).type`.\n",
      "  from ._conv import register_converters as _register_converters\n"
     ]
    }
   ],
   "source": [
    "%matplotlib inline\n",
    "from tqdm import tqdm\n",
    "import numpy as np\n",
    "import pymc3 as pm\n",
    "np.set_printoptions(suppress=True)"
   ]
  },
  {
   "cell_type": "code",
   "execution_count": 8,
   "metadata": {},
   "outputs": [],
   "source": [
    "# Parameters\n",
    "N = 10000 # True total individuals\n",
    "S = 10  # Sample periods\n",
    "\n",
    "# Arrival: 40% initially present\n",
    "birth = np.concatenate(([.4], np.ones(S-1) * (1-.4)/(S-1)), axis=0) \n",
    "\n",
    "# Departure: fixed 20% rate All depart at \n",
    "dep  = np.concatenate((np.ones(S-1) * .2, [1.]), axis=0)\n",
    "\n",
    "# Capture probability (propensity)\n",
    "alpha = .25\n",
    "beta = 5\n",
    "prop = pm.Beta.dist(alpha, beta).random(size = N)"
   ]
  },
  {
   "cell_type": "code",
   "execution_count": 9,
   "metadata": {},
   "outputs": [
    {
     "name": "stderr",
     "output_type": "stream",
     "text": [
      "100%|██████████| 10000/10000 [11:32<00:00, 14.44it/s]\n"
     ]
    }
   ],
   "source": [
    "# Capture History Data Structures\n",
    "CH = [] # Full CH matrix\n",
    "GCH = [] # First/Last/Count CH matrix\n",
    "TH = []\n",
    "\n",
    "# Generate and Arrival Distribution lmd ~ Cat(arr)\n",
    "Arrival_DIST = pm.Categorical.dist(birth)\n",
    "\n",
    "for i in tqdm(range(N)):\n",
    "    arrival = Arrival_DIST.random() # We make sure that the individual is assigned to an arrival\n",
    "    dep_tmp = dep.copy()\n",
    "    dep_tmp[:arrival] = 0\n",
    "    dep_tmp = np.append([1],(1-dep_tmp).cumprod())[:-1] * dep_tmp # Based on the arrival, compute probs of departure\n",
    "    departure = pm.Categorical.dist(dep_tmp).random() # Sample departure\n",
    "    dur = departure - arrival + 1\n",
    "    capture_history = pm.Bernoulli.dist(prop[i]).random(size=(dur,1))\n",
    "    capture_history = np.concatenate((np.zeros(arrival), \n",
    "                                      np.array(capture_history), \n",
    "                                      np.zeros(S - departure - 1)), \n",
    "                                     axis = 0)\n",
    "    TH.append([int(arrival), int(departure), dur, prop[i], capture_history.sum()])\n",
    "    if capture_history.any():\n",
    "        first = capture_history.argmax()\n",
    "        last = S - capture_history[::-1].argmax() -1\n",
    "        count = capture_history.sum()\n",
    "        GCH.append([first, last, count])\n",
    "        CH.append(capture_history)"
   ]
  },
  {
   "cell_type": "code",
   "execution_count": 4,
   "metadata": {},
   "outputs": [
    {
     "data": {
      "text/plain": [
       "'data/gch-100000-10-0.25-5.00.pkl'"
      ]
     },
     "execution_count": 4,
     "metadata": {},
     "output_type": "execute_result"
    }
   ],
   "source": [
    "import pickle\n",
    "fname = 'data/gch-%d-%d-%.2f-%.2f.pkl' % (N, S, alpha, beta)\n",
    "fname\n",
    "with open(fname, 'wb') as f:\n",
    "  pickle.dump((GCH, sorted(TH, key=lambda tup: tup[3])), f)\n",
    "fname"
   ]
  },
  {
   "cell_type": "code",
   "execution_count": 5,
   "metadata": {},
   "outputs": [
    {
     "data": {
      "text/plain": [
       "array([0.   , 0.   , 0.   , ..., 0.814, 0.844, 0.866])"
      ]
     },
     "execution_count": 5,
     "metadata": {},
     "output_type": "execute_result"
    }
   ],
   "source": [
    "np.sort(prop.round(3))"
   ]
  },
  {
   "cell_type": "code",
   "execution_count": 6,
   "metadata": {},
   "outputs": [
    {
     "data": {
      "text/plain": [
       "(10,)"
      ]
     },
     "execution_count": 6,
     "metadata": {},
     "output_type": "execute_result"
    }
   ],
   "source": [
    "birth.shape"
   ]
  },
  {
   "cell_type": "code",
   "execution_count": 7,
   "metadata": {},
   "outputs": [
    {
     "data": {
      "text/plain": [
       "12276"
      ]
     },
     "execution_count": 7,
     "metadata": {},
     "output_type": "execute_result"
    }
   ],
   "source": [
    "len(GCH)"
   ]
  },
  {
   "cell_type": "code",
   "execution_count": null,
   "metadata": {},
   "outputs": [],
   "source": []
  }
 ],
 "metadata": {
  "kernelspec": {
   "display_name": "Python 3",
   "language": "python",
   "name": "python3"
  },
  "language_info": {
   "codemirror_mode": {
    "name": "ipython",
    "version": 3
   },
   "file_extension": ".py",
   "mimetype": "text/x-python",
   "name": "python",
   "nbconvert_exporter": "python",
   "pygments_lexer": "ipython3",
   "version": "3.6.5"
  }
 },
 "nbformat": 4,
 "nbformat_minor": 2
}
