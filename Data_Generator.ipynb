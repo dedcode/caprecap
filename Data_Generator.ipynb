{
 "cells": [
  {
   "cell_type": "code",
   "execution_count": 79,
   "metadata": {},
   "outputs": [],
   "source": [
    "%matplotlib inline\n",
    "from tqdm import tqdm\n",
    "import numpy as np\n",
    "import pymc3 as pm\n",
    "np.set_printoptions(suppress=True)"
   ]
  },
  {
   "cell_type": "code",
   "execution_count": null,
   "metadata": {},
   "outputs": [],
   "source": [
    "# Parameters\n",
    "N = 100000 # True total individuals\n",
    "S = 10  # Sample periods\n",
    "\n",
    "# Arrival: 40% initially present\n",
    "birth = np.concatenate(([.4], np.ones(S-1) * (1-.4)/(S-1)), axis=0) \n",
    "\n",
    "# Departure: fixed 20% rate All depart at \n",
    "dep  = np.concatenate((np.ones(S-1) * .2, [1.]), axis=0)\n",
    "\n",
    "# Capture probability (propensity)\n",
    "alpha = .25\n",
    "beta = 5\n",
    "prop = pm.Beta.dist(alpha, beta).random(size = N)"
   ]
  },
  {
   "cell_type": "code",
   "execution_count": 130,
   "metadata": {},
   "outputs": [
    {
     "name": "stderr",
     "output_type": "stream",
     "text": [
      "100%|██████████| 1000/1000 [00:27<00:00, 36.42it/s]\n"
     ]
    }
   ],
   "source": [
    "# Capture History Data Structures\n",
    "CH = [] # Full CH matrix\n",
    "GCH = [] # First/Last/Count CH matrix\n",
    "TH = []\n",
    "\n",
    "# Generate and Arrival Distribution lmd ~ Cat(arr)\n",
    "Arrival_DIST = pm.Categorical.dist(birth)\n",
    "\n",
    "for i in tqdm(range(N)):\n",
    "    arrival = Arrival_DIST.random() # We make sure that the individual is assigned to an arrival\n",
    "    dep_tmp = dep.copy()\n",
    "    dep_tmp[:arrival] = 0\n",
    "    dep_tmp = np.append([1],(1-dep_tmp).cumprod())[:-1] * dep_tmp # Based on the arrival, compute probs of departure\n",
    "    departure = pm.Categorical.dist(dep_tmp).random() # Sample departure\n",
    "    dur = departure - arrival + 1\n",
    "    capture_history = pm.Bernoulli.dist(prop[i]).random(size=(dur,1))\n",
    "    capture_history = np.concatenate((np.zeros(arrival), \n",
    "                                      np.array(capture_history), \n",
    "                                      np.zeros(S - departure - 1)), \n",
    "                                     axis = 0)\n",
    "    TH.append([int(arrival), int(departure), dur, prop[i], capture_history.sum()])\n",
    "    if capture_history.any():\n",
    "        first = capture_history.argmax()\n",
    "        last = S - capture_history[::-1].argmax() -1\n",
    "        count = capture_history.sum()\n",
    "        GCH.append([first, last, count])\n",
    "        CH.append(capture_history)"
   ]
  },
  {
   "cell_type": "code",
   "execution_count": 119,
   "metadata": {},
   "outputs": [
    {
     "data": {
      "text/plain": [
       "'data/gch-100-10-0.25-5.00.pkl'"
      ]
     },
     "execution_count": 119,
     "metadata": {},
     "output_type": "execute_result"
    }
   ],
   "source": [
    "import pickle\n",
    "fname = 'data/gch-%d-%d-%.2f-%.2f.pkl' % (N, S, alpha, beta)\n",
    "fname\n",
    "with open(fname, 'wb') as f:\n",
    "  pickle.dump((GCH, sorted(TH, key=lambda tup: tup[3])), f)\n",
    "fname"
   ]
  },
  {
   "cell_type": "code",
   "execution_count": 122,
   "metadata": {},
   "outputs": [
    {
     "data": {
      "text/plain": [
       "array([0.   , 0.   , 0.   , 0.   , 0.   , 0.   , 0.   , 0.   , 0.   ,\n",
       "       0.   , 0.   , 0.   , 0.   , 0.   , 0.001, 0.001, 0.001, 0.001,\n",
       "       0.001, 0.001, 0.001, 0.001, 0.001, 0.001, 0.001, 0.001, 0.001,\n",
       "       0.001, 0.001, 0.002, 0.002, 0.002, 0.002, 0.002, 0.003, 0.003,\n",
       "       0.003, 0.003, 0.004, 0.004, 0.004, 0.004, 0.005, 0.006, 0.006,\n",
       "       0.007, 0.007, 0.007, 0.009, 0.009, 0.011, 0.012, 0.012, 0.015,\n",
       "       0.017, 0.017, 0.018, 0.019, 0.022, 0.024, 0.026, 0.028, 0.028,\n",
       "       0.03 , 0.034, 0.036, 0.037, 0.038, 0.039, 0.04 , 0.047, 0.055,\n",
       "       0.062, 0.067, 0.067, 0.072, 0.076, 0.077, 0.08 , 0.089, 0.091,\n",
       "       0.099, 0.101, 0.114, 0.116, 0.121, 0.127, 0.188, 0.244, 0.246,\n",
       "       0.248, 0.26 , 0.272, 0.311, 0.324, 0.326, 0.33 , 0.335, 0.355,\n",
       "       0.358])"
      ]
     },
     "execution_count": 122,
     "metadata": {},
     "output_type": "execute_result"
    }
   ],
   "source": [
    "np.sort(prop.round(3))"
   ]
  },
  {
   "cell_type": "code",
   "execution_count": 123,
   "metadata": {},
   "outputs": [
    {
     "data": {
      "text/plain": [
       "(10,)"
      ]
     },
     "execution_count": 123,
     "metadata": {},
     "output_type": "execute_result"
    }
   ],
   "source": [
    "birth.shape"
   ]
  },
  {
   "cell_type": "code",
   "execution_count": 126,
   "metadata": {},
   "outputs": [
    {
     "data": {
      "text/plain": [
       "7"
      ]
     },
     "execution_count": 126,
     "metadata": {},
     "output_type": "execute_result"
    }
   ],
   "source": [
    "len(GCH)"
   ]
  },
  {
   "cell_type": "code",
   "execution_count": null,
   "metadata": {},
   "outputs": [],
   "source": []
  }
 ],
 "metadata": {
  "kernelspec": {
   "display_name": "Python 3",
   "language": "python",
   "name": "python3"
  },
  "language_info": {
   "codemirror_mode": {
    "name": "ipython",
    "version": 3
   },
   "file_extension": ".py",
   "mimetype": "text/x-python",
   "name": "python",
   "nbconvert_exporter": "python",
   "pygments_lexer": "ipython3",
   "version": "3.6.5"
  }
 },
 "nbformat": 4,
 "nbformat_minor": 2
}
