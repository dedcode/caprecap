{
 "cells": [
  {
   "cell_type": "code",
   "execution_count": 37,
   "metadata": {},
   "outputs": [],
   "source": [
    "%matplotlib inline\n",
    "from tqdm import tqdm\n",
    "import numpy as np\n",
    "import pymc3 as pm"
   ]
  },
  {
   "cell_type": "code",
   "execution_count": 38,
   "metadata": {},
   "outputs": [],
   "source": [
    "# Parameters\n",
    "N = 100 # True total individuals\n",
    "S = 100  # Sample periods\n",
    "\n",
    "# Arrival: 40% initially present\n",
    "birth = np.concatenate(([.4], np.ones(S-1) * (1-.4)/(S-1)), axis=0) \n",
    "\n",
    "# Departure: fixed 20% rate All depart at \n",
    "dep  = np.concatenate((np.ones(S-1) * .2, [1.]), axis=0)\n",
    "\n",
    "# Capture probability (propensity)\n",
    "alpha = .25\n",
    "beta = 5\n",
    "prop = pm.Beta.dist(alpha, beta).random(size = N)"
   ]
  },
  {
   "cell_type": "code",
   "execution_count": 39,
   "metadata": {},
   "outputs": [
    {
     "name": "stderr",
     "output_type": "stream",
     "text": [
      "100%|██████████| 100/100 [00:12<00:00,  8.20it/s]\n"
     ]
    }
   ],
   "source": [
    "# Capture History Data Structures\n",
    "CH = [] # Full CH matrix\n",
    "GCH = [] # First/Last/Count CH matrix\n",
    "\n",
    "# Generate and Arrival Distribution lmd ~ Cat(arr)\n",
    "Arrival_DIST = pm.Categorical.dist(birth)\n",
    "\n",
    "for i in tqdm(range(N)):\n",
    "    arrival = Arrival_DIST.random()\n",
    "    dep_tmp = dep.copy()\n",
    "    dep_tmp[:arrival] = 0\n",
    "    dep_tmp = np.append([1],(1-dep_tmp).cumprod())[:-1] * dep_tmp\n",
    "    departure = pm.Categorical.dist(dep_tmp).random() \n",
    "    dur = departure - arrival + 1\n",
    "    capture_history = pm.Bernoulli.dist(prop[i]).random(size=(dur,1))\n",
    "    capture_history = np.concatenate((np.zeros(arrival), \n",
    "                                      np.array(capture_history), \n",
    "                                      np.zeros(S - departure - 1)), \n",
    "                                     axis = 0)\n",
    "    if capture_history.any():\n",
    "        first = capture_history.argmax()\n",
    "        last = S - capture_history[::-1].argmax() -1\n",
    "        count = capture_history.sum()\n",
    "        GCH.append([first, last, count])\n",
    "        CH.append(capture_history)"
   ]
  },
  {
   "cell_type": "code",
   "execution_count": 40,
   "metadata": {},
   "outputs": [],
   "source": [
    "import pickle\n",
    "fname = 'data/gch-%d-%d-%.2f-%.2f.pkl' % (N, S, alpha, beta)\n",
    "fname\n",
    "with open(fname, 'wb') as f:\n",
    "  pickle.dump(GCH, f)"
   ]
  },
  {
   "cell_type": "code",
   "execution_count": 41,
   "metadata": {},
   "outputs": [
    {
     "data": {
      "text/plain": [
       "'data/gch-100-100-0.25-5.00.pkl'"
      ]
     },
     "execution_count": 41,
     "metadata": {},
     "output_type": "execute_result"
    }
   ],
   "source": [
    "fname"
   ]
  }
 ],
 "metadata": {
  "kernelspec": {
   "display_name": "Python 3",
   "language": "python",
   "name": "python3"
  },
  "language_info": {
   "codemirror_mode": {
    "name": "ipython",
    "version": 3
   },
   "file_extension": ".py",
   "mimetype": "text/x-python",
   "name": "python",
   "nbconvert_exporter": "python",
   "pygments_lexer": "ipython3",
   "version": "3.6.5"
  }
 },
 "nbformat": 4,
 "nbformat_minor": 2
}
