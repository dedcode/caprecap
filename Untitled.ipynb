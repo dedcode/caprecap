{
 "cells": [
  {
   "cell_type": "code",
   "execution_count": 81,
   "metadata": {},
   "outputs": [],
   "source": [
    "import pymc3 as pm\n",
    "import numpy as np\n",
    "np.set_printoptions(suppress=True)\n",
    "from scipy.stats import dirichlet"
   ]
  },
  {
   "cell_type": "code",
   "execution_count": 4,
   "metadata": {},
   "outputs": [],
   "source": [
    "S = 10"
   ]
  },
  {
   "cell_type": "code",
   "execution_count": 5,
   "metadata": {},
   "outputs": [],
   "source": [
    "birth_init = np.concatenate(([.4], np.zeros(S-1)+((1-.4)/(S-1))), axis=0)\n",
    "arr = pm.Dirichlet.dist(birth_init).random()"
   ]
  },
  {
   "cell_type": "code",
   "execution_count": 6,
   "metadata": {},
   "outputs": [
    {
     "data": {
      "text/plain": [
       "array([0.4       , 0.06666667, 0.06666667, 0.06666667, 0.06666667,\n",
       "       0.06666667, 0.06666667, 0.06666667, 0.06666667, 0.06666667])"
      ]
     },
     "execution_count": 6,
     "metadata": {},
     "output_type": "execute_result"
    }
   ],
   "source": [
    "birth_init"
   ]
  },
  {
   "cell_type": "code",
   "execution_count": 13,
   "metadata": {},
   "outputs": [
    {
     "data": {
      "text/plain": [
       "array([0.92278201, 0.        , 0.00000246, 0.00004993, 0.00000912,\n",
       "       0.07198479, 0.        , 0.00147734, 0.00347511, 0.00021923])"
      ]
     },
     "execution_count": 13,
     "metadata": {},
     "output_type": "execute_result"
    }
   ],
   "source": [
    "pm.Dirichlet.dist(birth_init).random()"
   ]
  },
  {
   "cell_type": "code",
   "execution_count": 44,
   "metadata": {},
   "outputs": [
    {
     "data": {
      "text/plain": [
       "array([0.07632229, 0.00000102, 0.        , 0.27241411, 0.00011939,\n",
       "       0.46881578, 0.        , 0.00004784, 0.00001537, 0.1822642 ])"
      ]
     },
     "execution_count": 44,
     "metadata": {},
     "output_type": "execute_result"
    }
   ],
   "source": [
    "pm.Dirichlet.dist(birth_init).random()"
   ]
  },
  {
   "cell_type": "code",
   "execution_count": 15,
   "metadata": {},
   "outputs": [],
   "source": [
    "from scipy.stats import dirichlet"
   ]
  },
  {
   "cell_type": "code",
   "execution_count": 34,
   "metadata": {},
   "outputs": [
    {
     "data": {
      "text/plain": [
       "array([[0.1514208 , 0.00000001, 0.00001271, 0.84856649]])"
      ]
     },
     "execution_count": 34,
     "metadata": {},
     "output_type": "execute_result"
    }
   ],
   "source": [
    "dirichlet(alpha = [0.5, 0.2, 0.1, 0.2]).rvs()"
   ]
  },
  {
   "cell_type": "code",
   "execution_count": 107,
   "metadata": {},
   "outputs": [
    {
     "data": {
      "text/plain": [
       "array([0.6, 0.6, 0.6, 0.6, 0.6, 0.6, 0.6, 0.6, 0.6, 4. ])"
      ]
     },
     "execution_count": 107,
     "metadata": {},
     "output_type": "execute_result"
    }
   ],
   "source": [
    "alphas = np.array([.6,.6,.6,.6,.6,.6,.6,.6,.6, 4])\n",
    "alphas"
   ]
  },
  {
   "cell_type": "code",
   "execution_count": null,
   "metadata": {},
   "outputs": [],
   "source": []
  },
  {
   "cell_type": "code",
   "execution_count": 112,
   "metadata": {},
   "outputs": [
    {
     "name": "stdout",
     "output_type": "stream",
     "text": [
      "[0.11767292 0.12144984 0.00945145 0.01118556 0.04840003 0.03108404\n",
      " 0.00506223 0.26780089 0.05836249 0.32953055]\n",
      "[0.0048155  0.01453404 0.07871516 0.00065015 0.134827   0.02828504\n",
      " 0.01382521 0.19939185 0.0386366  0.48631945]\n",
      "[0.20438264 0.1040709  0.0353751  0.02194463 0.01385315 0.04581393\n",
      " 0.13945592 0.1832565  0.00119378 0.25065344]\n",
      "[[0.045336   0.04237157 0.02909853 0.09478729 0.23583026 0.0194606\n",
      "  0.03207339 0.01569793 0.05639563 0.4289488 ]]\n"
     ]
    }
   ],
   "source": [
    "print(np.random.dirichlet(alphas))\n",
    "print(pm.Dirichlet.dist(a = alphas).random())\n",
    "print(pm.Dirichlet.dist(alphas).random())\n",
    "print(dirichlet(alpha = alphas).rvs())"
   ]
  },
  {
   "cell_type": "code",
   "execution_count": 119,
   "metadata": {},
   "outputs": [],
   "source": [
    "sparsity=1 #not zero\n",
    "beta=np.ones(4,)#input for dirichlet"
   ]
  },
  {
   "cell_type": "code",
   "execution_count": 120,
   "metadata": {},
   "outputs": [
    {
     "data": {
      "text/plain": [
       "array([1., 1., 1., 1.])"
      ]
     },
     "execution_count": 120,
     "metadata": {},
     "output_type": "execute_result"
    }
   ],
   "source": [
    "beta/sparsity"
   ]
  },
  {
   "cell_type": "code",
   "execution_count": 122,
   "metadata": {},
   "outputs": [],
   "source": [
    "N = 200\n",
    "#D = 4\n",
    "d1 = np.array([5, 7, 1, 0.5])\n",
    "d2 = np.array([8, 12, 5, 10])\n",
    "\n",
    "alphas = np.concatenate([np.repeat(d1[np.newaxis, :], N/2, axis=0), np.repeat(d2[np.newaxis, :], N/2, axis=0)])"
   ]
  },
  {
   "cell_type": "code",
   "execution_count": 125,
   "metadata": {},
   "outputs": [],
   "source": [
    "arr = np.array([0.43422319, 0.05110617, 0.12178683, 0.05280738, 0.02380866,\n",
    "        0.03423557, 0.04285729, 0.06449606, 0.06995446, 0.10472439])"
   ]
  },
  {
   "cell_type": "code",
   "execution_count": 126,
   "metadata": {},
   "outputs": [],
   "source": [
    "Arrival_DIST = pm.Categorical.dist(arr)"
   ]
  },
  {
   "cell_type": "code",
   "execution_count": 129,
   "metadata": {},
   "outputs": [],
   "source": [
    "xx = [Arrival_DIST.random() for i in range(100)]"
   ]
  },
  {
   "cell_type": "code",
   "execution_count": 131,
   "metadata": {},
   "outputs": [],
   "source": [
    "xx.sort()"
   ]
  },
  {
   "cell_type": "code",
   "execution_count": 134,
   "metadata": {},
   "outputs": [
    {
     "data": {
      "text/plain": [
       "(array([0, 1, 2, 3, 4, 5, 6, 7, 8, 9]),\n",
       " array([32,  7, 12,  4,  1,  2,  5,  6, 13, 18]))"
      ]
     },
     "execution_count": 134,
     "metadata": {},
     "output_type": "execute_result"
    }
   ],
   "source": [
    "np.unique(xx, return_counts=True)"
   ]
  },
  {
   "cell_type": "code",
   "execution_count": 135,
   "metadata": {},
   "outputs": [],
   "source": [
    "tt = np.array([2.22044605e-016, 1.00000000e+000, 2.22044605e-016, 4.93038066e-032,\n",
    "        1.09476443e-047, 2.43086534e-063, 5.39760535e-079, 1.19850915e-094,\n",
    "        2.66122490e-110, 5.90910632e-126])"
   ]
  },
  {
   "cell_type": "code",
   "execution_count": 136,
   "metadata": {},
   "outputs": [
    {
     "data": {
      "text/plain": [
       "array([0., 1., 0., 0., 0., 0., 0., 0., 0., 0.])"
      ]
     },
     "execution_count": 136,
     "metadata": {},
     "output_type": "execute_result"
    }
   ],
   "source": [
    "tt"
   ]
  },
  {
   "cell_type": "code",
   "execution_count": null,
   "metadata": {},
   "outputs": [],
   "source": []
  }
 ],
 "metadata": {
  "kernelspec": {
   "display_name": "Python 3",
   "language": "python",
   "name": "python3"
  },
  "language_info": {
   "codemirror_mode": {
    "name": "ipython",
    "version": 3
   },
   "file_extension": ".py",
   "mimetype": "text/x-python",
   "name": "python",
   "nbconvert_exporter": "python",
   "pygments_lexer": "ipython3",
   "version": "3.6.5"
  }
 },
 "nbformat": 4,
 "nbformat_minor": 2
}
