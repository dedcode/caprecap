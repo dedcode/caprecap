{
 "cells": [
  {
   "cell_type": "code",
   "execution_count": 4,
   "metadata": {},
   "outputs": [],
   "source": [
    "import numpy as np\n",
    "import pandas as pd\n",
    "from scipy.special import gammaln, gamma\n",
    "from collections import Counter\n",
    "from scipy.optimize import basinhopping\n",
    "np.set_printoptions(suppress=True)\n",
    "import matplotlib.pyplot as plt\n",
    "%matplotlib inline"
   ]
  },
  {
   "cell_type": "code",
   "execution_count": 2,
   "metadata": {},
   "outputs": [
    {
     "name": "stdout",
     "output_type": "stream",
     "text": [
      "36 46145\n"
     ]
    }
   ],
   "source": [
    "# Load the data and process it.\n",
    "\n",
    "df = pd.read_csv(\"../mturk_surveys.csv\")\n",
    "df[\"hit_answered_date\"]=pd.to_datetime(df[\"hit_answered_date\"])\n",
    "df['date'] = pd.to_datetime(df['hit_answered_date'].apply(lambda x : x.date()))\n",
    "\n",
    "# Calculate the time period of each survey answer. \n",
    "# Below we take out time period to be 30-day periods. \n",
    "# We can change this to be weeks, months, or anything else\n",
    "window_length = 30\n",
    "minDate = min(df['date'])\n",
    "df['period'] = (df['date'] - minDate).dt.days // window_length \n",
    "\n",
    "#df = df[df['period'] < 21]\n",
    "# Create a list of all unique worker IDs \n",
    "workers = pd.DataFrame(list(set(df.worker_id)), columns=['worker_id']).reset_index().set_index('worker_id')\n",
    "\n",
    "# Fix the issue of duplicate records within the same period.\n",
    "data = df[['worker_id', 'period']].drop_duplicates().pivot_table(\n",
    "    index = 'worker_id',\n",
    "    values = 'period',                    \n",
    "    aggfunc=('count','min','max')\n",
    ").join(workers).set_index('index').sort_index()\n",
    "\n",
    "# Aggregate the capture histories\n",
    "#data = data.groupby(['min', 'max', 'count']).size().reset_index(name='count_history')\n",
    "S = df['period'].max() + 1\n",
    "dat = np.zeros(S + 1)\n",
    "out = Counter(data['count'].values)\n",
    "for k,v in out.items():\n",
    "    dat[k] = v\n",
    "V = len(workers)\n",
    "print(S, V)"
   ]
  },
  {
   "cell_type": "code",
   "execution_count": 5,
   "metadata": {},
   "outputs": [
    {
     "data": {
      "text/plain": [
       "[<matplotlib.lines.Line2D at 0x1123a4d68>]"
      ]
     },
     "execution_count": 5,
     "metadata": {},
     "output_type": "execute_result"
    },
    {
     "data": {
      "image/png": "[encoded data removed]",
      "text/plain": [
       "<Figure size 432x288 with 1 Axes>"
      ]
     },
     "metadata": {},
     "output_type": "display_data"
    }
   ],
   "source": [
    "ddd = dict(Counter(data[data['count'] == 1]['max'].values))\n",
    "lists = sorted(ddd.items())\n",
    "x, y = zip(*lists)\n",
    "plt.plot(x, y)"
   ]
  },
  {
   "cell_type": "code",
   "execution_count": 9,
   "metadata": {},
   "outputs": [],
   "source": [
    "zd = df[['worker_id', 'period']].drop_duplicates()"
   ]
  },
  {
   "cell_type": "code",
   "execution_count": 22,
   "metadata": {},
   "outputs": [
    {
     "name": "stdout",
     "output_type": "stream",
     "text": [
      "0 Counter({1: 2768})\n",
      "1 Counter({1: 4599, 2: 522})\n",
      "2 Counter({1: 6032, 2: 904, 3: 211})\n",
      "3 Counter({1: 7231, 2: 1165, 3: 363, 4: 126})\n",
      "4 Counter({1: 8363, 2: 1469, 3: 482, 4: 218, 5: 79})\n",
      "5 Counter({1: 9458, 2: 1718, 3: 630, 4: 265, 5: 155, 6: 46})\n",
      "6 Counter({1: 10347, 2: 1986, 3: 726, 4: 338, 5: 191, 6: 123, 7: 32})\n",
      "7 Counter({1: 11234, 2: 2237, 3: 814, 4: 405, 5: 230, 6: 147, 7: 88, 8: 24})\n",
      "8 Counter({1: 12022, 2: 2525, 3: 919, 4: 438, 5: 263, 6: 185, 7: 110, 8: 68, 9: 20})\n",
      "9 Counter({1: 12874, 2: 2693, 3: 1035, 4: 501, 5: 295, 6: 210, 7: 127, 8: 94, 9: 54, 10: 15})\n",
      "10 Counter({1: 13727, 2: 2852, 3: 1110, 4: 565, 5: 333, 6: 236, 7: 143, 8: 119, 9: 66, 10: 51, 11: 9})\n",
      "11 Counter({1: 14417, 2: 3051, 3: 1188, 4: 592, 5: 404, 6: 253, 7: 153, 8: 141, 9: 87, 10: 63, 11: 39, 12: 9})\n",
      "12 Counter({1: 15170, 2: 3219, 3: 1265, 4: 631, 5: 447, 6: 276, 7: 181, 8: 138, 9: 111, 10: 80, 11: 46, 12: 35, 13: 8})\n",
      "13 Counter({1: 16157, 2: 3391, 3: 1297, 4: 670, 5: 449, 6: 331, 7: 195, 8: 141, 9: 122, 10: 90, 11: 68, 12: 41, 13: 25, 14: 7})\n",
      "14 Counter({1: 17537, 2: 3472, 3: 1366, 4: 684, 5: 462, 6: 321, 7: 244, 8: 156, 9: 110, 10: 99, 11: 81, 12: 48, 13: 35, 14: 23, 15: 3})\n",
      "15 Counter({1: 18518, 2: 3693, 3: 1425, 4: 708, 5: 491, 6: 320, 7: 247, 8: 182, 9: 124, 11: 97, 10: 88, 12: 67, 13: 36, 14: 31, 15: 19, 16: 2})\n",
      "16 Counter({1: 19522, 2: 3880, 3: 1516, 4: 751, 5: 492, 6: 337, 7: 261, 8: 179, 9: 138, 10: 97, 11: 90, 12: 79, 13: 56, 14: 33, 15: 23, 16: 16, 17: 1})\n",
      "17 Counter({1: 20403, 2: 4092, 3: 1586, 4: 811, 5: 503, 6: 348, 7: 264, 8: 190, 9: 154, 10: 102, 11: 93, 12: 88, 13: 51, 14: 46, 15: 33, 16: 20, 17: 14, 18: 1})\n",
      "18 Counter({1: 21104, 2: 4323, 3: 1630, 4: 874, 5: 526, 6: 365, 7: 281, 8: 183, 9: 162, 10: 126, 11: 94, 12: 84, 13: 67, 14: 52, 15: 36, 16: 30, 17: 16, 18: 15})\n",
      "19 Counter({1: 21578, 2: 4500, 3: 1752, 4: 927, 5: 561, 6: 377, 7: 296, 8: 202, 9: 156, 10: 143, 11: 105, 12: 85, 13: 70, 14: 62, 15: 43, 16: 35, 17: 22, 18: 16, 19: 13})\n",
      "20 Counter({1: 22010, 2: 4673, 3: 1838, 4: 957, 5: 624, 6: 400, 7: 310, 8: 208, 9: 177, 10: 136, 11: 117, 12: 95, 13: 71, 14: 61, 15: 56, 16: 41, 17: 31, 18: 19, 19: 14, 20: 12})\n",
      "21 Counter({1: 22518, 2: 4870, 3: 1934, 4: 997, 5: 649, 6: 442, 7: 304, 8: 230, 9: 180, 10: 146, 11: 117, 12: 100, 13: 81, 14: 64, 15: 59, 16: 49, 17: 33, 18: 29, 20: 15, 19: 14, 21: 9})\n",
      "22 Counter({1: 23011, 2: 4999, 3: 1993, 4: 1037, 5: 711, 6: 444, 7: 339, 8: 241, 9: 196, 10: 155, 11: 115, 12: 104, 13: 88, 15: 66, 14: 64, 16: 50, 17: 44, 18: 31, 19: 23, 21: 14, 20: 13, 22: 9})\n",
      "23 Counter({1: 23467, 2: 5117, 3: 2096, 4: 1071, 5: 717, 6: 481, 7: 345, 8: 282, 9: 190, 10: 169, 11: 133, 13: 98, 12: 87, 14: 80, 15: 59, 16: 58, 17: 49, 18: 37, 19: 25, 20: 24, 22: 13, 21: 10, 23: 9})\n",
      "24 Counter({1: 23997, 2: 5225, 3: 2158, 4: 1118, 5: 728, 6: 517, 7: 366, 8: 278, 9: 228, 10: 165, 11: 138, 12: 106, 13: 87, 14: 82, 15: 71, 16: 62, 18: 52, 17: 47, 19: 25, 20: 24, 21: 21, 23: 14, 22: 9, 24: 7})\n",
      "25 Counter({1: 24586, 2: 5315, 3: 2250, 4: 1178, 5: 729, 6: 557, 7: 376, 8: 285, 9: 236, 10: 176, 11: 155, 12: 107, 13: 92, 15: 82, 14: 80, 16: 61, 17: 57, 18: 46, 19: 35, 21: 26, 20: 26, 22: 15, 24: 12, 23: 8, 25: 7})\n",
      "26 Counter({1: 25396, 2: 5460, 3: 2283, 4: 1233, 5: 759, 6: 536, 7: 410, 8: 297, 9: 238, 10: 190, 11: 157, 12: 116, 13: 92, 14: 89, 16: 75, 15: 71, 18: 58, 17: 53, 19: 35, 21: 31, 20: 29, 22: 18, 23: 12, 24: 10, 25: 9, 26: 7})\n",
      "27 Counter({1: 26058, 2: 5646, 3: 2361, 4: 1264, 5: 792, 6: 539, 7: 423, 8: 305, 9: 250, 10: 190, 11: 177, 12: 113, 13: 108, 14: 87, 16: 75, 15: 72, 18: 64, 17: 51, 19: 42, 20: 30, 21: 30, 22: 27, 24: 15, 23: 12, 25: 9, 26: 7, 27: 6})\n",
      "28 Counter({1: 26714, 2: 5835, 3: 2426, 4: 1305, 5: 837, 6: 541, 7: 437, 8: 310, 9: 257, 10: 194, 11: 178, 12: 127, 14: 108, 13: 103, 16: 69, 15: 68, 19: 60, 17: 58, 18: 53, 20: 32, 22: 30, 21: 27, 23: 24, 24: 12, 25: 11, 26: 9, 27: 7, 28: 5})\n",
      "29 Counter({1: 27364, 2: 6023, 3: 2503, 4: 1339, 5: 869, 6: 569, 7: 427, 8: 330, 9: 250, 10: 209, 11: 181, 12: 135, 14: 116, 13: 103, 15: 75, 16: 73, 18: 58, 17: 54, 20: 50, 19: 48, 23: 32, 22: 28, 21: 27, 24: 15, 25: 12, 26: 10, 27: 7, 28: 6, 29: 5})\n",
      "30 Counter({1: 27908, 2: 6210, 3: 2542, 4: 1415, 5: 905, 6: 586, 7: 432, 8: 343, 9: 251, 11: 203, 10: 200, 12: 141, 14: 119, 13: 105, 15: 83, 16: 77, 18: 56, 19: 56, 17: 51, 20: 43, 21: 35, 22: 34, 24: 31, 23: 24, 26: 13, 25: 10, 27: 9, 29: 8, 28: 5, 30: 3})\n",
      "31 Counter({1: 28542, 2: 6397, 3: 2617, 4: 1457, 5: 941, 6: 599, 7: 448, 8: 343, 9: 267, 11: 207, 10: 201, 12: 147, 14: 117, 13: 108, 16: 88, 15: 80, 19: 64, 17: 55, 18: 54, 21: 42, 20: 34, 23: 34, 22: 31, 24: 25, 25: 24, 27: 15, 26: 8, 28: 6, 29: 6, 30: 6, 31: 3})\n",
      "32 Counter({1: 29239, 2: 6508, 3: 2706, 4: 1501, 5: 986, 6: 622, 7: 457, 8: 344, 9: 272, 10: 214, 11: 197, 12: 165, 13: 115, 14: 106, 15: 94, 16: 80, 17: 69, 19: 57, 18: 51, 20: 47, 21: 42, 23: 36, 22: 31, 25: 28, 24: 24, 26: 17, 28: 11, 27: 9, 29: 7, 31: 6, 30: 4, 32: 3})\n",
      "33 Counter({1: 29726, 2: 6738, 3: 2795, 4: 1529, 5: 1011, 6: 649, 7: 471, 8: 370, 9: 261, 10: 222, 11: 193, 12: 183, 13: 120, 14: 108, 15: 95, 16: 81, 17: 79, 19: 58, 20: 51, 18: 44, 21: 40, 22: 36, 23: 32, 25: 28, 24: 28, 26: 24, 27: 15, 29: 10, 28: 8, 32: 7, 30: 6, 31: 4})\n",
      "34 Counter({1: 30408, 2: 6895, 3: 2879, 4: 1568, 5: 1031, 6: 684, 7: 482, 8: 370, 9: 285, 10: 221, 12: 193, 11: 185, 13: 123, 14: 114, 15: 91, 17: 83, 16: 82, 20: 66, 18: 58, 19: 43, 21: 38, 22: 37, 24: 32, 25: 31, 23: 29, 27: 22, 26: 21, 28: 10, 29: 10, 30: 8, 31: 6, 32: 5, 33: 4})\n",
      "35 Counter({1: 30424, 2: 6905, 3: 2879, 4: 1569, 5: 1033, 6: 685, 7: 480, 8: 372, 9: 284, 10: 221, 12: 192, 11: 185, 13: 126, 14: 114, 15: 90, 16: 83, 17: 83, 20: 66, 18: 58, 19: 43, 21: 38, 22: 37, 25: 31, 24: 31, 23: 29, 26: 22, 27: 22, 28: 10, 29: 10, 30: 8, 31: 6, 32: 5, 33: 4})\n"
     ]
    }
   ],
   "source": [
    "for i in range(0, 36):\n",
    "    print(i, Counter(Counter(zd[zd['period']<=i]['worker_id'].values).values()))"
   ]
  },
  {
   "cell_type": "code",
   "execution_count": 20,
   "metadata": {},
   "outputs": [
    {
     "data": {
      "text/plain": [
       "Counter({1: 2768})"
      ]
     },
     "execution_count": 20,
     "metadata": {},
     "output_type": "execute_result"
    }
   ],
   "source": [
    "Counter(Counter(zd[zd['period']<=0]['worker_id'].values).values())"
   ]
  },
  {
   "cell_type": "code",
   "execution_count": 51,
   "metadata": {},
   "outputs": [
    {
     "name": "stdout",
     "output_type": "stream",
     "text": [
      "6 50\n"
     ]
    }
   ],
   "source": [
    "dat =  np.array([0, 25, 12, 5, 5,  1 , 2])\n",
    "S, V = 6, sum(dat)\n",
    "print(S, V)"
   ]
  },
  {
   "cell_type": "code",
   "execution_count": 52,
   "metadata": {},
   "outputs": [],
   "source": [
    "# Alpha Beta version\n",
    "def BB(S, k, alpha, beta):\n",
    "    up = gamma(k + alpha) * gamma(S - k + beta) * gamma(alpha + beta)\n",
    "    down = gamma(alpha) * gamma(beta) * gamma(S + alpha + beta)\n",
    "    return up / down"
   ]
  },
  {
   "cell_type": "code",
   "execution_count": 53,
   "metadata": {},
   "outputs": [],
   "source": [
    "def mll(initParams):\n",
    "    # params\n",
    "    f0    = initParams[0]\n",
    "    alpha = initParams[1]\n",
    "    beta  = initParams[2]\n",
    "    \n",
    "    N = gammaln(V + f0 +1) - gammaln(f0 + 1)\n",
    "    L0 = f0 * np.log(BB(S, 0, alpha, beta))\n",
    "    Lk = 0\n",
    "    \n",
    "    # fk likelihood\n",
    "    for k in range(1, len(dat)):\n",
    "        Lk += dat[k] * np.log(BB(S, k, alpha, beta))\n",
    "    \n",
    "    obj = N + L0 + Lk\n",
    "    \n",
    "    #if -obj < -118000:\n",
    "    #    print(f0, alpha, beta, -obj)\n",
    "    \n",
    "    return -obj"
   ]
  },
  {
   "cell_type": "code",
   "execution_count": 58,
   "metadata": {},
   "outputs": [
    {
     "name": "stderr",
     "output_type": "stream",
     "text": [
      "/usr/local/lib/python3.7/site-packages/ipykernel_launcher.py:5: RuntimeWarning: invalid value encountered in double_scalars\n",
      "  \"\"\"\n",
      "/usr/local/lib/python3.7/site-packages/ipykernel_launcher.py:13: RuntimeWarning: divide by zero encountered in log\n",
      "  del sys.path[0]\n",
      "/usr/local/lib/python3.7/site-packages/ipykernel_launcher.py:8: RuntimeWarning: divide by zero encountered in log\n",
      "  \n"
     ]
    },
    {
     "name": "stdout",
     "output_type": "stream",
     "text": [
      "                        fun: 32.114447550051636\n",
      " lowest_optimization_result:      fun: 32.114447550051636\n",
      "     jac: array([-0.00045475,  7.1361228 ,  2.74918648])\n",
      " message: 'Linear search failed'\n",
      "    nfev: 95\n",
      "     nit: 8\n",
      "  status: 4\n",
      " success: False\n",
      "       x: array([9306.2900511 ,    0.00375571,    2.36366445])\n",
      "                    message: ['requested number of basinhopping iterations completed successfully']\n",
      "      minimization_failures: 101\n",
      "                       nfev: 8026\n",
      "                        nit: 100\n",
      "                          x: array([9306.2900511 ,    0.00375571,    2.36366445])\n",
      "9356.290051098558\n"
     ]
    }
   ],
   "source": [
    "# Bounds\n",
    "B= ((0,10000), (0, 10), (0, 10))\n",
    "\n",
    "#args\n",
    "minimizer_kwargs = dict(method=\"TNC\", bounds=B)\n",
    "\n",
    "#run\n",
    "initParams = np.array([9000, .005, 5])\n",
    "res = basinhopping(mll, initParams, minimizer_kwargs=minimizer_kwargs)\n",
    "print(res)\n",
    "print(res['x'][0] + V)"
   ]
  },
  {
   "cell_type": "code",
   "execution_count": null,
   "metadata": {},
   "outputs": [],
   "source": [
    "mll([403608.7895533 ,      0.02039742,      3.7429387 ,      0.01037844,\n",
    "            0.20782324])"
   ]
  },
  {
   "cell_type": "code",
   "execution_count": null,
   "metadata": {},
   "outputs": [],
   "source": [
    "mll([83793.7773379 ,     0.19999895,     4.07278073,     0.01197954,\n",
    "           0.70142692])"
   ]
  },
  {
   "cell_type": "code",
   "execution_count": null,
   "metadata": {},
   "outputs": [],
   "source": [
    "mll([234776.72579006,      0.03929604,      3.78447354,      0.01050833,\n",
    "            0.33356468])"
   ]
  },
  {
   "cell_type": "code",
   "execution_count": null,
   "metadata": {},
   "outputs": [],
   "source": [
    "mll([57392.28189185,     0.38756928,     4.32406151,     0.01459061,\n",
    "           0.80091354])"
   ]
  },
  {
   "cell_type": "code",
   "execution_count": null,
   "metadata": {},
   "outputs": [],
   "source": [
    "mll([125104.16766101,      0.09702091,      3.89744013,      0.01093061,\n",
    "            0.54677371])"
   ]
  },
  {
   "cell_type": "code",
   "execution_count": null,
   "metadata": {},
   "outputs": [],
   "source": [
    "mll([12.8,      0.09702091,      3.89744013])"
   ]
  },
  {
   "cell_type": "code",
   "execution_count": null,
   "metadata": {},
   "outputs": [],
   "source": [
    "ddd = dict(Counter(data[data['count'] == 1]['max'].values))\n",
    "lists = sorted(ddd.items())\n",
    "x, y = zip(*lists)\n",
    "plt.plot(x, y)"
   ]
  },
  {
   "cell_type": "code",
   "execution_count": null,
   "metadata": {},
   "outputs": [],
   "source": [
    "lists"
   ]
  },
  {
   "cell_type": "code",
   "execution_count": null,
   "metadata": {},
   "outputs": [],
   "source": [
    "%matplotlib inline"
   ]
  },
  {
   "cell_type": "code",
   "execution_count": null,
   "metadata": {},
   "outputs": [],
   "source": [
    "import matplotlib.pyplot as plt"
   ]
  },
  {
   "cell_type": "code",
   "execution_count": null,
   "metadata": {},
   "outputs": [],
   "source": []
  }
 ],
 "metadata": {
  "kernelspec": {
   "display_name": "Python 3",
   "language": "python",
   "name": "python3"
  },
  "language_info": {
   "codemirror_mode": {
    "name": "ipython",
    "version": 3
   },
   "file_extension": ".py",
   "mimetype": "text/x-python",
   "name": "python",
   "nbconvert_exporter": "python",
   "pygments_lexer": "ipython3",
   "version": "3.7.0"
  }
 },
 "nbformat": 4,
 "nbformat_minor": 2
}
