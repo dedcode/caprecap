{
 "cells": [
  {
   "cell_type": "code",
   "execution_count": 1,
   "metadata": {},
   "outputs": [],
   "source": [
    "import arviz as az\n",
    "import numpy as np"
   ]
  },
  {
   "cell_type": "code",
   "execution_count": 9,
   "metadata": {},
   "outputs": [
    {
     "name": "stderr",
     "output_type": "stream",
     "text": [
      "Auto-assigning NUTS sampler...\n",
      "Initializing NUTS using jitter+adapt_diag...\n",
      "Sequential sampling (2 chains in 1 job)\n",
      "NUTS: [theta_tilde, tau, mu]\n",
      "100%|██████████| 1000/1000 [00:03<00:00, 273.58it/s]\n",
      "100%|██████████| 1000/1000 [00:03<00:00, 306.40it/s]\n",
      "There were 2 divergences after tuning. Increase `target_accept` or reparameterize.\n",
      "There were 3 divergences after tuning. Increase `target_accept` or reparameterize.\n",
      "100%|██████████| 500/500 [00:04<00:00, 105.06it/s]\n"
     ]
    },
    {
     "data": {
      "text/plain": [
       "Inference data with groups:\n",
       "\t> posterior\n",
       "\t> sample_stats\n",
       "\t> posterior_predictive\n",
       "\t> prior\n",
       "\t> observed_data"
      ]
     },
     "execution_count": 9,
     "metadata": {},
     "output_type": "execute_result"
    }
   ],
   "source": [
    "import pymc3 as pm\n",
    "draws = 500\n",
    "chains = 2\n",
    "\n",
    "eight_school_data = {'J': 8,\n",
    "                     'y': np.array([28., 8., -3., 7., -1., 1., 18., 12.]),\n",
    "                     'sigma': np.array([15., 10., 16., 11., 9., 11., 10., 18.])\n",
    "                    }\n",
    "\n",
    "with pm.Model() as model:\n",
    "    mu = pm.Normal('mu', mu=0, sd=5)\n",
    "    tau = pm.HalfCauchy('tau', beta=5)\n",
    "    theta_tilde = pm.Normal('theta_tilde', mu=0, sd=1, shape=eight_school_data['J'])\n",
    "    theta = pm.Deterministic('theta', mu + tau * theta_tilde)\n",
    "    pm.Normal('obs', mu=theta, sd=eight_school_data['sigma'], observed=eight_school_data['y'])\n",
    "    \n",
    "    trace = pm.sample(draws, chains=chains, cores = 1)\n",
    "    prior = pm.sample_prior_predictive()\n",
    "    posterior_predictive = pm.sampling.sample_ppc(trace, 500, model)\n",
    "    \n",
    "    data = az.from_pymc3(\n",
    "            trace=trace,\n",
    "            prior=prior,\n",
    "            posterior_predictive=posterior_predictive,\n",
    "            coords={'school': np.arange(eight_school_data['J'])},\n",
    "            dims={'theta': ['school'], 'theta_tilde': ['school']},\n",
    "        )\n",
    "data"
   ]
  },
  {
   "cell_type": "code",
   "execution_count": null,
   "metadata": {},
   "outputs": [],
   "source": []
  }
 ],
 "metadata": {
  "kernelspec": {
   "display_name": "Python 3",
   "language": "python",
   "name": "python3"
  },
  "language_info": {
   "codemirror_mode": {
    "name": "ipython",
    "version": 3
   },
   "file_extension": ".py",
   "mimetype": "text/x-python",
   "name": "python",
   "nbconvert_exporter": "python",
   "pygments_lexer": "ipython3",
   "version": "3.6.5"
  }
 },
 "nbformat": 4,
 "nbformat_minor": 2
}
